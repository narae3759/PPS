{
 "cells": [
  {
   "cell_type": "markdown",
   "metadata": {},
   "source": [
    "# 02. EDA, Exploratory Data Analysis"
   ]
  },
  {
   "cell_type": "markdown",
   "metadata": {},
   "source": [
    "* EDA(탐색적 데이터 분석)이란, 요약 및 시각화 등을 통해 데이터를 이해하고, 그에 맞는 전처리를 하는 분석 과정을 말한다."
   ]
  },
  {
   "cell_type": "markdown",
   "metadata": {},
   "source": [
    "## Setting"
   ]
  },
  {
   "cell_type": "code",
   "execution_count": 144,
   "metadata": {},
   "outputs": [],
   "source": [
    "import pandas as pd \n",
    "from matplotlib import rc\n",
    "import matplotlib.pyplot as plt\n",
    "import matplotlib.dates as mdates\n",
    "\n",
    "rc('font', family='AppleGothic')\n",
    "plt.rcParams['axes.unicode_minus'] = False"
   ]
  },
  {
   "cell_type": "code",
   "execution_count": 145,
   "metadata": {},
   "outputs": [
    {
     "data": {
      "text/html": [
       "<div>\n",
       "<style scoped>\n",
       "    .dataframe tbody tr th:only-of-type {\n",
       "        vertical-align: middle;\n",
       "    }\n",
       "\n",
       "    .dataframe tbody tr th {\n",
       "        vertical-align: top;\n",
       "    }\n",
       "\n",
       "    .dataframe thead th {\n",
       "        text-align: right;\n",
       "    }\n",
       "</style>\n",
       "<table border=\"1\" class=\"dataframe\">\n",
       "  <thead>\n",
       "    <tr style=\"text-align: right;\">\n",
       "      <th></th>\n",
       "      <th>reviewer</th>\n",
       "      <th>review</th>\n",
       "      <th>additional_info</th>\n",
       "      <th>date</th>\n",
       "      <th>n_visit</th>\n",
       "      <th>auth_method</th>\n",
       "    </tr>\n",
       "  </thead>\n",
       "  <tbody>\n",
       "    <tr>\n",
       "      <th>0</th>\n",
       "      <td>shooooooo</td>\n",
       "      <td>종류도 알차게 많고 다 맛있어요!</td>\n",
       "      <td>예약 후 이용, 대기 시간 바로 입장, 데이트, 연인·배우자</td>\n",
       "      <td>2024년 6월 7일 금요일</td>\n",
       "      <td>1번째 방문</td>\n",
       "      <td>영수증</td>\n",
       "    </tr>\n",
       "    <tr>\n",
       "      <th>1</th>\n",
       "      <td>gudrmfl2</td>\n",
       "      <td>맛나요</td>\n",
       "      <td>예약 후 이용, 대기 시간 10분 이내, 데이트, 연인·배우자</td>\n",
       "      <td>2024년 6월 7일 금요일</td>\n",
       "      <td>1번째 방문</td>\n",
       "      <td>영수증</td>\n",
       "    </tr>\n",
       "    <tr>\n",
       "      <th>2</th>\n",
       "      <td>코코리383</td>\n",
       "      <td>맛있어요</td>\n",
       "      <td>예약 없이 이용, 대기 시간 바로 입장, 데이트, 연인·배우자</td>\n",
       "      <td>2024년 5월 28일 화요일</td>\n",
       "      <td>1번째 방문</td>\n",
       "      <td>영수증</td>\n",
       "    </tr>\n",
       "    <tr>\n",
       "      <th>3</th>\n",
       "      <td>vivajin</td>\n",
       "      <td>좋아요</td>\n",
       "      <td>NaN</td>\n",
       "      <td>2024년 5월 25일 토요일</td>\n",
       "      <td>1번째 방문</td>\n",
       "      <td>영수증</td>\n",
       "    </tr>\n",
       "    <tr>\n",
       "      <th>4</th>\n",
       "      <td>쥴리08</td>\n",
       "      <td>커피랑 브런치.크림파스타 먹었어요~\\n오늘따라 파스타가 불어서나왔더라구요ㅠㅠ\\n역시...</td>\n",
       "      <td>예약 없이 이용, 대기 시간 10분 이내, 일상, 친척·형제</td>\n",
       "      <td>2024년 5월 23일 목요일</td>\n",
       "      <td>1번째 방문</td>\n",
       "      <td>결제내역</td>\n",
       "    </tr>\n",
       "  </tbody>\n",
       "</table>\n",
       "</div>"
      ],
      "text/plain": [
       "    reviewer                                             review  \\\n",
       "0  shooooooo                                 종류도 알차게 많고 다 맛있어요!   \n",
       "1   gudrmfl2                                                맛나요   \n",
       "2     코코리383                                               맛있어요   \n",
       "3    vivajin                                                좋아요   \n",
       "4       쥴리08  커피랑 브런치.크림파스타 먹었어요~\\n오늘따라 파스타가 불어서나왔더라구요ㅠㅠ\\n역시...   \n",
       "\n",
       "                      additional_info              date n_visit auth_method  \n",
       "0   예약 후 이용, 대기 시간 바로 입장, 데이트, 연인·배우자   2024년 6월 7일 금요일  1번째 방문         영수증  \n",
       "1  예약 후 이용, 대기 시간 10분 이내, 데이트, 연인·배우자   2024년 6월 7일 금요일  1번째 방문         영수증  \n",
       "2  예약 없이 이용, 대기 시간 바로 입장, 데이트, 연인·배우자  2024년 5월 28일 화요일  1번째 방문         영수증  \n",
       "3                                 NaN  2024년 5월 25일 토요일  1번째 방문         영수증  \n",
       "4   예약 없이 이용, 대기 시간 10분 이내, 일상, 친척·형제  2024년 5월 23일 목요일  1번째 방문        결제내역  "
      ]
     },
     "execution_count": 145,
     "metadata": {},
     "output_type": "execute_result"
    }
   ],
   "source": [
    "data_path = \"data/naver_review_raw_data.csv\"\n",
    "data = pd.read_csv(data_path)\n",
    "data.head(5)"
   ]
  },
  {
   "cell_type": "code",
   "execution_count": 146,
   "metadata": {},
   "outputs": [
    {
     "name": "stdout",
     "output_type": "stream",
     "text": [
      "BEFORE: (503, 6)\n",
      "AFTER: (481, 6)\n"
     ]
    }
   ],
   "source": [
    "# 데이터 중복 제거 \n",
    "print(f\"BEFORE: {data.shape}\")\n",
    "data.drop_duplicates(inplace=True)\n",
    "print(f\"AFTER: {data.shape}\")"
   ]
  },
  {
   "cell_type": "markdown",
   "metadata": {},
   "source": [
    "## 1. 데이터 재정의"
   ]
  },
  {
   "cell_type": "code",
   "execution_count": 147,
   "metadata": {},
   "outputs": [
    {
     "name": "stdout",
     "output_type": "stream",
     "text": [
      "<class 'pandas.core.frame.DataFrame'>\n",
      "Index: 481 entries, 0 to 502\n",
      "Data columns (total 6 columns):\n",
      " #   Column           Non-Null Count  Dtype \n",
      "---  ------           --------------  ----- \n",
      " 0   reviewer         481 non-null    object\n",
      " 1   review           481 non-null    object\n",
      " 2   additional_info  57 non-null     object\n",
      " 3   date             481 non-null    object\n",
      " 4   n_visit          481 non-null    object\n",
      " 5   auth_method      481 non-null    object\n",
      "dtypes: object(6)\n",
      "memory usage: 26.3+ KB\n"
     ]
    }
   ],
   "source": [
    "data.info()"
   ]
  },
  {
   "cell_type": "markdown",
   "metadata": {},
   "source": [
    "### 1) `additional_info`\n",
    "\n",
    "* 많은 정보를 파악하기 위해 수집했으나, 그에 비해 결측치가 많은 것으로 나타남. \n",
    "* 그 개수가 10분의 1이 되지 않았기에 분석에서 제외함."
   ]
  },
  {
   "cell_type": "markdown",
   "metadata": {},
   "source": [
    "### 2) `date`\n",
    "\n",
    "* 날짜이기 때문에 datetime으로 변환\n",
    "* 편의를 위해 날짜와 요일을 두 개의 열로 분리함"
   ]
  },
  {
   "cell_type": "code",
   "execution_count": 148,
   "metadata": {},
   "outputs": [
    {
     "data": {
      "text/html": [
       "<div>\n",
       "<style scoped>\n",
       "    .dataframe tbody tr th:only-of-type {\n",
       "        vertical-align: middle;\n",
       "    }\n",
       "\n",
       "    .dataframe tbody tr th {\n",
       "        vertical-align: top;\n",
       "    }\n",
       "\n",
       "    .dataframe thead th {\n",
       "        text-align: right;\n",
       "    }\n",
       "</style>\n",
       "<table border=\"1\" class=\"dataframe\">\n",
       "  <thead>\n",
       "    <tr style=\"text-align: right;\">\n",
       "      <th></th>\n",
       "      <th>reviewer</th>\n",
       "      <th>review</th>\n",
       "      <th>additional_info</th>\n",
       "      <th>date</th>\n",
       "      <th>n_visit</th>\n",
       "      <th>auth_method</th>\n",
       "      <th>weekday</th>\n",
       "    </tr>\n",
       "  </thead>\n",
       "  <tbody>\n",
       "    <tr>\n",
       "      <th>0</th>\n",
       "      <td>shooooooo</td>\n",
       "      <td>종류도 알차게 많고 다 맛있어요!</td>\n",
       "      <td>예약 후 이용, 대기 시간 바로 입장, 데이트, 연인·배우자</td>\n",
       "      <td>2024-06-07</td>\n",
       "      <td>1번째 방문</td>\n",
       "      <td>영수증</td>\n",
       "      <td>금요일</td>\n",
       "    </tr>\n",
       "    <tr>\n",
       "      <th>1</th>\n",
       "      <td>gudrmfl2</td>\n",
       "      <td>맛나요</td>\n",
       "      <td>예약 후 이용, 대기 시간 10분 이내, 데이트, 연인·배우자</td>\n",
       "      <td>2024-06-07</td>\n",
       "      <td>1번째 방문</td>\n",
       "      <td>영수증</td>\n",
       "      <td>금요일</td>\n",
       "    </tr>\n",
       "    <tr>\n",
       "      <th>2</th>\n",
       "      <td>코코리383</td>\n",
       "      <td>맛있어요</td>\n",
       "      <td>예약 없이 이용, 대기 시간 바로 입장, 데이트, 연인·배우자</td>\n",
       "      <td>2024-05-28</td>\n",
       "      <td>1번째 방문</td>\n",
       "      <td>영수증</td>\n",
       "      <td>화요일</td>\n",
       "    </tr>\n",
       "    <tr>\n",
       "      <th>3</th>\n",
       "      <td>vivajin</td>\n",
       "      <td>좋아요</td>\n",
       "      <td>NaN</td>\n",
       "      <td>2024-05-25</td>\n",
       "      <td>1번째 방문</td>\n",
       "      <td>영수증</td>\n",
       "      <td>토요일</td>\n",
       "    </tr>\n",
       "    <tr>\n",
       "      <th>4</th>\n",
       "      <td>쥴리08</td>\n",
       "      <td>커피랑 브런치.크림파스타 먹었어요~\\n오늘따라 파스타가 불어서나왔더라구요ㅠㅠ\\n역시...</td>\n",
       "      <td>예약 없이 이용, 대기 시간 10분 이내, 일상, 친척·형제</td>\n",
       "      <td>2024-05-23</td>\n",
       "      <td>1번째 방문</td>\n",
       "      <td>결제내역</td>\n",
       "      <td>목요일</td>\n",
       "    </tr>\n",
       "  </tbody>\n",
       "</table>\n",
       "</div>"
      ],
      "text/plain": [
       "    reviewer                                             review  \\\n",
       "0  shooooooo                                 종류도 알차게 많고 다 맛있어요!   \n",
       "1   gudrmfl2                                                맛나요   \n",
       "2     코코리383                                               맛있어요   \n",
       "3    vivajin                                                좋아요   \n",
       "4       쥴리08  커피랑 브런치.크림파스타 먹었어요~\\n오늘따라 파스타가 불어서나왔더라구요ㅠㅠ\\n역시...   \n",
       "\n",
       "                      additional_info       date n_visit auth_method weekday  \n",
       "0   예약 후 이용, 대기 시간 바로 입장, 데이트, 연인·배우자 2024-06-07  1번째 방문         영수증     금요일  \n",
       "1  예약 후 이용, 대기 시간 10분 이내, 데이트, 연인·배우자 2024-06-07  1번째 방문         영수증     금요일  \n",
       "2  예약 없이 이용, 대기 시간 바로 입장, 데이트, 연인·배우자 2024-05-28  1번째 방문         영수증     화요일  \n",
       "3                                 NaN 2024-05-25  1번째 방문         영수증     토요일  \n",
       "4   예약 없이 이용, 대기 시간 10분 이내, 일상, 친척·형제 2024-05-23  1번째 방문        결제내역     목요일  "
      ]
     },
     "execution_count": 148,
     "metadata": {},
     "output_type": "execute_result"
    }
   ],
   "source": [
    "data[\"weekday\"] = data[\"date\"].str[-3:]\n",
    "data[\"date\"] = pd.to_datetime(data[\"date\"].str[:-4], format=\"%Y년 %m월 %d일\")\n",
    "\n",
    "data.head(5)"
   ]
  },
  {
   "cell_type": "markdown",
   "metadata": {},
   "source": [
    "### 3) `n_visit`\n",
    "\n",
    "* 재방문 수이기 때문에 int로 변환"
   ]
  },
  {
   "cell_type": "code",
   "execution_count": 149,
   "metadata": {},
   "outputs": [
    {
     "data": {
      "text/plain": [
       "n_visit\n",
       "1    455\n",
       "2     23\n",
       "5      1\n",
       "4      1\n",
       "3      1\n",
       "Name: count, dtype: int64"
      ]
     },
     "execution_count": 149,
     "metadata": {},
     "output_type": "execute_result"
    }
   ],
   "source": [
    "data[\"n_visit\"] = data[\"n_visit\"].str[0].astype(int)\n",
    "data[\"n_visit\"].value_counts()"
   ]
  },
  {
   "cell_type": "markdown",
   "metadata": {},
   "source": [
    "### 4) `auth_method`"
   ]
  },
  {
   "cell_type": "markdown",
   "metadata": {},
   "source": [
    "* 대부분이 영수증이어서 분석에서 제외함"
   ]
  },
  {
   "cell_type": "code",
   "execution_count": 150,
   "metadata": {},
   "outputs": [
    {
     "data": {
      "text/plain": [
       "auth_method\n",
       "영수증     471\n",
       "예약        6\n",
       "결제내역      4\n",
       "Name: count, dtype: int64"
      ]
     },
     "execution_count": 150,
     "metadata": {},
     "output_type": "execute_result"
    }
   ],
   "source": [
    "data[\"auth_method\"].value_counts()"
   ]
  },
  {
   "cell_type": "markdown",
   "metadata": {},
   "source": [
    "### 5) `review`"
   ]
  },
  {
   "cell_type": "code",
   "execution_count": 186,
   "metadata": {},
   "outputs": [
    {
     "ename": "ModuleNotFoundError",
     "evalue": "No module named 'hanspell'",
     "output_type": "error",
     "traceback": [
      "\u001b[0;31m---------------------------------------------------------------------------\u001b[0m",
      "\u001b[0;31mModuleNotFoundError\u001b[0m                       Traceback (most recent call last)",
      "Cell \u001b[0;32mIn[186], line 2\u001b[0m\n\u001b[1;32m      1\u001b[0m \u001b[38;5;66;03m# 교정\u001b[39;00m\n\u001b[0;32m----> 2\u001b[0m \u001b[38;5;28;01mfrom\u001b[39;00m \u001b[38;5;21;01mhanspell\u001b[39;00m \u001b[38;5;28;01mimport\u001b[39;00m spell_checker\n\u001b[1;32m      4\u001b[0m requestURL \u001b[38;5;241m=\u001b[39m \u001b[38;5;124m\"\u001b[39m\u001b[38;5;124mhttps://m.search.naver.com/p/csearch/ocontent/util/SpellerProxy?passportKey=de9f0d2fc72d5cf092ceb0dceb939549febfd4f8&_callback=jQuery1124019186862435357321_1719966620077&q=\u001b[39m\u001b[38;5;132;01m%E\u001b[39;00m\u001b[38;5;124mB\u001b[39m\u001b[38;5;124m%\u001b[39m\u001b[38;5;124mA7\u001b[39m\u001b[38;5;132;01m%9E\u001b[39;00m\u001b[38;5;132;01m%E\u001b[39;00m\u001b[38;5;124mC\u001b[39m\u001b[38;5;124m%\u001b[39m\u001b[38;5;124mB6\u001b[39m\u001b[38;5;124m%\u001b[39m\u001b[38;5;124mA4\u001b[39m\u001b[38;5;132;01m%E\u001b[39;00m\u001b[38;5;124mB\u001b[39m\u001b[38;5;124m%\u001b[39m\u001b[38;5;124mB2\u001b[39m\u001b[38;5;124m%\u001b[39m\u001b[38;5;124m95+\u001b[39m\u001b[38;5;132;01m%E\u001b[39;00m\u001b[38;5;124mA\u001b[39m\u001b[38;5;124m%\u001b[39m\u001b[38;5;124mB2\u001b[39m\u001b[38;5;132;01m%80%\u001b[39;00m\u001b[38;5;124mEC\u001b[39m\u001b[38;5;132;01m%82%\u001b[39;00m\u001b[38;5;124mAC\u001b[39m\u001b[38;5;132;01m%E\u001b[39;00m\u001b[38;5;124mB\u001b[39m\u001b[38;5;124m%\u001b[39m\u001b[38;5;124mA5\u001b[39m\u001b[38;5;124m%\u001b[39m\u001b[38;5;124mBC+\u001b[39m\u001b[38;5;132;01m%E\u001b[39;00m\u001b[38;5;124mC\u001b[39m\u001b[38;5;124m%\u001b[39m\u001b[38;5;124m9B\u001b[39m\u001b[38;5;132;01m%90%\u001b[39;00m\u001b[38;5;124mED\u001b[39m\u001b[38;5;132;01m%95%\u001b[39;00m\u001b[38;5;124m98\u001b[39m\u001b[38;5;132;01m%E\u001b[39;00m\u001b[38;5;124mB\u001b[39m\u001b[38;5;124m%\u001b[39m\u001b[38;5;124m8A\u001b[39m\u001b[38;5;124m%\u001b[39m\u001b[38;5;124m94+\u001b[39m\u001b[38;5;132;01m%E\u001b[39;00m\u001b[38;5;124mB\u001b[39m\u001b[38;5;124m%\u001b[39m\u001b[38;5;124m8B\u001b[39m\u001b[38;5;124m%\u001b[39m\u001b[38;5;124mA8\u001b[39m\u001b[38;5;132;01m%E\u001b[39;00m\u001b[38;5;124mC\u001b[39m\u001b[38;5;132;01m%96%\u001b[39;00m\u001b[38;5;124mB4\u001b[39m\u001b[38;5;132;01m%E\u001b[39;00m\u001b[38;5;124mB\u001b[39m\u001b[38;5;132;01m%82%\u001b[39;00m\u001b[38;5;124m98+\u001b[39m\u001b[38;5;132;01m%E\u001b[39;00m\u001b[38;5;124mB\u001b[39m\u001b[38;5;124m%\u001b[39m\u001b[38;5;124mAC\u001b[39m\u001b[38;5;124m%\u001b[39m\u001b[38;5;124mB8\u001b[39m\u001b[38;5;132;01m%E\u001b[39;00m\u001b[38;5;124mC\u001b[39m\u001b[38;5;132;01m%9E\u001b[39;00m\u001b[38;5;124m%\u001b[39m\u001b[38;5;124mA5\u001b[39m\u001b[38;5;132;01m%E\u001b[39;00m\u001b[38;5;124mC\u001b[39m\u001b[38;5;124m%\u001b[39m\u001b[38;5;124m9D\u001b[39m\u001b[38;5;124m%\u001b[39m\u001b[38;5;124m84+\u001b[39m\u001b[38;5;132;01m%E\u001b[39;00m\u001b[38;5;124mC\u001b[39m\u001b[38;5;132;01m%9E\u001b[39;00m\u001b[38;5;132;01m%85%\u001b[39;00m\u001b[38;5;124mEB\u001b[39m\u001b[38;5;124m%\u001b[39m\u001b[38;5;124mA0\u001b[39m\u001b[38;5;124m%\u001b[39m\u001b[38;5;124mA5\u001b[39m\u001b[38;5;132;01m%E\u001b[39;00m\u001b[38;5;124mD\u001b[39m\u001b[38;5;132;01m%95%\u001b[39;00m\u001b[38;5;124mB4+\u001b[39m\u001b[38;5;132;01m%E\u001b[39;00m\u001b[38;5;124mC\u001b[39m\u001b[38;5;124m%\u001b[39m\u001b[38;5;124mA3\u001b[39m\u001b[38;5;124m%\u001b[39m\u001b[38;5;124mBC\u001b[39m\u001b[38;5;132;01m%E\u001b[39;00m\u001b[38;5;124mC\u001b[39m\u001b[38;5;132;01m%84%\u001b[39;00m\u001b[38;5;124mB8\u001b[39m\u001b[38;5;132;01m%E\u001b[39;00m\u001b[38;5;124mC\u001b[39m\u001b[38;5;124m%\u001b[39m\u001b[38;5;124m9A\u001b[39m\u001b[38;5;124m%\u001b[39m\u001b[38;5;124m94.&where=nexearch&color_blindness=0&_=1719966620078\u001b[39m\u001b[38;5;124m\"\u001b[39m\n\u001b[1;32m      6\u001b[0m spell_checker(\u001b[38;5;124m\"\u001b[39m\u001b[38;5;124m아버지가 방에 드르감\u001b[39m\u001b[38;5;124m\"\u001b[39m, requestURL)\n",
      "\u001b[0;31mModuleNotFoundError\u001b[0m: No module named 'hanspell'"
     ]
    }
   ],
   "source": [
    "# 교정\n",
    "from hanspell import spell_checker\n",
    "\n",
    "requestURL = \"https://m.search.naver.com/p/csearch/ocontent/util/SpellerProxy?passportKey=de9f0d2fc72d5cf092ceb0dceb939549febfd4f8&_callback=jQuery1124019186862435357321_1719966620077&q=%EB%A7%9E%EC%B6%A4%EB%B2%95+%EA%B2%80%EC%82%AC%EB%A5%BC+%EC%9B%90%ED%95%98%EB%8A%94+%EB%8B%A8%EC%96%B4%EB%82%98+%EB%AC%B8%EC%9E%A5%EC%9D%84+%EC%9E%85%EB%A0%A5%ED%95%B4+%EC%A3%BC%EC%84%B8%EC%9A%94.&where=nexearch&color_blindness=0&_=1719966620078\"\n",
    "\n",
    "spell_checker(\"아버지가 방에 드르감\", requestURL)"
   ]
  },
  {
   "cell_type": "code",
   "execution_count": 182,
   "metadata": {},
   "outputs": [
    {
     "data": {
      "text/plain": [
       "count    481.000000\n",
       "mean      46.746362\n",
       "std       71.821640\n",
       "min        1.000000\n",
       "25%        6.000000\n",
       "50%       19.000000\n",
       "75%       56.000000\n",
       "max      399.000000\n",
       "Name: review, dtype: float64"
      ]
     },
     "execution_count": 182,
     "metadata": {},
     "output_type": "execute_result"
    }
   ],
   "source": [
    "review_len = data[\"review\"].str.len()\n",
    "review_len.describe()"
   ]
  },
  {
   "cell_type": "markdown",
   "metadata": {},
   "source": [
    "## 2. 데이터 탐색"
   ]
  },
  {
   "cell_type": "markdown",
   "metadata": {},
   "source": [
    "### ⭐️ `data2`"
   ]
  },
  {
   "cell_type": "code",
   "execution_count": 151,
   "metadata": {},
   "outputs": [
    {
     "data": {
      "text/html": [
       "<div>\n",
       "<style scoped>\n",
       "    .dataframe tbody tr th:only-of-type {\n",
       "        vertical-align: middle;\n",
       "    }\n",
       "\n",
       "    .dataframe tbody tr th {\n",
       "        vertical-align: top;\n",
       "    }\n",
       "\n",
       "    .dataframe thead th {\n",
       "        text-align: right;\n",
       "    }\n",
       "</style>\n",
       "<table border=\"1\" class=\"dataframe\">\n",
       "  <thead>\n",
       "    <tr style=\"text-align: right;\">\n",
       "      <th></th>\n",
       "      <th>reviewer</th>\n",
       "      <th>review</th>\n",
       "      <th>date</th>\n",
       "      <th>n_visit</th>\n",
       "      <th>weekday</th>\n",
       "    </tr>\n",
       "  </thead>\n",
       "  <tbody>\n",
       "    <tr>\n",
       "      <th>0</th>\n",
       "      <td>shooooooo</td>\n",
       "      <td>종류도 알차게 많고 다 맛있어요!</td>\n",
       "      <td>2024-06-07</td>\n",
       "      <td>1</td>\n",
       "      <td>금요일</td>\n",
       "    </tr>\n",
       "    <tr>\n",
       "      <th>1</th>\n",
       "      <td>gudrmfl2</td>\n",
       "      <td>맛나요</td>\n",
       "      <td>2024-06-07</td>\n",
       "      <td>1</td>\n",
       "      <td>금요일</td>\n",
       "    </tr>\n",
       "    <tr>\n",
       "      <th>2</th>\n",
       "      <td>코코리383</td>\n",
       "      <td>맛있어요</td>\n",
       "      <td>2024-05-28</td>\n",
       "      <td>1</td>\n",
       "      <td>화요일</td>\n",
       "    </tr>\n",
       "    <tr>\n",
       "      <th>3</th>\n",
       "      <td>vivajin</td>\n",
       "      <td>좋아요</td>\n",
       "      <td>2024-05-25</td>\n",
       "      <td>1</td>\n",
       "      <td>토요일</td>\n",
       "    </tr>\n",
       "    <tr>\n",
       "      <th>4</th>\n",
       "      <td>쥴리08</td>\n",
       "      <td>커피랑 브런치.크림파스타 먹었어요~\\n오늘따라 파스타가 불어서나왔더라구요ㅠㅠ\\n역시...</td>\n",
       "      <td>2024-05-23</td>\n",
       "      <td>1</td>\n",
       "      <td>목요일</td>\n",
       "    </tr>\n",
       "  </tbody>\n",
       "</table>\n",
       "</div>"
      ],
      "text/plain": [
       "    reviewer                                             review       date  \\\n",
       "0  shooooooo                                 종류도 알차게 많고 다 맛있어요! 2024-06-07   \n",
       "1   gudrmfl2                                                맛나요 2024-06-07   \n",
       "2     코코리383                                               맛있어요 2024-05-28   \n",
       "3    vivajin                                                좋아요 2024-05-25   \n",
       "4       쥴리08  커피랑 브런치.크림파스타 먹었어요~\\n오늘따라 파스타가 불어서나왔더라구요ㅠㅠ\\n역시... 2024-05-23   \n",
       "\n",
       "   n_visit weekday  \n",
       "0        1     금요일  \n",
       "1        1     금요일  \n",
       "2        1     화요일  \n",
       "3        1     토요일  \n",
       "4        1     목요일  "
      ]
     },
     "execution_count": 151,
     "metadata": {},
     "output_type": "execute_result"
    }
   ],
   "source": [
    "# 분석에 이용되지 않는 열 제거\n",
    "data2 = data.drop(columns=[\"additional_info\", \"auth_method\"])\n",
    "data2.head(5)"
   ]
  },
  {
   "cell_type": "markdown",
   "metadata": {},
   "source": [
    "### 1) 재방문한 사람들은 어떤 댓글을 남겼을까?"
   ]
  },
  {
   "cell_type": "markdown",
   "metadata": {},
   "source": [
    "* 똑같은 날짜에 방문했는데도 `n_visit`만 다르고 내용이 똑같다는 것을 확인. \n",
    "* `n_visit` 변수를 지우고 중복 제거를 다시했다. \n",
    "* 반응이 반전되는 경우는 거의 없으며, 대부분 같은 반응을 보였다."
   ]
  },
  {
   "cell_type": "code",
   "execution_count": 152,
   "metadata": {},
   "outputs": [
    {
     "data": {
      "text/html": [
       "<div>\n",
       "<style scoped>\n",
       "    .dataframe tbody tr th:only-of-type {\n",
       "        vertical-align: middle;\n",
       "    }\n",
       "\n",
       "    .dataframe tbody tr th {\n",
       "        vertical-align: top;\n",
       "    }\n",
       "\n",
       "    .dataframe thead th {\n",
       "        text-align: right;\n",
       "    }\n",
       "</style>\n",
       "<table border=\"1\" class=\"dataframe\">\n",
       "  <thead>\n",
       "    <tr style=\"text-align: right;\">\n",
       "      <th></th>\n",
       "      <th>reviewer</th>\n",
       "      <th>review</th>\n",
       "      <th>date</th>\n",
       "      <th>n_visit</th>\n",
       "      <th>weekday</th>\n",
       "    </tr>\n",
       "  </thead>\n",
       "  <tbody>\n",
       "    <tr>\n",
       "      <th>124</th>\n",
       "      <td>AtoZer</td>\n",
       "      <td>고급진 셀렉션도 많고 뷔페로써 부족함 없는 구성 입니다 분위기나 서비스도 맘에 들었...</td>\n",
       "      <td>2023-03-05</td>\n",
       "      <td>1</td>\n",
       "      <td>일요일</td>\n",
       "    </tr>\n",
       "    <tr>\n",
       "      <th>56</th>\n",
       "      <td>AtoZer</td>\n",
       "      <td>신라호텔 더파크뷰♥️ 호텔 뷔페 중에서도 음식의 퀄리티와 맛이 단연 으뜸이라 할 수...</td>\n",
       "      <td>2023-11-10</td>\n",
       "      <td>2</td>\n",
       "      <td>금요일</td>\n",
       "    </tr>\n",
       "    <tr>\n",
       "      <th>310</th>\n",
       "      <td>ERANGMAM</td>\n",
       "      <td>특별한날 방문하기 너무 좋아요\\n음식도 항상 신선하고 맛있고,\\n무엇보다 직원들 너...</td>\n",
       "      <td>2022-02-05</td>\n",
       "      <td>1</td>\n",
       "      <td>토요일</td>\n",
       "    </tr>\n",
       "    <tr>\n",
       "      <th>33</th>\n",
       "      <td>ERANGMAM</td>\n",
       "      <td>애기가 스테이크 너무 잘먹었어요\\n언제나 더파크뷰는 흠이없어요 친절함과 식사의 품질...</td>\n",
       "      <td>2024-01-03</td>\n",
       "      <td>2</td>\n",
       "      <td>수요일</td>\n",
       "    </tr>\n",
       "    <tr>\n",
       "      <th>235</th>\n",
       "      <td>TechnoMBA</td>\n",
       "      <td>맛있어요</td>\n",
       "      <td>2022-07-01</td>\n",
       "      <td>1</td>\n",
       "      <td>금요일</td>\n",
       "    </tr>\n",
       "    <tr>\n",
       "      <th>234</th>\n",
       "      <td>TechnoMBA</td>\n",
       "      <td>신라호텔 뷔페식당 더파크뷰입니다.\\n남산자락에 위치한 호텔뷔페. 정말 맛있고 직원들...</td>\n",
       "      <td>2022-07-01</td>\n",
       "      <td>2</td>\n",
       "      <td>금요일</td>\n",
       "    </tr>\n",
       "    <tr>\n",
       "      <th>314</th>\n",
       "      <td>big****</td>\n",
       "      <td>긋</td>\n",
       "      <td>2022-02-04</td>\n",
       "      <td>1</td>\n",
       "      <td>금요일</td>\n",
       "    </tr>\n",
       "    <tr>\n",
       "      <th>313</th>\n",
       "      <td>big****</td>\n",
       "      <td>긋</td>\n",
       "      <td>2022-02-04</td>\n",
       "      <td>2</td>\n",
       "      <td>금요일</td>\n",
       "    </tr>\n",
       "    <tr>\n",
       "      <th>312</th>\n",
       "      <td>big****</td>\n",
       "      <td>긋</td>\n",
       "      <td>2022-02-04</td>\n",
       "      <td>3</td>\n",
       "      <td>금요일</td>\n",
       "    </tr>\n",
       "    <tr>\n",
       "      <th>311</th>\n",
       "      <td>big****</td>\n",
       "      <td>긋</td>\n",
       "      <td>2022-02-04</td>\n",
       "      <td>4</td>\n",
       "      <td>금요일</td>\n",
       "    </tr>\n",
       "    <tr>\n",
       "      <th>260</th>\n",
       "      <td>jin****</td>\n",
       "      <td>굿</td>\n",
       "      <td>2022-05-15</td>\n",
       "      <td>1</td>\n",
       "      <td>일요일</td>\n",
       "    </tr>\n",
       "    <tr>\n",
       "      <th>426</th>\n",
       "      <td>jin****</td>\n",
       "      <td>발렛 이용 했는데편해요 \\n애 있는집 강추</td>\n",
       "      <td>2020-12-03</td>\n",
       "      <td>1</td>\n",
       "      <td>목요일</td>\n",
       "    </tr>\n",
       "    <tr>\n",
       "      <th>483</th>\n",
       "      <td>noeulll</td>\n",
       "      <td>정말 완벽한 서비스입니다! 근데 맛이 예전만 못하네요~ 그래도 만족합니다~</td>\n",
       "      <td>2020-05-27</td>\n",
       "      <td>1</td>\n",
       "      <td>수요일</td>\n",
       "    </tr>\n",
       "    <tr>\n",
       "      <th>482</th>\n",
       "      <td>noeulll</td>\n",
       "      <td>디너만 자주 가다가 브런치 오랜만에 갓는데 예전만 못하지만...괜찮네요~</td>\n",
       "      <td>2020-06-17</td>\n",
       "      <td>2</td>\n",
       "      <td>수요일</td>\n",
       "    </tr>\n",
       "    <tr>\n",
       "      <th>193</th>\n",
       "      <td>sun****</td>\n",
       "      <td>좋아요</td>\n",
       "      <td>2022-09-17</td>\n",
       "      <td>1</td>\n",
       "      <td>토요일</td>\n",
       "    </tr>\n",
       "    <tr>\n",
       "      <th>413</th>\n",
       "      <td>sun****</td>\n",
       "      <td>좋아요</td>\n",
       "      <td>2021-02-11</td>\n",
       "      <td>1</td>\n",
       "      <td>목요일</td>\n",
       "    </tr>\n",
       "    <tr>\n",
       "      <th>64</th>\n",
       "      <td>나라나57</td>\n",
       "      <td>다음에 또갈거에요</td>\n",
       "      <td>2023-10-28</td>\n",
       "      <td>1</td>\n",
       "      <td>토요일</td>\n",
       "    </tr>\n",
       "    <tr>\n",
       "      <th>32</th>\n",
       "      <td>나라나57</td>\n",
       "      <td>너무 맛있고 분위기 좋습니다</td>\n",
       "      <td>2024-01-05</td>\n",
       "      <td>2</td>\n",
       "      <td>금요일</td>\n",
       "    </tr>\n",
       "    <tr>\n",
       "      <th>369</th>\n",
       "      <td>시에나맘</td>\n",
       "      <td>직원분들도 너무 친절하시고 음식도 맛있었어요 특히 추천에 많은 안심스테이크 너무 부...</td>\n",
       "      <td>2021-07-03</td>\n",
       "      <td>1</td>\n",
       "      <td>토요일</td>\n",
       "    </tr>\n",
       "    <tr>\n",
       "      <th>368</th>\n",
       "      <td>시에나맘</td>\n",
       "      <td>직원분들도 너무 친절하시고 음식도 맛있었어요 특히 추천에 많은 안심스테이크 너무 부...</td>\n",
       "      <td>2021-07-03</td>\n",
       "      <td>2</td>\n",
       "      <td>토요일</td>\n",
       "    </tr>\n",
       "    <tr>\n",
       "      <th>334</th>\n",
       "      <td>야옹이56</td>\n",
       "      <td>가족들과 좋은 시간 보내고 가요</td>\n",
       "      <td>2021-12-01</td>\n",
       "      <td>1</td>\n",
       "      <td>수요일</td>\n",
       "    </tr>\n",
       "    <tr>\n",
       "      <th>333</th>\n",
       "      <td>야옹이56</td>\n",
       "      <td>좋아요</td>\n",
       "      <td>2021-12-01</td>\n",
       "      <td>2</td>\n",
       "      <td>수요일</td>\n",
       "    </tr>\n",
       "    <tr>\n",
       "      <th>251</th>\n",
       "      <td>오예3337</td>\n",
       "      <td>서비스가 너무 좋아요\\n굿굿!</td>\n",
       "      <td>2022-06-03</td>\n",
       "      <td>1</td>\n",
       "      <td>금요일</td>\n",
       "    </tr>\n",
       "    <tr>\n",
       "      <th>250</th>\n",
       "      <td>오예3337</td>\n",
       "      <td>넘 맛있어요 기념일에 꼭 강추</td>\n",
       "      <td>2022-06-03</td>\n",
       "      <td>2</td>\n",
       "      <td>금요일</td>\n",
       "    </tr>\n",
       "    <tr>\n",
       "      <th>50</th>\n",
       "      <td>이진욱쨩</td>\n",
       "      <td>너무친절❤️ 음식도 너무맛있어욤!!! \\n역시 신라호텔 체고~~~🥹🩷</td>\n",
       "      <td>2023-11-19</td>\n",
       "      <td>1</td>\n",
       "      <td>일요일</td>\n",
       "    </tr>\n",
       "    <tr>\n",
       "      <th>7</th>\n",
       "      <td>이진욱쨩</td>\n",
       "      <td>항상 친절하시고 음식도맛있네요^^</td>\n",
       "      <td>2024-04-21</td>\n",
       "      <td>2</td>\n",
       "      <td>일요일</td>\n",
       "    </tr>\n",
       "    <tr>\n",
       "      <th>361</th>\n",
       "      <td>지융50</td>\n",
       "      <td>가족들과 방문했어요 특별한날 좋은 사람들과 함께!</td>\n",
       "      <td>2021-09-11</td>\n",
       "      <td>1</td>\n",
       "      <td>토요일</td>\n",
       "    </tr>\n",
       "    <tr>\n",
       "      <th>241</th>\n",
       "      <td>지융50</td>\n",
       "      <td>두번째 방문! 여전히 맛있고 사람은 많아요🤣</td>\n",
       "      <td>2022-06-11</td>\n",
       "      <td>2</td>\n",
       "      <td>토요일</td>\n",
       "    </tr>\n",
       "    <tr>\n",
       "      <th>283</th>\n",
       "      <td>쫑이2472</td>\n",
       "      <td>가격은 올랐지만 맛있고 친절했습니다 평일 점심에 가니 디너와 주말에 비해 사람이 붐...</td>\n",
       "      <td>2022-04-04</td>\n",
       "      <td>1</td>\n",
       "      <td>월요일</td>\n",
       "    </tr>\n",
       "    <tr>\n",
       "      <th>118</th>\n",
       "      <td>쫑이2472</td>\n",
       "      <td>아기 생일이라 가족들 룸예약해서 다녀왔는데 온라인 예약으로 성공했어요! 음식도 맛있...</td>\n",
       "      <td>2023-04-07</td>\n",
       "      <td>2</td>\n",
       "      <td>금요일</td>\n",
       "    </tr>\n",
       "  </tbody>\n",
       "</table>\n",
       "</div>"
      ],
      "text/plain": [
       "      reviewer                                             review       date  \\\n",
       "124     AtoZer  고급진 셀렉션도 많고 뷔페로써 부족함 없는 구성 입니다 분위기나 서비스도 맘에 들었... 2023-03-05   \n",
       "56      AtoZer  신라호텔 더파크뷰♥️ 호텔 뷔페 중에서도 음식의 퀄리티와 맛이 단연 으뜸이라 할 수... 2023-11-10   \n",
       "310   ERANGMAM  특별한날 방문하기 너무 좋아요\\n음식도 항상 신선하고 맛있고,\\n무엇보다 직원들 너... 2022-02-05   \n",
       "33    ERANGMAM  애기가 스테이크 너무 잘먹었어요\\n언제나 더파크뷰는 흠이없어요 친절함과 식사의 품질... 2024-01-03   \n",
       "235  TechnoMBA                                               맛있어요 2022-07-01   \n",
       "234  TechnoMBA  신라호텔 뷔페식당 더파크뷰입니다.\\n남산자락에 위치한 호텔뷔페. 정말 맛있고 직원들... 2022-07-01   \n",
       "314    big****                                                  긋 2022-02-04   \n",
       "313    big****                                                  긋 2022-02-04   \n",
       "312    big****                                                  긋 2022-02-04   \n",
       "311    big****                                                  긋 2022-02-04   \n",
       "260    jin****                                                  굿 2022-05-15   \n",
       "426    jin****                            발렛 이용 했는데편해요 \\n애 있는집 강추 2020-12-03   \n",
       "483    noeulll          정말 완벽한 서비스입니다! 근데 맛이 예전만 못하네요~ 그래도 만족합니다~ 2020-05-27   \n",
       "482    noeulll           디너만 자주 가다가 브런치 오랜만에 갓는데 예전만 못하지만...괜찮네요~ 2020-06-17   \n",
       "193    sun****                                                좋아요 2022-09-17   \n",
       "413    sun****                                                좋아요 2021-02-11   \n",
       "64       나라나57                                          다음에 또갈거에요 2023-10-28   \n",
       "32       나라나57                                    너무 맛있고 분위기 좋습니다 2024-01-05   \n",
       "369       시에나맘  직원분들도 너무 친절하시고 음식도 맛있었어요 특히 추천에 많은 안심스테이크 너무 부... 2021-07-03   \n",
       "368       시에나맘  직원분들도 너무 친절하시고 음식도 맛있었어요 특히 추천에 많은 안심스테이크 너무 부... 2021-07-03   \n",
       "334      야옹이56                                  가족들과 좋은 시간 보내고 가요 2021-12-01   \n",
       "333      야옹이56                                                좋아요 2021-12-01   \n",
       "251     오예3337                                   서비스가 너무 좋아요\\n굿굿! 2022-06-03   \n",
       "250     오예3337                                   넘 맛있어요 기념일에 꼭 강추 2022-06-03   \n",
       "50        이진욱쨩             너무친절❤️ 음식도 너무맛있어욤!!! \\n역시 신라호텔 체고~~~🥹🩷 2023-11-19   \n",
       "7         이진욱쨩                                 항상 친절하시고 음식도맛있네요^^ 2024-04-21   \n",
       "361       지융50                        가족들과 방문했어요 특별한날 좋은 사람들과 함께! 2021-09-11   \n",
       "241       지융50                           두번째 방문! 여전히 맛있고 사람은 많아요🤣 2022-06-11   \n",
       "283     쫑이2472  가격은 올랐지만 맛있고 친절했습니다 평일 점심에 가니 디너와 주말에 비해 사람이 붐... 2022-04-04   \n",
       "118     쫑이2472  아기 생일이라 가족들 룸예약해서 다녀왔는데 온라인 예약으로 성공했어요! 음식도 맛있... 2023-04-07   \n",
       "\n",
       "     n_visit weekday  \n",
       "124        1     일요일  \n",
       "56         2     금요일  \n",
       "310        1     토요일  \n",
       "33         2     수요일  \n",
       "235        1     금요일  \n",
       "234        2     금요일  \n",
       "314        1     금요일  \n",
       "313        2     금요일  \n",
       "312        3     금요일  \n",
       "311        4     금요일  \n",
       "260        1     일요일  \n",
       "426        1     목요일  \n",
       "483        1     수요일  \n",
       "482        2     수요일  \n",
       "193        1     토요일  \n",
       "413        1     목요일  \n",
       "64         1     토요일  \n",
       "32         2     금요일  \n",
       "369        1     토요일  \n",
       "368        2     토요일  \n",
       "334        1     수요일  \n",
       "333        2     수요일  \n",
       "251        1     금요일  \n",
       "250        2     금요일  \n",
       "50         1     일요일  \n",
       "7          2     일요일  \n",
       "361        1     토요일  \n",
       "241        2     토요일  \n",
       "283        1     월요일  \n",
       "118        2     금요일  "
      ]
     },
     "execution_count": 152,
     "metadata": {},
     "output_type": "execute_result"
    }
   ],
   "source": [
    "revisitor_data = data2[\"reviewer\"].value_counts()\n",
    "revisitor = revisitor_data[revisitor_data > 1].index\n",
    "data2.loc[data2[\"reviewer\"].isin(revisitor),:].sort_values(by=[\"reviewer\",\"n_visit\"])"
   ]
  },
  {
   "cell_type": "markdown",
   "metadata": {},
   "source": [
    "### ⭐️ `data3`"
   ]
  },
  {
   "cell_type": "code",
   "execution_count": 153,
   "metadata": {},
   "outputs": [
    {
     "name": "stdout",
     "output_type": "stream",
     "text": [
      "BEFORE: (481, 4)\n",
      "AFTER: (477, 4)\n"
     ]
    }
   ],
   "source": [
    "# 열 삭제 후 데이터 중복 제거\n",
    "data3 = data2.drop(columns=[\"n_visit\"])\n",
    "print(f\"BEFORE: {data3.shape}\")\n",
    "data3.drop_duplicates(inplace=True)\n",
    "print(f\"AFTER: {data3.shape}\")"
   ]
  },
  {
   "cell_type": "code",
   "execution_count": 154,
   "metadata": {},
   "outputs": [
    {
     "data": {
      "text/html": [
       "<div>\n",
       "<style scoped>\n",
       "    .dataframe tbody tr th:only-of-type {\n",
       "        vertical-align: middle;\n",
       "    }\n",
       "\n",
       "    .dataframe tbody tr th {\n",
       "        vertical-align: top;\n",
       "    }\n",
       "\n",
       "    .dataframe thead th {\n",
       "        text-align: right;\n",
       "    }\n",
       "</style>\n",
       "<table border=\"1\" class=\"dataframe\">\n",
       "  <thead>\n",
       "    <tr style=\"text-align: right;\">\n",
       "      <th></th>\n",
       "      <th>reviewer</th>\n",
       "      <th>review</th>\n",
       "      <th>date</th>\n",
       "      <th>weekday</th>\n",
       "    </tr>\n",
       "  </thead>\n",
       "  <tbody>\n",
       "    <tr>\n",
       "      <th>0</th>\n",
       "      <td>shooooooo</td>\n",
       "      <td>종류도 알차게 많고 다 맛있어요!</td>\n",
       "      <td>2024-06-07</td>\n",
       "      <td>금요일</td>\n",
       "    </tr>\n",
       "    <tr>\n",
       "      <th>1</th>\n",
       "      <td>gudrmfl2</td>\n",
       "      <td>맛나요</td>\n",
       "      <td>2024-06-07</td>\n",
       "      <td>금요일</td>\n",
       "    </tr>\n",
       "    <tr>\n",
       "      <th>2</th>\n",
       "      <td>코코리383</td>\n",
       "      <td>맛있어요</td>\n",
       "      <td>2024-05-28</td>\n",
       "      <td>화요일</td>\n",
       "    </tr>\n",
       "    <tr>\n",
       "      <th>3</th>\n",
       "      <td>vivajin</td>\n",
       "      <td>좋아요</td>\n",
       "      <td>2024-05-25</td>\n",
       "      <td>토요일</td>\n",
       "    </tr>\n",
       "    <tr>\n",
       "      <th>4</th>\n",
       "      <td>쥴리08</td>\n",
       "      <td>커피랑 브런치.크림파스타 먹었어요~\\n오늘따라 파스타가 불어서나왔더라구요ㅠㅠ\\n역시...</td>\n",
       "      <td>2024-05-23</td>\n",
       "      <td>목요일</td>\n",
       "    </tr>\n",
       "  </tbody>\n",
       "</table>\n",
       "</div>"
      ],
      "text/plain": [
       "    reviewer                                             review       date  \\\n",
       "0  shooooooo                                 종류도 알차게 많고 다 맛있어요! 2024-06-07   \n",
       "1   gudrmfl2                                                맛나요 2024-06-07   \n",
       "2     코코리383                                               맛있어요 2024-05-28   \n",
       "3    vivajin                                                좋아요 2024-05-25   \n",
       "4       쥴리08  커피랑 브런치.크림파스타 먹었어요~\\n오늘따라 파스타가 불어서나왔더라구요ㅠㅠ\\n역시... 2024-05-23   \n",
       "\n",
       "  weekday  \n",
       "0     금요일  \n",
       "1     금요일  \n",
       "2     화요일  \n",
       "3     토요일  \n",
       "4     목요일  "
      ]
     },
     "execution_count": 154,
     "metadata": {},
     "output_type": "execute_result"
    }
   ],
   "source": [
    "data3.head()"
   ]
  },
  {
   "cell_type": "markdown",
   "metadata": {},
   "source": [
    "### 2) 언제 가장 리뷰가 활발했을까?"
   ]
  },
  {
   "cell_type": "markdown",
   "metadata": {},
   "source": [
    "* 2022년에 가장 많이 활발한 것으로 나타남."
   ]
  },
  {
   "cell_type": "code",
   "execution_count": 161,
   "metadata": {},
   "outputs": [],
   "source": [
    "subdata = data3[\"date\"].value_counts(sort=False)"
   ]
  },
  {
   "cell_type": "code",
   "execution_count": 162,
   "metadata": {},
   "outputs": [
    {
     "data": {
      "text/plain": [
       "date\n",
       "2022-09-17    6\n",
       "2022-04-02    4\n",
       "2021-05-28    4\n",
       "2022-05-15    4\n",
       "2022-06-03    4\n",
       "Name: count, dtype: int64"
      ]
     },
     "execution_count": 162,
     "metadata": {},
     "output_type": "execute_result"
    }
   ],
   "source": [
    "# 사람들이 가장 많이 리뷰를 쓴 날\n",
    "subdata.sort_values(ascending=False).iloc[:5]"
   ]
  },
  {
   "cell_type": "code",
   "execution_count": 157,
   "metadata": {},
   "outputs": [
    {
     "data": {
      "text/html": [
       "<div>\n",
       "<style scoped>\n",
       "    .dataframe tbody tr th:only-of-type {\n",
       "        vertical-align: middle;\n",
       "    }\n",
       "\n",
       "    .dataframe tbody tr th {\n",
       "        vertical-align: top;\n",
       "    }\n",
       "\n",
       "    .dataframe thead th {\n",
       "        text-align: right;\n",
       "    }\n",
       "</style>\n",
       "<table border=\"1\" class=\"dataframe\">\n",
       "  <thead>\n",
       "    <tr style=\"text-align: right;\">\n",
       "      <th></th>\n",
       "      <th>reviewer</th>\n",
       "      <th>review</th>\n",
       "      <th>date</th>\n",
       "      <th>weekday</th>\n",
       "    </tr>\n",
       "  </thead>\n",
       "  <tbody>\n",
       "    <tr>\n",
       "      <th>192</th>\n",
       "      <td>청솔9988</td>\n",
       "      <td>굿</td>\n",
       "      <td>2022-09-17</td>\n",
       "      <td>토요일</td>\n",
       "    </tr>\n",
       "    <tr>\n",
       "      <th>193</th>\n",
       "      <td>sun****</td>\n",
       "      <td>좋아요</td>\n",
       "      <td>2022-09-17</td>\n",
       "      <td>토요일</td>\n",
       "    </tr>\n",
       "    <tr>\n",
       "      <th>194</th>\n",
       "      <td>히히히히히6</td>\n",
       "      <td>진짜 맛있었고 기념일로 가기도 좋아요</td>\n",
       "      <td>2022-09-17</td>\n",
       "      <td>토요일</td>\n",
       "    </tr>\n",
       "    <tr>\n",
       "      <th>195</th>\n",
       "      <td>sym****</td>\n",
       "      <td>예전에 비해 가지수가 준것 같지만, 여전히 맛있습니다. 근데 사람이 정말 많네요^^;</td>\n",
       "      <td>2022-09-17</td>\n",
       "      <td>토요일</td>\n",
       "    </tr>\n",
       "    <tr>\n",
       "      <th>196</th>\n",
       "      <td>활짝3868</td>\n",
       "      <td>예전에 신라호텔 뷔페 갔을때 보다 메뉴의 가짓수는 줄었지만 메뉴등 퀄리티가 훨씬 좋...</td>\n",
       "      <td>2022-09-17</td>\n",
       "      <td>토요일</td>\n",
       "    </tr>\n",
       "    <tr>\n",
       "      <th>197</th>\n",
       "      <td>게으른냐옹</td>\n",
       "      <td>신라는 역시 디저트가 좋아요 디저트와 친절함에 기분이 좋아집니다ㅎㅎ 꽤 오랫만에 신...</td>\n",
       "      <td>2022-09-17</td>\n",
       "      <td>토요일</td>\n",
       "    </tr>\n",
       "  </tbody>\n",
       "</table>\n",
       "</div>"
      ],
      "text/plain": [
       "    reviewer                                             review       date  \\\n",
       "192   청솔9988                                                  굿 2022-09-17   \n",
       "193  sun****                                                좋아요 2022-09-17   \n",
       "194   히히히히히6                               진짜 맛있었고 기념일로 가기도 좋아요 2022-09-17   \n",
       "195  sym****    예전에 비해 가지수가 준것 같지만, 여전히 맛있습니다. 근데 사람이 정말 많네요^^; 2022-09-17   \n",
       "196   활짝3868  예전에 신라호텔 뷔페 갔을때 보다 메뉴의 가짓수는 줄었지만 메뉴등 퀄리티가 훨씬 좋... 2022-09-17   \n",
       "197    게으른냐옹  신라는 역시 디저트가 좋아요 디저트와 친절함에 기분이 좋아집니다ㅎㅎ 꽤 오랫만에 신... 2022-09-17   \n",
       "\n",
       "    weekday  \n",
       "192     토요일  \n",
       "193     토요일  \n",
       "194     토요일  \n",
       "195     토요일  \n",
       "196     토요일  \n",
       "197     토요일  "
      ]
     },
     "execution_count": 157,
     "metadata": {},
     "output_type": "execute_result"
    }
   ],
   "source": [
    "# 사람들이 가장 많이 리뷰를 쓴 날의 반응들\n",
    "data3[data3[\"date\"]==\"2022-09-17\"]"
   ]
  },
  {
   "cell_type": "code",
   "execution_count": 167,
   "metadata": {},
   "outputs": [
    {
     "data": {
      "image/png": "[encoded data removed]",
      "text/plain": [
       "<Figure size 800x500 with 1 Axes>"
      ]
     },
     "metadata": {},
     "output_type": "display_data"
    }
   ],
   "source": [
    "fig, ax = plt.subplots(figsize=(8, 5))\n",
    "subdata.plot(ax=ax)\n",
    "\n",
    "# title 설정\n",
    "ax.set(title = \"시간 대 방문자 수\", xlabel = \"\")\n",
    "# x축 주요 눈금을 년도 단위로 설정\n",
    "ax.xaxis.set_major_locator(mdates.YearLocator())\n",
    "# x축 라벨 형식을 년도로 설정\n",
    "ax.xaxis.set_major_formatter(mdates.DateFormatter('%Y'))\n",
    "# x축 요소 라벨 설정\n",
    "for label in ax.get_xticklabels():\n",
    "    label.set_rotation(0)\n",
    "    label.set_horizontalalignment('center')\n",
    "\n",
    "plt.show()"
   ]
  },
  {
   "cell_type": "markdown",
   "metadata": {},
   "source": [
    "### 3) 요일로 나타내면 어떻게 될까?"
   ]
  },
  {
   "cell_type": "markdown",
   "metadata": {},
   "source": [
    "* 예상한대로 금, 토, 일에 가장 활발이 방문이 이루어진 것으로 보인다."
   ]
  },
  {
   "cell_type": "code",
   "execution_count": 169,
   "metadata": {},
   "outputs": [
    {
     "data": {
      "text/plain": [
       "weekday\n",
       "토요일    111\n",
       "일요일    111\n",
       "금요일     79\n",
       "목요일     51\n",
       "월요일     46\n",
       "수요일     45\n",
       "화요일     34\n",
       "Name: count, dtype: int64"
      ]
     },
     "execution_count": 169,
     "metadata": {},
     "output_type": "execute_result"
    }
   ],
   "source": [
    "subdata = data3[\"weekday\"].value_counts()\n",
    "subdata"
   ]
  },
  {
   "cell_type": "code",
   "execution_count": 170,
   "metadata": {},
   "outputs": [
    {
     "data": {
      "image/png": "[encoded data removed]",
      "text/plain": [
       "<Figure size 800x500 with 1 Axes>"
      ]
     },
     "metadata": {},
     "output_type": "display_data"
    }
   ],
   "source": [
    "fig, ax = plt.subplots(figsize=(8, 5))\n",
    "weekdays = [\"월요일\",\"화요일\",\"수요일\",\"목요일\",\"금요일\",\"토요일\",\"일요일\"]\n",
    "subdata[weekdays].plot(ax=ax, kind=\"bar\")\n",
    "\n",
    "# title 설정\n",
    "ax.set_title(\"요일별 리뷰 수\")\n",
    "# x축 요소 라벨 설정\n",
    "for label in ax.get_xticklabels():\n",
    "    label.set_rotation(0)\n",
    "    label.set_horizontalalignment('center')\n",
    "\n",
    "plt.show()"
   ]
  },
  {
   "cell_type": "code",
   "execution_count": null,
   "metadata": {},
   "outputs": [],
   "source": []
  },
  {
   "cell_type": "code",
   "execution_count": null,
   "metadata": {},
   "outputs": [],
   "source": []
  },
  {
   "cell_type": "markdown",
   "metadata": {},
   "source": [
    "## 3. 결론"
   ]
  },
  {
   "cell_type": "markdown",
   "metadata": {},
   "source": [
    "* 전처리 과정\n",
    "    - 중복 제거\n",
    "    - 정보가 너무 적어 필요없는 열 제거 `additional_info`\n",
    "    - 아이디, 방문 날짜, n번째 방문이 잘 맞지 않는 것을 확인. `n_visit` 열 삭제 후 다시 중복 제거\n",
    "\n",
    "* 의미 있는 결과 및 나의 생각\n",
    "    - 리뷰가 22년부터 활발해진 것으로 나타났으며, 23년보다 22년에 가장 활발했다.\n",
    "    - 22년과 23년의 리뷰 반응을 비교해보는 것도 좋을 것 같다. "
   ]
  }
 ],
 "metadata": {
  "kernelspec": {
   "display_name": "langchain",
   "language": "python",
   "name": "python3"
  },
  "language_info": {
   "codemirror_mode": {
    "name": "ipython",
    "version": 3
   },
   "file_extension": ".py",
   "mimetype": "text/x-python",
   "name": "python",
   "nbconvert_exporter": "python",
   "pygments_lexer": "ipython3",
   "version": "3.11.9"
  }
 },
 "nbformat": 4,
 "nbformat_minor": 2
}
