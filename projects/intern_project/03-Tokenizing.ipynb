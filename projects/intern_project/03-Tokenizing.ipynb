{
 "cells": [
  {
   "cell_type": "markdown",
   "metadata": {},
   "source": [
    "# 03. Tokenizing"
   ]
  },
  {
   "cell_type": "markdown",
   "metadata": {},
   "source": [
    "## Setting"
   ]
  },
  {
   "cell_type": "code",
   "execution_count": 1,
   "metadata": {},
   "outputs": [],
   "source": [
    "import pandas as pd \n",
    "import numpy as np\n",
    "from matplotlib import rc\n",
    "import matplotlib.pyplot as plt\n",
    "import matplotlib.dates as mdates\n",
    "\n",
    "# rc('font', family='AppleGothic') # Mac \n",
    "rc('font', family='NanumGothic')\n",
    "plt.rcParams['axes.unicode_minus'] = False"
   ]
  },
  {
   "cell_type": "code",
   "execution_count": 2,
   "metadata": {},
   "outputs": [
    {
     "data": {
      "text/html": [
       "<div>\n",
       "<style scoped>\n",
       "    .dataframe tbody tr th:only-of-type {\n",
       "        vertical-align: middle;\n",
       "    }\n",
       "\n",
       "    .dataframe tbody tr th {\n",
       "        vertical-align: top;\n",
       "    }\n",
       "\n",
       "    .dataframe thead th {\n",
       "        text-align: right;\n",
       "    }\n",
       "</style>\n",
       "<table border=\"1\" class=\"dataframe\">\n",
       "  <thead>\n",
       "    <tr style=\"text-align: right;\">\n",
       "      <th></th>\n",
       "      <th>reviewer</th>\n",
       "      <th>review</th>\n",
       "      <th>date</th>\n",
       "      <th>weekday</th>\n",
       "    </tr>\n",
       "  </thead>\n",
       "  <tbody>\n",
       "    <tr>\n",
       "      <th>0</th>\n",
       "      <td>shooooooo</td>\n",
       "      <td>종류도 알차게 많고 다 맛있어요</td>\n",
       "      <td>2024-06-07</td>\n",
       "      <td>금요일</td>\n",
       "    </tr>\n",
       "    <tr>\n",
       "      <th>1</th>\n",
       "      <td>쥴리08</td>\n",
       "      <td>커피랑 브런치크림파스타 먹었어요 오늘따라 파스타가 불어서나왔더라구요 역시 신라 커피...</td>\n",
       "      <td>2024-05-23</td>\n",
       "      <td>목요일</td>\n",
       "    </tr>\n",
       "    <tr>\n",
       "      <th>2</th>\n",
       "      <td>illiiilillil</td>\n",
       "      <td>직원분들 너무 친절하시고 음식맛은 대한민국 호텔부페 넘버원인데 말해뭐해 입니다 조금...</td>\n",
       "      <td>2024-05-19</td>\n",
       "      <td>일요일</td>\n",
       "    </tr>\n",
       "    <tr>\n",
       "      <th>3</th>\n",
       "      <td>DEAN KIL</td>\n",
       "      <td>비싸지만 좋은곳</td>\n",
       "      <td>2024-05-04</td>\n",
       "      <td>토요일</td>\n",
       "    </tr>\n",
       "    <tr>\n",
       "      <th>4</th>\n",
       "      <td>이진욱쨩</td>\n",
       "      <td>항상 친절하시고 음식도맛있네요</td>\n",
       "      <td>2024-04-21</td>\n",
       "      <td>일요일</td>\n",
       "    </tr>\n",
       "  </tbody>\n",
       "</table>\n",
       "</div>"
      ],
      "text/plain": [
       "       reviewer                                             review       date  \\\n",
       "0     shooooooo                                  종류도 알차게 많고 다 맛있어요 2024-06-07   \n",
       "1          쥴리08  커피랑 브런치크림파스타 먹었어요 오늘따라 파스타가 불어서나왔더라구요 역시 신라 커피... 2024-05-23   \n",
       "2  illiiilillil  직원분들 너무 친절하시고 음식맛은 대한민국 호텔부페 넘버원인데 말해뭐해 입니다 조금... 2024-05-19   \n",
       "3      DEAN KIL                                           비싸지만 좋은곳 2024-05-04   \n",
       "4          이진욱쨩                                   항상 친절하시고 음식도맛있네요 2024-04-21   \n",
       "\n",
       "  weekday  \n",
       "0     금요일  \n",
       "1     목요일  \n",
       "2     일요일  \n",
       "3     토요일  \n",
       "4     일요일  "
      ]
     },
     "execution_count": 2,
     "metadata": {},
     "output_type": "execute_result"
    }
   ],
   "source": [
    "data_path = \"data/naver_review_preprocessing.csv\"\n",
    "data = pd.read_csv(data_path, parse_dates=[\"date\"], encoding=\"CP949\")\n",
    "data.head(5)"
   ]
  },
  {
   "cell_type": "code",
   "execution_count": 3,
   "metadata": {},
   "outputs": [
    {
     "data": {
      "text/plain": [
       "(317, 4)"
      ]
     },
     "execution_count": 3,
     "metadata": {},
     "output_type": "execute_result"
    }
   ],
   "source": [
    "data.shape"
   ]
  },
  {
   "cell_type": "markdown",
   "metadata": {},
   "source": [
    "## 1. 형태소 분석"
   ]
  },
  {
   "cell_type": "markdown",
   "metadata": {},
   "source": [
    "* 불용어, 신조어, 가중치 등 여러 기능들이 포함되어 있는 Kiwi 형태소 분석기를 선택하여 분석"
   ]
  },
  {
   "cell_type": "code",
   "execution_count": 4,
   "metadata": {},
   "outputs": [],
   "source": [
    "from kiwipiepy import Kiwi\n",
    "from kiwipiepy.utils import Stopwords\n",
    "kiwi = Kiwi()\n",
    "stopwords = Stopwords()"
   ]
  },
  {
   "cell_type": "code",
   "execution_count": 5,
   "metadata": {},
   "outputs": [
    {
     "data": {
      "text/html": [
       "<div>\n",
       "<style scoped>\n",
       "    .dataframe tbody tr th:only-of-type {\n",
       "        vertical-align: middle;\n",
       "    }\n",
       "\n",
       "    .dataframe tbody tr th {\n",
       "        vertical-align: top;\n",
       "    }\n",
       "\n",
       "    .dataframe thead th {\n",
       "        text-align: right;\n",
       "    }\n",
       "</style>\n",
       "<table border=\"1\" class=\"dataframe\">\n",
       "  <thead>\n",
       "    <tr style=\"text-align: right;\">\n",
       "      <th></th>\n",
       "      <th>reviewer</th>\n",
       "      <th>review</th>\n",
       "      <th>date</th>\n",
       "      <th>weekday</th>\n",
       "    </tr>\n",
       "  </thead>\n",
       "  <tbody>\n",
       "    <tr>\n",
       "      <th>0</th>\n",
       "      <td>shooooooo</td>\n",
       "      <td>종류도 알차게 많고 다 맛있어요</td>\n",
       "      <td>2024-06-07</td>\n",
       "      <td>금요일</td>\n",
       "    </tr>\n",
       "    <tr>\n",
       "      <th>1</th>\n",
       "      <td>쥴리08</td>\n",
       "      <td>커피랑 브런치크림파스타 먹었어요 오늘따라 파스타가 불어서나왔더라구요 역시 신라 커피...</td>\n",
       "      <td>2024-05-23</td>\n",
       "      <td>목요일</td>\n",
       "    </tr>\n",
       "    <tr>\n",
       "      <th>2</th>\n",
       "      <td>illiiilillil</td>\n",
       "      <td>직원분들 너무 친절하시고 음식맛은 대한민국 호텔부페 넘버원인데 말해뭐해 입니다 조금...</td>\n",
       "      <td>2024-05-19</td>\n",
       "      <td>일요일</td>\n",
       "    </tr>\n",
       "    <tr>\n",
       "      <th>3</th>\n",
       "      <td>DEAN KIL</td>\n",
       "      <td>비싸지만 좋은곳</td>\n",
       "      <td>2024-05-04</td>\n",
       "      <td>토요일</td>\n",
       "    </tr>\n",
       "    <tr>\n",
       "      <th>4</th>\n",
       "      <td>이진욱쨩</td>\n",
       "      <td>항상 친절하시고 음식도맛있네요</td>\n",
       "      <td>2024-04-21</td>\n",
       "      <td>일요일</td>\n",
       "    </tr>\n",
       "  </tbody>\n",
       "</table>\n",
       "</div>"
      ],
      "text/plain": [
       "       reviewer                                             review       date  \\\n",
       "0     shooooooo                                  종류도 알차게 많고 다 맛있어요 2024-06-07   \n",
       "1          쥴리08  커피랑 브런치크림파스타 먹었어요 오늘따라 파스타가 불어서나왔더라구요 역시 신라 커피... 2024-05-23   \n",
       "2  illiiilillil  직원분들 너무 친절하시고 음식맛은 대한민국 호텔부페 넘버원인데 말해뭐해 입니다 조금... 2024-05-19   \n",
       "3      DEAN KIL                                           비싸지만 좋은곳 2024-05-04   \n",
       "4          이진욱쨩                                   항상 친절하시고 음식도맛있네요 2024-04-21   \n",
       "\n",
       "  weekday  \n",
       "0     금요일  \n",
       "1     목요일  \n",
       "2     일요일  \n",
       "3     토요일  \n",
       "4     일요일  "
      ]
     },
     "execution_count": 5,
     "metadata": {},
     "output_type": "execute_result"
    }
   ],
   "source": [
    "review_data = data.copy()\n",
    "review_data.head(5)"
   ]
  },
  {
   "cell_type": "markdown",
   "metadata": {},
   "source": [
    "* 의미가 있다고 생각하는 체언(N), 용언(V)만 사용할 예정"
   ]
  },
  {
   "cell_type": "code",
   "execution_count": 14,
   "metadata": {},
   "outputs": [],
   "source": [
    "review_json = []\n",
    "\n",
    "allow_tag = [\"N\", \"V\"]\n",
    "for review in review_data[\"review\"]:\n",
    "    review_dict = {}\n",
    "\n",
    "    tokens = kiwi.tokenize(review, stopwords=stopwords)\n",
    "    tag_dict = {\"N\": [], \"V\": []}\n",
    "    for token in tokens:\n",
    "        if token.tag[0] in allow_tag:\n",
    "            tag_dict[token.tag[0]].append(token.form)\n",
    "    \n",
    "    review_dict[\"review\"] = review\n",
    "    review_dict[\"tokens\"] = [str(token) for token in tokens]\n",
    "    review_dict[\"N\"] = \" \".join(tag_dict[\"N\"])\n",
    "    review_dict[\"V\"] = \" \".join([x+\"다\" for x in tag_dict[\"V\"]])\n",
    "\n",
    "    review_json.append(review_dict)"
   ]
  },
  {
   "cell_type": "code",
   "execution_count": 8,
   "metadata": {},
   "outputs": [
    {
     "data": {
      "text/html": [
       "<div>\n",
       "<style scoped>\n",
       "    .dataframe tbody tr th:only-of-type {\n",
       "        vertical-align: middle;\n",
       "    }\n",
       "\n",
       "    .dataframe tbody tr th {\n",
       "        vertical-align: top;\n",
       "    }\n",
       "\n",
       "    .dataframe thead th {\n",
       "        text-align: right;\n",
       "    }\n",
       "</style>\n",
       "<table border=\"1\" class=\"dataframe\">\n",
       "  <thead>\n",
       "    <tr style=\"text-align: right;\">\n",
       "      <th></th>\n",
       "      <th>review</th>\n",
       "      <th>N</th>\n",
       "      <th>V</th>\n",
       "    </tr>\n",
       "  </thead>\n",
       "  <tbody>\n",
       "    <tr>\n",
       "      <th>0</th>\n",
       "      <td>종류도 알차게 많고 다 맛있어요</td>\n",
       "      <td>종류</td>\n",
       "      <td>알차다 많다 맛있다</td>\n",
       "    </tr>\n",
       "    <tr>\n",
       "      <th>1</th>\n",
       "      <td>커피랑 브런치크림파스타 먹었어요 오늘따라 파스타가 불어서나왔더라구요 역시 신라 커피...</td>\n",
       "      <td>커피 브런치 크림 파스타 파스타 신라 커피</td>\n",
       "      <td>먹다 불다 나오다 맛있다</td>\n",
       "    </tr>\n",
       "    <tr>\n",
       "      <th>2</th>\n",
       "      <td>직원분들 너무 친절하시고 음식맛은 대한민국 호텔부페 넘버원인데 말해뭐해 입니다 조금...</td>\n",
       "      <td>직원 친절 음식 맛 대한민국 호텔 부페 넘버원 뭐 조금 입장 융통 거 일류 구색 거</td>\n",
       "      <td>이다 좋다 아쉽다 약하다</td>\n",
       "    </tr>\n",
       "    <tr>\n",
       "      <th>3</th>\n",
       "      <td>비싸지만 좋은곳</td>\n",
       "      <td>곳</td>\n",
       "      <td>비싸다 좋다</td>\n",
       "    </tr>\n",
       "    <tr>\n",
       "      <th>4</th>\n",
       "      <td>항상 친절하시고 음식도맛있네요</td>\n",
       "      <td>친절 음식</td>\n",
       "      <td>맛있다</td>\n",
       "    </tr>\n",
       "  </tbody>\n",
       "</table>\n",
       "</div>"
      ],
      "text/plain": [
       "                                              review  \\\n",
       "0                                  종류도 알차게 많고 다 맛있어요   \n",
       "1  커피랑 브런치크림파스타 먹었어요 오늘따라 파스타가 불어서나왔더라구요 역시 신라 커피...   \n",
       "2  직원분들 너무 친절하시고 음식맛은 대한민국 호텔부페 넘버원인데 말해뭐해 입니다 조금...   \n",
       "3                                           비싸지만 좋은곳   \n",
       "4                                   항상 친절하시고 음식도맛있네요   \n",
       "\n",
       "                                                N              V  \n",
       "0                                              종류     알차다 많다 맛있다  \n",
       "1                         커피 브런치 크림 파스타 파스타 신라 커피  먹다 불다 나오다 맛있다  \n",
       "2  직원 친절 음식 맛 대한민국 호텔 부페 넘버원 뭐 조금 입장 융통 거 일류 구색 거  이다 좋다 아쉽다 약하다  \n",
       "3                                               곳         비싸다 좋다  \n",
       "4                                           친절 음식            맛있다  "
      ]
     },
     "execution_count": 8,
     "metadata": {},
     "output_type": "execute_result"
    }
   ],
   "source": [
    "analyze_data = pd.json_normalize(review_json).drop(columns=\"tokens\")\n",
    "analyze_data.head(5)"
   ]
  },
  {
   "cell_type": "code",
   "execution_count": 90,
   "metadata": {},
   "outputs": [
    {
     "data": {
      "text/html": [
       "<div>\n",
       "<style scoped>\n",
       "    .dataframe tbody tr th:only-of-type {\n",
       "        vertical-align: middle;\n",
       "    }\n",
       "\n",
       "    .dataframe tbody tr th {\n",
       "        vertical-align: top;\n",
       "    }\n",
       "\n",
       "    .dataframe thead th {\n",
       "        text-align: right;\n",
       "    }\n",
       "</style>\n",
       "<table border=\"1\" class=\"dataframe\">\n",
       "  <thead>\n",
       "    <tr style=\"text-align: right;\">\n",
       "      <th></th>\n",
       "      <th>reviewer</th>\n",
       "      <th>review</th>\n",
       "      <th>date</th>\n",
       "      <th>weekday</th>\n",
       "      <th>N</th>\n",
       "      <th>V</th>\n",
       "    </tr>\n",
       "  </thead>\n",
       "  <tbody>\n",
       "    <tr>\n",
       "      <th>0</th>\n",
       "      <td>shooooooo</td>\n",
       "      <td>종류도 알차게 많고 다 맛있어요</td>\n",
       "      <td>2024-06-07</td>\n",
       "      <td>금요일</td>\n",
       "      <td>종류</td>\n",
       "      <td>알차다 많다 맛있다</td>\n",
       "    </tr>\n",
       "    <tr>\n",
       "      <th>1</th>\n",
       "      <td>쥴리08</td>\n",
       "      <td>커피랑 브런치크림파스타 먹었어요 오늘따라 파스타가 불어서나왔더라구요 역시 신라 커피...</td>\n",
       "      <td>2024-05-23</td>\n",
       "      <td>목요일</td>\n",
       "      <td>커피 브런치 크림 파스타 파스타 신라 커피</td>\n",
       "      <td>먹다 불다 나오다 맛있다</td>\n",
       "    </tr>\n",
       "    <tr>\n",
       "      <th>2</th>\n",
       "      <td>illiiilillil</td>\n",
       "      <td>직원분들 너무 친절하시고 음식맛은 대한민국 호텔부페 넘버원인데 말해뭐해 입니다 조금...</td>\n",
       "      <td>2024-05-19</td>\n",
       "      <td>일요일</td>\n",
       "      <td>직원 친절 음식 맛 대한민국 호텔 부페 넘버원 뭐 조금 입장 융통 거 일류 구색 거</td>\n",
       "      <td>이다 좋다 아쉽다 약하다</td>\n",
       "    </tr>\n",
       "    <tr>\n",
       "      <th>3</th>\n",
       "      <td>DEAN KIL</td>\n",
       "      <td>비싸지만 좋은곳</td>\n",
       "      <td>2024-05-04</td>\n",
       "      <td>토요일</td>\n",
       "      <td>곳</td>\n",
       "      <td>비싸다 좋다</td>\n",
       "    </tr>\n",
       "    <tr>\n",
       "      <th>4</th>\n",
       "      <td>이진욱쨩</td>\n",
       "      <td>항상 친절하시고 음식도맛있네요</td>\n",
       "      <td>2024-04-21</td>\n",
       "      <td>일요일</td>\n",
       "      <td>친절 음식</td>\n",
       "      <td>맛있다</td>\n",
       "    </tr>\n",
       "  </tbody>\n",
       "</table>\n",
       "</div>"
      ],
      "text/plain": [
       "       reviewer                                             review       date  \\\n",
       "0     shooooooo                                  종류도 알차게 많고 다 맛있어요 2024-06-07   \n",
       "1          쥴리08  커피랑 브런치크림파스타 먹었어요 오늘따라 파스타가 불어서나왔더라구요 역시 신라 커피... 2024-05-23   \n",
       "2  illiiilillil  직원분들 너무 친절하시고 음식맛은 대한민국 호텔부페 넘버원인데 말해뭐해 입니다 조금... 2024-05-19   \n",
       "3      DEAN KIL                                           비싸지만 좋은곳 2024-05-04   \n",
       "4          이진욱쨩                                   항상 친절하시고 음식도맛있네요 2024-04-21   \n",
       "\n",
       "  weekday                                               N              V  \n",
       "0     금요일                                              종류     알차다 많다 맛있다  \n",
       "1     목요일                         커피 브런치 크림 파스타 파스타 신라 커피  먹다 불다 나오다 맛있다  \n",
       "2     일요일  직원 친절 음식 맛 대한민국 호텔 부페 넘버원 뭐 조금 입장 융통 거 일류 구색 거  이다 좋다 아쉽다 약하다  \n",
       "3     토요일                                               곳         비싸다 좋다  \n",
       "4     일요일                                           친절 음식            맛있다  "
      ]
     },
     "execution_count": 90,
     "metadata": {},
     "output_type": "execute_result"
    }
   ],
   "source": [
    "total_data = pd.merge(review_data, analyze_data, how=\"inner\", on=\"review\")\n",
    "total_data.head(5)"
   ]
  },
  {
   "cell_type": "markdown",
   "metadata": {},
   "source": [
    "## ⭐️ 전처리 데이터 저장"
   ]
  },
  {
   "cell_type": "code",
   "execution_count": 15,
   "metadata": {},
   "outputs": [],
   "source": [
    "import json \n",
    "\n",
    "with open(\"./data/naver_review_tokenizing.json\", \"w\", encoding=\"utf-8\") as json_file:\n",
    "    json.dump(review_json, json_file, indent=4, ensure_ascii=False)"
   ]
  },
  {
   "cell_type": "code",
   "execution_count": 126,
   "metadata": {},
   "outputs": [
    {
     "data": {
      "text/html": [
       "<div>\n",
       "<style scoped>\n",
       "    .dataframe tbody tr th:only-of-type {\n",
       "        vertical-align: middle;\n",
       "    }\n",
       "\n",
       "    .dataframe tbody tr th {\n",
       "        vertical-align: top;\n",
       "    }\n",
       "\n",
       "    .dataframe thead th {\n",
       "        text-align: right;\n",
       "    }\n",
       "</style>\n",
       "<table border=\"1\" class=\"dataframe\">\n",
       "  <thead>\n",
       "    <tr style=\"text-align: right;\">\n",
       "      <th></th>\n",
       "      <th>reviewer</th>\n",
       "      <th>date</th>\n",
       "      <th>weekday</th>\n",
       "      <th>review</th>\n",
       "      <th>N</th>\n",
       "      <th>V</th>\n",
       "    </tr>\n",
       "  </thead>\n",
       "  <tbody>\n",
       "    <tr>\n",
       "      <th>0</th>\n",
       "      <td>shooooooo</td>\n",
       "      <td>2024-06-07</td>\n",
       "      <td>금요일</td>\n",
       "      <td>종류도 알차게 많고 다 맛있어요</td>\n",
       "      <td>종류</td>\n",
       "      <td>알차다 많다 맛있다</td>\n",
       "    </tr>\n",
       "    <tr>\n",
       "      <th>1</th>\n",
       "      <td>쥴리08</td>\n",
       "      <td>2024-05-23</td>\n",
       "      <td>목요일</td>\n",
       "      <td>커피랑 브런치크림파스타 먹었어요 오늘따라 파스타가 불어서나왔더라구요 역시 신라 커피...</td>\n",
       "      <td>커피 브런치 크림 파스타 파스타 신라 커피</td>\n",
       "      <td>먹다 불다 나오다 맛있다</td>\n",
       "    </tr>\n",
       "    <tr>\n",
       "      <th>2</th>\n",
       "      <td>illiiilillil</td>\n",
       "      <td>2024-05-19</td>\n",
       "      <td>일요일</td>\n",
       "      <td>직원분들 너무 친절하시고 음식맛은 대한민국 호텔부페 넘버원인데 말해뭐해 입니다 조금...</td>\n",
       "      <td>직원 친절 음식 맛 대한민국 호텔 부페 넘버원 뭐 조금 입장 융통 거 일류 구색 거</td>\n",
       "      <td>이다 좋다 아쉽다 약하다</td>\n",
       "    </tr>\n",
       "    <tr>\n",
       "      <th>3</th>\n",
       "      <td>DEAN KIL</td>\n",
       "      <td>2024-05-04</td>\n",
       "      <td>토요일</td>\n",
       "      <td>비싸지만 좋은곳</td>\n",
       "      <td>곳</td>\n",
       "      <td>비싸다 좋다</td>\n",
       "    </tr>\n",
       "    <tr>\n",
       "      <th>4</th>\n",
       "      <td>이진욱쨩</td>\n",
       "      <td>2024-04-21</td>\n",
       "      <td>일요일</td>\n",
       "      <td>항상 친절하시고 음식도맛있네요</td>\n",
       "      <td>친절 음식</td>\n",
       "      <td>맛있다</td>\n",
       "    </tr>\n",
       "  </tbody>\n",
       "</table>\n",
       "</div>"
      ],
      "text/plain": [
       "       reviewer       date weekday  \\\n",
       "0     shooooooo 2024-06-07     금요일   \n",
       "1          쥴리08 2024-05-23     목요일   \n",
       "2  illiiilillil 2024-05-19     일요일   \n",
       "3      DEAN KIL 2024-05-04     토요일   \n",
       "4          이진욱쨩 2024-04-21     일요일   \n",
       "\n",
       "                                              review  \\\n",
       "0                                  종류도 알차게 많고 다 맛있어요   \n",
       "1  커피랑 브런치크림파스타 먹었어요 오늘따라 파스타가 불어서나왔더라구요 역시 신라 커피...   \n",
       "2  직원분들 너무 친절하시고 음식맛은 대한민국 호텔부페 넘버원인데 말해뭐해 입니다 조금...   \n",
       "3                                           비싸지만 좋은곳   \n",
       "4                                   항상 친절하시고 음식도맛있네요   \n",
       "\n",
       "                                                N              V  \n",
       "0                                              종류     알차다 많다 맛있다  \n",
       "1                         커피 브런치 크림 파스타 파스타 신라 커피  먹다 불다 나오다 맛있다  \n",
       "2  직원 친절 음식 맛 대한민국 호텔 부페 넘버원 뭐 조금 입장 융통 거 일류 구색 거  이다 좋다 아쉽다 약하다  \n",
       "3                                               곳         비싸다 좋다  \n",
       "4                                           친절 음식            맛있다  "
      ]
     },
     "execution_count": 126,
     "metadata": {},
     "output_type": "execute_result"
    }
   ],
   "source": [
    "total_data = total_data[[\"reviewer\",\"date\",\"weekday\",\"review\",\"N\",\"V\"]]\n",
    "total_data.to_csv(\"./data/naver_review_tokenizing.csv\", index=False, encoding=\"CP949\")\n",
    "total_data.head(5)"
   ]
  }
 ],
 "metadata": {
  "kernelspec": {
   "display_name": "langchain",
   "language": "python",
   "name": "python3"
  },
  "language_info": {
   "codemirror_mode": {
    "name": "ipython",
    "version": 3
   },
   "file_extension": ".py",
   "mimetype": "text/x-python",
   "name": "python",
   "nbconvert_exporter": "python",
   "pygments_lexer": "ipython3",
   "version": "3.10.13"
  }
 },
 "nbformat": 4,
 "nbformat_minor": 2
}
