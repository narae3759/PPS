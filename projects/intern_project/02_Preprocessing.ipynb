{
 "cells": [
  {
   "cell_type": "markdown",
   "metadata": {},
   "source": [
    "# 02. Preprocessing"
   ]
  },
  {
   "cell_type": "markdown",
   "metadata": {},
   "source": [
    "## Setting"
   ]
  },
  {
   "cell_type": "code",
   "execution_count": 23,
   "metadata": {},
   "outputs": [],
   "source": [
    "import pandas as pd \n",
    "import numpy as np\n",
    "from matplotlib import rc\n",
    "import matplotlib.pyplot as plt\n",
    "import matplotlib.dates as mdates\n",
    "\n",
    "# rc('font', family='AppleGothic') # Mac \n",
    "rc('font', family='NanumGothic')\n",
    "plt.rcParams['axes.unicode_minus'] = False"
   ]
  },
  {
   "cell_type": "code",
   "execution_count": 24,
   "metadata": {},
   "outputs": [
    {
     "data": {
      "text/html": [
       "<div>\n",
       "<style scoped>\n",
       "    .dataframe tbody tr th:only-of-type {\n",
       "        vertical-align: middle;\n",
       "    }\n",
       "\n",
       "    .dataframe tbody tr th {\n",
       "        vertical-align: top;\n",
       "    }\n",
       "\n",
       "    .dataframe thead th {\n",
       "        text-align: right;\n",
       "    }\n",
       "</style>\n",
       "<table border=\"1\" class=\"dataframe\">\n",
       "  <thead>\n",
       "    <tr style=\"text-align: right;\">\n",
       "      <th></th>\n",
       "      <th>reviewer</th>\n",
       "      <th>review</th>\n",
       "      <th>additional_info</th>\n",
       "      <th>date</th>\n",
       "      <th>n_visit</th>\n",
       "      <th>auth_method</th>\n",
       "    </tr>\n",
       "  </thead>\n",
       "  <tbody>\n",
       "    <tr>\n",
       "      <th>0</th>\n",
       "      <td>shooooooo</td>\n",
       "      <td>종류도 알차게 많고 다 맛있어요!</td>\n",
       "      <td>예약 후 이용, 대기 시간 바로 입장, 데이트, 연인·배우자</td>\n",
       "      <td>2024년 6월 7일 금요일</td>\n",
       "      <td>1번째 방문</td>\n",
       "      <td>영수증</td>\n",
       "    </tr>\n",
       "    <tr>\n",
       "      <th>1</th>\n",
       "      <td>gudrmfl2</td>\n",
       "      <td>맛나요</td>\n",
       "      <td>예약 후 이용, 대기 시간 10분 이내, 데이트, 연인·배우자</td>\n",
       "      <td>2024년 6월 7일 금요일</td>\n",
       "      <td>1번째 방문</td>\n",
       "      <td>영수증</td>\n",
       "    </tr>\n",
       "    <tr>\n",
       "      <th>2</th>\n",
       "      <td>코코리383</td>\n",
       "      <td>맛있어요</td>\n",
       "      <td>예약 없이 이용, 대기 시간 바로 입장, 데이트, 연인·배우자</td>\n",
       "      <td>2024년 5월 28일 화요일</td>\n",
       "      <td>1번째 방문</td>\n",
       "      <td>영수증</td>\n",
       "    </tr>\n",
       "    <tr>\n",
       "      <th>3</th>\n",
       "      <td>vivajin</td>\n",
       "      <td>좋아요</td>\n",
       "      <td>NaN</td>\n",
       "      <td>2024년 5월 25일 토요일</td>\n",
       "      <td>1번째 방문</td>\n",
       "      <td>영수증</td>\n",
       "    </tr>\n",
       "    <tr>\n",
       "      <th>4</th>\n",
       "      <td>쥴리08</td>\n",
       "      <td>커피랑 브런치.크림파스타 먹었어요~\\r\\n오늘따라 파스타가 불어서나왔더라구요ㅠㅠ\\r...</td>\n",
       "      <td>예약 없이 이용, 대기 시간 10분 이내, 일상, 친척·형제</td>\n",
       "      <td>2024년 5월 23일 목요일</td>\n",
       "      <td>1번째 방문</td>\n",
       "      <td>결제내역</td>\n",
       "    </tr>\n",
       "  </tbody>\n",
       "</table>\n",
       "</div>"
      ],
      "text/plain": [
       "    reviewer                                             review  \\\n",
       "0  shooooooo                                 종류도 알차게 많고 다 맛있어요!   \n",
       "1   gudrmfl2                                                맛나요   \n",
       "2     코코리383                                               맛있어요   \n",
       "3    vivajin                                                좋아요   \n",
       "4       쥴리08  커피랑 브런치.크림파스타 먹었어요~\\r\\n오늘따라 파스타가 불어서나왔더라구요ㅠㅠ\\r...   \n",
       "\n",
       "                      additional_info              date n_visit auth_method  \n",
       "0   예약 후 이용, 대기 시간 바로 입장, 데이트, 연인·배우자   2024년 6월 7일 금요일  1번째 방문         영수증  \n",
       "1  예약 후 이용, 대기 시간 10분 이내, 데이트, 연인·배우자   2024년 6월 7일 금요일  1번째 방문         영수증  \n",
       "2  예약 없이 이용, 대기 시간 바로 입장, 데이트, 연인·배우자  2024년 5월 28일 화요일  1번째 방문         영수증  \n",
       "3                                 NaN  2024년 5월 25일 토요일  1번째 방문         영수증  \n",
       "4   예약 없이 이용, 대기 시간 10분 이내, 일상, 친척·형제  2024년 5월 23일 목요일  1번째 방문        결제내역  "
      ]
     },
     "execution_count": 24,
     "metadata": {},
     "output_type": "execute_result"
    }
   ],
   "source": [
    "data_path = \"data/naver_review_raw_data.csv\"\n",
    "data = pd.read_csv(data_path)\n",
    "data.head(5)"
   ]
  },
  {
   "cell_type": "code",
   "execution_count": 25,
   "metadata": {},
   "outputs": [
    {
     "name": "stdout",
     "output_type": "stream",
     "text": [
      "BEFORE: (503, 6)\n",
      "AFTER: (481, 6)\n"
     ]
    }
   ],
   "source": [
    "# 데이터 중복 제거 \n",
    "print(f\"BEFORE: {data.shape}\")\n",
    "data.drop_duplicates(inplace=True)\n",
    "print(f\"AFTER: {data.shape}\")"
   ]
  },
  {
   "cell_type": "code",
   "execution_count": 26,
   "metadata": {},
   "outputs": [
    {
     "name": "stdout",
     "output_type": "stream",
     "text": [
      "<class 'pandas.core.frame.DataFrame'>\n",
      "Index: 481 entries, 0 to 502\n",
      "Data columns (total 6 columns):\n",
      " #   Column           Non-Null Count  Dtype \n",
      "---  ------           --------------  ----- \n",
      " 0   reviewer         481 non-null    object\n",
      " 1   review           481 non-null    object\n",
      " 2   additional_info  57 non-null     object\n",
      " 3   date             481 non-null    object\n",
      " 4   n_visit          481 non-null    object\n",
      " 5   auth_method      481 non-null    object\n",
      "dtypes: object(6)\n",
      "memory usage: 26.3+ KB\n"
     ]
    }
   ],
   "source": [
    "data.info()"
   ]
  },
  {
   "cell_type": "markdown",
   "metadata": {},
   "source": [
    "## 1. `additional_info`\n",
    "\n",
    "* 많은 정보를 파악하기 위해 수집했으나, 그에 비해 결측치가 많은 것으로 나타남. \n",
    "* 그 개수가 10분의 1이 되지 않았기에 분석에서 제외함."
   ]
  },
  {
   "cell_type": "code",
   "execution_count": 27,
   "metadata": {},
   "outputs": [
    {
     "name": "stdout",
     "output_type": "stream",
     "text": [
      "Missing Value: 424\n"
     ]
    }
   ],
   "source": [
    "print(f\"Missing Value: {data['additional_info'].isna().sum()}\")"
   ]
  },
  {
   "cell_type": "markdown",
   "metadata": {},
   "source": [
    "## 2. `date`\n",
    "\n",
    "* 날짜이기 때문에 datetime으로 변환\n",
    "* 편의를 위해 날짜와 요일을 두 개의 열로 분리함"
   ]
  },
  {
   "cell_type": "code",
   "execution_count": 28,
   "metadata": {},
   "outputs": [
    {
     "data": {
      "text/html": [
       "<div>\n",
       "<style scoped>\n",
       "    .dataframe tbody tr th:only-of-type {\n",
       "        vertical-align: middle;\n",
       "    }\n",
       "\n",
       "    .dataframe tbody tr th {\n",
       "        vertical-align: top;\n",
       "    }\n",
       "\n",
       "    .dataframe thead th {\n",
       "        text-align: right;\n",
       "    }\n",
       "</style>\n",
       "<table border=\"1\" class=\"dataframe\">\n",
       "  <thead>\n",
       "    <tr style=\"text-align: right;\">\n",
       "      <th></th>\n",
       "      <th>reviewer</th>\n",
       "      <th>review</th>\n",
       "      <th>additional_info</th>\n",
       "      <th>date</th>\n",
       "      <th>n_visit</th>\n",
       "      <th>auth_method</th>\n",
       "      <th>weekday</th>\n",
       "    </tr>\n",
       "  </thead>\n",
       "  <tbody>\n",
       "    <tr>\n",
       "      <th>0</th>\n",
       "      <td>shooooooo</td>\n",
       "      <td>종류도 알차게 많고 다 맛있어요!</td>\n",
       "      <td>예약 후 이용, 대기 시간 바로 입장, 데이트, 연인·배우자</td>\n",
       "      <td>2024-06-07</td>\n",
       "      <td>1번째 방문</td>\n",
       "      <td>영수증</td>\n",
       "      <td>금요일</td>\n",
       "    </tr>\n",
       "    <tr>\n",
       "      <th>1</th>\n",
       "      <td>gudrmfl2</td>\n",
       "      <td>맛나요</td>\n",
       "      <td>예약 후 이용, 대기 시간 10분 이내, 데이트, 연인·배우자</td>\n",
       "      <td>2024-06-07</td>\n",
       "      <td>1번째 방문</td>\n",
       "      <td>영수증</td>\n",
       "      <td>금요일</td>\n",
       "    </tr>\n",
       "    <tr>\n",
       "      <th>2</th>\n",
       "      <td>코코리383</td>\n",
       "      <td>맛있어요</td>\n",
       "      <td>예약 없이 이용, 대기 시간 바로 입장, 데이트, 연인·배우자</td>\n",
       "      <td>2024-05-28</td>\n",
       "      <td>1번째 방문</td>\n",
       "      <td>영수증</td>\n",
       "      <td>화요일</td>\n",
       "    </tr>\n",
       "    <tr>\n",
       "      <th>3</th>\n",
       "      <td>vivajin</td>\n",
       "      <td>좋아요</td>\n",
       "      <td>NaN</td>\n",
       "      <td>2024-05-25</td>\n",
       "      <td>1번째 방문</td>\n",
       "      <td>영수증</td>\n",
       "      <td>토요일</td>\n",
       "    </tr>\n",
       "    <tr>\n",
       "      <th>4</th>\n",
       "      <td>쥴리08</td>\n",
       "      <td>커피랑 브런치.크림파스타 먹었어요~\\r\\n오늘따라 파스타가 불어서나왔더라구요ㅠㅠ\\r...</td>\n",
       "      <td>예약 없이 이용, 대기 시간 10분 이내, 일상, 친척·형제</td>\n",
       "      <td>2024-05-23</td>\n",
       "      <td>1번째 방문</td>\n",
       "      <td>결제내역</td>\n",
       "      <td>목요일</td>\n",
       "    </tr>\n",
       "  </tbody>\n",
       "</table>\n",
       "</div>"
      ],
      "text/plain": [
       "    reviewer                                             review  \\\n",
       "0  shooooooo                                 종류도 알차게 많고 다 맛있어요!   \n",
       "1   gudrmfl2                                                맛나요   \n",
       "2     코코리383                                               맛있어요   \n",
       "3    vivajin                                                좋아요   \n",
       "4       쥴리08  커피랑 브런치.크림파스타 먹었어요~\\r\\n오늘따라 파스타가 불어서나왔더라구요ㅠㅠ\\r...   \n",
       "\n",
       "                      additional_info       date n_visit auth_method weekday  \n",
       "0   예약 후 이용, 대기 시간 바로 입장, 데이트, 연인·배우자 2024-06-07  1번째 방문         영수증     금요일  \n",
       "1  예약 후 이용, 대기 시간 10분 이내, 데이트, 연인·배우자 2024-06-07  1번째 방문         영수증     금요일  \n",
       "2  예약 없이 이용, 대기 시간 바로 입장, 데이트, 연인·배우자 2024-05-28  1번째 방문         영수증     화요일  \n",
       "3                                 NaN 2024-05-25  1번째 방문         영수증     토요일  \n",
       "4   예약 없이 이용, 대기 시간 10분 이내, 일상, 친척·형제 2024-05-23  1번째 방문        결제내역     목요일  "
      ]
     },
     "execution_count": 28,
     "metadata": {},
     "output_type": "execute_result"
    }
   ],
   "source": [
    "data[\"weekday\"] = data[\"date\"].str[-3:]\n",
    "data[\"date\"] = pd.to_datetime(data[\"date\"].str[:-4], format=\"%Y년 %m월 %d일\")\n",
    "\n",
    "data.head(5)"
   ]
  },
  {
   "cell_type": "markdown",
   "metadata": {},
   "source": [
    "## 3. `n_visit`\n",
    "\n",
    "* 재방문 수이기 때문에 int로 변환\n",
    "* 똑같은 날짜에 방문했는데도 `n_visit`만 다르고 내용이 똑같다는 것을 확인. \n",
    "* `n_visit` 변수를 지우고 중복 제거를 다시했다. "
   ]
  },
  {
   "cell_type": "code",
   "execution_count": 29,
   "metadata": {},
   "outputs": [
    {
     "data": {
      "text/plain": [
       "n_visit\n",
       "1    455\n",
       "2     23\n",
       "5      1\n",
       "4      1\n",
       "3      1\n",
       "Name: count, dtype: int64"
      ]
     },
     "execution_count": 29,
     "metadata": {},
     "output_type": "execute_result"
    }
   ],
   "source": [
    "data[\"n_visit\"] = data[\"n_visit\"].str[0].astype(int)\n",
    "data[\"n_visit\"].value_counts()"
   ]
  },
  {
   "cell_type": "code",
   "execution_count": 30,
   "metadata": {},
   "outputs": [
    {
     "name": "stdout",
     "output_type": "stream",
     "text": [
      "(30, 7)\n"
     ]
    },
    {
     "data": {
      "text/html": [
       "<div>\n",
       "<style scoped>\n",
       "    .dataframe tbody tr th:only-of-type {\n",
       "        vertical-align: middle;\n",
       "    }\n",
       "\n",
       "    .dataframe tbody tr th {\n",
       "        vertical-align: top;\n",
       "    }\n",
       "\n",
       "    .dataframe thead th {\n",
       "        text-align: right;\n",
       "    }\n",
       "</style>\n",
       "<table border=\"1\" class=\"dataframe\">\n",
       "  <thead>\n",
       "    <tr style=\"text-align: right;\">\n",
       "      <th></th>\n",
       "      <th>reviewer</th>\n",
       "      <th>review</th>\n",
       "      <th>date</th>\n",
       "      <th>n_visit</th>\n",
       "    </tr>\n",
       "  </thead>\n",
       "  <tbody>\n",
       "    <tr>\n",
       "      <th>124</th>\n",
       "      <td>AtoZer</td>\n",
       "      <td>고급진 셀렉션도 많고 뷔페로써 부족함 없는 구성 입니다 분위기나 서비스도 맘에 들었...</td>\n",
       "      <td>2023-03-05</td>\n",
       "      <td>1</td>\n",
       "    </tr>\n",
       "    <tr>\n",
       "      <th>56</th>\n",
       "      <td>AtoZer</td>\n",
       "      <td>신라호텔 더파크뷰♥️ 호텔 뷔페 중에서도 음식의 퀄리티와 맛이 단연 으뜸이라 할 수...</td>\n",
       "      <td>2023-11-10</td>\n",
       "      <td>2</td>\n",
       "    </tr>\n",
       "    <tr>\n",
       "      <th>310</th>\n",
       "      <td>ERANGMAM</td>\n",
       "      <td>특별한날 방문하기 너무 좋아요\\r\\n음식도 항상 신선하고 맛있고,\\r\\n무엇보다 직...</td>\n",
       "      <td>2022-02-05</td>\n",
       "      <td>1</td>\n",
       "    </tr>\n",
       "    <tr>\n",
       "      <th>33</th>\n",
       "      <td>ERANGMAM</td>\n",
       "      <td>애기가 스테이크 너무 잘먹었어요\\r\\n언제나 더파크뷰는 흠이없어요 친절함과 식사의 ...</td>\n",
       "      <td>2024-01-03</td>\n",
       "      <td>2</td>\n",
       "    </tr>\n",
       "    <tr>\n",
       "      <th>235</th>\n",
       "      <td>TechnoMBA</td>\n",
       "      <td>맛있어요</td>\n",
       "      <td>2022-07-01</td>\n",
       "      <td>1</td>\n",
       "    </tr>\n",
       "    <tr>\n",
       "      <th>234</th>\n",
       "      <td>TechnoMBA</td>\n",
       "      <td>신라호텔 뷔페식당 더파크뷰입니다.\\r\\n남산자락에 위치한 호텔뷔페. 정말 맛있고 직...</td>\n",
       "      <td>2022-07-01</td>\n",
       "      <td>2</td>\n",
       "    </tr>\n",
       "    <tr>\n",
       "      <th>314</th>\n",
       "      <td>big****</td>\n",
       "      <td>긋</td>\n",
       "      <td>2022-02-04</td>\n",
       "      <td>1</td>\n",
       "    </tr>\n",
       "    <tr>\n",
       "      <th>313</th>\n",
       "      <td>big****</td>\n",
       "      <td>긋</td>\n",
       "      <td>2022-02-04</td>\n",
       "      <td>2</td>\n",
       "    </tr>\n",
       "    <tr>\n",
       "      <th>312</th>\n",
       "      <td>big****</td>\n",
       "      <td>긋</td>\n",
       "      <td>2022-02-04</td>\n",
       "      <td>3</td>\n",
       "    </tr>\n",
       "    <tr>\n",
       "      <th>311</th>\n",
       "      <td>big****</td>\n",
       "      <td>긋</td>\n",
       "      <td>2022-02-04</td>\n",
       "      <td>4</td>\n",
       "    </tr>\n",
       "    <tr>\n",
       "      <th>260</th>\n",
       "      <td>jin****</td>\n",
       "      <td>굿</td>\n",
       "      <td>2022-05-15</td>\n",
       "      <td>1</td>\n",
       "    </tr>\n",
       "    <tr>\n",
       "      <th>426</th>\n",
       "      <td>jin****</td>\n",
       "      <td>발렛 이용 했는데편해요 \\r\\n애 있는집 강추</td>\n",
       "      <td>2020-12-03</td>\n",
       "      <td>1</td>\n",
       "    </tr>\n",
       "    <tr>\n",
       "      <th>483</th>\n",
       "      <td>noeulll</td>\n",
       "      <td>정말 완벽한 서비스입니다! 근데 맛이 예전만 못하네요~ 그래도 만족합니다~</td>\n",
       "      <td>2020-05-27</td>\n",
       "      <td>1</td>\n",
       "    </tr>\n",
       "    <tr>\n",
       "      <th>482</th>\n",
       "      <td>noeulll</td>\n",
       "      <td>디너만 자주 가다가 브런치 오랜만에 갓는데 예전만 못하지만...괜찮네요~</td>\n",
       "      <td>2020-06-17</td>\n",
       "      <td>2</td>\n",
       "    </tr>\n",
       "    <tr>\n",
       "      <th>193</th>\n",
       "      <td>sun****</td>\n",
       "      <td>좋아요</td>\n",
       "      <td>2022-09-17</td>\n",
       "      <td>1</td>\n",
       "    </tr>\n",
       "    <tr>\n",
       "      <th>413</th>\n",
       "      <td>sun****</td>\n",
       "      <td>좋아요</td>\n",
       "      <td>2021-02-11</td>\n",
       "      <td>1</td>\n",
       "    </tr>\n",
       "    <tr>\n",
       "      <th>64</th>\n",
       "      <td>나라나57</td>\n",
       "      <td>다음에 또갈거에요</td>\n",
       "      <td>2023-10-28</td>\n",
       "      <td>1</td>\n",
       "    </tr>\n",
       "    <tr>\n",
       "      <th>32</th>\n",
       "      <td>나라나57</td>\n",
       "      <td>너무 맛있고 분위기 좋습니다</td>\n",
       "      <td>2024-01-05</td>\n",
       "      <td>2</td>\n",
       "    </tr>\n",
       "    <tr>\n",
       "      <th>369</th>\n",
       "      <td>시에나맘</td>\n",
       "      <td>직원분들도 너무 친절하시고 음식도 맛있었어요 특히 추천에 많은 안심스테이크 너무 부...</td>\n",
       "      <td>2021-07-03</td>\n",
       "      <td>1</td>\n",
       "    </tr>\n",
       "    <tr>\n",
       "      <th>368</th>\n",
       "      <td>시에나맘</td>\n",
       "      <td>직원분들도 너무 친절하시고 음식도 맛있었어요 특히 추천에 많은 안심스테이크 너무 부...</td>\n",
       "      <td>2021-07-03</td>\n",
       "      <td>2</td>\n",
       "    </tr>\n",
       "    <tr>\n",
       "      <th>334</th>\n",
       "      <td>야옹이56</td>\n",
       "      <td>가족들과 좋은 시간 보내고 가요</td>\n",
       "      <td>2021-12-01</td>\n",
       "      <td>1</td>\n",
       "    </tr>\n",
       "    <tr>\n",
       "      <th>333</th>\n",
       "      <td>야옹이56</td>\n",
       "      <td>좋아요</td>\n",
       "      <td>2021-12-01</td>\n",
       "      <td>2</td>\n",
       "    </tr>\n",
       "    <tr>\n",
       "      <th>251</th>\n",
       "      <td>오예3337</td>\n",
       "      <td>서비스가 너무 좋아요\\r\\n굿굿!</td>\n",
       "      <td>2022-06-03</td>\n",
       "      <td>1</td>\n",
       "    </tr>\n",
       "    <tr>\n",
       "      <th>250</th>\n",
       "      <td>오예3337</td>\n",
       "      <td>넘 맛있어요 기념일에 꼭 강추</td>\n",
       "      <td>2022-06-03</td>\n",
       "      <td>2</td>\n",
       "    </tr>\n",
       "    <tr>\n",
       "      <th>50</th>\n",
       "      <td>이진욱쨩</td>\n",
       "      <td>너무친절❤️ 음식도 너무맛있어욤!!! \\r\\n역시 신라호텔 체고~~~🥹🩷</td>\n",
       "      <td>2023-11-19</td>\n",
       "      <td>1</td>\n",
       "    </tr>\n",
       "    <tr>\n",
       "      <th>7</th>\n",
       "      <td>이진욱쨩</td>\n",
       "      <td>항상 친절하시고 음식도맛있네요^^</td>\n",
       "      <td>2024-04-21</td>\n",
       "      <td>2</td>\n",
       "    </tr>\n",
       "    <tr>\n",
       "      <th>361</th>\n",
       "      <td>지융50</td>\n",
       "      <td>가족들과 방문했어요 특별한날 좋은 사람들과 함께!</td>\n",
       "      <td>2021-09-11</td>\n",
       "      <td>1</td>\n",
       "    </tr>\n",
       "    <tr>\n",
       "      <th>241</th>\n",
       "      <td>지융50</td>\n",
       "      <td>두번째 방문! 여전히 맛있고 사람은 많아요🤣</td>\n",
       "      <td>2022-06-11</td>\n",
       "      <td>2</td>\n",
       "    </tr>\n",
       "    <tr>\n",
       "      <th>283</th>\n",
       "      <td>쫑이2472</td>\n",
       "      <td>가격은 올랐지만 맛있고 친절했습니다 평일 점심에 가니 디너와 주말에 비해 사람이 붐...</td>\n",
       "      <td>2022-04-04</td>\n",
       "      <td>1</td>\n",
       "    </tr>\n",
       "    <tr>\n",
       "      <th>118</th>\n",
       "      <td>쫑이2472</td>\n",
       "      <td>아기 생일이라 가족들 룸예약해서 다녀왔는데 온라인 예약으로 성공했어요! 음식도 맛있...</td>\n",
       "      <td>2023-04-07</td>\n",
       "      <td>2</td>\n",
       "    </tr>\n",
       "  </tbody>\n",
       "</table>\n",
       "</div>"
      ],
      "text/plain": [
       "      reviewer                                             review       date  \\\n",
       "124     AtoZer  고급진 셀렉션도 많고 뷔페로써 부족함 없는 구성 입니다 분위기나 서비스도 맘에 들었... 2023-03-05   \n",
       "56      AtoZer  신라호텔 더파크뷰♥️ 호텔 뷔페 중에서도 음식의 퀄리티와 맛이 단연 으뜸이라 할 수... 2023-11-10   \n",
       "310   ERANGMAM  특별한날 방문하기 너무 좋아요\\r\\n음식도 항상 신선하고 맛있고,\\r\\n무엇보다 직... 2022-02-05   \n",
       "33    ERANGMAM  애기가 스테이크 너무 잘먹었어요\\r\\n언제나 더파크뷰는 흠이없어요 친절함과 식사의 ... 2024-01-03   \n",
       "235  TechnoMBA                                               맛있어요 2022-07-01   \n",
       "234  TechnoMBA  신라호텔 뷔페식당 더파크뷰입니다.\\r\\n남산자락에 위치한 호텔뷔페. 정말 맛있고 직... 2022-07-01   \n",
       "314    big****                                                  긋 2022-02-04   \n",
       "313    big****                                                  긋 2022-02-04   \n",
       "312    big****                                                  긋 2022-02-04   \n",
       "311    big****                                                  긋 2022-02-04   \n",
       "260    jin****                                                  굿 2022-05-15   \n",
       "426    jin****                          발렛 이용 했는데편해요 \\r\\n애 있는집 강추 2020-12-03   \n",
       "483    noeulll          정말 완벽한 서비스입니다! 근데 맛이 예전만 못하네요~ 그래도 만족합니다~ 2020-05-27   \n",
       "482    noeulll           디너만 자주 가다가 브런치 오랜만에 갓는데 예전만 못하지만...괜찮네요~ 2020-06-17   \n",
       "193    sun****                                                좋아요 2022-09-17   \n",
       "413    sun****                                                좋아요 2021-02-11   \n",
       "64       나라나57                                          다음에 또갈거에요 2023-10-28   \n",
       "32       나라나57                                    너무 맛있고 분위기 좋습니다 2024-01-05   \n",
       "369       시에나맘  직원분들도 너무 친절하시고 음식도 맛있었어요 특히 추천에 많은 안심스테이크 너무 부... 2021-07-03   \n",
       "368       시에나맘  직원분들도 너무 친절하시고 음식도 맛있었어요 특히 추천에 많은 안심스테이크 너무 부... 2021-07-03   \n",
       "334      야옹이56                                  가족들과 좋은 시간 보내고 가요 2021-12-01   \n",
       "333      야옹이56                                                좋아요 2021-12-01   \n",
       "251     오예3337                                 서비스가 너무 좋아요\\r\\n굿굿! 2022-06-03   \n",
       "250     오예3337                                   넘 맛있어요 기념일에 꼭 강추 2022-06-03   \n",
       "50        이진욱쨩           너무친절❤️ 음식도 너무맛있어욤!!! \\r\\n역시 신라호텔 체고~~~🥹🩷 2023-11-19   \n",
       "7         이진욱쨩                                 항상 친절하시고 음식도맛있네요^^ 2024-04-21   \n",
       "361       지융50                        가족들과 방문했어요 특별한날 좋은 사람들과 함께! 2021-09-11   \n",
       "241       지융50                           두번째 방문! 여전히 맛있고 사람은 많아요🤣 2022-06-11   \n",
       "283     쫑이2472  가격은 올랐지만 맛있고 친절했습니다 평일 점심에 가니 디너와 주말에 비해 사람이 붐... 2022-04-04   \n",
       "118     쫑이2472  아기 생일이라 가족들 룸예약해서 다녀왔는데 온라인 예약으로 성공했어요! 음식도 맛있... 2023-04-07   \n",
       "\n",
       "     n_visit  \n",
       "124        1  \n",
       "56         2  \n",
       "310        1  \n",
       "33         2  \n",
       "235        1  \n",
       "234        2  \n",
       "314        1  \n",
       "313        2  \n",
       "312        3  \n",
       "311        4  \n",
       "260        1  \n",
       "426        1  \n",
       "483        1  \n",
       "482        2  \n",
       "193        1  \n",
       "413        1  \n",
       "64         1  \n",
       "32         2  \n",
       "369        1  \n",
       "368        2  \n",
       "334        1  \n",
       "333        2  \n",
       "251        1  \n",
       "250        2  \n",
       "50         1  \n",
       "7          2  \n",
       "361        1  \n",
       "241        2  \n",
       "283        1  \n",
       "118        2  "
      ]
     },
     "execution_count": 30,
     "metadata": {},
     "output_type": "execute_result"
    }
   ],
   "source": [
    "revisitor_data = data[\"reviewer\"].value_counts()\n",
    "revisitor = revisitor_data[revisitor_data > 1].index\n",
    "revisited_data = data.loc[data[\"reviewer\"].isin(revisitor),:].sort_values(by=[\"reviewer\",\"n_visit\"])\n",
    "print(revisited_data.shape)\n",
    "revisited_data[[\"reviewer\",\"review\",\"date\",\"n_visit\"]]"
   ]
  },
  {
   "cell_type": "code",
   "execution_count": 31,
   "metadata": {},
   "outputs": [
    {
     "name": "stdout",
     "output_type": "stream",
     "text": [
      "BEFORE: (481, 6)\n",
      "AFTER: (477, 6)\n"
     ]
    }
   ],
   "source": [
    "# 열 삭제 후 데이터 중복 제거\n",
    "data = data.drop(columns=[\"n_visit\"])\n",
    "print(f\"BEFORE: {data.shape}\")\n",
    "data.drop_duplicates(inplace=True)\n",
    "print(f\"AFTER: {data.shape}\")"
   ]
  },
  {
   "cell_type": "markdown",
   "metadata": {},
   "source": [
    "## 4. `auth_method`"
   ]
  },
  {
   "cell_type": "markdown",
   "metadata": {},
   "source": [
    "* 대부분이 영수증이어서 분석에서 제외함"
   ]
  },
  {
   "cell_type": "code",
   "execution_count": 32,
   "metadata": {},
   "outputs": [
    {
     "data": {
      "text/plain": [
       "auth_method\n",
       "영수증     467\n",
       "예약        6\n",
       "결제내역      4\n",
       "Name: count, dtype: int64"
      ]
     },
     "execution_count": 32,
     "metadata": {},
     "output_type": "execute_result"
    }
   ],
   "source": [
    "data[\"auth_method\"].value_counts()"
   ]
  },
  {
   "cell_type": "markdown",
   "metadata": {},
   "source": [
    "## 5. `review`"
   ]
  },
  {
   "cell_type": "markdown",
   "metadata": {},
   "source": [
    "### 1) 필요없는 문자 제거"
   ]
  },
  {
   "cell_type": "code",
   "execution_count": 33,
   "metadata": {},
   "outputs": [
    {
     "data": {
      "text/html": [
       "<div>\n",
       "<style scoped>\n",
       "    .dataframe tbody tr th:only-of-type {\n",
       "        vertical-align: middle;\n",
       "    }\n",
       "\n",
       "    .dataframe tbody tr th {\n",
       "        vertical-align: top;\n",
       "    }\n",
       "\n",
       "    .dataframe thead th {\n",
       "        text-align: right;\n",
       "    }\n",
       "</style>\n",
       "<table border=\"1\" class=\"dataframe\">\n",
       "  <thead>\n",
       "    <tr style=\"text-align: right;\">\n",
       "      <th></th>\n",
       "      <th>reviewer</th>\n",
       "      <th>review</th>\n",
       "      <th>additional_info</th>\n",
       "      <th>date</th>\n",
       "      <th>auth_method</th>\n",
       "      <th>weekday</th>\n",
       "    </tr>\n",
       "  </thead>\n",
       "  <tbody>\n",
       "    <tr>\n",
       "      <th>0</th>\n",
       "      <td>shooooooo</td>\n",
       "      <td>종류도 알차게 많고 다 맛있어요</td>\n",
       "      <td>예약 후 이용, 대기 시간 바로 입장, 데이트, 연인·배우자</td>\n",
       "      <td>2024-06-07</td>\n",
       "      <td>영수증</td>\n",
       "      <td>금요일</td>\n",
       "    </tr>\n",
       "    <tr>\n",
       "      <th>1</th>\n",
       "      <td>gudrmfl2</td>\n",
       "      <td>맛나요</td>\n",
       "      <td>예약 후 이용, 대기 시간 10분 이내, 데이트, 연인·배우자</td>\n",
       "      <td>2024-06-07</td>\n",
       "      <td>영수증</td>\n",
       "      <td>금요일</td>\n",
       "    </tr>\n",
       "    <tr>\n",
       "      <th>2</th>\n",
       "      <td>코코리383</td>\n",
       "      <td>맛있어요</td>\n",
       "      <td>예약 없이 이용, 대기 시간 바로 입장, 데이트, 연인·배우자</td>\n",
       "      <td>2024-05-28</td>\n",
       "      <td>영수증</td>\n",
       "      <td>화요일</td>\n",
       "    </tr>\n",
       "    <tr>\n",
       "      <th>3</th>\n",
       "      <td>vivajin</td>\n",
       "      <td>좋아요</td>\n",
       "      <td>NaN</td>\n",
       "      <td>2024-05-25</td>\n",
       "      <td>영수증</td>\n",
       "      <td>토요일</td>\n",
       "    </tr>\n",
       "    <tr>\n",
       "      <th>4</th>\n",
       "      <td>쥴리08</td>\n",
       "      <td>커피랑 브런치크림파스타 먹었어요 오늘따라 파스타가 불어서나왔더라구요 역시 신라 커피...</td>\n",
       "      <td>예약 없이 이용, 대기 시간 10분 이내, 일상, 친척·형제</td>\n",
       "      <td>2024-05-23</td>\n",
       "      <td>결제내역</td>\n",
       "      <td>목요일</td>\n",
       "    </tr>\n",
       "  </tbody>\n",
       "</table>\n",
       "</div>"
      ],
      "text/plain": [
       "    reviewer                                             review  \\\n",
       "0  shooooooo                                  종류도 알차게 많고 다 맛있어요   \n",
       "1   gudrmfl2                                                맛나요   \n",
       "2     코코리383                                               맛있어요   \n",
       "3    vivajin                                                좋아요   \n",
       "4       쥴리08  커피랑 브런치크림파스타 먹었어요 오늘따라 파스타가 불어서나왔더라구요 역시 신라 커피...   \n",
       "\n",
       "                      additional_info       date auth_method weekday  \n",
       "0   예약 후 이용, 대기 시간 바로 입장, 데이트, 연인·배우자 2024-06-07         영수증     금요일  \n",
       "1  예약 후 이용, 대기 시간 10분 이내, 데이트, 연인·배우자 2024-06-07         영수증     금요일  \n",
       "2  예약 없이 이용, 대기 시간 바로 입장, 데이트, 연인·배우자 2024-05-28         영수증     화요일  \n",
       "3                                 NaN 2024-05-25         영수증     토요일  \n",
       "4   예약 없이 이용, 대기 시간 10분 이내, 일상, 친척·형제 2024-05-23        결제내역     목요일  "
      ]
     },
     "execution_count": 33,
     "metadata": {},
     "output_type": "execute_result"
    }
   ],
   "source": [
    "# 필요없는 문자 제거\n",
    "data[\"review\"] = data[\"review\"].str.replace(r\"\\r\\n\", \" \", regex=True)\n",
    "data[\"review\"] = data[\"review\"].str.replace(r\"[^가-힣a-zA-Z0-9 ]\", \"\", regex=True)\n",
    "data.head(5)"
   ]
  },
  {
   "cell_type": "code",
   "execution_count": 34,
   "metadata": {},
   "outputs": [
    {
     "name": "stdout",
     "output_type": "stream",
     "text": [
      "BEFORE: (477, 6)\n",
      "AFTER: (464, 6)\n"
     ]
    }
   ],
   "source": [
    "# 리뷰가 없는 데이터 결측 처리\n",
    "data[\"review\"] = data[\"review\"].replace(\"\", None)\n",
    "\n",
    "# 결측 데이터 제거 \n",
    "print(f\"BEFORE: {data.shape}\")\n",
    "data.dropna(subset=[\"review\"], inplace=True)\n",
    "print(f\"AFTER: {data.shape}\")"
   ]
  },
  {
   "cell_type": "markdown",
   "metadata": {},
   "source": [
    "### 2) Pyhanspell - 맞춤법 검사기\n",
    "\n",
    "* 리뷰의 경우에는 맞춤법 파괴가 일어나는 경우가 많이 없는 것으로 보임\n",
    "* 맞춤법 검사기 필요성\n",
    "    - 외래어 표기 차이(ex. \"뷔페\", \"부페\")\n",
    "    - 띄어쓰기 오류\n",
    "\n",
    "* Pyhanspell 사용 후기\n",
    "    - 띄어쓰기 잘함\n",
    "    - 신조어의 경우 의미를 잃어버림(존맛 -> 존 만)\n",
    "\n",
    "* 결론\n",
    "    - 신조어의 의미를 잃어버린다는 것이 큰 오류라고 생각해서 사용하지 않음"
   ]
  },
  {
   "cell_type": "code",
   "execution_count": 84,
   "metadata": {},
   "outputs": [
    {
     "name": "stdout",
     "output_type": "stream",
     "text": [
      "BEFORE: 난 지류상품권신공으로 12만원에 와서 맛나게먹긴함 친절 신선 존맛 그잡채..\n",
      "AFTER : 난 지류상품권 신공으로 12만 원에 와서 맛나게 먹긴 함 친절 신선 존 만 그 잡채..\n",
      "==================================================\n",
      "BEFORE: 마시써용! 근데 제주보단 덜한듯 ㅠㅠ! 제주는 전복도 있는뎅!\n",
      "AFTER : 마시 써요! 근데 제주보단 덜한 듯 ㅠㅠ! 제주는 전복도 있는데!\n",
      "==================================================\n",
      "BEFORE: 디너에 서빙되는 스프 존맛탱\n",
      "AFTER : 디너에 서빙되는 수프 존맛탱\n",
      "==================================================\n",
      "BEFORE: 그릇이 너무 뜨거워서 잡다가 앗 뜨거하고 놓쳤는데 바로 앞 직원분 무표정으로 밑에 잡으세요. 딱 한마디 하더라고요.\n",
      "AFTER : 그릇이 너무 뜨거워서 잡다가 앗 뜨거워하고 놓쳤는데 바로 앞 직원분 무표정으로 밑에 잡으세요. 딱 한마디 하더라고요.\n",
      "==================================================\n",
      "BEFORE: 오렌지쥬스가 넘~나 맛있어서 6잔이나 마셨다지요ㅎ\n",
      "AFTER : 오렌지주스가 너~나 맛있어서 6잔이나 마셨다지요ㅎ\n",
      "==================================================\n"
     ]
    }
   ],
   "source": [
    "# 교정\n",
    "# from hanspell import spell_checker\n",
    "\n",
    "# requestURL = \"https://m.search.naver.com/p/csearch/ocontent/util/SpellerProxy?passportKey=de9f0d2fc72d5cf092ceb0dceb939549febfd4f8&_callback=jQuery1124019186862435357321_1719966620077&q=%EB%A7%9E%EC%B6%A4%EB%B2%95+%EA%B2%80%EC%82%AC%EB%A5%BC+%EC%9B%90%ED%95%98%EB%8A%94+%EB%8B%A8%EC%96%B4%EB%82%98+%EB%AC%B8%EC%9E%A5%EC%9D%84+%EC%9E%85%EB%A0%A5%ED%95%B4+%EC%A3%BC%EC%84%B8%EC%9A%94.&where=nexearch&color_blindness=0&_=1719966620078\"\n",
    "\n",
    "# samples = [\n",
    "#     \"난 지류상품권신공으로 12만원에 와서 맛나게먹긴함 친절 신선 존맛 그잡채..\",\n",
    "#     \"마시써용! 근데 제주보단 덜한듯 ㅠㅠ! 제주는 전복도 있는뎅!\",\n",
    "#     \"디너에 서빙되는 스프 존맛탱\",\n",
    "#     \"그릇이 너무 뜨거워서 잡다가 앗 뜨거하고 놓쳤는데 바로 앞 직원분 무표정으로 \"\"밑에 잡으세요.\"\" 딱 한마디 하더라고요.\",\n",
    "#     \"오렌지쥬스가 넘~나 맛있어서 6잔이나 마셨다지요ㅎ\"\n",
    "# ]\n",
    "\n",
    "# for review in samples:\n",
    "#     result = spell_checker.check(review, requestURL)\n",
    "#     print(f\"BEFORE: {result.original}\")\n",
    "#     print(f\"AFTER : {result.checked}\")\n",
    "#     print(\"=\"*50)"
   ]
  },
  {
   "cell_type": "markdown",
   "metadata": {},
   "source": [
    "### 3) Spacing - 띄어쓰기 교정"
   ]
  },
  {
   "cell_type": "markdown",
   "metadata": {},
   "source": [
    "* 띄어쓰기 교정에는 pykospacing, soyspacing 두 가지가 있어 비교한 후 사용했다. \n",
    "* 비교 결과\n",
    "    - 실행 시간 효율성: pykospacing(11.45 sec) < soyspacing(0.32 sec), 데이터셋 기준\n",
    "    - 띄어쓰기 효과: pykospacing < soyspacing → Pykospacing이 어미 부분에서 약함\n",
    "* 결론\n",
    "    - 실행 시간도 빠르고 띄어쓰기 효과도 비교적 좋은 soyspacing을 선택함"
   ]
  },
  {
   "cell_type": "code",
   "execution_count": 37,
   "metadata": {},
   "outputs": [
    {
     "name": "stdout",
     "output_type": "stream",
     "text": [
      "Execution time: 11.45 seconds\n"
     ]
    }
   ],
   "source": [
    "from pykospacing import Spacing\n",
    "import time \n",
    "\n",
    "spacing = Spacing()\n",
    "\n",
    "start_time = time.time()\n",
    "pykospacing_test = data[\"review\"].apply(lambda x: spacing(x))\n",
    "end_time = time.time()\n",
    "print(f\"Execution time: {end_time - start_time:.2f} seconds\")"
   ]
  },
  {
   "cell_type": "code",
   "execution_count": 35,
   "metadata": {},
   "outputs": [
    {
     "name": "stdout",
     "output_type": "stream",
     "text": [
      "Execution time: 0.32 seconds\n"
     ]
    }
   ],
   "source": [
    "from soyspacing.countbase import CountSpace\n",
    "import time \n",
    "\n",
    "model = CountSpace()\n",
    "model.load_model(\"./data/space-correct.model\", json_format=False)\n",
    "\n",
    "start_time = time.time()\n",
    "soyspacing_test = data[\"review\"].apply(lambda x: model.correct(doc=x)[0])\n",
    "end_time = time.time()\n",
    "print(f\"Execution time: {end_time - start_time:.2f} seconds\")"
   ]
  },
  {
   "cell_type": "code",
   "execution_count": 38,
   "metadata": {},
   "outputs": [],
   "source": [
    "# 비교 데이터프레임 저장\n",
    "compare_spacing = pd.concat([pykospacing_test, soyspacing_test], axis=1)\n",
    "compare_spacing.columns = [\"pykospacing\", \"soyspacing\"]\n",
    "compare_spacing.to_csv(\"./data/compare_spacing.csv\", index=False, encoding=\"CP949\")"
   ]
  },
  {
   "cell_type": "code",
   "execution_count": 90,
   "metadata": {},
   "outputs": [
    {
     "name": "stdout",
     "output_type": "stream",
     "text": [
      "Pykospacing: 난 지 류 상품권 신공으로 12만원에 와서 맛나게 먹긴 함 친절 신선 존 맛 그 잡채..\n",
      "Soyspacing : 난 지류상품권신공으로 12만원에 와서 맛나게먹긴함 친절 신선 존맛 그잡채..\n",
      "==================================================\n",
      "Pykospacing: 마시써 용! 근데 제주보단 덜한 듯 ㅠㅠ! 제주는 전복도 있는 뎅!\n",
      "Soyspacing : 마시써용! 근데 제주보단 덜한듯 ㅠㅠ! 제주는 전복도 있는뎅!\n",
      "==================================================\n",
      "Pykospacing: 디너에 서빙되는 스프 존 맛탱\n",
      "Soyspacing : 디너에 서빙되는 스프 존맛탱\n",
      "==================================================\n",
      "Pykospacing: 커피랑 브런치. 크림 파스타 먹었어요 오늘 따라 파스타가 불어서 나왔더라구 요 역시 신라 커피는 맛있어 용\n",
      "Soyspacing : 커피랑 브런치.크림파스타 먹었어요 오늘따라 파스타가 불어서나왔더라구요 역시 신라 커피는 맛있어용\n",
      "==================================================\n",
      "Pykospacing: 친절함도 최고 엿 음요~\n",
      "Soyspacing : 친절함도 최고 엿음요~\n",
      "==================================================\n"
     ]
    }
   ],
   "source": [
    "# 띄어쓰기 효과 요약\n",
    "samples = [\n",
    "    \"난 지류상품권신공으로 12만원에 와서 맛나게먹긴함 친절 신선 존맛 그잡채..\",\n",
    "    \"마시써용! 근데 제주보단 덜한듯 ㅠㅠ! 제주는 전복도 있는뎅!\",\n",
    "    \"디너에 서빙되는 스프 존맛탱\",\n",
    "    \"커피랑 브런치.크림파스타 먹었어요 오늘따라 파스타가 불어서나왔더라구요 역시 신라 커피는 맛있어용\",\n",
    "    \"친절함도 최고 엿음요~\"\n",
    "]\n",
    "\n",
    "for review in samples:\n",
    "    pyko = spacing(review)\n",
    "    soy = model.correct(review)[0]\n",
    "    print(f\"Pykospacing: {pyko}\")\n",
    "    print(f\"Soyspacing : {soy}\")\n",
    "    print(\"=\"*50)"
   ]
  },
  {
   "cell_type": "code",
   "execution_count": 39,
   "metadata": {},
   "outputs": [],
   "source": [
    "data[\"review\"] = soyspacing_test"
   ]
  },
  {
   "cell_type": "markdown",
   "metadata": {},
   "source": [
    "### 4) 길이 탐색 - 이상치 제거"
   ]
  },
  {
   "cell_type": "code",
   "execution_count": 41,
   "metadata": {},
   "outputs": [
    {
     "data": {
      "text/plain": [
       "count    464.000000\n",
       "mean      45.851293\n",
       "std       69.642139\n",
       "min        1.000000\n",
       "25%        6.000000\n",
       "50%       19.000000\n",
       "75%       53.000000\n",
       "max      391.000000\n",
       "Name: review_len, dtype: float64"
      ]
     },
     "execution_count": 41,
     "metadata": {},
     "output_type": "execute_result"
    }
   ],
   "source": [
    "data[\"review_len\"] = data[\"review\"].str.len()\n",
    "data[\"review_len\"].describe()"
   ]
  },
  {
   "cell_type": "code",
   "execution_count": 42,
   "metadata": {},
   "outputs": [
    {
     "data": {
      "image/png": "[encoded data removed]",
      "text/plain": [
       "<Figure size 1000x300 with 2 Axes>"
      ]
     },
     "metadata": {},
     "output_type": "display_data"
    }
   ],
   "source": [
    "# Box Plot and Histogram\n",
    "fig, ax = plt.subplots(1, 2, figsize=(10,3))\n",
    "data[\"review_len\"].plot.box(ax=ax[0])\n",
    "data[\"review_len\"].plot.hist(bins=50, ax=ax[1])\n",
    "\n",
    "# title 설정\n",
    "ax[0].set(title = \"리뷰 길이 상자그림\", xticklabels=[\"Review Length\"])\n",
    "ax[1].set(title = \"리뷰 길이 히스토그램\", xlabel=\"Review Length\")\n",
    "\n",
    "plt.show()"
   ]
  },
  {
   "cell_type": "code",
   "execution_count": 43,
   "metadata": {},
   "outputs": [
    {
     "name": "stdout",
     "output_type": "stream",
     "text": [
      "Q1: 6.0, Q3: 53.0, IQR=Q3-Q1=47.0\n",
      "LOWER: -64.5, UPPER: 123.5\n"
     ]
    }
   ],
   "source": [
    "q1, q3 = data[\"review_len\"].quantile([0.25, 0.75])\n",
    "iqr = q3 - q1\n",
    "\n",
    "lower = q1 - iqr * 1.5\n",
    "upper = q3 + iqr * 1.5\n",
    "\n",
    "print(f\"Q1: {q1}, Q3: {q3}, IQR=Q3-Q1={iqr}\")\n",
    "print(f\"LOWER: {lower}, UPPER: {upper}\")"
   ]
  },
  {
   "cell_type": "code",
   "execution_count": 44,
   "metadata": {},
   "outputs": [
    {
     "data": {
      "text/plain": [
       "review\n",
       "너무맛있어요    1\n",
       "굿 테이스팅    1\n",
       "음식맛있네요    1\n",
       "뷰가 멋져요    1\n",
       "좋아하는 곳    1\n",
       "잘먹고갑니다    1\n",
       "잘쉬다갑니다    1\n",
       "최고였습니다    1\n",
       "Name: count, dtype: int64"
      ]
     },
     "execution_count": 44,
     "metadata": {},
     "output_type": "execute_result"
    }
   ],
   "source": [
    "# 댓글의 다양성 확인 : 6부터 다양한 의견이 생기기 시작\n",
    "data.loc[data[\"review_len\"] == 6,\"review\"].value_counts()"
   ]
  },
  {
   "cell_type": "code",
   "execution_count": 45,
   "metadata": {},
   "outputs": [
    {
     "data": {
      "text/html": [
       "<div>\n",
       "<style scoped>\n",
       "    .dataframe tbody tr th:only-of-type {\n",
       "        vertical-align: middle;\n",
       "    }\n",
       "\n",
       "    .dataframe tbody tr th {\n",
       "        vertical-align: top;\n",
       "    }\n",
       "\n",
       "    .dataframe thead th {\n",
       "        text-align: right;\n",
       "    }\n",
       "</style>\n",
       "<table border=\"1\" class=\"dataframe\">\n",
       "  <thead>\n",
       "    <tr style=\"text-align: right;\">\n",
       "      <th></th>\n",
       "      <th>reviewer</th>\n",
       "      <th>review</th>\n",
       "      <th>additional_info</th>\n",
       "      <th>date</th>\n",
       "      <th>auth_method</th>\n",
       "      <th>weekday</th>\n",
       "      <th>review_len</th>\n",
       "    </tr>\n",
       "  </thead>\n",
       "  <tbody>\n",
       "    <tr>\n",
       "      <th>0</th>\n",
       "      <td>shooooooo</td>\n",
       "      <td>종류도 알차게 많고 다 맛있어요</td>\n",
       "      <td>예약 후 이용, 대기 시간 바로 입장, 데이트, 연인·배우자</td>\n",
       "      <td>2024-06-07</td>\n",
       "      <td>영수증</td>\n",
       "      <td>금요일</td>\n",
       "      <td>17</td>\n",
       "    </tr>\n",
       "    <tr>\n",
       "      <th>4</th>\n",
       "      <td>쥴리08</td>\n",
       "      <td>커피랑 브런치크림파스타 먹었어요 오늘따라 파스타가 불어서나왔더라구요 역시 신라 커피...</td>\n",
       "      <td>예약 없이 이용, 대기 시간 10분 이내, 일상, 친척·형제</td>\n",
       "      <td>2024-05-23</td>\n",
       "      <td>결제내역</td>\n",
       "      <td>목요일</td>\n",
       "      <td>52</td>\n",
       "    </tr>\n",
       "    <tr>\n",
       "      <th>5</th>\n",
       "      <td>illiiilillil</td>\n",
       "      <td>직원분들 너무 친절하시고 음식맛은 대한민국 호텔부페 넘버원인데 말해뭐해 입니다 조금...</td>\n",
       "      <td>예약 후 이용, 대기 시간 바로 입장, 데이트, 연인·배우자</td>\n",
       "      <td>2024-05-19</td>\n",
       "      <td>영수증</td>\n",
       "      <td>일요일</td>\n",
       "      <td>95</td>\n",
       "    </tr>\n",
       "    <tr>\n",
       "      <th>6</th>\n",
       "      <td>DEAN KIL</td>\n",
       "      <td>비싸지만 좋은곳</td>\n",
       "      <td>예약 후 이용, 대기 시간 바로 입장, 친목, 지인·동료</td>\n",
       "      <td>2024-05-04</td>\n",
       "      <td>영수증</td>\n",
       "      <td>토요일</td>\n",
       "      <td>8</td>\n",
       "    </tr>\n",
       "    <tr>\n",
       "      <th>7</th>\n",
       "      <td>이진욱쨩</td>\n",
       "      <td>항상 친절하시고 음식도맛있네요</td>\n",
       "      <td>예약 후 이용, 대기 시간 바로 입장, 데이트, 연인·배우자</td>\n",
       "      <td>2024-04-21</td>\n",
       "      <td>영수증</td>\n",
       "      <td>일요일</td>\n",
       "      <td>16</td>\n",
       "    </tr>\n",
       "  </tbody>\n",
       "</table>\n",
       "</div>"
      ],
      "text/plain": [
       "       reviewer                                             review  \\\n",
       "0     shooooooo                                  종류도 알차게 많고 다 맛있어요   \n",
       "4          쥴리08  커피랑 브런치크림파스타 먹었어요 오늘따라 파스타가 불어서나왔더라구요 역시 신라 커피...   \n",
       "5  illiiilillil  직원분들 너무 친절하시고 음식맛은 대한민국 호텔부페 넘버원인데 말해뭐해 입니다 조금...   \n",
       "6      DEAN KIL                                           비싸지만 좋은곳   \n",
       "7          이진욱쨩                                   항상 친절하시고 음식도맛있네요   \n",
       "\n",
       "                     additional_info       date auth_method weekday  \\\n",
       "0  예약 후 이용, 대기 시간 바로 입장, 데이트, 연인·배우자 2024-06-07         영수증     금요일   \n",
       "4  예약 없이 이용, 대기 시간 10분 이내, 일상, 친척·형제 2024-05-23        결제내역     목요일   \n",
       "5  예약 후 이용, 대기 시간 바로 입장, 데이트, 연인·배우자 2024-05-19         영수증     일요일   \n",
       "6    예약 후 이용, 대기 시간 바로 입장, 친목, 지인·동료 2024-05-04         영수증     토요일   \n",
       "7  예약 후 이용, 대기 시간 바로 입장, 데이트, 연인·배우자 2024-04-21         영수증     일요일   \n",
       "\n",
       "   review_len  \n",
       "0          17  \n",
       "4          52  \n",
       "5          95  \n",
       "6           8  \n",
       "7          16  "
      ]
     },
     "execution_count": 45,
     "metadata": {},
     "output_type": "execute_result"
    }
   ],
   "source": [
    "lower = 6\n",
    "upper = 123\n",
    "\n",
    "data = data[(data[\"review_len\"] >= 6) & (data[\"review_len\"] <= 123)]\n",
    "data.head(5)"
   ]
  },
  {
   "cell_type": "markdown",
   "metadata": {},
   "source": [
    "## ⭐️ 전처리 데이터 저장"
   ]
  },
  {
   "cell_type": "code",
   "execution_count": 46,
   "metadata": {},
   "outputs": [
    {
     "data": {
      "text/html": [
       "<div>\n",
       "<style scoped>\n",
       "    .dataframe tbody tr th:only-of-type {\n",
       "        vertical-align: middle;\n",
       "    }\n",
       "\n",
       "    .dataframe tbody tr th {\n",
       "        vertical-align: top;\n",
       "    }\n",
       "\n",
       "    .dataframe thead th {\n",
       "        text-align: right;\n",
       "    }\n",
       "</style>\n",
       "<table border=\"1\" class=\"dataframe\">\n",
       "  <thead>\n",
       "    <tr style=\"text-align: right;\">\n",
       "      <th></th>\n",
       "      <th>reviewer</th>\n",
       "      <th>review</th>\n",
       "      <th>date</th>\n",
       "      <th>weekday</th>\n",
       "    </tr>\n",
       "  </thead>\n",
       "  <tbody>\n",
       "    <tr>\n",
       "      <th>0</th>\n",
       "      <td>shooooooo</td>\n",
       "      <td>종류도 알차게 많고 다 맛있어요</td>\n",
       "      <td>2024-06-07</td>\n",
       "      <td>금요일</td>\n",
       "    </tr>\n",
       "    <tr>\n",
       "      <th>4</th>\n",
       "      <td>쥴리08</td>\n",
       "      <td>커피랑 브런치크림파스타 먹었어요 오늘따라 파스타가 불어서나왔더라구요 역시 신라 커피...</td>\n",
       "      <td>2024-05-23</td>\n",
       "      <td>목요일</td>\n",
       "    </tr>\n",
       "    <tr>\n",
       "      <th>5</th>\n",
       "      <td>illiiilillil</td>\n",
       "      <td>직원분들 너무 친절하시고 음식맛은 대한민국 호텔부페 넘버원인데 말해뭐해 입니다 조금...</td>\n",
       "      <td>2024-05-19</td>\n",
       "      <td>일요일</td>\n",
       "    </tr>\n",
       "    <tr>\n",
       "      <th>6</th>\n",
       "      <td>DEAN KIL</td>\n",
       "      <td>비싸지만 좋은곳</td>\n",
       "      <td>2024-05-04</td>\n",
       "      <td>토요일</td>\n",
       "    </tr>\n",
       "    <tr>\n",
       "      <th>7</th>\n",
       "      <td>이진욱쨩</td>\n",
       "      <td>항상 친절하시고 음식도맛있네요</td>\n",
       "      <td>2024-04-21</td>\n",
       "      <td>일요일</td>\n",
       "    </tr>\n",
       "    <tr>\n",
       "      <th>...</th>\n",
       "      <td>...</td>\n",
       "      <td>...</td>\n",
       "      <td>...</td>\n",
       "      <td>...</td>\n",
       "    </tr>\n",
       "    <tr>\n",
       "      <th>498</th>\n",
       "      <td>baesa97</td>\n",
       "      <td>재료가 신선하고 서비스가 좋았어요</td>\n",
       "      <td>2019-11-21</td>\n",
       "      <td>목요일</td>\n",
       "    </tr>\n",
       "    <tr>\n",
       "      <th>499</th>\n",
       "      <td>Tim89</td>\n",
       "      <td>오붓한 시간을 보냈습니다 분위기와 편의 제공 등 모든 것이 만족스러웠습니다 다음 기...</td>\n",
       "      <td>2019-11-19</td>\n",
       "      <td>화요일</td>\n",
       "    </tr>\n",
       "    <tr>\n",
       "      <th>500</th>\n",
       "      <td>달콤한공기</td>\n",
       "      <td>예약석이라 그런지 자리도 너무 좋고 음식도 맛있었어요</td>\n",
       "      <td>2019-11-19</td>\n",
       "      <td>화요일</td>\n",
       "    </tr>\n",
       "    <tr>\n",
       "      <th>501</th>\n",
       "      <td>핵심이</td>\n",
       "      <td>맛있는 것도 너무 많고 서비스도 친절했어요 메뉴 종류가 많아서 입맛 까다로우신 부모...</td>\n",
       "      <td>2019-11-11</td>\n",
       "      <td>월요일</td>\n",
       "    </tr>\n",
       "    <tr>\n",
       "      <th>502</th>\n",
       "      <td>뿌뿌닷</td>\n",
       "      <td>최고의 서비스</td>\n",
       "      <td>2019-11-07</td>\n",
       "      <td>목요일</td>\n",
       "    </tr>\n",
       "  </tbody>\n",
       "</table>\n",
       "<p>317 rows × 4 columns</p>\n",
       "</div>"
      ],
      "text/plain": [
       "         reviewer                                             review  \\\n",
       "0       shooooooo                                  종류도 알차게 많고 다 맛있어요   \n",
       "4            쥴리08  커피랑 브런치크림파스타 먹었어요 오늘따라 파스타가 불어서나왔더라구요 역시 신라 커피...   \n",
       "5    illiiilillil  직원분들 너무 친절하시고 음식맛은 대한민국 호텔부페 넘버원인데 말해뭐해 입니다 조금...   \n",
       "6        DEAN KIL                                           비싸지만 좋은곳   \n",
       "7            이진욱쨩                                   항상 친절하시고 음식도맛있네요   \n",
       "..            ...                                                ...   \n",
       "498       baesa97                                 재료가 신선하고 서비스가 좋았어요   \n",
       "499         Tim89  오붓한 시간을 보냈습니다 분위기와 편의 제공 등 모든 것이 만족스러웠습니다 다음 기...   \n",
       "500         달콤한공기                      예약석이라 그런지 자리도 너무 좋고 음식도 맛있었어요   \n",
       "501           핵심이  맛있는 것도 너무 많고 서비스도 친절했어요 메뉴 종류가 많아서 입맛 까다로우신 부모...   \n",
       "502           뿌뿌닷                                            최고의 서비스   \n",
       "\n",
       "          date weekday  \n",
       "0   2024-06-07     금요일  \n",
       "4   2024-05-23     목요일  \n",
       "5   2024-05-19     일요일  \n",
       "6   2024-05-04     토요일  \n",
       "7   2024-04-21     일요일  \n",
       "..         ...     ...  \n",
       "498 2019-11-21     목요일  \n",
       "499 2019-11-19     화요일  \n",
       "500 2019-11-19     화요일  \n",
       "501 2019-11-11     월요일  \n",
       "502 2019-11-07     목요일  \n",
       "\n",
       "[317 rows x 4 columns]"
      ]
     },
     "execution_count": 46,
     "metadata": {},
     "output_type": "execute_result"
    }
   ],
   "source": [
    "# 분석에 이용되지 않는 열 제거 후 저장\n",
    "preprocessing_data = data.drop(columns=[\"additional_info\", \"auth_method\", \"review_len\"])\n",
    "preprocessing_data.to_csv(\"./data/naver_review_preprocessing.csv\", index=False, encoding=\"CP949\")\n",
    "preprocessing_data"
   ]
  },
  {
   "cell_type": "markdown",
   "metadata": {},
   "source": [
    "## 📋 결론"
   ]
  },
  {
   "cell_type": "markdown",
   "metadata": {},
   "source": [
    "* 데이터 탐색\n",
    "    - 정보가 너무 적어 사용하지 않음 `additional_info`, `auth_method`\n",
    "    - 아이디, 방문 날짜, n번째 방문이 잘 맞지 않아 사용하지 않음. `n_visit` \n",
    "\n",
    "* 전처리 과정\n",
    "    1. 중복 제거\n",
    "    2. `date`열을 `date`와 `weekday`로 분리(ex. 2024년 6월 7일 -> 2024-06-07, 금요일)\n",
    "    3. 필요없는 문자 제거(특수문자, 모음, 자음 등)\n",
    "    4. `review` 결측치 제거\n",
    "    5. `review` 교정\n",
    "        1) 맞춤법 검사했으나 신조어의 의미가 달라져 쓰지 않음(❌ Pyhanspell)\n",
    "        2) 두 개의 라이브러리를 비교하여 띄어쓰기 교정(Pykospacing, ✅ Soyspacing)\n",
    "    6. `review` 길이를 통해 이상치 제거\n",
    "        1) IQR를 기준으로 상한값 설정\n",
    "        2) 하한값은 의미가 다양해지는 구간을 탐색하여 사용자가 직접 설정함\n",
    "    "
   ]
  }
 ],
 "metadata": {
  "kernelspec": {
   "display_name": "langchain",
   "language": "python",
   "name": "python3"
  },
  "language_info": {
   "codemirror_mode": {
    "name": "ipython",
    "version": 3
   },
   "file_extension": ".py",
   "mimetype": "text/x-python",
   "name": "python",
   "nbconvert_exporter": "python",
   "pygments_lexer": "ipython3",
   "version": "3.10.13"
  }
 },
 "nbformat": 4,
 "nbformat_minor": 2
}
