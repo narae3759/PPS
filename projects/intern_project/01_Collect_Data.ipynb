{
 "cells": [
  {
   "cell_type": "markdown",
   "metadata": {},
   "source": [
    "# 01. Collect Data"
   ]
  },
  {
   "cell_type": "markdown",
   "metadata": {},
   "source": [
    "## Setting"
   ]
  },
  {
   "cell_type": "code",
   "execution_count": 2,
   "metadata": {},
   "outputs": [],
   "source": [
    "from selenium import webdriver\n",
    "from selenium.webdriver.chrome.options import Options\n",
    "from selenium.webdriver.common.keys import Keys\n",
    "from selenium.webdriver.common.by import By\n",
    "from selenium.webdriver.common.actions.action_builder import ActionBuilder\n",
    "from selenium.webdriver.common.actions.mouse_button import MouseButton\n",
    "from selenium.webdriver import ActionChains\n",
    "from selenium.webdriver.support.ui import WebDriverWait\n",
    "from selenium.webdriver.support import expected_conditions as EC\n",
    "import time\n",
    "import pandas as pd"
   ]
  },
  {
   "cell_type": "code",
   "execution_count": 4,
   "metadata": {},
   "outputs": [],
   "source": [
    "# url = \"https://pcmap.place.naver.com/restaurant/13166754/review/visitor\" # 리뷰 많은 곳\n",
    "\n",
    "url = \"https://pcmap.place.naver.com/restaurant/1804344332/review/visitor\" # 리뷰 적은 곳"
   ]
  },
  {
   "cell_type": "markdown",
   "metadata": {},
   "source": [
    "## 1. 순차적 개발"
   ]
  },
  {
   "cell_type": "markdown",
   "metadata": {},
   "source": [
    "### 페이지 접근"
   ]
  },
  {
   "cell_type": "code",
   "execution_count": 5,
   "metadata": {},
   "outputs": [
    {
     "data": {
      "text/plain": [
       "[<selenium.webdriver.remote.webelement.WebElement (session=\"ff761eee9aab8e6635680e0f79e522e7\", element=\"f.0E9D800305A5BFBC0AC5172F3AC7FB25.d.9057217FE6F493C2523A71326240A1EE.e.299\")>]"
      ]
     },
     "execution_count": 5,
     "metadata": {},
     "output_type": "execute_result"
    }
   ],
   "source": [
    "# 크롬창 열기\n",
    "options = Options()\n",
    "driver = webdriver.Chrome(options = options)\n",
    "\n",
    "# 창모드 전체화면으로 크기 늘리기\n",
    "driver.maximize_window()\n",
    "\n",
    "# 로딩시간: 페이지 로딩\n",
    "wait = WebDriverWait(driver, 10)\n",
    "wait.until(EC.presence_of_all_elements_located((By.TAG_NAME, 'body')))\n",
    "\n",
    "# 네이버 리뷰 주소 접속하기\n",
    "driver.get(url)\n",
    "\n",
    "# 로딩시간: 페이지 로딩\n",
    "wait = WebDriverWait(driver, 10)\n",
    "wait.until(EC.presence_of_all_elements_located((By.TAG_NAME, 'body')))"
   ]
  },
  {
   "cell_type": "code",
   "execution_count": 12,
   "metadata": {},
   "outputs": [],
   "source": [
    "driver.get(\"https://pcmap.place.naver.com/restaurant/13166754/review/visitor\")"
   ]
  },
  {
   "cell_type": "markdown",
   "metadata": {},
   "source": [
    "### ➕ 최신순으로 정렬\n",
    "\n",
    "* 추천순은 좋은 반응으로 편향될 가능성이 있다고 판단하여 최신순으로 정렬하는 과정을 추가함"
   ]
  },
  {
   "cell_type": "code",
   "execution_count": 13,
   "metadata": {},
   "outputs": [],
   "source": [
    "driver.find_elements(By.CLASS_NAME, \"zMIkw\")[-1].click()"
   ]
  },
  {
   "cell_type": "markdown",
   "metadata": {},
   "source": [
    "### 댓글 더보기\n",
    "\n",
    "* \"더 보기\" 버튼을 눌러야 다음 댓글 생성됨\n",
    "* 리뷰의 끝이 보이면 \"더 보기\" 버튼은 없어짐 ❌ 에러 발생"
   ]
  },
  {
   "cell_type": "code",
   "execution_count": 14,
   "metadata": {},
   "outputs": [],
   "source": [
    "def find_element_by_class(driver, class_name):\n",
    "    \"\"\"element를 찾지 못하면 None으로 반환하는 함수\"\"\"\n",
    "    try:\n",
    "        element = driver.find_element(By.CLASS_NAME, class_name)\n",
    "    except:\n",
    "        element = None\n",
    "    \n",
    "    return element "
   ]
  },
  {
   "cell_type": "code",
   "execution_count": 36,
   "metadata": {},
   "outputs": [],
   "source": [
    "# 반복 수를 결정하는 경우\n",
    "rep = 5 \n",
    "\n",
    "for _ in range(rep):\n",
    "    more_btn = find_element_by_class(driver, \"fvwqf\")\n",
    "    \n",
    "    # 더 보기 버튼 안보이면 break\n",
    "    if not more_btn: break\n",
    "\n",
    "    more_btn.click()\n",
    "    time.sleep(0.5)"
   ]
  },
  {
   "cell_type": "code",
   "execution_count": null,
   "metadata": {},
   "outputs": [],
   "source": [
    "# 목표 수집 댓글 수를 결정하는 경우\n",
    "n = 50\n",
    "\n",
    "while True:\n",
    "    more_btn = find_element_by_class(driver, \"fvwqf\")\n",
    "\n",
    "    # 더 보기 버튼 안보이면 break\n",
    "    if not more_btn: break\n",
    "    \n",
    "    more_btn.click()\n",
    "    time.sleep(0.5)\n",
    "\n",
    "    # 목표 리뷰 개수 도달하면 break\n",
    "    reviews = driver.find_elements(By.CLASS_NAME, \"owAeM\")\n",
    "    print(len(reviews))\n",
    "    if len(reviews) > n:\n",
    "        # print(\"목표 리뷰 개수 도달\")\n",
    "        break\n"
   ]
  },
  {
   "cell_type": "markdown",
   "metadata": {},
   "source": [
    "### 리뷰 추출하기\n",
    "* 긴 글의 경우 내용 더보기 버튼이 활성화됨"
   ]
  },
  {
   "cell_type": "code",
   "execution_count": 24,
   "metadata": {},
   "outputs": [],
   "source": [
    "reviews = driver.find_elements(By.CLASS_NAME, \"owAeM\")"
   ]
  },
  {
   "cell_type": "code",
   "execution_count": 16,
   "metadata": {},
   "outputs": [],
   "source": [
    "json_data = []\n",
    "\n",
    "for review in reviews:\n",
    "    review_json = {}\n",
    "\n",
    "    # 긴 글일 경우 내용 더보기 클릭\n",
    "    text_area = review.find_elements(By.CLASS_NAME, \"xHaT3\")\n",
    "    \n",
    "    if len(text_area) == 2:\n",
    "        text_area[0].click()\n",
    "        time.sleep(1)\n",
    "\n",
    "    # 텍스트가 없으면 수집하지 않기\n",
    "    content = review.find_element(By.CLASS_NAME, \"zPfVt\")\n",
    "    if not content.text:\n",
    "        continue\n",
    "\n",
    "    info_content = \"\"\n",
    "    if find_element_by_class(review, \"MnhVd\"):\n",
    "        additional_infos = review.find_elements(By.CLASS_NAME, \"xalSr\")\n",
    "        info_content = \", \".join([x.text for x in additional_infos])\n",
    "    \n",
    "    review_json[\"reviewer\"] = review.find_element(By.CLASS_NAME, \"P9EZi\").text\n",
    "    review_json[\"review\"] = content.text\n",
    "    review_json[\"additional_info\"] = info_content\n",
    "\n",
    "    visit_keys = [\"date\", \"n_visit\", \"auth_method\"]\n",
    "    visit_info = review.find_elements(By.CLASS_NAME, \"CKUdu\")\n",
    "    for key, info in zip(visit_keys, visit_info):\n",
    "        review_json[key] = info.text.split(\"\\n\")[-1].strip()\n",
    "\n",
    "    json_data.append(review_json)"
   ]
  },
  {
   "cell_type": "code",
   "execution_count": 17,
   "metadata": {},
   "outputs": [
    {
     "data": {
      "text/plain": [
       "[{'reviewer': 'shooooooo',\n",
       "  'review': '종류도 알차게 많고 다 맛있어요!',\n",
       "  'additional_info': '예약 후 이용, 대기 시간 바로 입장, 데이트, 연인·배우자',\n",
       "  'date': '2024년 6월 7일 금요일',\n",
       "  'n_visit': '1번째 방문',\n",
       "  'auth_method': '영수증'},\n",
       " {'reviewer': 'gudrmfl2',\n",
       "  'review': '맛나요',\n",
       "  'additional_info': '예약 후 이용, 대기 시간 10분 이내, 데이트, 연인·배우자',\n",
       "  'date': '2024년 6월 7일 금요일',\n",
       "  'n_visit': '1번째 방문',\n",
       "  'auth_method': '영수증'}]"
      ]
     },
     "execution_count": 17,
     "metadata": {},
     "output_type": "execute_result"
    }
   ],
   "source": [
    "json_data[:2]"
   ]
  },
  {
   "cell_type": "markdown",
   "metadata": {},
   "source": [
    "### 데이터 프레임 만들기"
   ]
  },
  {
   "cell_type": "code",
   "execution_count": 18,
   "metadata": {},
   "outputs": [
    {
     "data": {
      "text/html": [
       "<div>\n",
       "<style scoped>\n",
       "    .dataframe tbody tr th:only-of-type {\n",
       "        vertical-align: middle;\n",
       "    }\n",
       "\n",
       "    .dataframe tbody tr th {\n",
       "        vertical-align: top;\n",
       "    }\n",
       "\n",
       "    .dataframe thead th {\n",
       "        text-align: right;\n",
       "    }\n",
       "</style>\n",
       "<table border=\"1\" class=\"dataframe\">\n",
       "  <thead>\n",
       "    <tr style=\"text-align: right;\">\n",
       "      <th></th>\n",
       "      <th>reviewer</th>\n",
       "      <th>review</th>\n",
       "      <th>additional_info</th>\n",
       "      <th>date</th>\n",
       "      <th>n_visit</th>\n",
       "      <th>auth_method</th>\n",
       "    </tr>\n",
       "  </thead>\n",
       "  <tbody>\n",
       "    <tr>\n",
       "      <th>0</th>\n",
       "      <td>shooooooo</td>\n",
       "      <td>종류도 알차게 많고 다 맛있어요!</td>\n",
       "      <td>예약 후 이용, 대기 시간 바로 입장, 데이트, 연인·배우자</td>\n",
       "      <td>2024년 6월 7일 금요일</td>\n",
       "      <td>1번째 방문</td>\n",
       "      <td>영수증</td>\n",
       "    </tr>\n",
       "    <tr>\n",
       "      <th>1</th>\n",
       "      <td>gudrmfl2</td>\n",
       "      <td>맛나요</td>\n",
       "      <td>예약 후 이용, 대기 시간 10분 이내, 데이트, 연인·배우자</td>\n",
       "      <td>2024년 6월 7일 금요일</td>\n",
       "      <td>1번째 방문</td>\n",
       "      <td>영수증</td>\n",
       "    </tr>\n",
       "    <tr>\n",
       "      <th>2</th>\n",
       "      <td>코코리383</td>\n",
       "      <td>맛있어요</td>\n",
       "      <td>예약 없이 이용, 대기 시간 바로 입장, 데이트, 연인·배우자</td>\n",
       "      <td>2024년 5월 28일 화요일</td>\n",
       "      <td>1번째 방문</td>\n",
       "      <td>영수증</td>\n",
       "    </tr>\n",
       "    <tr>\n",
       "      <th>3</th>\n",
       "      <td>vivajin</td>\n",
       "      <td>좋아요</td>\n",
       "      <td></td>\n",
       "      <td>2024년 5월 25일 토요일</td>\n",
       "      <td>1번째 방문</td>\n",
       "      <td>영수증</td>\n",
       "    </tr>\n",
       "    <tr>\n",
       "      <th>4</th>\n",
       "      <td>illiiilillil</td>\n",
       "      <td>직원분들 너무 친절하시고 음식맛은 대한민국 호텔부페 넘버원인데 말해뭐해 입니다ㅎㅎ ...</td>\n",
       "      <td>예약 후 이용, 대기 시간 바로 입장, 데이트, 연인·배우자</td>\n",
       "      <td>2024년 5월 19일 일요일</td>\n",
       "      <td>1번째 방문</td>\n",
       "      <td>영수증</td>\n",
       "    </tr>\n",
       "  </tbody>\n",
       "</table>\n",
       "</div>"
      ],
      "text/plain": [
       "       reviewer                                             review  \\\n",
       "0     shooooooo                                 종류도 알차게 많고 다 맛있어요!   \n",
       "1      gudrmfl2                                                맛나요   \n",
       "2        코코리383                                               맛있어요   \n",
       "3       vivajin                                                좋아요   \n",
       "4  illiiilillil  직원분들 너무 친절하시고 음식맛은 대한민국 호텔부페 넘버원인데 말해뭐해 입니다ㅎㅎ ...   \n",
       "\n",
       "                      additional_info              date n_visit auth_method  \n",
       "0   예약 후 이용, 대기 시간 바로 입장, 데이트, 연인·배우자   2024년 6월 7일 금요일  1번째 방문         영수증  \n",
       "1  예약 후 이용, 대기 시간 10분 이내, 데이트, 연인·배우자   2024년 6월 7일 금요일  1번째 방문         영수증  \n",
       "2  예약 없이 이용, 대기 시간 바로 입장, 데이트, 연인·배우자  2024년 5월 28일 화요일  1번째 방문         영수증  \n",
       "3                                      2024년 5월 25일 토요일  1번째 방문         영수증  \n",
       "4   예약 후 이용, 대기 시간 바로 입장, 데이트, 연인·배우자  2024년 5월 19일 일요일  1번째 방문         영수증  "
      ]
     },
     "execution_count": 18,
     "metadata": {},
     "output_type": "execute_result"
    }
   ],
   "source": [
    "review_df = pd.json_normalize(json_data)\n",
    "review_df.head()"
   ]
  },
  {
   "cell_type": "markdown",
   "metadata": {},
   "source": [
    "### 저장"
   ]
  },
  {
   "cell_type": "code",
   "execution_count": 119,
   "metadata": {},
   "outputs": [],
   "source": [
    "# json data 저장\n",
    "import json \n",
    "\n",
    "with open(\"./data/naver_review_raw_data.json\", \"w\") as json_file:\n",
    "    json.dump(json_data, json_file, indent=4, ensure_ascii=False)"
   ]
  },
  {
   "cell_type": "code",
   "execution_count": 115,
   "metadata": {},
   "outputs": [],
   "source": [
    "# 데이터 프레임 저장\n",
    "review_df.to_csv(\"./data/naver_review_raw_data.csv\")"
   ]
  },
  {
   "cell_type": "markdown",
   "metadata": {},
   "source": [
    "## 2. 최종 코드 정리"
   ]
  },
  {
   "cell_type": "markdown",
   "metadata": {},
   "source": [
    "### 함수 모음"
   ]
  },
  {
   "cell_type": "code",
   "execution_count": 16,
   "metadata": {},
   "outputs": [],
   "source": [
    "import logging\n",
    "import time\n",
    "import json\n",
    "import pandas as pd\n",
    "from pathlib import Path, WindowsPath\n",
    "from typing import List, Literal, Optional\n",
    "from review_analyzer.selenium_tool import *\n",
    "\n",
    "from selenium import webdriver\n",
    "from selenium.webdriver.chrome.webdriver import WebDriver\n",
    "from selenium.webdriver.remote.webelement import WebElement\n",
    "from selenium.webdriver.chrome.options import Options\n",
    "from selenium.webdriver.common.by import By\n",
    "\n",
    "# Logger 설정\n",
    "logger = logging.getLogger(__name__)\n",
    "logger.setLevel(logging.DEBUG)\n",
    "\n",
    "# 터미널에 출력할 수 있게 함\n",
    "handler = logging.StreamHandler()\n",
    "formatter = logging.Formatter('%(levelname)s: %(message)s')\n",
    "handler.setFormatter(formatter)\n",
    "logger.addHandler(handler)\n",
    "\n",
    "class ReviewCrawler:\n",
    "    \"\"\"네이버 리뷰를 크롤링하는 클래스\n",
    "\n",
    "    Attributes:\n",
    "        url (str): 크롤링할 네이버 리뷰 페이지 URL\n",
    "        n_target (Optional[int]): 목표로 하는 리뷰 수집 개수. 기본값은 200.\n",
    "        sort_type (Literal[\"latest\", \"recommended\"]): 리뷰 정렬 방식(최신순, 추천순)\n",
    "        no_data (bool): 리뷰 데이터를 추가 수집할 수 있는 상태 유무. 기본값은 False\n",
    "        driver (Optional[WebDriver]): Selenium WebDriver 인스턴스. _open_chrome 메서드에 의해 생성됨\n",
    "        json_data (List[Dict[str,str]]): json 형식의 리뷰 데이터. _crawling 메서드에 의해 생성됨 \n",
    "        data (pd.DataFrame): DataFrame 형식의 리뷰 데이터. _crawling 메서드에 의해 생성됨\n",
    "    \n",
    "    Methods:\n",
    "        run(): 리뷰 크롤링 실행\n",
    "        save_data(save_path): 리뷰 데이터를 save_path에 저장\n",
    "\n",
    "    Private Methods:\n",
    "        _open_chrome(): Chrome 브라우저를 생성\n",
    "        _sort_and_scroll(): 리뷰 정렬 및 더보기 클릭\n",
    "        _crawling(reviews): 리뷰 데이터 추출 및 수집\n",
    "        _add_crawling(n_click): 리뷰 데이터 추가 수집\n",
    "    \"\"\"\n",
    "\n",
    "    def __init__(\n",
    "        self, \n",
    "        url: str, \n",
    "        n_target: Optional[int] = 200, \n",
    "        sort_type: Literal[\"latest\", \"recommended\"] = \"latest\"\n",
    "    ):\n",
    "        self.url = url \n",
    "        self.n_target = n_target\n",
    "        self.sort_type = sort_type \n",
    "        self.no_data = False\n",
    "        self.driver = None \n",
    "        self.json_data = []\n",
    "        self.data = None\n",
    "    \n",
    "\n",
    "    def _open_chrome(self) -> WebDriver:\n",
    "        \"\"\"Chrome 브라우저를 생성하는 메서드\n",
    "\n",
    "        Returns:\n",
    "            WebDriver : Selenium WebDriver 인스턴스\n",
    "        \"\"\"\n",
    "        # 크롬창 열기\n",
    "        options = Options()\n",
    "        driver = webdriver.Chrome(options = options)\n",
    "\n",
    "        # 창모드 전체화면으로 크기 늘리기\n",
    "        driver.maximize_window()\n",
    "\n",
    "        # 로딩시간: 페이지 로딩\n",
    "        loading(driver)\n",
    "\n",
    "        # 네이버 리뷰 주소 접속하기\n",
    "        driver.get(self.url)\n",
    "\n",
    "        # 로딩시간: 페이지 로딩\n",
    "        loading(driver)\n",
    "\n",
    "        return driver\n",
    "\n",
    "    def _sort_and_scroll(self) -> List[WebElement]:\n",
    "        \"\"\"리뷰 정렬 방식과 더보기를 클릭하는 메서드\n",
    "\n",
    "        Returns:\n",
    "            List[WebElement] : 리뷰에 해당하는 WebElement 객체 리스트\n",
    "        \"\"\"\n",
    "        # 최신순으로 정렬\n",
    "        if self.sort_type == \"latest\":\n",
    "            self.driver.find_elements(By.CLASS_NAME, \"zMIkw\")[-1].click()\n",
    "\n",
    "        # 목표 수집 댓글 수를 결정하는 경우\n",
    "        while True:\n",
    "            more_btn = find_element_by_class(self.driver, \"fvwqf\")\n",
    "\n",
    "            # 더 보기 버튼 안보이면 break\n",
    "            if not more_btn: \n",
    "                self.no_data = True\n",
    "                break\n",
    "            \n",
    "            more_btn.click()\n",
    "            time.sleep(0.5)\n",
    "\n",
    "            # 목표 리뷰 개수 도달하면 break\n",
    "            reviews = self.driver.find_elements(By.CLASS_NAME, \"owAeM\")\n",
    "            if len(reviews) > self.n_target:\n",
    "                # print(\"목표 리뷰 개수 도달\")\n",
    "                break\n",
    "        \n",
    "        # 전체 리뷰 추출\n",
    "        reviews = self.driver.find_elements(By.CLASS_NAME, \"owAeM\")\n",
    "        \n",
    "        return reviews\n",
    "\n",
    "    def _crawling(self, reviews: List[WebElement]) -> None:\n",
    "        \"\"\"리뷰 데이터 추출 및 수집하는 메서드\n",
    "\n",
    "        Args:\n",
    "            reviews (List[WebElement]): 리뷰에 해당하는 WebElement 객체 리스트\n",
    "        \"\"\"\n",
    "        for review in reviews:\n",
    "            review_json = {}\n",
    "\n",
    "            text_area = review.find_elements(By.CLASS_NAME, \"xHaT3\")\n",
    "            # 긴 글일 경우 내용 더보기 클릭\n",
    "            if len(text_area) == 2:\n",
    "                text_area[0].click()\n",
    "                time.sleep(1)\n",
    "\n",
    "            content = review.find_element(By.CLASS_NAME, \"zPfVt\")\n",
    "            # 텍스트가 없으면 수집하지 않기\n",
    "            if not content.text:\n",
    "                continue\n",
    "            \n",
    "            # 세부 정보 추출\n",
    "            info_content = \"\"\n",
    "            if find_element_by_class(review, \"MnhVd\"):\n",
    "                additional_infos = review.find_elements(By.CLASS_NAME, \"xalSr\")\n",
    "                info_content = \", \".join([x.text for x in additional_infos])\n",
    "            \n",
    "            # 리뷰 데이터 저장\n",
    "            review_json[\"reviewer\"] = review.find_element(By.CLASS_NAME, \"P9EZi\").text\n",
    "            review_json[\"review\"] = content.text\n",
    "            review_json[\"additional_info\"] = info_content\n",
    "\n",
    "            visit_keys = [\"date\", \"n_visit\", \"auth_method\"]\n",
    "            visit_info = review.find_elements(By.CLASS_NAME, \"CKUdu\")\n",
    "            for key, info in zip(visit_keys, visit_info):\n",
    "                review_json[key] = info.text.split(\"\\n\")[-1].strip()\n",
    "\n",
    "            # 데이터에 추가\n",
    "            self.json_data.append(review_json)\n",
    "\n",
    "    def _add_crawling(self, n_click: int) -> None:\n",
    "        \"\"\"리뷰 데이터를 추가 수집하는 메서드\n",
    "\n",
    "        Args:\n",
    "            n_click (int): 더보기 버튼 클릭 수\n",
    "        \"\"\"\n",
    "        for _ in range(n_click):\n",
    "            more_btn = find_element_by_class(self.driver, \"fvwqf\")\n",
    "\n",
    "            # 더 보기 버튼 안보이면 break\n",
    "            if not more_btn: break\n",
    "            \n",
    "            more_btn.click()\n",
    "            time.sleep(0.5)\n",
    "        \n",
    "        reviews = self.driver.find_elements(By.CLASS_NAME, \"owAeM\")[-n_click*10:]\n",
    "        self._crawling(reviews)\n",
    "\n",
    "    def run(self) -> None:\n",
    "        \"\"\"전체 리뷰 크롤링을 실행하는 함수\"\"\"\n",
    "        logger.debug(f\"==========START CRAWLING==========\")\n",
    "        logger.debug(f\"URL: {self.url}\")\n",
    "\n",
    "        self.driver = self._open_chrome()\n",
    "        reviews = self._sort_and_scroll()\n",
    "\n",
    "        logger.debug(f\"{len(reviews)}개의 리뷰를 추출합니다. >>> 텍스트인 리뷰만 수집됩니다.\")\n",
    "\n",
    "        self._crawling(reviews)\n",
    "        logger.debug(f\"수집된 리뷰는 {len(self.json_data)}개 입니다.\")\n",
    "        \n",
    "        n_add = self.n_target - len(self.json_data)\n",
    "        if self.no_data:\n",
    "            logger.debug(f\"더 이상 수집할 데이터가 없습니다.\")\n",
    "        elif n_add > 0:\n",
    "            n_click = int(n_add // 10) + 1\n",
    "            logger.debug(f\"목표 수집량을 위해 추가 수집합니다.\")\n",
    "            self._add_crawling(n_click)\n",
    "        \n",
    "        self.data = pd.json_normalize(self.json_data)\n",
    "        logger.debug(f\"최종 수집된 리뷰는 {len(self.json_data)}개 입니다.\")\n",
    "        logger.debug(f\"========== END  CRAWLING==========\")\n",
    "\n",
    "    def save_data(self, save_path: str) -> None:\n",
    "        \"\"\"리뷰 데이터를 save_path에 저장하는 메서드\n",
    "\n",
    "        Args:\n",
    "            save_path (str): 저장할 파일 경로\n",
    "        \"\"\"\n",
    "        if isinstance(save_path, WindowsPath):\n",
    "            save_path = save_path.as_posix()\n",
    "\n",
    "        if save_path[-4:] == \"json\":\n",
    "            with open(save_path, \"w\", encoding=\"utf-8\") as json_file:\n",
    "                json.dump(self.json_data, json_file, indent=4, ensure_ascii=False)\n",
    "        else:\n",
    "            self.data.to_csv(save_path, index=False, encoding=\"utf-8\")\n",
    "\n",
    "        logger.debug(f\"SUCCESS! PATH: {save_path}\")"
   ]
  },
  {
   "cell_type": "markdown",
   "metadata": {},
   "source": [
    "### 실행"
   ]
  },
  {
   "cell_type": "code",
   "execution_count": 17,
   "metadata": {},
   "outputs": [
    {
     "name": "stderr",
     "output_type": "stream",
     "text": [
      "DEBUG: ==========START CRAWLING==========\n",
      "DEBUG: URL: https://pcmap.place.naver.com/restaurant/1804344332/review/visitor\n",
      "DEBUG: 15개의 리뷰를 추출합니다. >>> 텍스트인 리뷰만 수집됩니다.\n",
      "DEBUG: 수집된 리뷰는 13개 입니다.\n",
      "DEBUG: 더 이상 수집할 데이터가 없습니다.\n",
      "DEBUG: 최종 수집된 리뷰는 13개 입니다.\n",
      "DEBUG: ========== END  CRAWLING==========\n"
     ]
    }
   ],
   "source": [
    "url = \"https://pcmap.place.naver.com/restaurant/1804344332/review/visitor\" # 리뷰 적은 곳\n",
    "# url = \"https://pcmap.place.naver.com/restaurant/13166754/review/visitor\" # 리뷰 많은 곳\n",
    "\n",
    "crawler = ReviewCrawler(url, n_target=200)\n",
    "crawler.run()"
   ]
  },
  {
   "cell_type": "code",
   "execution_count": 3,
   "metadata": {},
   "outputs": [
    {
     "name": "stderr",
     "output_type": "stream",
     "text": [
      "DEBUG: SUCCESS! PATH=data/naver_review_raw_data.json\n",
      "DEBUG: SUCCESS! PATH=data/naver_review_raw_data.csv\n"
     ]
    }
   ],
   "source": [
    "crawler.save_data(\"data/naver_review_raw_data.json\")\n",
    "crawler.save_data(\"data/naver_review_raw_data.csv\")"
   ]
  },
  {
   "cell_type": "markdown",
   "metadata": {},
   "source": [
    "### 결과"
   ]
  },
  {
   "cell_type": "code",
   "execution_count": 18,
   "metadata": {},
   "outputs": [
    {
     "data": {
      "text/plain": [
       "[{'reviewer': '쏭쏭쏭4725',\n",
       "  'review': '케이크 너무 이쁘고 만족이에요\\U0001fa77\\U0001fa77 요새 주문제작 케이크 다 가격대가 있긴하지만 좀 고민했는데 디자인이 여기만큼 확 끌리는데가 없어서 했는데... 진짜 완전 대만족입니다!! 레터링 케이크 주문제작 케이크 비싼 돈주고 해서 맛있게 먹은적 단 한번도 없는데.. 그냥 사진찍기용이였지 진\\n짜 맛까지 만족한적 한번도 없거든요.. 다 버렸는데 요기는 진짜 케이크도 존맛탱입니다\\U0001fa77 여기를 왜 이제서야 안건지 ㅠㅠㅠㅠ 다음에도 꼭 여기서 할게요\\U0001fa77',\n",
       "  'additional_info': '예약 후 이용, 대기 시간 바로 입장, 기념일, 부모님',\n",
       "  'date': '2024년 4월 26일 금요일',\n",
       "  'n_visit': '1번째 방문',\n",
       "  'auth_method': '영수증'},\n",
       " {'reviewer': 'mini131',\n",
       "  'review': '친절하게 잘 해주셨어용',\n",
       "  'additional_info': '예약 없이 이용, 대기 시간 바로 입장, 친목, 혼자',\n",
       "  'date': '2023년 12월 10일 일요일',\n",
       "  'n_visit': '1번째 방문',\n",
       "  'auth_method': '영수증'}]"
      ]
     },
     "execution_count": 18,
     "metadata": {},
     "output_type": "execute_result"
    }
   ],
   "source": [
    "crawler.json_data[:2]"
   ]
  },
  {
   "cell_type": "code",
   "execution_count": 19,
   "metadata": {},
   "outputs": [
    {
     "name": "stdout",
     "output_type": "stream",
     "text": [
      "(13, 6)\n"
     ]
    },
    {
     "data": {
      "text/html": [
       "<div>\n",
       "<style scoped>\n",
       "    .dataframe tbody tr th:only-of-type {\n",
       "        vertical-align: middle;\n",
       "    }\n",
       "\n",
       "    .dataframe tbody tr th {\n",
       "        vertical-align: top;\n",
       "    }\n",
       "\n",
       "    .dataframe thead th {\n",
       "        text-align: right;\n",
       "    }\n",
       "</style>\n",
       "<table border=\"1\" class=\"dataframe\">\n",
       "  <thead>\n",
       "    <tr style=\"text-align: right;\">\n",
       "      <th></th>\n",
       "      <th>reviewer</th>\n",
       "      <th>review</th>\n",
       "      <th>additional_info</th>\n",
       "      <th>date</th>\n",
       "      <th>n_visit</th>\n",
       "      <th>auth_method</th>\n",
       "    </tr>\n",
       "  </thead>\n",
       "  <tbody>\n",
       "    <tr>\n",
       "      <th>0</th>\n",
       "      <td>쏭쏭쏭4725</td>\n",
       "      <td>케이크 너무 이쁘고 만족이에요🩷🩷 요새 주문제작 케이크 다 가격대가 있긴하지만 좀 ...</td>\n",
       "      <td>예약 후 이용, 대기 시간 바로 입장, 기념일, 부모님</td>\n",
       "      <td>2024년 4월 26일 금요일</td>\n",
       "      <td>1번째 방문</td>\n",
       "      <td>영수증</td>\n",
       "    </tr>\n",
       "    <tr>\n",
       "      <th>1</th>\n",
       "      <td>mini131</td>\n",
       "      <td>친절하게 잘 해주셨어용</td>\n",
       "      <td>예약 없이 이용, 대기 시간 바로 입장, 친목, 혼자</td>\n",
       "      <td>2023년 12월 10일 일요일</td>\n",
       "      <td>1번째 방문</td>\n",
       "      <td>영수증</td>\n",
       "    </tr>\n",
       "    <tr>\n",
       "      <th>2</th>\n",
       "      <td>메주콩16</td>\n",
       "      <td>생신케이크로 생화케이크 주문했는데 진짜 이쁘고 엄마가 너무너무 좋아하셨습니다 하루전...</td>\n",
       "      <td></td>\n",
       "      <td>2023년 4월 27일 목요일</td>\n",
       "      <td>1번째 방문</td>\n",
       "      <td>결제내역</td>\n",
       "    </tr>\n",
       "    <tr>\n",
       "      <th>3</th>\n",
       "      <td>나0829</td>\n",
       "      <td>맛있어요</td>\n",
       "      <td></td>\n",
       "      <td>2023년 2월 23일 목요일</td>\n",
       "      <td>1번째 방문</td>\n",
       "      <td>영수증</td>\n",
       "    </tr>\n",
       "    <tr>\n",
       "      <th>4</th>\n",
       "      <td>ony****</td>\n",
       "      <td>안녕하세요, 사장님! 리뷰를 남긴다는게 깜빡해서 지금에야 남기네요 ㅠㅠ 급하게 케이...</td>\n",
       "      <td></td>\n",
       "      <td>2022년 12월 18일 일요일</td>\n",
       "      <td>1번째 방문</td>\n",
       "      <td>영수증</td>\n",
       "    </tr>\n",
       "  </tbody>\n",
       "</table>\n",
       "</div>"
      ],
      "text/plain": [
       "  reviewer                                             review  \\\n",
       "0  쏭쏭쏭4725  케이크 너무 이쁘고 만족이에요🩷🩷 요새 주문제작 케이크 다 가격대가 있긴하지만 좀 ...   \n",
       "1  mini131                                       친절하게 잘 해주셨어용   \n",
       "2    메주콩16  생신케이크로 생화케이크 주문했는데 진짜 이쁘고 엄마가 너무너무 좋아하셨습니다 하루전...   \n",
       "3    나0829                                               맛있어요   \n",
       "4  ony****  안녕하세요, 사장님! 리뷰를 남긴다는게 깜빡해서 지금에야 남기네요 ㅠㅠ 급하게 케이...   \n",
       "\n",
       "                  additional_info               date n_visit auth_method  \n",
       "0  예약 후 이용, 대기 시간 바로 입장, 기념일, 부모님   2024년 4월 26일 금요일  1번째 방문         영수증  \n",
       "1   예약 없이 이용, 대기 시간 바로 입장, 친목, 혼자  2023년 12월 10일 일요일  1번째 방문         영수증  \n",
       "2                                   2023년 4월 27일 목요일  1번째 방문        결제내역  \n",
       "3                                   2023년 2월 23일 목요일  1번째 방문         영수증  \n",
       "4                                  2022년 12월 18일 일요일  1번째 방문         영수증  "
      ]
     },
     "execution_count": 19,
     "metadata": {},
     "output_type": "execute_result"
    }
   ],
   "source": [
    "print(crawler.data.shape)\n",
    "crawler.data.head()"
   ]
  }
 ],
 "metadata": {
  "kernelspec": {
   "display_name": "langchain",
   "language": "python",
   "name": "python3"
  },
  "language_info": {
   "codemirror_mode": {
    "name": "ipython",
    "version": 3
   },
   "file_extension": ".py",
   "mimetype": "text/x-python",
   "name": "python",
   "nbconvert_exporter": "python",
   "pygments_lexer": "ipython3",
   "version": "3.10.13"
  }
 },
 "nbformat": 4,
 "nbformat_minor": 2
}
