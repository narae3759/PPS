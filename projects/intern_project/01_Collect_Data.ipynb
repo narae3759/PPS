{
 "cells": [
  {
   "cell_type": "markdown",
   "metadata": {},
   "source": [
    "# 01. Collect Data"
   ]
  },
  {
   "cell_type": "markdown",
   "metadata": {},
   "source": [
    "## Setting"
   ]
  },
  {
   "cell_type": "code",
   "execution_count": 2,
   "metadata": {},
   "outputs": [],
   "source": [
    "from selenium import webdriver\n",
    "from selenium.webdriver.chrome.options import Options\n",
    "from selenium.webdriver.common.keys import Keys\n",
    "from selenium.webdriver.common.by import By\n",
    "from selenium.webdriver.common.actions.action_builder import ActionBuilder\n",
    "from selenium.webdriver.common.actions.mouse_button import MouseButton\n",
    "from selenium.webdriver import ActionChains\n",
    "from selenium.webdriver.support.ui import WebDriverWait\n",
    "from selenium.webdriver.support import expected_conditions as EC\n",
    "import time\n",
    "import pandas as pd"
   ]
  },
  {
   "cell_type": "code",
   "execution_count": 13,
   "metadata": {},
   "outputs": [],
   "source": [
    "# url = \"https://pcmap.place.naver.com/restaurant/13166754/review/visitor\"\n",
    "\n",
    "url = \"https://pcmap.place.naver.com/restaurant/1804344332/review/visitor\""
   ]
  },
  {
   "cell_type": "markdown",
   "metadata": {},
   "source": [
    "## 1. 순차적 개발"
   ]
  },
  {
   "cell_type": "markdown",
   "metadata": {},
   "source": [
    "### 페이지 접근"
   ]
  },
  {
   "cell_type": "code",
   "execution_count": 14,
   "metadata": {},
   "outputs": [
    {
     "data": {
      "text/plain": [
       "[<selenium.webdriver.remote.webelement.WebElement (session=\"abfc75c1e5d28f8f20e5069dec498db4\", element=\"f.93FC24F63969894F6BFE5CFC721CF409.d.1DE5C69F5F90ECACA158114ADF7972D2.e.156\")>]"
      ]
     },
     "execution_count": 14,
     "metadata": {},
     "output_type": "execute_result"
    }
   ],
   "source": [
    "# 크롬창 열기\n",
    "options = Options()\n",
    "driver = webdriver.Chrome(options = options)\n",
    "\n",
    "# 창모드 전체화면으로 크기 늘리기\n",
    "driver.maximize_window()\n",
    "\n",
    "# 로딩시간: 페이지 로딩\n",
    "wait = WebDriverWait(driver, 10)\n",
    "wait.until(EC.presence_of_all_elements_located((By.TAG_NAME, 'body')))\n",
    "\n",
    "# 네이버 리뷰 주소 접속하기\n",
    "driver.get(url)\n",
    "\n",
    "# 로딩시간: 페이지 로딩\n",
    "wait = WebDriverWait(driver, 10)\n",
    "wait.until(EC.presence_of_all_elements_located((By.TAG_NAME, 'body')))"
   ]
  },
  {
   "cell_type": "code",
   "execution_count": 22,
   "metadata": {},
   "outputs": [],
   "source": [
    "driver.get(\"https://pcmap.place.naver.com/restaurant/13166754/review/visitor\")"
   ]
  },
  {
   "cell_type": "markdown",
   "metadata": {},
   "source": [
    "### ➕ 최신순으로 정렬\n",
    "\n",
    "* 추천순은 좋은 반응으로 편향될 가능성이 있다고 판단하여 최신순으로 정렬하는 과정을 추가함"
   ]
  },
  {
   "cell_type": "code",
   "execution_count": 23,
   "metadata": {},
   "outputs": [],
   "source": [
    "driver.find_elements(By.CLASS_NAME, \"zMIkw\")[-1].click()"
   ]
  },
  {
   "cell_type": "markdown",
   "metadata": {},
   "source": [
    "### 댓글 더보기\n",
    "\n",
    "* \"더 보기\" 버튼을 눌러야 다음 댓글 생성됨\n",
    "* 리뷰의 끝이 보이면 \"더 보기\" 버튼은 없어짐 ❌ 에러 발생"
   ]
  },
  {
   "cell_type": "code",
   "execution_count": null,
   "metadata": {},
   "outputs": [],
   "source": [
    "# 해당 클래스가 있는지 없는지 판단하는 함수 \n",
    "# def is_element(driver, by, value):\n",
    "    # elements = \n"
   ]
  },
  {
   "cell_type": "code",
   "execution_count": 16,
   "metadata": {},
   "outputs": [],
   "source": [
    "# 반복 수를 결정하는 경우\n",
    "add_rep = 5\n",
    "\n",
    "add_button = driver.find_element(By.CLASS_NAME, \"fvwqf\")\n",
    "for _ in range(add_rep):\n",
    "    # 더 보기 버튼 안보이면 break\n",
    "    try:\n",
    "        add_button.click()\n",
    "        time.sleep(1)\n",
    "    except:\n",
    "        break"
   ]
  },
  {
   "cell_type": "code",
   "execution_count": null,
   "metadata": {},
   "outputs": [],
   "source": [
    "# 목표 수집 댓글 수를 결정하는 경우\n",
    "n = 200\n",
    "\n",
    "add_button = driver.find_element(By.CLASS_NAME, \"fvwqf\")\n",
    "while True:\n",
    "    # 더 보기 버튼 안보이면 break\n",
    "    try:\n",
    "        add_button.click()\n",
    "        time.sleep(1)\n",
    "    except:\n",
    "        # print(\"더 보기 버튼 안보임\")\n",
    "        break\n",
    "\n",
    "    # 목표 리뷰 개수 도달하면 break\n",
    "    reviews = driver.find_elements(By.CLASS_NAME, \"zPfVt\")\n",
    "    if len(reviews) > n:\n",
    "        # print(\"목표 리뷰 개수 도달\")\n",
    "        break\n"
   ]
  },
  {
   "cell_type": "markdown",
   "metadata": {},
   "source": [
    "### 리뷰 추출하기\n",
    "* 긴 글의 경우 내용 더보기 버튼이 활성화됨"
   ]
  },
  {
   "cell_type": "code",
   "execution_count": 27,
   "metadata": {},
   "outputs": [],
   "source": [
    "test = reviews[0]"
   ]
  },
  {
   "cell_type": "code",
   "execution_count": 29,
   "metadata": {},
   "outputs": [
    {
     "data": {
      "text/plain": [
       "[]"
      ]
     },
     "execution_count": 29,
     "metadata": {},
     "output_type": "execute_result"
    }
   ],
   "source": [
    "test.find_elements(By.CLASS_NAME, \"rvCSr\")"
   ]
  }
 ],
 "metadata": {
  "kernelspec": {
   "display_name": "langchain",
   "language": "python",
   "name": "python3"
  },
  "language_info": {
   "codemirror_mode": {
    "name": "ipython",
    "version": 3
   },
   "file_extension": ".py",
   "mimetype": "text/x-python",
   "name": "python",
   "nbconvert_exporter": "python",
   "pygments_lexer": "ipython3",
   "version": "3.10.13"
  }
 },
 "nbformat": 4,
 "nbformat_minor": 2
}
