{
 "cells": [
  {
   "cell_type": "code",
   "execution_count": null,
   "metadata": {},
   "outputs": [],
   "source": [
    "template = \"\"\"\\\n",
    "# INSTRUCTION\n",
    "- 당신은 긍/부정 분류기입니다.\n",
    "- 각 대상 '만족도', '맛', '서비스', '가격'에 대한 평가가 긍정적인지 부정적인지를 분류하세요.\n",
    "- 대상에 대한 평가가 없는 경우 '-'을 표시하세요.\n",
    "- 예시를 보고 결과를 다음과 같은 딕셔너리 형식으로 출력하세요:\n",
    "\n",
    "    \"만족도\": \"긍정/부정/-\",\n",
    "    \"맛\": \"긍정/부정/-\",\n",
    "    \"서비스\": \"긍정/부정/-\",\n",
    "    \"가격\": \"긍정/부정/-\"\n",
    "\n",
    "# SENTENCE: {sentence}\n",
    "\"\"\""
   ]
  },
  {
   "cell_type": "code",
   "execution_count": 90,
   "metadata": {},
   "outputs": [
    {
     "data": {
      "text/plain": [
       "{'taste': {'feedback': '긍정'},\n",
       " 'service': {'feedback': '긍정'},\n",
       " 'price': {'feedback': '긍정'}}"
      ]
     },
     "execution_count": 90,
     "metadata": {},
     "output_type": "execute_result"
    }
   ],
   "source": [
    "from langchain_openai import ChatOpenAI \n",
    "from langchain_core.prompts import PromptTemplate\n",
    "from langchain_core.output_parsers import JsonOutputParser\n",
    "from langchain_core.runnables import RunnablePassthrough, RunnableParallel\n",
    "from operator import itemgetter\n",
    "\n",
    "template = \"\"\"\\\n",
    "# INSTRUCTION\n",
    "- 당신은 {sentence}에서 {category}에 따라 긍/부정을 분류하는 역할입니다.\n",
    "- {category}에 대한 반응을 [긍정, 부정, -] 중 하나로 분류하세요\n",
    "- JSON 형식으로 출력하세요.\n",
    "\"\"\"\n",
    "\n",
    "prompt = PromptTemplate.from_template(template)\n",
    "model = ChatOpenAI(model_name = \"gpt-3.5-turbo\")\n",
    "output_parser = JsonOutputParser()\n",
    "chain = prompt | model | output_parser\n",
    "\n",
    "def make_runnable(category):\n",
    "    return {\"sentence\": RunnablePassthrough() , \"category\": RunnablePassthrough(lambda _: category)}\n",
    "\n",
    "combined = RunnableParallel(\n",
    "    taste = make_runnable(\"맛\") | chain,\n",
    "    service = make_runnable(\"서비스\") | chain,\n",
    "    price = make_runnable(\"가격\") | chain,\n",
    ")\n",
    "\n",
    "review = \"직원분들 너무 친절하시고 음식맛은 대한민국 호텔부페 넘버원인데 말해뭐해 입니다 조금씩 일찍 입장 시켜주시는 융통성도 좋아요 쬐끔 아쉬운건 의외로 과일류 구색이 약하다는 거\"\n",
    "\n",
    "combined.invoke(review)\n"
   ]
  },
  {
   "cell_type": "code",
   "execution_count": 109,
   "metadata": {},
   "outputs": [
    {
     "data": {
      "text/plain": [
       "{'taste': {'category': '맛', 'action': '긍정'},\n",
       " 'service': {'category': '직원 및 음식', 'action': '긍정'},\n",
       " 'price': {'category': '가격', 'action': '-'}}"
      ]
     },
     "execution_count": 109,
     "metadata": {},
     "output_type": "execute_result"
    }
   ],
   "source": [
    "from langchain_openai import ChatOpenAI \n",
    "from langchain_core.prompts import PromptTemplate\n",
    "from langchain_core.output_parsers import JsonOutputParser\n",
    "from langchain_core.runnables import RunnablePassthrough, RunnableParallel\n",
    "from operator import itemgetter\n",
    "\n",
    "template = \"\"\"\\\n",
    "# INSTRUCTION\n",
    "- 당신은 SENTENCE에서 {category}에 따라 긍/부정을 분류하는 역할입니다.\n",
    "- {category}에 대한 반응을 [긍정, 부정, -] 중 하나로 분류하세요\n",
    "- 다음 KEYS를 참고하여 JSON 형식으로 출력하세요.\n",
    "\n",
    "# KEYS:\n",
    "- category <{category}반응과 관련된 대상>\n",
    "- action <반응>\n",
    "\n",
    "# SENTENCE: {sentence}\n",
    "\"\"\"\n",
    "\n",
    "prompt = PromptTemplate.from_template(template)\n",
    "model = ChatOpenAI(model_name = \"gpt-3.5-turbo\")\n",
    "output_parser = JsonOutputParser()\n",
    "chain = prompt | model | output_parser\n",
    "\n",
    "def make_runnable(text):\n",
    "    return RunnablePassthrough.assign(category = lambda x: text)\n",
    "\n",
    "combined = RunnableParallel(\n",
    "    taste = make_runnable(\"맛\") | chain,\n",
    "    service = make_runnable(\"서비스\") | chain,\n",
    "    price = make_runnable(\"가격\") | chain,\n",
    ")\n",
    "\n",
    "review = \"직원분들 너무 친절하시고 음식맛은 대한민국 호텔부페 넘버원인데 말해뭐해 입니다 조금씩 일찍 입장 시켜주시는 융통성도 좋아요 쬐끔 아쉬운건 의외로 과일류 구색이 약하다는 거\"\n",
    "\n",
    "combined.invoke({\"sentence\": review})\n"
   ]
  },
  {
   "cell_type": "code",
   "execution_count": 94,
   "metadata": {},
   "outputs": [
    {
     "data": {
      "text/plain": [
       "{'input': '다람쥐', 'taste': '안뇽'}"
      ]
     },
     "execution_count": 94,
     "metadata": {},
     "output_type": "execute_result"
    }
   ],
   "source": [
    "cat = \"맛\"\n",
    "add_runnable = RunnablePassthrough.assign(taste = lambda x: \"안뇽\")\n",
    "add_runnable.invoke({\"input\": \"다람쥐\"})"
   ]
  },
  {
   "cell_type": "code",
   "execution_count": 101,
   "metadata": {},
   "outputs": [
    {
     "data": {
      "text/plain": [
       "{'input': '다람쥐'}"
      ]
     },
     "execution_count": 101,
     "metadata": {},
     "output_type": "execute_result"
    }
   ],
   "source": [
    "cat = \"맛\"\n",
    "add_runnable = RunnablePassthrough(lambda x: \"안뇽\")\n",
    "add_runnable.invoke({\"input\": \"다람쥐\"})"
   ]
  }
 ],
 "metadata": {
  "kernelspec": {
   "display_name": "langchain",
   "language": "python",
   "name": "python3"
  },
  "language_info": {
   "codemirror_mode": {
    "name": "ipython",
    "version": 3
   },
   "file_extension": ".py",
   "mimetype": "text/x-python",
   "name": "python",
   "nbconvert_exporter": "python",
   "pygments_lexer": "ipython3",
   "version": "3.10.13"
  }
 },
 "nbformat": 4,
 "nbformat_minor": 2
}
