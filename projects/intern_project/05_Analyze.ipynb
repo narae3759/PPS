{
 "cells": [
  {
   "cell_type": "markdown",
   "metadata": {},
   "source": [
    "## 05. Analyze "
   ]
  },
  {
   "cell_type": "markdown",
   "metadata": {},
   "source": [
    "## Setting"
   ]
  },
  {
   "cell_type": "code",
   "execution_count": 2,
   "metadata": {},
   "outputs": [],
   "source": [
    "import pandas as pd \n",
    "import numpy as np\n",
    "from matplotlib import rc\n",
    "import matplotlib.pyplot as plt\n",
    "import matplotlib.dates as mdates\n",
    "from review_analyzer import *\n",
    "\n",
    "# rc('font', family='AppleGothic') # Mac \n",
    "rc('font', family='NanumGothic')\n",
    "plt.rcParams['axes.unicode_minus'] = False"
   ]
  },
  {
   "cell_type": "code",
   "execution_count": 3,
   "metadata": {},
   "outputs": [
    {
     "data": {
      "text/html": [
       "<div>\n",
       "<style scoped>\n",
       "    .dataframe tbody tr th:only-of-type {\n",
       "        vertical-align: middle;\n",
       "    }\n",
       "\n",
       "    .dataframe tbody tr th {\n",
       "        vertical-align: top;\n",
       "    }\n",
       "\n",
       "    .dataframe thead th {\n",
       "        text-align: right;\n",
       "    }\n",
       "</style>\n",
       "<table border=\"1\" class=\"dataframe\">\n",
       "  <thead>\n",
       "    <tr style=\"text-align: right;\">\n",
       "      <th></th>\n",
       "      <th>reviewer</th>\n",
       "      <th>review</th>\n",
       "      <th>date</th>\n",
       "      <th>weekday</th>\n",
       "    </tr>\n",
       "  </thead>\n",
       "  <tbody>\n",
       "    <tr>\n",
       "      <th>0</th>\n",
       "      <td>shooooooo</td>\n",
       "      <td>종류도 알차게 많고 다 맛있어요</td>\n",
       "      <td>2024-06-07</td>\n",
       "      <td>금요일</td>\n",
       "    </tr>\n",
       "    <tr>\n",
       "      <th>1</th>\n",
       "      <td>쥴리08</td>\n",
       "      <td>커피랑 브런치크림파스타 먹었어요 오늘따라 파스타가 불어서나왔더라구요 역시 신라 커피...</td>\n",
       "      <td>2024-05-23</td>\n",
       "      <td>목요일</td>\n",
       "    </tr>\n",
       "    <tr>\n",
       "      <th>2</th>\n",
       "      <td>illiiilillil</td>\n",
       "      <td>직원분들 너무 친절하시고 음식맛은 대한민국 호텔부페 넘버원인데 말해뭐해 입니다 조금...</td>\n",
       "      <td>2024-05-19</td>\n",
       "      <td>일요일</td>\n",
       "    </tr>\n",
       "    <tr>\n",
       "      <th>3</th>\n",
       "      <td>DEAN KIL</td>\n",
       "      <td>비싸지만 좋은곳</td>\n",
       "      <td>2024-05-04</td>\n",
       "      <td>토요일</td>\n",
       "    </tr>\n",
       "    <tr>\n",
       "      <th>4</th>\n",
       "      <td>이진욱쨩</td>\n",
       "      <td>항상 친절하시고 음식도맛있네요</td>\n",
       "      <td>2024-04-21</td>\n",
       "      <td>일요일</td>\n",
       "    </tr>\n",
       "  </tbody>\n",
       "</table>\n",
       "</div>"
      ],
      "text/plain": [
       "       reviewer                                             review       date  \\\n",
       "0     shooooooo                                  종류도 알차게 많고 다 맛있어요 2024-06-07   \n",
       "1          쥴리08  커피랑 브런치크림파스타 먹었어요 오늘따라 파스타가 불어서나왔더라구요 역시 신라 커피... 2024-05-23   \n",
       "2  illiiilillil  직원분들 너무 친절하시고 음식맛은 대한민국 호텔부페 넘버원인데 말해뭐해 입니다 조금... 2024-05-19   \n",
       "3      DEAN KIL                                           비싸지만 좋은곳 2024-05-04   \n",
       "4          이진욱쨩                                   항상 친절하시고 음식도맛있네요 2024-04-21   \n",
       "\n",
       "  weekday  \n",
       "0     금요일  \n",
       "1     목요일  \n",
       "2     일요일  \n",
       "3     토요일  \n",
       "4     일요일  "
      ]
     },
     "execution_count": 3,
     "metadata": {},
     "output_type": "execute_result"
    }
   ],
   "source": [
    "data_path = \"data/naver_review_preprocessing.csv\"\n",
    "data = pd.read_csv(data_path, parse_dates=[\"date\"], encoding=\"CP949\")\n",
    "data.head(5)"
   ]
  },
  {
   "cell_type": "markdown",
   "metadata": {},
   "source": [
    "## 1. 프롬프트"
   ]
  },
  {
   "cell_type": "code",
   "execution_count": null,
   "metadata": {},
   "outputs": [],
   "source": [
    "# 내가 원하는 출력 결과\n",
    "{\n",
    "    \"맛\": {\"긍정\": [], \"부정\": []},\n",
    "    \"서비스\": {\"긍정\": [], \"부정\": []},\n",
    "    \"환경\": {\"긍정\": [], \"부정\": []},\n",
    "    \"기타\": {\"긍정\": [], \"부정\": []}\n",
    "}"
   ]
  },
  {
   "cell_type": "code",
   "execution_count": 11,
   "metadata": {},
   "outputs": [
    {
     "data": {
      "text/plain": [
       "JsonOutputParser(pydantic_object=<class '__main__.Topic'>)"
      ]
     },
     "execution_count": 11,
     "metadata": {},
     "output_type": "execute_result"
    }
   ],
   "source": [
    "from pydantic import BaseModel, Field\n",
    "from typing import Dict, List, Optional \n",
    "from langchain_core.output_parsers import JsonOutputParser\n",
    "\n",
    "class ActionModel(BaseModel):\n",
    "    positive: List[str] = Field(description=\"주제에 대한 간결한 설명\")\n",
    "    negative: List[str] = Field(description=\"해시태그 형식의 키워드(2개 이상)\")\n",
    "\n",
    "parser = JsonOutputParser(pydantic_object=ActionModel)\n",
    "parser"
   ]
  },
  {
   "cell_type": "code",
   "execution_count": 15,
   "metadata": {},
   "outputs": [
    {
     "ename": "ValidationError",
     "evalue": "1 validation error for ActionModel\nnegative\n  Input should be a valid list [type=list_type, input_value='hello', input_type=str]\n    For further information visit https://errors.pydantic.dev/2.7/v/list_type",
     "output_type": "error",
     "traceback": [
      "\u001b[1;31m---------------------------------------------------------------------------\u001b[0m",
      "\u001b[1;31mValidationError\u001b[0m                           Traceback (most recent call last)",
      "Cell \u001b[1;32mIn[15], line 12\u001b[0m\n\u001b[0;32m      6\u001b[0m     negative: List[\u001b[38;5;28mstr\u001b[39m] \u001b[38;5;241m=\u001b[39m Field(description\u001b[38;5;241m=\u001b[39m\u001b[38;5;124m\"\u001b[39m\u001b[38;5;124m해시태그 형식의 키워드(2개 이상)\u001b[39m\u001b[38;5;124m\"\u001b[39m)\n\u001b[0;32m      8\u001b[0m mydict \u001b[38;5;241m=\u001b[39m {\n\u001b[0;32m      9\u001b[0m     \u001b[38;5;124m\"\u001b[39m\u001b[38;5;124mpositive\u001b[39m\u001b[38;5;124m\"\u001b[39m: [\u001b[38;5;124m\"\u001b[39m\u001b[38;5;124mA\u001b[39m\u001b[38;5;124m\"\u001b[39m, \u001b[38;5;124m\"\u001b[39m\u001b[38;5;124mB\u001b[39m\u001b[38;5;124m\"\u001b[39m, \u001b[38;5;124m\"\u001b[39m\u001b[38;5;124mC\u001b[39m\u001b[38;5;124m\"\u001b[39m],\n\u001b[0;32m     10\u001b[0m     \u001b[38;5;124m\"\u001b[39m\u001b[38;5;124mnegative\u001b[39m\u001b[38;5;124m\"\u001b[39m: \u001b[38;5;124m\"\u001b[39m\u001b[38;5;124mhello\u001b[39m\u001b[38;5;124m\"\u001b[39m\n\u001b[0;32m     11\u001b[0m }\n\u001b[1;32m---> 12\u001b[0m ActionModel(\u001b[38;5;241m*\u001b[39m\u001b[38;5;241m*\u001b[39mmydict)\n",
      "File \u001b[1;32mc:\\Users\\user\\anaconda3\\envs\\langchain\\lib\\site-packages\\pydantic\\main.py:175\u001b[0m, in \u001b[0;36mBaseModel.__init__\u001b[1;34m(self, **data)\u001b[0m\n\u001b[0;32m    173\u001b[0m \u001b[38;5;66;03m# `__tracebackhide__` tells pytest and some other tools to omit this function from tracebacks\u001b[39;00m\n\u001b[0;32m    174\u001b[0m __tracebackhide__ \u001b[38;5;241m=\u001b[39m \u001b[38;5;28;01mTrue\u001b[39;00m\n\u001b[1;32m--> 175\u001b[0m \u001b[38;5;28;43mself\u001b[39;49m\u001b[38;5;241;43m.\u001b[39;49m\u001b[43m__pydantic_validator__\u001b[49m\u001b[38;5;241;43m.\u001b[39;49m\u001b[43mvalidate_python\u001b[49m\u001b[43m(\u001b[49m\u001b[43mdata\u001b[49m\u001b[43m,\u001b[49m\u001b[43m \u001b[49m\u001b[43mself_instance\u001b[49m\u001b[38;5;241;43m=\u001b[39;49m\u001b[38;5;28;43mself\u001b[39;49m\u001b[43m)\u001b[49m\n",
      "\u001b[1;31mValidationError\u001b[0m: 1 validation error for ActionModel\nnegative\n  Input should be a valid list [type=list_type, input_value='hello', input_type=str]\n    For further information visit https://errors.pydantic.dev/2.7/v/list_type"
     ]
    }
   ],
   "source": [
    "from pydantic import BaseModel, Field\n",
    "from typing import List\n",
    "\n",
    "class ActionModel(BaseModel):\n",
    "    positive: List[str] = Field(description=\"주제에 대한 간결한 설명\")\n",
    "    negative: List[str] = Field(description=\"해시태그 형식의 키워드(2개 이상)\")\n",
    "\n",
    "mydict = {\n",
    "    \"positive\": [\"A\", \"B\", \"C\"],\n",
    "    \"negative\": [\"D\", \"E\", \"F\"]\n",
    "}\n",
    "ActionModel(**mydict)"
   ]
  },
  {
   "cell_type": "code",
   "execution_count": 9,
   "metadata": {},
   "outputs": [
    {
     "data": {
      "text/plain": [
       "PromptTemplate(input_variables=['sentence'], template='# INSTRUCTION\\n- 당신은 긍/부정 분류기입니다.\\n- 각 대상 \\'만족도\\', \\'맛\\', \\'서비스\\', \\'가격\\'에 대한 평가가 긍정적인지 부정적인지를 분류하세요.\\n- 대상에 대한 평가가 없는 경우 \\'-\\'을 표시하세요.\\n- 예시를 보고 결과를 다음과 같은 딕셔너리 형식으로 출력하세요:\\n\\n    \"만족도\": \"긍정/부정/-\",\\n    \"맛\": \"긍정/부정/-\",\\n    \"서비스\": \"긍정/부정/-\",\\n    \"가격\": \"긍정/부정/-\"\\n\\n# SENTENCE: {sentence}\\n')"
      ]
     },
     "execution_count": 9,
     "metadata": {},
     "output_type": "execute_result"
    }
   ],
   "source": [
    "from langchain_core.prompts import PromptTemplate\n",
    "\n",
    "prompt = PromptTemplate.from_template(template)\n",
    "prompt.partial()"
   ]
  },
  {
   "cell_type": "code",
   "execution_count": 4,
   "metadata": {},
   "outputs": [
    {
     "data": {
      "text/plain": [
       "'Return a JSON object.'"
      ]
     },
     "execution_count": 4,
     "metadata": {},
     "output_type": "execute_result"
    }
   ],
   "source": [
    "from langchain_core.output_parsers import JsonOutputParser\n",
    "\n",
    "parser = JsonOutputParser()\n",
    "parser.get_format_instructions()"
   ]
  },
  {
   "cell_type": "code",
   "execution_count": 5,
   "metadata": {},
   "outputs": [],
   "source": [
    "template = \"\"\"\\\n",
    "# INSTRUCTION\n",
    "- 당신은 긍/부정 분류기입니다.\n",
    "- 각 대상 '만족도', '맛', '서비스', '가격'에 대한 평가가 긍정적인지 부정적인지를 분류하세요.\n",
    "- 대상에 대한 평가가 없는 경우 '-'을 표시하세요.\n",
    "- 예시를 보고 결과를 다음과 같은 딕셔너리 형식으로 출력하세요:\n",
    "\n",
    "    \"만족도\": \"긍정/부정/-\",\n",
    "    \"맛\": \"긍정/부정/-\",\n",
    "    \"서비스\": \"긍정/부정/-\",\n",
    "    \"가격\": \"긍정/부정/-\"\n",
    "\n",
    "# SENTENCE: {sentence}\n",
    "\"\"\""
   ]
  },
  {
   "cell_type": "code",
   "execution_count": 90,
   "metadata": {},
   "outputs": [
    {
     "data": {
      "text/plain": [
       "{'taste': {'feedback': '긍정'},\n",
       " 'service': {'feedback': '긍정'},\n",
       " 'price': {'feedback': '긍정'}}"
      ]
     },
     "execution_count": 90,
     "metadata": {},
     "output_type": "execute_result"
    }
   ],
   "source": [
    "from langchain_openai import ChatOpenAI \n",
    "from langchain_core.prompts import PromptTemplate\n",
    "from langchain_core.output_parsers import JsonOutputParser\n",
    "from langchain_core.runnables import RunnablePassthrough, RunnableParallel\n",
    "from operator import itemgetter\n",
    "\n",
    "template = \"\"\"\\\n",
    "# INSTRUCTION\n",
    "- 당신은 {sentence}에서 {category}에 따라 긍/부정을 분류하는 역할입니다.\n",
    "- {category}에 대한 반응을 [긍정, 부정, -] 중 하나로 분류하세요\n",
    "- JSON 형식으로 출력하세요.\n",
    "\"\"\"\n",
    "\n",
    "prompt = PromptTemplate.from_template(template)\n",
    "model = ChatOpenAI(model_name = \"gpt-3.5-turbo\")\n",
    "output_parser = JsonOutputParser()\n",
    "chain = prompt | model | output_parser\n",
    "\n",
    "def make_runnable(category):\n",
    "    return {\"sentence\": RunnablePassthrough() , \"category\": RunnablePassthrough(lambda _: category)}\n",
    "\n",
    "combined = RunnableParallel(\n",
    "    taste = make_runnable(\"맛\") | chain,\n",
    "    service = make_runnable(\"서비스\") | chain,\n",
    "    price = make_runnable(\"가격\") | chain,\n",
    ")\n",
    "\n",
    "review = \"직원분들 너무 친절하시고 음식맛은 대한민국 호텔부페 넘버원인데 말해뭐해 입니다 조금씩 일찍 입장 시켜주시는 융통성도 좋아요 쬐끔 아쉬운건 의외로 과일류 구색이 약하다는 거\"\n",
    "\n",
    "combined.invoke(review)\n"
   ]
  },
  {
   "cell_type": "code",
   "execution_count": 109,
   "metadata": {},
   "outputs": [
    {
     "data": {
      "text/plain": [
       "{'taste': {'category': '맛', 'action': '긍정'},\n",
       " 'service': {'category': '직원 및 음식', 'action': '긍정'},\n",
       " 'price': {'category': '가격', 'action': '-'}}"
      ]
     },
     "execution_count": 109,
     "metadata": {},
     "output_type": "execute_result"
    }
   ],
   "source": [
    "from langchain_openai import ChatOpenAI \n",
    "from langchain_core.prompts import PromptTemplate\n",
    "from langchain_core.output_parsers import JsonOutputParser\n",
    "from langchain_core.runnables import RunnablePassthrough, RunnableParallel\n",
    "from operator import itemgetter\n",
    "\n",
    "template = \"\"\"\\\n",
    "# INSTRUCTION\n",
    "- 당신은 SENTENCE에서 {category}에 따라 긍/부정을 분류하는 역할입니다.\n",
    "- {category}에 대한 반응을 [긍정, 부정, -] 중 하나로 분류하세요\n",
    "- 다음 KEYS를 참고하여 JSON 형식으로 출력하세요.\n",
    "\n",
    "# KEYS:\n",
    "- category <{category}반응과 관련된 대상>\n",
    "- action <반응>\n",
    "\n",
    "# SENTENCE: {sentence}\n",
    "\"\"\"\n",
    "\n",
    "prompt = PromptTemplate.from_template(template)\n",
    "model = ChatOpenAI(model_name = \"gpt-3.5-turbo\")\n",
    "output_parser = JsonOutputParser()\n",
    "chain = prompt | model | output_parser\n",
    "\n",
    "def make_runnable(text):\n",
    "    return RunnablePassthrough.assign(category = lambda x: text)\n",
    "\n",
    "combined = RunnableParallel(\n",
    "    taste = make_runnable(\"맛\") | chain,\n",
    "    service = make_runnable(\"서비스\") | chain,\n",
    "    price = make_runnable(\"가격\") | chain,\n",
    ")\n",
    "\n",
    "review = \"직원분들 너무 친절하시고 음식맛은 대한민국 호텔부페 넘버원인데 말해뭐해 입니다 조금씩 일찍 입장 시켜주시는 융통성도 좋아요 쬐끔 아쉬운건 의외로 과일류 구색이 약하다는 거\"\n",
    "\n",
    "combined.invoke({\"sentence\": review})\n"
   ]
  },
  {
   "cell_type": "code",
   "execution_count": 94,
   "metadata": {},
   "outputs": [
    {
     "data": {
      "text/plain": [
       "{'input': '다람쥐', 'taste': '안뇽'}"
      ]
     },
     "execution_count": 94,
     "metadata": {},
     "output_type": "execute_result"
    }
   ],
   "source": [
    "cat = \"맛\"\n",
    "add_runnable = RunnablePassthrough.assign(taste = lambda x: \"안뇽\")\n",
    "add_runnable.invoke({\"input\": \"다람쥐\"})"
   ]
  },
  {
   "cell_type": "code",
   "execution_count": 101,
   "metadata": {},
   "outputs": [
    {
     "data": {
      "text/plain": [
       "{'input': '다람쥐'}"
      ]
     },
     "execution_count": 101,
     "metadata": {},
     "output_type": "execute_result"
    }
   ],
   "source": [
    "cat = \"맛\"\n",
    "add_runnable = RunnablePassthrough(lambda x: \"안뇽\")\n",
    "add_runnable.invoke({\"input\": \"다람쥐\"})"
   ]
  },
  {
   "cell_type": "code",
   "execution_count": null,
   "metadata": {},
   "outputs": [],
   "source": [
    "next"
   ]
  }
 ],
 "metadata": {
  "kernelspec": {
   "display_name": "langchain",
   "language": "python",
   "name": "python3"
  },
  "language_info": {
   "codemirror_mode": {
    "name": "ipython",
    "version": 3
   },
   "file_extension": ".py",
   "mimetype": "text/x-python",
   "name": "python",
   "nbconvert_exporter": "python",
   "pygments_lexer": "ipython3",
   "version": "3.10.13"
  }
 },
 "nbformat": 4,
 "nbformat_minor": 2
}
