{
 "cells": [
  {
   "cell_type": "markdown",
   "metadata": {},
   "source": [
    "## 05. Analyze "
   ]
  },
  {
   "cell_type": "markdown",
   "metadata": {},
   "source": [
    "## Setting"
   ]
  },
  {
   "cell_type": "code",
   "execution_count": 2,
   "metadata": {},
   "outputs": [],
   "source": [
    "import pandas as pd \n",
    "import numpy as np\n",
    "from matplotlib import rc\n",
    "import matplotlib.pyplot as plt\n",
    "import matplotlib.dates as mdates\n",
    "from review_analyzer import *\n",
    "\n",
    "# rc('font', family='AppleGothic') # Mac \n",
    "rc('font', family='NanumGothic')\n",
    "plt.rcParams['axes.unicode_minus'] = False"
   ]
  },
  {
   "cell_type": "code",
   "execution_count": 3,
   "metadata": {},
   "outputs": [
    {
     "data": {
      "text/html": [
       "<div>\n",
       "<style scoped>\n",
       "    .dataframe tbody tr th:only-of-type {\n",
       "        vertical-align: middle;\n",
       "    }\n",
       "\n",
       "    .dataframe tbody tr th {\n",
       "        vertical-align: top;\n",
       "    }\n",
       "\n",
       "    .dataframe thead th {\n",
       "        text-align: right;\n",
       "    }\n",
       "</style>\n",
       "<table border=\"1\" class=\"dataframe\">\n",
       "  <thead>\n",
       "    <tr style=\"text-align: right;\">\n",
       "      <th></th>\n",
       "      <th>reviewer</th>\n",
       "      <th>review</th>\n",
       "      <th>date</th>\n",
       "      <th>weekday</th>\n",
       "    </tr>\n",
       "  </thead>\n",
       "  <tbody>\n",
       "    <tr>\n",
       "      <th>0</th>\n",
       "      <td>shooooooo</td>\n",
       "      <td>종류도 알차게 많고 다 맛있어요</td>\n",
       "      <td>2024-06-07</td>\n",
       "      <td>금요일</td>\n",
       "    </tr>\n",
       "    <tr>\n",
       "      <th>1</th>\n",
       "      <td>쥴리08</td>\n",
       "      <td>커피랑 브런치크림파스타 먹었어요 오늘따라 파스타가 불어서나왔더라구요 역시 신라 커피...</td>\n",
       "      <td>2024-05-23</td>\n",
       "      <td>목요일</td>\n",
       "    </tr>\n",
       "    <tr>\n",
       "      <th>2</th>\n",
       "      <td>illiiilillil</td>\n",
       "      <td>직원분들 너무 친절하시고 음식맛은 대한민국 호텔부페 넘버원인데 말해뭐해 입니다 조금...</td>\n",
       "      <td>2024-05-19</td>\n",
       "      <td>일요일</td>\n",
       "    </tr>\n",
       "    <tr>\n",
       "      <th>3</th>\n",
       "      <td>DEAN KIL</td>\n",
       "      <td>비싸지만 좋은곳</td>\n",
       "      <td>2024-05-04</td>\n",
       "      <td>토요일</td>\n",
       "    </tr>\n",
       "    <tr>\n",
       "      <th>4</th>\n",
       "      <td>이진욱쨩</td>\n",
       "      <td>항상 친절하시고 음식도맛있네요</td>\n",
       "      <td>2024-04-21</td>\n",
       "      <td>일요일</td>\n",
       "    </tr>\n",
       "  </tbody>\n",
       "</table>\n",
       "</div>"
      ],
      "text/plain": [
       "       reviewer                                             review       date  \\\n",
       "0     shooooooo                                  종류도 알차게 많고 다 맛있어요 2024-06-07   \n",
       "1          쥴리08  커피랑 브런치크림파스타 먹었어요 오늘따라 파스타가 불어서나왔더라구요 역시 신라 커피... 2024-05-23   \n",
       "2  illiiilillil  직원분들 너무 친절하시고 음식맛은 대한민국 호텔부페 넘버원인데 말해뭐해 입니다 조금... 2024-05-19   \n",
       "3      DEAN KIL                                           비싸지만 좋은곳 2024-05-04   \n",
       "4          이진욱쨩                                   항상 친절하시고 음식도맛있네요 2024-04-21   \n",
       "\n",
       "  weekday  \n",
       "0     금요일  \n",
       "1     목요일  \n",
       "2     일요일  \n",
       "3     토요일  \n",
       "4     일요일  "
      ]
     },
     "execution_count": 3,
     "metadata": {},
     "output_type": "execute_result"
    }
   ],
   "source": [
    "data_path = \"data/naver_review_preprocessing.csv\"\n",
    "data = pd.read_csv(data_path, parse_dates=[\"date\"], encoding=\"CP949\")\n",
    "data.head(5)"
   ]
  },
  {
   "cell_type": "markdown",
   "metadata": {},
   "source": [
    "## 1. 프롬프트"
   ]
  },
  {
   "cell_type": "markdown",
   "metadata": {},
   "source": [
    "## 1) 시도 1"
   ]
  },
  {
   "cell_type": "code",
   "execution_count": null,
   "metadata": {},
   "outputs": [],
   "source": [
    "# 내가 원하는 출력 결과\n",
    "{\n",
    "    \"맛\": {\"긍정\": [], \"부정\": []},\n",
    "    \"서비스\": {\"긍정\": [], \"부정\": []},\n",
    "    \"환경\": {\"긍정\": [], \"부정\": []},\n",
    "    \"기타\": {\"긍정\": [], \"부정\": []}\n",
    "}"
   ]
  },
  {
   "cell_type": "code",
   "execution_count": 85,
   "metadata": {},
   "outputs": [
    {
     "name": "stdout",
     "output_type": "stream",
     "text": [
      "{'category': '맛', 'action': {'positive': ['친절'], 'negative': ['아쉬움']}}\n",
      "{'category': '서비스', 'action': {'positive': ['친절', '융통성'], 'negative': ['아쉬움']}}\n",
      "{'category': '가격', 'action': {'positive': ['친절', '음식맛', '융통성'], 'negative': ['과일류']}}\n"
     ]
    }
   ],
   "source": [
    "from pydantic import BaseModel, Field\n",
    "from typing import Dict, List, Optional \n",
    "\n",
    "from langchain_openai import ChatOpenAI \n",
    "from langchain_core.prompts import PromptTemplate\n",
    "from langchain_core.output_parsers import JsonOutputParser\n",
    "\n",
    "class ActionModel(BaseModel):\n",
    "    positive: List[str] = Field(description=\"긍정을 나타내는 키워드\")\n",
    "    negative: List[str] = Field(description=\"부정을 나타내는 키워드\")\n",
    "\n",
    "class ReviewModel(BaseModel):\n",
    "    category: str = Field(description=\"CATEGORY 문자열\")\n",
    "    action: ActionModel\n",
    "\n",
    "parser = JsonOutputParser(pydantic_object=ReviewModel)\n",
    "\n",
    "template = \"\"\"\\\n",
    "# INSTRUCTION\n",
    "- 당신은 SENTENCE에서 CATEGORY에 따라 긍/부정에 해당하는 키워드를 분류하는 역할입니다.\n",
    "- 키워드는 CATEGORY에 대한 긍/부정을 나타내는 명사만 추출하세요.\n",
    "- FORMAT에 맞춰 답변하세요.\n",
    "\n",
    "# FORMAT: {format_instructions}\n",
    "# CATEGORY: {category}\n",
    "# SENTENCE: {sentence}\n",
    "\"\"\"\n",
    "\n",
    "prompt = PromptTemplate.from_template(template)\n",
    "prompt = prompt.partial(format_instructions=parser.get_format_instructions())\n",
    "model = ChatOpenAI(model_name = \"gpt-3.5-turbo\")\n",
    "output_parser = JsonOutputParser(pydantic_object=ReviewModel)\n",
    "chain = prompt | model | output_parser\n",
    "\n",
    "review = \"직원분들 너무 친절하시고 음식맛은 대한민국 호텔부페 넘버원인데 말해뭐해 입니다 조금씩 일찍 입장 시켜주시는 융통성도 좋아요 쬐끔 아쉬운건 의외로 과일류 구색이 약하다는 거\"\n",
    "\n",
    "print(chain.invoke({\"category\":\"맛\", \"sentence\": review}))\n",
    "print(chain.invoke({\"category\":\"서비스\", \"sentence\": review}))\n",
    "print(chain.invoke({\"category\":\"가격\", \"sentence\": review}))"
   ]
  },
  {
   "cell_type": "markdown",
   "metadata": {},
   "source": [
    "## 2) 시도 2"
   ]
  },
  {
   "cell_type": "code",
   "execution_count": null,
   "metadata": {},
   "outputs": [],
   "source": [
    "# 내가 원하는 출력 결과\n",
    "{\n",
    "    \"맛\": {\"긍정\": [], \"부정\": []},\n",
    "    \"서비스\": {\"긍정\": [], \"부정\": []},\n",
    "    \"환경\": {\"긍정\": [], \"부정\": []},\n",
    "    \"기타\": {\"긍정\": [], \"부정\": []}\n",
    "}"
   ]
  },
  {
   "cell_type": "code",
   "execution_count": 81,
   "metadata": {},
   "outputs": [
    {
     "name": "stdout",
     "output_type": "stream",
     "text": [
      "호텔, 조금, 부페, 넘버원, 입장, 융통, 구색, 일류, 친절, 직원, 음식, 대한민국\n"
     ]
    }
   ],
   "source": [
    "from pydantic import BaseModel, Field\n",
    "from typing import Dict, List, Optional \n",
    "\n",
    "from langchain_openai import ChatOpenAI \n",
    "from langchain_core.prompts import PromptTemplate\n",
    "from langchain_core.output_parsers import JsonOutputParser\n",
    "\n",
    "class ActionModel(BaseModel):\n",
    "    positive: List[str] = Field(description=\"긍정을 나타내는 키워드\")\n",
    "    negative: List[str] = Field(description=\"부정을 나타내는 키워드\")\n",
    "\n",
    "class ReviewModel(BaseModel):\n",
    "    category: str = Field(description=\"CATEGORY 문자열\")\n",
    "    action: ActionModel\n",
    "\n",
    "parser = JsonOutputParser(pydantic_object=ReviewModel)\n",
    "\n",
    "template = \"\"\"\\\n",
    "# INSTRUCTION\n",
    "- 당신은 SENTENCE에서 CATEGORY에 따라 긍/부정에 해당하는 키워드를 분류하는 역할입니다.\n",
    "- 키워드는 긍/부정의 대상이며, 명사만 추출하세요.\n",
    "- FORMAT에 맞춰 답변하세요.\n",
    "\n",
    "# FORMAT: {format_instructions}\n",
    "# NOUNS: {nouns}\n",
    "# CATEGORY: {category}\n",
    "# SENTENCE: {sentence}\n",
    "\"\"\"\n",
    "\n",
    "nouns = \"직원 친절 음식 맛 대한민국 호텔 부페 넘버원 뭐 조금 입장 융통 거 일류 구색 거\"\n",
    "nouns_new = \", \".join([x for x in set(nouns.split()) if len(x) > 1])\n",
    "print(nouns_new)\n",
    "\n",
    "prompt = PromptTemplate.from_template(template)\n",
    "prompt = prompt.partial(format_instructions=parser.get_format_instructions())\n",
    "model = ChatOpenAI(model_name = \"gpt-3.5-turbo\")\n",
    "output_parser = JsonOutputParser(pydantic_object=ReviewModel)\n",
    "chain = prompt | model | output_parser"
   ]
  },
  {
   "cell_type": "code",
   "execution_count": 63,
   "metadata": {},
   "outputs": [
    {
     "name": "stdout",
     "output_type": "stream",
     "text": [
      "The output should be formatted as a JSON instance that conforms to the JSON schema below.\n",
      "\n",
      "As an example, for the schema {\"properties\": {\"foo\": {\"title\": \"Foo\", \"description\": \"a list of strings\", \"type\": \"array\", \"items\": {\"type\": \"string\"}}}, \"required\": [\"foo\"]}\n",
      "the object {\"foo\": [\"bar\", \"baz\"]} is a well-formatted instance of the schema. The object {\"properties\": {\"foo\": [\"bar\", \"baz\"]}} is not well-formatted.\n",
      "\n",
      "Here is the output schema:\n",
      "```\n",
      "{\"properties\": {\"positive\": {\"description\": \"\\uc8fc\\uc81c\\uc5d0 \\ub300\\ud55c \\uac04\\uacb0\\ud55c \\uc124\\uba85\", \"items\": {\"type\": \"string\"}, \"title\": \"Positive\", \"type\": \"array\"}, \"negative\": {\"description\": \"\\ud574\\uc2dc\\ud0dc\\uadf8 \\ud615\\uc2dd\\uc758 \\ud0a4\\uc6cc\\ub4dc(2\\uac1c \\uc774\\uc0c1)\", \"items\": {\"type\": \"string\"}, \"title\": \"Negative\", \"type\": \"array\"}}, \"required\": [\"positive\", \"negative\"]}\n",
      "```\n"
     ]
    }
   ],
   "source": [
    "print(parser.get_format_instructions())"
   ]
  },
  {
   "cell_type": "code",
   "execution_count": 60,
   "metadata": {},
   "outputs": [
    {
     "data": {
      "text/plain": [
       "ActionModel(positive=['A', 'B', 'C'], negative=['D', 'E', 'F'])"
      ]
     },
     "execution_count": 60,
     "metadata": {},
     "output_type": "execute_result"
    }
   ],
   "source": [
    "from pydantic import BaseModel, Field\n",
    "from typing import List\n",
    "\n",
    "class ActionModel(BaseModel):\n",
    "    positive: List[str] = Field(description=\"주제에 대한 간결한 설명\")\n",
    "    negative: List[str] = Field(description=\"해시태그 형식의 키워드(2개 이상)\")\n",
    "\n",
    "mydict = {\n",
    "    \"positive\": [\"A\", \"B\", \"C\"],\n",
    "    \"negative\": [\"D\", \"E\", \"F\"]\n",
    "}\n",
    "ActionModel(**mydict)"
   ]
  },
  {
   "cell_type": "code",
   "execution_count": null,
   "metadata": {},
   "outputs": [],
   "source": []
  },
  {
   "cell_type": "code",
   "execution_count": 9,
   "metadata": {},
   "outputs": [
    {
     "data": {
      "text/plain": [
       "PromptTemplate(input_variables=['sentence'], template='# INSTRUCTION\\n- 당신은 긍/부정 분류기입니다.\\n- 각 대상 \\'만족도\\', \\'맛\\', \\'서비스\\', \\'가격\\'에 대한 평가가 긍정적인지 부정적인지를 분류하세요.\\n- 대상에 대한 평가가 없는 경우 \\'-\\'을 표시하세요.\\n- 예시를 보고 결과를 다음과 같은 딕셔너리 형식으로 출력하세요:\\n\\n    \"만족도\": \"긍정/부정/-\",\\n    \"맛\": \"긍정/부정/-\",\\n    \"서비스\": \"긍정/부정/-\",\\n    \"가격\": \"긍정/부정/-\"\\n\\n# SENTENCE: {sentence}\\n')"
      ]
     },
     "execution_count": 9,
     "metadata": {},
     "output_type": "execute_result"
    }
   ],
   "source": [
    "from langchain_core.prompts import PromptTemplate\n",
    "\n",
    "prompt = PromptTemplate.from_template(template)\n",
    "prompt.partial()"
   ]
  },
  {
   "cell_type": "code",
   "execution_count": 4,
   "metadata": {},
   "outputs": [
    {
     "data": {
      "text/plain": [
       "'Return a JSON object.'"
      ]
     },
     "execution_count": 4,
     "metadata": {},
     "output_type": "execute_result"
    }
   ],
   "source": [
    "from langchain_core.output_parsers import JsonOutputParser\n",
    "\n",
    "parser = JsonOutputParser()\n",
    "parser.get_format_instructions()"
   ]
  },
  {
   "cell_type": "code",
   "execution_count": 5,
   "metadata": {},
   "outputs": [],
   "source": [
    "template = \"\"\"\\\n",
    "# INSTRUCTION\n",
    "- 당신은 긍/부정 분류기입니다.\n",
    "- 각 대상 '만족도', '맛', '서비스', '가격'에 대한 평가가 긍정적인지 부정적인지를 분류하세요.\n",
    "- 대상에 대한 평가가 없는 경우 '-'을 표시하세요.\n",
    "- 예시를 보고 결과를 다음과 같은 딕셔너리 형식으로 출력하세요:\n",
    "\n",
    "    \"만족도\": \"긍정/부정/-\",\n",
    "    \"맛\": \"긍정/부정/-\",\n",
    "    \"서비스\": \"긍정/부정/-\",\n",
    "    \"가격\": \"긍정/부정/-\"\n",
    "\n",
    "# SENTENCE: {sentence}\n",
    "\"\"\""
   ]
  },
  {
   "cell_type": "code",
   "execution_count": 90,
   "metadata": {},
   "outputs": [
    {
     "data": {
      "text/plain": [
       "{'taste': {'feedback': '긍정'},\n",
       " 'service': {'feedback': '긍정'},\n",
       " 'price': {'feedback': '긍정'}}"
      ]
     },
     "execution_count": 90,
     "metadata": {},
     "output_type": "execute_result"
    }
   ],
   "source": [
    "from langchain_openai import ChatOpenAI \n",
    "from langchain_core.prompts import PromptTemplate\n",
    "from langchain_core.output_parsers import JsonOutputParser\n",
    "from langchain_core.runnables import RunnablePassthrough, RunnableParallel\n",
    "from operator import itemgetter\n",
    "\n",
    "template = \"\"\"\\\n",
    "# INSTRUCTION\n",
    "- 당신은 {sentence}에서 {category}에 따라 긍/부정을 분류하는 역할입니다.\n",
    "- {category}에 대한 반응을 [긍정, 부정, -] 중 하나로 분류하세요\n",
    "- JSON 형식으로 출력하세요.\n",
    "\"\"\"\n",
    "\n",
    "prompt = PromptTemplate.from_template(template)\n",
    "model = ChatOpenAI(model_name = \"gpt-3.5-turbo\")\n",
    "output_parser = JsonOutputParser()\n",
    "chain = prompt | model | output_parser\n",
    "\n",
    "def make_runnable(category):\n",
    "    return {\"sentence\": RunnablePassthrough() , \"category\": RunnablePassthrough(lambda _: category)}\n",
    "\n",
    "combined = RunnableParallel(\n",
    "    taste = make_runnable(\"맛\") | chain,\n",
    "    service = make_runnable(\"서비스\") | chain,\n",
    "    price = make_runnable(\"가격\") | chain,\n",
    ")\n",
    "\n",
    "review = \"직원분들 너무 친절하시고 음식맛은 대한민국 호텔부페 넘버원인데 말해뭐해 입니다 조금씩 일찍 입장 시켜주시는 융통성도 좋아요 쬐끔 아쉬운건 의외로 과일류 구색이 약하다는 거\"\n",
    "\n",
    "combined.invoke(review)\n"
   ]
  },
  {
   "cell_type": "code",
   "execution_count": 109,
   "metadata": {},
   "outputs": [
    {
     "data": {
      "text/plain": [
       "{'taste': {'category': '맛', 'action': '긍정'},\n",
       " 'service': {'category': '직원 및 음식', 'action': '긍정'},\n",
       " 'price': {'category': '가격', 'action': '-'}}"
      ]
     },
     "execution_count": 109,
     "metadata": {},
     "output_type": "execute_result"
    }
   ],
   "source": [
    "from langchain_openai import ChatOpenAI \n",
    "from langchain_core.prompts import PromptTemplate\n",
    "from langchain_core.output_parsers import JsonOutputParser\n",
    "from langchain_core.runnables import RunnablePassthrough, RunnableParallel\n",
    "from operator import itemgetter\n",
    "\n",
    "template = \"\"\"\\\n",
    "# INSTRUCTION\n",
    "- 당신은 SENTENCE에서 {category}에 따라 긍/부정을 분류하는 역할입니다.\n",
    "- {category}에 대한 반응을 [긍정, 부정, -] 중 하나로 분류하세요\n",
    "- 다음 KEYS를 참고하여 JSON 형식으로 출력하세요.\n",
    "\n",
    "# KEYS:\n",
    "- category <{category}반응과 관련된 대상>\n",
    "- action <반응>\n",
    "\n",
    "# SENTENCE: {sentence}\n",
    "\"\"\"\n",
    "\n",
    "prompt = PromptTemplate.from_template(template)\n",
    "model = ChatOpenAI(model_name = \"gpt-3.5-turbo\")\n",
    "output_parser = JsonOutputParser()\n",
    "chain = prompt | model | output_parser\n",
    "\n",
    "def make_runnable(text):\n",
    "    return RunnablePassthrough.assign(category = lambda x: text)\n",
    "\n",
    "combined = RunnableParallel(\n",
    "    taste = make_runnable(\"맛\") | chain,\n",
    "    service = make_runnable(\"서비스\") | chain,\n",
    "    price = make_runnable(\"가격\") | chain,\n",
    ")\n",
    "\n",
    "review = \"직원분들 너무 친절하시고 음식맛은 대한민국 호텔부페 넘버원인데 말해뭐해 입니다 조금씩 일찍 입장 시켜주시는 융통성도 좋아요 쬐끔 아쉬운건 의외로 과일류 구색이 약하다는 거\"\n",
    "\n",
    "combined.invoke({\"sentence\": review})\n"
   ]
  },
  {
   "cell_type": "code",
   "execution_count": 94,
   "metadata": {},
   "outputs": [
    {
     "data": {
      "text/plain": [
       "{'input': '다람쥐', 'taste': '안뇽'}"
      ]
     },
     "execution_count": 94,
     "metadata": {},
     "output_type": "execute_result"
    }
   ],
   "source": [
    "cat = \"맛\"\n",
    "add_runnable = RunnablePassthrough.assign(taste = lambda x: \"안뇽\")\n",
    "add_runnable.invoke({\"input\": \"다람쥐\"})"
   ]
  },
  {
   "cell_type": "code",
   "execution_count": 101,
   "metadata": {},
   "outputs": [
    {
     "data": {
      "text/plain": [
       "{'input': '다람쥐'}"
      ]
     },
     "execution_count": 101,
     "metadata": {},
     "output_type": "execute_result"
    }
   ],
   "source": [
    "cat = \"맛\"\n",
    "add_runnable = RunnablePassthrough(lambda x: \"안뇽\")\n",
    "add_runnable.invoke({\"input\": \"다람쥐\"})"
   ]
  },
  {
   "cell_type": "markdown",
   "metadata": {},
   "source": [
    "# 2. Pydantic"
   ]
  },
  {
   "cell_type": "code",
   "execution_count": 41,
   "metadata": {},
   "outputs": [
    {
     "name": "stdout",
     "output_type": "stream",
     "text": [
      "1\n",
      "Hong Gildong\n"
     ]
    }
   ],
   "source": [
    "from pydantic import BaseModel \n",
    "\n",
    "class User(BaseModel):\n",
    "    id: int\n",
    "    name: str\n",
    "\n",
    "user = User(\n",
    "    id = 1,\n",
    "    name = \"Hong Gildong\",\n",
    ")\n",
    "\n",
    "print(user.id)\n",
    "print(user.name)"
   ]
  },
  {
   "cell_type": "code",
   "execution_count": 43,
   "metadata": {},
   "outputs": [
    {
     "data": {
      "text/plain": [
       "{'id': 103948,\n",
       " 'name': 'Hong Gildong',\n",
       " 'address': {'street': '종로구 청와대로 1', 'city': '서울특별시', 'postal_code': '03048'},\n",
       " 'contact': {'email': 'gildong@xmail.com', 'phone': '010-1122-3344'}}"
      ]
     },
     "execution_count": 43,
     "metadata": {},
     "output_type": "execute_result"
    }
   ],
   "source": [
    "from pydantic import BaseModel\n",
    "\n",
    "class Contact(BaseModel):\n",
    "    email: str \n",
    "    phone: str \n",
    "\n",
    "class Address(BaseModel):\n",
    "    street:str\n",
    "    city:str\n",
    "    postal_code:str\n",
    "\n",
    "class User(BaseModel):\n",
    "    id: int\n",
    "    name: str\n",
    "    address: Address\n",
    "    contact: Contact\n",
    "\n",
    "user = User(\n",
    "    id = 103948,\n",
    "    name = \"Hong Gildong\",\n",
    "    address = {\n",
    "        \"street\": \"종로구 청와대로 1\",\n",
    "        \"city\": \"서울특별시\",\n",
    "        \"postal_code\": \"03048\"\n",
    "    },\n",
    "    contact = {\n",
    "        \"email\": \"gildong@xmail.com\",\n",
    "        \"phone\": \"010-1122-3344\"\n",
    "    }\n",
    ")\n",
    "\n",
    "user.model_dump()\n"
   ]
  },
  {
   "cell_type": "code",
   "execution_count": 44,
   "metadata": {},
   "outputs": [
    {
     "data": {
      "text/plain": [
       "User(id=103948, name='Hong Gildong', address=Address(street='종로구 청와대로 1', city='서울특별시', postal_code='03048'), contact=Contact(email='gildong@xmail.com', phone='010-1122-3344'))"
      ]
     },
     "execution_count": 44,
     "metadata": {},
     "output_type": "execute_result"
    }
   ],
   "source": [
    "user"
   ]
  },
  {
   "cell_type": "code",
   "execution_count": 55,
   "metadata": {},
   "outputs": [
    {
     "name": "stdout",
     "output_type": "stream",
     "text": [
      "id=103948\n",
      "{'id': 103948, 'name': 'Hong Gildong'}\n",
      "{'properties': {'id': {'title': 'Id', 'type': 'integer'}, 'name': {'title': 'Name', 'type': 'string'}}, 'required': ['id', 'name'], 'title': 'User', 'type': 'object'}\n"
     ]
    }
   ],
   "source": [
    "# repr\n",
    "from pydantic import BaseModel, Field\n",
    "\n",
    "class User(BaseModel):\n",
    "    id: int = Field(repr=True)\n",
    "    name: str = Field(repr=False)\n",
    "\n",
    "user = User(\n",
    "    id = 103948,\n",
    "    name = \"Hong Gildong\",\n",
    ")\n",
    "\n",
    "print(user)\n",
    "print(user.model_dump())\n",
    "print(user.model_json_schema())\n"
   ]
  },
  {
   "cell_type": "code",
   "execution_count": 54,
   "metadata": {},
   "outputs": [
    {
     "name": "stdout",
     "output_type": "stream",
     "text": [
      "id=103948 name='Hong Gildong'\n",
      "{'name': 'Hong Gildong'}\n",
      "{'properties': {'id': {'title': 'Id', 'type': 'integer'}, 'name': {'title': 'Name', 'type': 'string'}}, 'required': ['id', 'name'], 'title': 'User', 'type': 'object'}\n"
     ]
    }
   ],
   "source": [
    "# repr\n",
    "from pydantic import BaseModel, Field\n",
    "\n",
    "class User(BaseModel):\n",
    "    id: int = Field(exclude=True)\n",
    "    name: str = Field(exclude=False)\n",
    "\n",
    "user = User(\n",
    "    id = 103948,\n",
    "    name = \"Hong Gildong\",\n",
    ")\n",
    "\n",
    "print(user)\n",
    "print(user.model_dump())\n",
    "print(user.model_json_schema())\n"
   ]
  },
  {
   "cell_type": "code",
   "execution_count": 59,
   "metadata": {},
   "outputs": [
    {
     "name": "stdout",
     "output_type": "stream",
     "text": [
      "Valid Product:\n",
      "name='Laptop' price=Decimal('9999.99') weight=Decimal('2.500')\n",
      "{'name': 'Laptop', 'price': Decimal('9999.99'), 'weight': Decimal('2.500')}\n",
      "{'properties': {'name': {'maxLength': 50, 'minLength': 1, 'title': 'Name', 'type': 'string'}, 'price': {'anyOf': [{'maximum': 1000000.0, 'minimum': 0.01, 'type': 'number'}, {'type': 'string'}], 'title': 'Price'}, 'weight': {'anyOf': [{'minimum': 0.0, 'type': 'number'}, {'type': 'string'}], 'title': 'Weight'}}, 'required': ['name', 'price', 'weight'], 'title': 'Product', 'type': 'object'}\n"
     ]
    }
   ],
   "source": [
    "from typing import Annotated\n",
    "from pydantic import BaseModel, Field\n",
    "from decimal import Decimal\n",
    "\n",
    "class Product(BaseModel):\n",
    "    name: Annotated[str, Field(min_length=1, max_length=50)]\n",
    "    price: Annotated[Decimal, Field(ge=Decimal(\"0.01\"), le=Decimal(\"1000000.00\"), decimal_places=2, max_digits=8)]\n",
    "    weight: Annotated[Decimal, Field(ge=Decimal(\"0\"), decimal_places=3, max_digits=6)]\n",
    "\n",
    "# 유효한 데이터\n",
    "valid_product = Product(name=\"Laptop\", price=Decimal(\"9999.99\"), weight=Decimal(\"2.500\"))\n",
    "print(\"Valid Product:\")\n",
    "print(valid_product)\n",
    "print(valid_product.model_dump())\n",
    "print(Product.model_json_schema())\n",
    "print(valid_product.me)"
   ]
  }
 ],
 "metadata": {
  "kernelspec": {
   "display_name": "langchain",
   "language": "python",
   "name": "python3"
  },
  "language_info": {
   "codemirror_mode": {
    "name": "ipython",
    "version": 3
   },
   "file_extension": ".py",
   "mimetype": "text/x-python",
   "name": "python",
   "nbconvert_exporter": "python",
   "pygments_lexer": "ipython3",
   "version": "3.10.13"
  }
 },
 "nbformat": 4,
 "nbformat_minor": 2
}
