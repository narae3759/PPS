{
 "cells": [
  {
   "cell_type": "code",
   "execution_count": 11,
   "metadata": {},
   "outputs": [],
   "source": [
    "import email\n",
    "from email import policy\n",
    "from email.parser import BytesParser\n",
    "from pathlib import Path\n",
    "import os"
   ]
  },
  {
   "cell_type": "code",
   "execution_count": 32,
   "metadata": {},
   "outputs": [],
   "source": [
    "eml_file_path = 'C:/Users/user/Downloads/[피피에스] 사업 공고 전달의 건.eml'\n",
    "pdf_file_path = './mail_test.pdf'"
   ]
  },
  {
   "cell_type": "code",
   "execution_count": 34,
   "metadata": {},
   "outputs": [
    {
     "name": "stdout",
     "output_type": "stream",
     "text": [
      "<class 'email.message.EmailMessage'>\n",
      "['X-Priority', 'Importance', 'Message-ID', 'Date', 'From', 'Reply-To', 'To', 'Subject', 'Cc', 'Mime-Version', 'Content-Type']\n"
     ]
    }
   ],
   "source": [
    "# .eml 파일 읽기\n",
    "with open(eml_file_path, 'rb') as eml_file:\n",
    "    msg = BytesParser(policy=policy.default).parse(eml_file)\n",
    "print(type(msg))\n",
    "print([x for x,y in msg.items()])"
   ]
  },
  {
   "cell_type": "code",
   "execution_count": 131,
   "metadata": {},
   "outputs": [
    {
     "name": "stdout",
     "output_type": "stream",
     "text": [
      "('X-Priority', '3')\n",
      "('Importance', 'normal')\n",
      "('Message-ID', '<1243321577.1718269786794.JavaMail.root@localhost>')\n",
      "('Date', 'Thu, 13 Jun 2024 18:09:46 +0900')\n",
      "('From', '김나래 <narae3759@ppsystem.co.kr>')\n",
      "('Reply-To', '김나래 <narae3759@ppsystem.co.kr>')\n",
      "('To', 'hi@bitstep.it')\n",
      "('Subject', '[피피에스] 사업 공고 전달의 건')\n",
      "('Cc', '박석준 <parksj@ppsystem.co.kr>')\n",
      "('Mime-Version', '1.0')\n",
      "('Content-Type', 'multipart/mixed; boundary=\"----=_Part_2350126_834655295.1718269786794\"')\n"
     ]
    }
   ],
   "source": [
    "for x in msg.items():\n",
    "    print(x)"
   ]
  },
  {
   "cell_type": "code",
   "execution_count": 35,
   "metadata": {},
   "outputs": [
    {
     "name": "stdout",
     "output_type": "stream",
     "text": [
      "Content-Type: multipart/mixed\n",
      "Content-Type: multipart/related\n",
      "Content-Type: multipart/alternative\n",
      "Content-Type: text/plain\n",
      "Content-Type: text/html\n",
      "Content-Type: image/png\n",
      "Content-Type: application/hwp\n",
      "Content-Type: multipart/mixed, 첨부파일: None\n",
      "Content-Type: multipart/related, 첨부파일: None\n",
      "Content-Type: multipart/alternative, 첨부파일: None\n",
      "Content-Type: text/plain, 첨부파일: None\n",
      "Content-Type: text/html, 첨부파일: None\n",
      "Content-Type: image/png, 첨부파일: inline; filename=\"clipboardImage.png\"\n",
      "Content-Type: application/hwp, 첨부파일: attachment; filename=\"제안요청서_AI기반 현안 해결형 데이터 분석모델_최종.hwp\"\n"
     ]
    }
   ],
   "source": [
    "for x in msg.walk():\n",
    "    content_type = x.get_content_type()\n",
    "    print(f\"Content-Type: {content_type}\")\n",
    "\n",
    "for x in msg.walk():\n",
    "    content_type = x.get_content_type()\n",
    "    isfile = x.get('Content-disposition')\n",
    "    print(f\"Content-Type: {content_type}, 첨부파일: {isfile}\")"
   ]
  },
  {
   "cell_type": "code",
   "execution_count": 38,
   "metadata": {},
   "outputs": [
    {
     "name": "stdout",
     "output_type": "stream",
     "text": [
      "<div class=\"TerraceMsg\">\n",
      " <p style=\"font-family: &quot;맑은 고딕&quot;; font-size: 10pt; line-height: 150%; margin-top: 0px; margin-bottom: 0px;\">&nbsp;</p>\n",
      " <p style=\"font-family: &quot;맑은 고딕&quot;; font-size: 10pt; line-height: 150%; margin-top: 0px; margin-bottom: 0px;\">이서준 대표님 안녕하세요. 피피에스의 김나래 연구원입니다.&nbsp;</p>\n",
      " <p style=\"font-family: &quot;맑은 고딕&quot;; font-size: 10pt; line-height: 150%; margin-top: 0px; margin-bottom: 0px;\">&nbsp;</p>\n",
      " <p style=\"font-family: &quot;맑은 고딕&quot;; font-size: 10pt; line-height: 150%; margin-top: 0px; margin-bottom: 0px;\">오늘 공유된&nbsp;사업 공고를 전달드립니다.&nbsp;</p>\n",
      " <p style=\"font-family: &quot;맑은 고딕&quot;; font-size: 10pt; line-height: 150%; margin-top: 0px; margin-bottom: 0px;\">&nbsp;</p>\n",
      " <p style=\"font-family: &quot;맑은 고딕&quot;; font-size: 10pt; line-height: 150%; margin-top: 0px; margin-bottom: 0px;\">---</p>\n",
      " <p style=\"font-family: &quot;맑은 고딕&quot;; font-size: 10pt; line-height: 150%; margin-top: 0px; margin-bottom: 0px;\">- <b>사업 공고명</b>: <a href=\"https://www.daehanbid.co.kr/common/mail_bid.htm?ukey=ae67f4c79cb6324f17f6a61d5a1b1a46&amp;BidNo=2024061031971&amp;BidNoSeq=0&amp;Tname=Y&amp;Mem_ID=pps0697&amp;MemKey=07dc339004e4bf40957ffb4e286c496a&amp;\" target=\"_blank\">2024년 AI기반 현안 해결형 데이터 분석모델 개발 사업</a></p>\n",
      " <p style=\"font-family: &quot;맑은 고딕&quot;; font-size: 10pt; line-height: 150%; margin-top: 0px; margin-bottom: 0px;\"><span style=\"font-size: 10pt; font-family: &quot;맑은 고딕&quot;;\">- <b>참고 내용</b>:</span></p>\n",
      " <p style=\"font-family: &quot;맑은 고딕&quot;; font-size: 10pt; line-height: 150%; margin-top: 0px; margin-bottom: 0px;\"><img src=\"cid:0128c005-9dfe-4d36-876b-4eec8d378654\" style=\"width: 736px; height: 242px;\" /></p>\n",
      " <p style=\"font-family: &quot;맑은 고딕&quot;; font-size: 10pt; line-height: 150%; margin-top: 0px; margin-bottom: 0px;\"><span style=\"font-size: 10pt; font-family: &quot;맑은 고딕&quot;;\">&nbsp; &nbsp; * 생성형 AI와 관련된 사업은 과제 4번이며, 분야는 RPA입니다.</span></p>\n",
      " <p style=\"font-family: &quot;맑은 고딕&quot;; font-size: 10pt; line-height: 150%; margin-top: 0px; margin-bottom: 0px;\"><span style=\"font-size: 10pt; font-family: &quot;맑은 고딕&quot;;\">&nbsp; &nbsp; * 상세 내용은 17페이지에서 확인하실 수 있습니다.&nbsp;</span></p>\n",
      " <p style=\"font-family: &quot;맑은 고딕&quot;; font-size: 10pt; line-height: 150%; margin-top: 0px; margin-bottom: 0px;\">---</p>\n",
      " <p style=\"font-family: &quot;맑은 고딕&quot;; font-size: 10pt; line-height: 150%; margin-top: 0px; margin-bottom: 0px;\">&nbsp;</p>\n",
      " <p style=\"font-family: &quot;맑은 고딕&quot;; font-size: 10pt; line-height: 150%; margin-top: 0px; margin-bottom: 0px;\">이상입니다.</p>\n",
      " <p style=\"font-family: &quot;맑은 고딕&quot;; font-size: 10pt; line-height: 150%; margin-top: 0px; margin-bottom: 0px;\">&nbsp;</p>\n",
      " <p style=\"font-family: &quot;맑은 고딕&quot;; font-size: 10pt; line-height: 150%; margin-top: 0px; margin-bottom: 0px;\">감사합니다.&nbsp;</p>\n",
      " <p style=\"font-family: &quot;맑은 고딕&quot;; font-size: 10pt; line-height: 150%; margin-top: 0px; margin-bottom: 0px;\">&nbsp;</p>\n",
      " <p style=\"font-family: &quot;맑은 고딕&quot;; font-size: 10pt; line-height: 150%; margin-top: 0px; margin-bottom: 0px;\">- 김나래 드림</p>\n",
      " <p style=\"font-family: &quot;맑은 고딕&quot;; font-size: 10pt; line-height: 150%; margin-top: 0px; margin-bottom: 0px;\">&nbsp;</p>\n",
      " <p style=\"font-family: &quot;맑은 고딕&quot;; font-size: 10pt; line-height: 150%; margin-top: 0px; margin-bottom: 0px;\">&nbsp;</p>\n",
      " <p style=\"font-family: &quot;맑은 고딕&quot;; font-size: 10pt; line-height: 150%; margin-top: 0px; margin-bottom: 0px;\">&nbsp;</p>\n",
      " <p style=\"font-family: &quot;맑은 고딕&quot;; font-size: 10pt; line-height: 150%; margin-top: 0px; margin-bottom: 0px;\">&nbsp;</p>\n",
      " <span style=\"font-family: &quot;맑은 고딕&quot;; font-size: 10pt;\">&nbsp;</span>\n",
      " <!--sign Area start-->\n",
      " <div style=\"display: table; font-family: &quot;맑은 고딕&quot;; font-size: 10pt; line-height: 150%; margin-top: 0px; margin-bottom: 0px;\">\n",
      "  <div style=\"display: table-row; font-family: &quot;맑은 고딕&quot;; font-size: 10pt; line-height: 150%; margin-top: 0px; margin-bottom: 0px;\">\n",
      "   <div style=\"font-size: 9pt; vertical-align: top; display: table-cell; font-family: &quot;맑은 고딕&quot;; line-height: 150%; margin-top: 0px; margin-bottom: 0px;\">\n",
      "    <p style=\"line-height: 20px; margin: 0px; padding: 0px; clear: both; font-size: 10pt; word-break: normal !important; overflow-wrap: break-word !important; font-family: &quot;맑은 고딕&quot;;\">=========================================</p>\n",
      "    <p style=\"line-height: 20px; margin: 0px; padding: 0px; clear: both; font-size: 10pt; word-break: normal !important; overflow-wrap: break-word !important; font-family: &quot;맑은 고딕&quot;;\">&nbsp;</p>\n",
      "    <p style=\"line-height: 20px; margin: 0px; padding: 0px; clear: both; font-size: 10pt; word-break: normal !important; overflow-wrap: break-word !important; font-family: &quot;맑은 고딕&quot;;\">피피에스 주식회사</p>\n",
      "    <p style=\"line-height: 20px; margin: 0px; padding: 0px; clear: both; font-size: 10pt; word-break: normal !important; overflow-wrap: break-word !important; font-family: &quot;맑은 고딕&quot;;\">AI &amp; Data Lab / 연구원</p>\n",
      "    <p style=\"line-height: 20px; margin: 0px; padding: 0px; clear: both; font-size: 10pt; word-break: normal !important; overflow-wrap: break-word !important; font-family: &quot;맑은 고딕&quot;;\">김 나&nbsp;래</p>\n",
      "    <p style=\"line-height: 20px; margin: 0px; padding: 0px; clear: both; font-size: 10pt; word-break: normal !important; overflow-wrap: break-word !important; font-family: &quot;맑은 고딕&quot;;\">&nbsp;</p>\n",
      "    <p style=\"line-height: 20px; margin: 0px; padding: 0px; clear: both; font-size: 10pt; word-break: normal !important; overflow-wrap: break-word !important; font-family: &quot;맑은 고딕&quot;;\">&nbsp;</p>\n",
      "    <p style=\"line-height: 20px; margin: 0px; padding: 0px; clear: both; font-size: 10pt; word-break: normal !important; overflow-wrap: break-word !important; font-family: &quot;맑은 고딕&quot;;\">05043&nbsp;서울시&nbsp;광진구&nbsp;자양로 131 4층(자양동,&nbsp;K&amp;S빌딩)&nbsp;<br /></p>\n",
      "    <p style=\"line-height: 20px; margin: 0px; padding: 0px; clear: both; font-size: 10pt; word-break: normal !important; overflow-wrap: break-word !important; font-family: &quot;맑은 고딕&quot;;\">T. 070-7771-6307&nbsp; F. 02-562-4445&nbsp; M. 010-7522-3759</p>\n",
      "    <p style=\"line-height: 20px; margin: 0px; padding: 0px; clear: both; font-size: 10pt; word-break: normal !important; overflow-wrap: break-word !important; font-family: &quot;맑은 고딕&quot;;\">E. narae3759@ppsystem.co.kr</p>\n",
      "   </div>\n",
      "  </div>\n",
      " </div>\n",
      " <!--sign Area end-->\n",
      " <p style=\"font-family: &quot;맑은 고딕&quot;; font-size: 10pt; line-height: 150%; margin-top: 0px; margin-bottom: 0px;\">&nbsp;</p>\n",
      "</div>\n"
     ]
    }
   ],
   "source": [
    "# 본문 내용 추출\n",
    "html_content = \"\"\n",
    "for part in msg.walk():\n",
    "    content_type = part.get_content_type()\n",
    "    if content_type == \"text/html\":\n",
    "        try:\n",
    "            html_content = part.get_payload(decode=True).decode()\n",
    "        except:\n",
    "            html_content = part.get_payload(decode=True).decode(\"CP949\")\n",
    "\n",
    "print(html_content)"
   ]
  },
  {
   "cell_type": "code",
   "execution_count": 41,
   "metadata": {},
   "outputs": [
    {
     "name": "stdout",
     "output_type": "stream",
     "text": [
      "0128c005-9dfe-4d36-876b-4eec8d378654\n"
     ]
    }
   ],
   "source": [
    "# 이미지 추출\n",
    "img_path = Path(\"./\")\n",
    "img_sources = {}\n",
    "\n",
    "for part in msg.walk():\n",
    "    content_type = part.get_content_type()\n",
    "    if content_type.startswith(\"image\"):\n",
    "        cid = part.get(\"Content-ID\").strip(\"<>\")\n",
    "        filename = part.get_filename()\n",
    "        if not cid: continue # 본문에 이미지가 있는 경우에만 `Content-ID`가 있다. \n",
    "\n",
    "        file_path = img_path / part.get_filename()\n",
    "        img_sources[cid] = file_path\n",
    "        with open(file_path, 'wb') as img_file:\n",
    "            img_file.write(part.get_payload(decode=True))"
   ]
  },
  {
   "cell_type": "code",
   "execution_count": 42,
   "metadata": {},
   "outputs": [],
   "source": [
    "from bs4 import BeautifulSoup\n",
    "\n",
    "soup = BeautifulSoup(html_content)\n",
    "img_tags = soup.find_all(\"img\")\n",
    "for img in img_tags:\n",
    "    cid = img[\"src\"].lstrip(\"cid:\")\n",
    "    img[\"src\"] = img_sources[cid]\n",
    "html_content = str(soup)"
   ]
  },
  {
   "cell_type": "code",
   "execution_count": 106,
   "metadata": {},
   "outputs": [
    {
     "name": "stdout",
     "output_type": "stream",
     "text": [
      "attachment\n",
      "['제안요청서_AI기반 현안 해결형 데이터 분석모델_최종.hwp']\n"
     ]
    }
   ],
   "source": [
    "import email\n",
    "\n",
    "attached_files = []\n",
    "for part in msg.walk():\n",
    "    disposition = part.get_content_disposition()\n",
    "    if disposition==\"attachment\":\n",
    "        print(disposition)\n",
    "        filename = part.get_filename()\n",
    "        attached_files.append(filename)\n",
    "\n",
    "print(attached_files)"
   ]
  },
  {
   "cell_type": "code",
   "execution_count": 103,
   "metadata": {},
   "outputs": [
    {
     "data": {
      "text/plain": [
       "'attachment'"
      ]
     },
     "execution_count": 103,
     "metadata": {},
     "output_type": "execute_result"
    }
   ],
   "source": [
    "part.get_content_disposition()"
   ]
  },
  {
   "cell_type": "code",
   "execution_count": 113,
   "metadata": {},
   "outputs": [
    {
     "name": "stdout",
     "output_type": "stream",
     "text": [
      "<html><body><div class=\"TerraceMsg\">\n",
      "<p style='font-family: \"맑은 고딕\"; font-size: 10pt; line-height: 150%; margin-top: 0px; margin-bottom: 0px;'> </p>\n",
      "<p style='font-family: \"맑은 고딕\"; font-size: 10pt; line-height: 150%; margin-top: 0px; margin-bottom: 0px;'>이서준 대표님 안녕하세요. 피피에스의 김나래 연구원입니다. </p>\n",
      "<p style='font-family: \"맑은 고딕\"; font-size: 10pt; line-height: 150%; margin-top: 0px; margin-bottom: 0px;'> </p>\n",
      "<p style='font-family: \"맑은 고딕\"; font-size: 10pt; line-height: 150%; margin-top: 0px; margin-bottom: 0px;'>오늘 공유된 사업 공고를 전달드립니다. </p>\n",
      "<p style='font-family: \"맑은 고딕\"; font-size: 10pt; line-height: 150%; margin-top: 0px; margin-bottom: 0px;'> </p>\n",
      "<p style='font-family: \"맑은 고딕\"; font-size: 10pt; line-height: 150%; margin-top: 0px; margin-bottom: 0px;'>---</p>\n",
      "<p style='font-family: \"맑은 고딕\"; font-size: 10pt; line-height: 150%; margin-top: 0px; margin-bottom: 0px;'>- <b>사업 공고명</b>: <a href=\"https://www.daehanbid.co.kr/common/mail_bid.htm?ukey=ae67f4c79cb6324f17f6a61d5a1b1a46&amp;BidNo=2024061031971&amp;BidNoSeq=0&amp;Tname=Y&amp;Mem_ID=pps0697&amp;MemKey=07dc339004e4bf40957ffb4e286c496a&amp;\" target=\"_blank\">2024년 AI기반 현안 해결형 데이터 분석모델 개발 사업</a></p>\n",
      "<p style='font-family: \"맑은 고딕\"; font-size: 10pt; line-height: 150%; margin-top: 0px; margin-bottom: 0px;'><span style='font-size: 10pt; font-family: \"맑은 고딕\";'>- <b>참고 내용</b>:</span></p>\n",
      "<p style='font-family: \"맑은 고딕\"; font-size: 10pt; line-height: 150%; margin-top: 0px; margin-bottom: 0px;'><img src=\"C:\\Users\\user\\OneDrive\\바탕 화면\\김나래\\narae\\email_project\\clipboardImage.png\" style=\"width: 736px; height: 242px;\"/></p>\n",
      "<p style='font-family: \"맑은 고딕\"; font-size: 10pt; line-height: 150%; margin-top: 0px; margin-bottom: 0px;'><span style='font-size: 10pt; font-family: \"맑은 고딕\";'>    * 생성형 AI와 관련된 사업은 과제 4번이며, 분야는 RPA입니다.</span></p>\n",
      "<p style='font-family: \"맑은 고딕\"; font-size: 10pt; line-height: 150%; margin-top: 0px; margin-bottom: 0px;'><span style='font-size: 10pt; font-family: \"맑은 고딕\";'>    * 상세 내용은 17페이지에서 확인하실 수 있습니다. </span></p>\n",
      "<p style='font-family: \"맑은 고딕\"; font-size: 10pt; line-height: 150%; margin-top: 0px; margin-bottom: 0px;'>---</p>\n",
      "<p style='font-family: \"맑은 고딕\"; font-size: 10pt; line-height: 150%; margin-top: 0px; margin-bottom: 0px;'> </p>\n",
      "<p style='font-family: \"맑은 고딕\"; font-size: 10pt; line-height: 150%; margin-top: 0px; margin-bottom: 0px;'>이상입니다.</p>\n",
      "<p style='font-family: \"맑은 고딕\"; font-size: 10pt; line-height: 150%; margin-top: 0px; margin-bottom: 0px;'> </p>\n",
      "<p style='font-family: \"맑은 고딕\"; font-size: 10pt; line-height: 150%; margin-top: 0px; margin-bottom: 0px;'>감사합니다. </p>\n",
      "<p style='font-family: \"맑은 고딕\"; font-size: 10pt; line-height: 150%; margin-top: 0px; margin-bottom: 0px;'> </p>\n",
      "<p style='font-family: \"맑은 고딕\"; font-size: 10pt; line-height: 150%; margin-top: 0px; margin-bottom: 0px;'>- 김나래 드림</p>\n",
      "<p style='font-family: \"맑은 고딕\"; font-size: 10pt; line-height: 150%; margin-top: 0px; margin-bottom: 0px;'> </p>\n",
      "<p style='font-family: \"맑은 고딕\"; font-size: 10pt; line-height: 150%; margin-top: 0px; margin-bottom: 0px;'> </p>\n",
      "<p style='font-family: \"맑은 고딕\"; font-size: 10pt; line-height: 150%; margin-top: 0px; margin-bottom: 0px;'> </p>\n",
      "<p style='font-family: \"맑은 고딕\"; font-size: 10pt; line-height: 150%; margin-top: 0px; margin-bottom: 0px;'> </p>\n",
      "<span style='font-family: \"맑은 고딕\"; font-size: 10pt;'> </span>\n",
      "<!--sign Area start-->\n",
      "<div style='display: table; font-family: \"맑은 고딕\"; font-size: 10pt; line-height: 150%; margin-top: 0px; margin-bottom: 0px;'>\n",
      "<div style='display: table-row; font-family: \"맑은 고딕\"; font-size: 10pt; line-height: 150%; margin-top: 0px; margin-bottom: 0px;'>\n",
      "<div style='font-size: 9pt; vertical-align: top; display: table-cell; font-family: \"맑은 고딕\"; line-height: 150%; margin-top: 0px; margin-bottom: 0px;'>\n",
      "<p style='line-height: 20px; margin: 0px; padding: 0px; clear: both; font-size: 10pt; word-break: normal !important; overflow-wrap: break-word !important; font-family: \"맑은 고딕\";'>=========================================</p>\n",
      "<p style='line-height: 20px; margin: 0px; padding: 0px; clear: both; font-size: 10pt; word-break: normal !important; overflow-wrap: break-word !important; font-family: \"맑은 고딕\";'> </p>\n",
      "<p style='line-height: 20px; margin: 0px; padding: 0px; clear: both; font-size: 10pt; word-break: normal !important; overflow-wrap: break-word !important; font-family: \"맑은 고딕\";'>피피에스 주식회사</p>\n",
      "<p style='line-height: 20px; margin: 0px; padding: 0px; clear: both; font-size: 10pt; word-break: normal !important; overflow-wrap: break-word !important; font-family: \"맑은 고딕\";'>AI &amp; Data Lab / 연구원</p>\n",
      "<p style='line-height: 20px; margin: 0px; padding: 0px; clear: both; font-size: 10pt; word-break: normal !important; overflow-wrap: break-word !important; font-family: \"맑은 고딕\";'>김 나 래</p>\n",
      "<p style='line-height: 20px; margin: 0px; padding: 0px; clear: both; font-size: 10pt; word-break: normal !important; overflow-wrap: break-word !important; font-family: \"맑은 고딕\";'> </p>\n",
      "<p style='line-height: 20px; margin: 0px; padding: 0px; clear: both; font-size: 10pt; word-break: normal !important; overflow-wrap: break-word !important; font-family: \"맑은 고딕\";'> </p>\n",
      "<p style='line-height: 20px; margin: 0px; padding: 0px; clear: both; font-size: 10pt; word-break: normal !important; overflow-wrap: break-word !important; font-family: \"맑은 고딕\";'>05043 서울시 광진구 자양로 131 4층(자양동, K&amp;S빌딩) <br/></p>\n",
      "<p style='line-height: 20px; margin: 0px; padding: 0px; clear: both; font-size: 10pt; word-break: normal !important; overflow-wrap: break-word !important; font-family: \"맑은 고딕\";'>T. 070-7771-6307  F. 02-562-4445  M. 010-7522-3759</p>\n",
      "<p style='line-height: 20px; margin: 0px; padding: 0px; clear: both; font-size: 10pt; word-break: normal !important; overflow-wrap: break-word !important; font-family: \"맑은 고딕\";'>E. narae3759@ppsystem.co.kr</p>\n",
      "</div>\n",
      "</div>\n",
      "</div>\n",
      "<!--sign Area end-->\n",
      "<p style='font-family: \"맑은 고딕\"; font-size: 10pt; line-height: 150%; margin-top: 0px; margin-bottom: 0px;'> </p>\n",
      "</div></body></html>\n"
     ]
    }
   ],
   "source": [
    "# eml2html 최종 코드\n",
    "\n",
    "img_path = Path(\"./\")\n",
    "\n",
    "html_content = \"\"\n",
    "img_sources = {}\n",
    "attached_files = []\n",
    "\n",
    "# .eml 파일 읽기\n",
    "with open(eml_file_path, 'rb') as eml_file:\n",
    "    msg = BytesParser(policy=policy.default).parse(eml_file)\n",
    "\n",
    "# 추출\n",
    "for part in msg.walk():\n",
    "    content_type = part.get_content_type()\n",
    "    disposition = part.get_content_disposition()\n",
    "    filename = part.get_filename()\n",
    "    if content_type == \"text/html\":\n",
    "        try:\n",
    "            html_content = part.get_payload(decode=True).decode()\n",
    "        except:\n",
    "            html_content = part.get_payload(decode=True).decode(\"CP949\")\n",
    "\n",
    "    if disposition == \"inline\":\n",
    "        cid = part.get(\"Content-ID\").strip(\"<>\")\n",
    "\n",
    "        file_path = img_path / part.get_filename()\n",
    "        with open(file_path, 'wb') as img_file:\n",
    "            img_file.write(part.get_payload(decode=True))\n",
    "        \n",
    "        img_sources[cid] = file_path.resolve()\n",
    "    elif disposition == \"attachment\":\n",
    "        attached_files.append(filename)\n",
    "\n",
    "soup = BeautifulSoup(html_content)\n",
    "img_tags = soup.find_all(\"img\")\n",
    "for img in img_tags:\n",
    "    cid = img[\"src\"].lstrip(\"cid:\")\n",
    "    img[\"src\"] = img_sources[cid]\n",
    "html_content = str(soup)\n",
    "\n",
    "print(html_content)\n"
   ]
  },
  {
   "cell_type": "code",
   "execution_count": 114,
   "metadata": {},
   "outputs": [
    {
     "name": "stdout",
     "output_type": "stream",
     "text": [
      "{'Subject': '[피피에스] 사업 공고 전달의 건', 'To': 'hi@bitstep.it', 'From': '김나래 &lt;narae3759@ppsystem.co.kr&gt;', 'Cc': '박석준 &lt;parksj@ppsystem.co.kr&gt;', 'BCc': '', 'Date': 'Thu, 13 Jun 2024 18:09:46 +0900', 'Attached_Files': '제안요청서_AI기반 현안 해결형 데이터 분석모델_최종.hwp'}\n"
     ]
    }
   ],
   "source": [
    "# Headers 추출하기\n",
    "header_list = [\"Subject\", \"To\", \"From\", \"Cc\", \"BCc\", \"Date\", \"Attached_Files\"]\n",
    "headers = {}\n",
    "for key in header_list:\n",
    "    if key in msg:\n",
    "        headers[key] = msg[key].replace('<', '&lt;').replace('>', '&gt;')\n",
    "    else:\n",
    "        headers[key] = \"\"\n",
    "headers[\"Attached_Files\"] = '\\n'.join(attached_files)\n",
    "print(headers)"
   ]
  },
  {
   "cell_type": "code",
   "execution_count": 132,
   "metadata": {},
   "outputs": [
    {
     "data": {
      "text/plain": [
       "'박석준 &lt;parksj@ppsystem.co.kr&gt;'"
      ]
     },
     "execution_count": 132,
     "metadata": {},
     "output_type": "execute_result"
    }
   ],
   "source": [
    "test = '박석준 <parksj@ppsystem.co.kr>'\n",
    "test.replace('<', '&lt;').replace('>', '&gt;')"
   ]
  },
  {
   "cell_type": "code",
   "execution_count": 133,
   "metadata": {},
   "outputs": [
    {
     "name": "stdout",
     "output_type": "stream",
     "text": [
      "김나래 &lt;narae3759@gmail.co.kr&gt;\n"
     ]
    }
   ],
   "source": [
    "import html \n",
    "\n",
    "text = \"김나래 <narae3759@gmail.co.kr>\"\n",
    "print(html.escape(text))"
   ]
  },
  {
   "cell_type": "code",
   "execution_count": 124,
   "metadata": {},
   "outputs": [],
   "source": [
    "html_header = f\"\"\"\n",
    "<div class=\"header\">\n",
    "    <p style='font-size:24px;'><strong>제목:</strong> {headers['Subject']}</p>\n",
    "    <p><strong>보낸사람:</strong> {headers['From']}</p>\n",
    "    <p><strong>받는사람:</strong> {headers['To']}</p>\n",
    "    <p><strong>참조:</strong> {headers['Cc']}</p>\n",
    "    <p><strong>숨은참조:</strong> {headers['BCc']}</p>\n",
    "    <p><strong>보낸날짜:</strong> {headers['Date']}</p>\n",
    "    <p><strong>첨부파일:</strong> {headers['Attached_Files']}</p>\n",
    "</div>\n",
    "\"\"\""
   ]
  },
  {
   "cell_type": "code",
   "execution_count": 128,
   "metadata": {},
   "outputs": [],
   "source": [
    "html = f\"\"\"\n",
    "<html>\n",
    "<head>\n",
    "    <meta charset=\"UTF-8\">\n",
    "    <style>\n",
    "        body {{ font-family: 맑은 고딕; }}\n",
    "        .header {{ font-size: 13px; }}\n",
    "    </style>\n",
    "</head>\n",
    "<body>\n",
    "    <hr>\n",
    "    {html_header}\n",
    "    <hr>    \n",
    "    {html_content}\n",
    "</body>\n",
    "</html>\n",
    "\"\"\""
   ]
  },
  {
   "cell_type": "code",
   "execution_count": 129,
   "metadata": {},
   "outputs": [
    {
     "name": "stdout",
     "output_type": "stream",
     "text": [
      "\n",
      "<html>\n",
      "<head>\n",
      "    <meta charset=\"UTF-8\">\n",
      "    <style>\n",
      "        body { font-family: 맑은 고딕; }\n",
      "        .header { font-size: 13px; }\n",
      "    </style>\n",
      "</head>\n",
      "<body>\n",
      "    <hr>\n",
      "    \n",
      "<div class=\"header\">\n",
      "    <p style='font-size:24px;'><strong>제목:</strong> [피피에스] 사업 공고 전달의 건</p>\n",
      "    <p><strong>보낸사람:</strong> 김나래 &lt;narae3759@ppsystem.co.kr&gt;</p>\n",
      "    <p><strong>받는사람:</strong> hi@bitstep.it</p>\n",
      "    <p><strong>참조:</strong> 박석준 &lt;parksj@ppsystem.co.kr&gt;</p>\n",
      "    <p><strong>숨은참조:</strong> </p>\n",
      "    <p><strong>보낸날짜:</strong> Thu, 13 Jun 2024 18:09:46 +0900</p>\n",
      "    <p><strong>첨부파일:</strong> 제안요청서_AI기반 현안 해결형 데이터 분석모델_최종.hwp</p>\n",
      "</div>\n",
      "\n",
      "    <hr>    \n",
      "    <html><body><div class=\"TerraceMsg\">\n",
      "<p style='font-family: \"맑은 고딕\"; font-size: 10pt; line-height: 150%; margin-top: 0px; margin-bottom: 0px;'> </p>\n",
      "<p style='font-family: \"맑은 고딕\"; font-size: 10pt; line-height: 150%; margin-top: 0px; margin-bottom: 0px;'>이서준 대표님 안녕하세요. 피피에스의 김나래 연구원입니다. </p>\n",
      "<p style='font-family: \"맑은 고딕\"; font-size: 10pt; line-height: 150%; margin-top: 0px; margin-bottom: 0px;'> </p>\n",
      "<p style='font-family: \"맑은 고딕\"; font-size: 10pt; line-height: 150%; margin-top: 0px; margin-bottom: 0px;'>오늘 공유된 사업 공고를 전달드립니다. </p>\n",
      "<p style='font-family: \"맑은 고딕\"; font-size: 10pt; line-height: 150%; margin-top: 0px; margin-bottom: 0px;'> </p>\n",
      "<p style='font-family: \"맑은 고딕\"; font-size: 10pt; line-height: 150%; margin-top: 0px; margin-bottom: 0px;'>---</p>\n",
      "<p style='font-family: \"맑은 고딕\"; font-size: 10pt; line-height: 150%; margin-top: 0px; margin-bottom: 0px;'>- <b>사업 공고명</b>: <a href=\"https://www.daehanbid.co.kr/common/mail_bid.htm?ukey=ae67f4c79cb6324f17f6a61d5a1b1a46&amp;BidNo=2024061031971&amp;BidNoSeq=0&amp;Tname=Y&amp;Mem_ID=pps0697&amp;MemKey=07dc339004e4bf40957ffb4e286c496a&amp;\" target=\"_blank\">2024년 AI기반 현안 해결형 데이터 분석모델 개발 사업</a></p>\n",
      "<p style='font-family: \"맑은 고딕\"; font-size: 10pt; line-height: 150%; margin-top: 0px; margin-bottom: 0px;'><span style='font-size: 10pt; font-family: \"맑은 고딕\";'>- <b>참고 내용</b>:</span></p>\n",
      "<p style='font-family: \"맑은 고딕\"; font-size: 10pt; line-height: 150%; margin-top: 0px; margin-bottom: 0px;'><img src=\"C:\\Users\\user\\OneDrive\\바탕 화면\\김나래\\narae\\email_project\\clipboardImage.png\" style=\"width: 736px; height: 242px;\"/></p>\n",
      "<p style='font-family: \"맑은 고딕\"; font-size: 10pt; line-height: 150%; margin-top: 0px; margin-bottom: 0px;'><span style='font-size: 10pt; font-family: \"맑은 고딕\";'>    * 생성형 AI와 관련된 사업은 과제 4번이며, 분야는 RPA입니다.</span></p>\n",
      "<p style='font-family: \"맑은 고딕\"; font-size: 10pt; line-height: 150%; margin-top: 0px; margin-bottom: 0px;'><span style='font-size: 10pt; font-family: \"맑은 고딕\";'>    * 상세 내용은 17페이지에서 확인하실 수 있습니다. </span></p>\n",
      "<p style='font-family: \"맑은 고딕\"; font-size: 10pt; line-height: 150%; margin-top: 0px; margin-bottom: 0px;'>---</p>\n",
      "<p style='font-family: \"맑은 고딕\"; font-size: 10pt; line-height: 150%; margin-top: 0px; margin-bottom: 0px;'> </p>\n",
      "<p style='font-family: \"맑은 고딕\"; font-size: 10pt; line-height: 150%; margin-top: 0px; margin-bottom: 0px;'>이상입니다.</p>\n",
      "<p style='font-family: \"맑은 고딕\"; font-size: 10pt; line-height: 150%; margin-top: 0px; margin-bottom: 0px;'> </p>\n",
      "<p style='font-family: \"맑은 고딕\"; font-size: 10pt; line-height: 150%; margin-top: 0px; margin-bottom: 0px;'>감사합니다. </p>\n",
      "<p style='font-family: \"맑은 고딕\"; font-size: 10pt; line-height: 150%; margin-top: 0px; margin-bottom: 0px;'> </p>\n",
      "<p style='font-family: \"맑은 고딕\"; font-size: 10pt; line-height: 150%; margin-top: 0px; margin-bottom: 0px;'>- 김나래 드림</p>\n",
      "<p style='font-family: \"맑은 고딕\"; font-size: 10pt; line-height: 150%; margin-top: 0px; margin-bottom: 0px;'> </p>\n",
      "<p style='font-family: \"맑은 고딕\"; font-size: 10pt; line-height: 150%; margin-top: 0px; margin-bottom: 0px;'> </p>\n",
      "<p style='font-family: \"맑은 고딕\"; font-size: 10pt; line-height: 150%; margin-top: 0px; margin-bottom: 0px;'> </p>\n",
      "<p style='font-family: \"맑은 고딕\"; font-size: 10pt; line-height: 150%; margin-top: 0px; margin-bottom: 0px;'> </p>\n",
      "<span style='font-family: \"맑은 고딕\"; font-size: 10pt;'> </span>\n",
      "<!--sign Area start-->\n",
      "<div style='display: table; font-family: \"맑은 고딕\"; font-size: 10pt; line-height: 150%; margin-top: 0px; margin-bottom: 0px;'>\n",
      "<div style='display: table-row; font-family: \"맑은 고딕\"; font-size: 10pt; line-height: 150%; margin-top: 0px; margin-bottom: 0px;'>\n",
      "<div style='font-size: 9pt; vertical-align: top; display: table-cell; font-family: \"맑은 고딕\"; line-height: 150%; margin-top: 0px; margin-bottom: 0px;'>\n",
      "<p style='line-height: 20px; margin: 0px; padding: 0px; clear: both; font-size: 10pt; word-break: normal !important; overflow-wrap: break-word !important; font-family: \"맑은 고딕\";'>=========================================</p>\n",
      "<p style='line-height: 20px; margin: 0px; padding: 0px; clear: both; font-size: 10pt; word-break: normal !important; overflow-wrap: break-word !important; font-family: \"맑은 고딕\";'> </p>\n",
      "<p style='line-height: 20px; margin: 0px; padding: 0px; clear: both; font-size: 10pt; word-break: normal !important; overflow-wrap: break-word !important; font-family: \"맑은 고딕\";'>피피에스 주식회사</p>\n",
      "<p style='line-height: 20px; margin: 0px; padding: 0px; clear: both; font-size: 10pt; word-break: normal !important; overflow-wrap: break-word !important; font-family: \"맑은 고딕\";'>AI &amp; Data Lab / 연구원</p>\n",
      "<p style='line-height: 20px; margin: 0px; padding: 0px; clear: both; font-size: 10pt; word-break: normal !important; overflow-wrap: break-word !important; font-family: \"맑은 고딕\";'>김 나 래</p>\n",
      "<p style='line-height: 20px; margin: 0px; padding: 0px; clear: both; font-size: 10pt; word-break: normal !important; overflow-wrap: break-word !important; font-family: \"맑은 고딕\";'> </p>\n",
      "<p style='line-height: 20px; margin: 0px; padding: 0px; clear: both; font-size: 10pt; word-break: normal !important; overflow-wrap: break-word !important; font-family: \"맑은 고딕\";'> </p>\n",
      "<p style='line-height: 20px; margin: 0px; padding: 0px; clear: both; font-size: 10pt; word-break: normal !important; overflow-wrap: break-word !important; font-family: \"맑은 고딕\";'>05043 서울시 광진구 자양로 131 4층(자양동, K&amp;S빌딩) <br/></p>\n",
      "<p style='line-height: 20px; margin: 0px; padding: 0px; clear: both; font-size: 10pt; word-break: normal !important; overflow-wrap: break-word !important; font-family: \"맑은 고딕\";'>T. 070-7771-6307  F. 02-562-4445  M. 010-7522-3759</p>\n",
      "<p style='line-height: 20px; margin: 0px; padding: 0px; clear: both; font-size: 10pt; word-break: normal !important; overflow-wrap: break-word !important; font-family: \"맑은 고딕\";'>E. narae3759@ppsystem.co.kr</p>\n",
      "</div>\n",
      "</div>\n",
      "</div>\n",
      "<!--sign Area end-->\n",
      "<p style='font-family: \"맑은 고딕\"; font-size: 10pt; line-height: 150%; margin-top: 0px; margin-bottom: 0px;'> </p>\n",
      "</div></body></html>\n",
      "</body>\n",
      "</html>\n",
      "\n"
     ]
    }
   ],
   "source": [
    "print(html)"
   ]
  },
  {
   "cell_type": "code",
   "execution_count": 117,
   "metadata": {},
   "outputs": [],
   "source": [
    "import pdfkit\n",
    "\n",
    "config = pdfkit.configuration(wkhtmltopdf=\"C:/Program Files/wkhtmltopdf/bin/wkhtmltopdf.exe\")\n",
    "options = {\n",
    "    \"encoding\": \"UTF-8\",\n",
    "    \"enable-local-file-access\": None\n",
    "}"
   ]
  },
  {
   "cell_type": "code",
   "execution_count": 130,
   "metadata": {},
   "outputs": [
    {
     "data": {
      "text/plain": [
       "True"
      ]
     },
     "execution_count": 130,
     "metadata": {},
     "output_type": "execute_result"
    }
   ],
   "source": [
    "pdfkit.from_string(html, 'test.pdf', configuration=config, options=options)"
   ]
  },
  {
   "cell_type": "code",
   "execution_count": 39,
   "metadata": {},
   "outputs": [
    {
     "data": {
      "text/plain": [
       "'박석준 &lt;parksj@ppsystem.co.kr&gt;'"
      ]
     },
     "execution_count": 39,
     "metadata": {},
     "output_type": "execute_result"
    }
   ],
   "source": [
    "headers['Cc']"
   ]
  },
  {
   "cell_type": "code",
   "execution_count": 70,
   "metadata": {},
   "outputs": [],
   "source": [
    "html_header = f\"\"\"/\n",
    "<div class=\"header\">\n",
    "    <p style='font-size:24px;'><strong>제목:</strong> {headers['Subject']}</p>\n",
    "    <p><strong>보낸사람:</strong> {headers['From']}</p>\n",
    "    <p><strong>받는사람:</strong> {headers['To']}</p>\n",
    "    <p><strong>참조:</strong> {headers['Cc']}</p>\n",
    "    <p><strong>숨은참조:</strong> {headers['BCc']}</p>\n",
    "    <p><strong>보낸날짜:</strong> {headers['Date']}</p>\n",
    "</div>\n",
    "\"\"\""
   ]
  },
  {
   "cell_type": "code",
   "execution_count": 29,
   "metadata": {},
   "outputs": [
    {
     "data": {
      "text/plain": [
       "'<div class=\"TerraceMsg\">\\n <p style=\"font-family: &quot;맑은 고딕&quot;; font-size: 10pt; line-height: 150%; margin-top: 0px; margin-bottom: 0px;\">&nbsp;</p>\\n <p style=\"font-family: &quot;맑은 고딕&quot;; font-size: 10pt; line-height: 150%; margin-top: 0px; margin-bottom: 0px;\">이서준 대표님 안녕하세요. 피피에스의 김나래 연구원입니다.&nbsp;</p>\\n <p style=\"font-family: &quot;맑은 고딕&quot;; font-size: 10pt; line-height: 150%; margin-top: 0px; margin-bottom: 0px;\">&nbsp;</p>\\n <p style=\"font-family: &quot;맑은 고딕&quot;; font-size: 10pt; line-height: 150%; margin-top: 0px; margin-bottom: 0px;\">오늘 공유된&nbsp;사업 공고를 전달드립니다.&nbsp;</p>\\n <p style=\"font-family: &quot;맑은 고딕&quot;; font-size: 10pt; line-height: 150%; margin-top: 0px; margin-bottom: 0px;\">&nbsp;</p>\\n <p style=\"font-family: &quot;맑은 고딕&quot;; font-size: 10pt; line-height: 150%; margin-top: 0px; margin-bottom: 0px;\">---</p>\\n <p style=\"font-family: &quot;맑은 고딕&quot;; font-size: 10pt; line-height: 150%; margin-top: 0px; margin-bottom: 0px;\">- <b>사업 공고명</b>: <a href=\"https://www.daehanbid.co.kr/common/mail_bid.htm?ukey=ae67f4c79cb6324f17f6a61d5a1b1a46&amp;BidNo=2024061031971&amp;BidNoSeq=0&amp;Tname=Y&amp;Mem_ID=pps0697&amp;MemKey=07dc339004e4bf40957ffb4e286c496a&amp;\" target=\"_blank\">2024년 AI기반 현안 해결형 데이터 분석모델 개발 사업</a></p>\\n <p style=\"font-family: &quot;맑은 고딕&quot;; font-size: 10pt; line-height: 150%; margin-top: 0px; margin-bottom: 0px;\"><span style=\"font-size: 10pt; font-family: &quot;맑은 고딕&quot;;\">- <b>참고 내용</b>:</span></p>\\n <p style=\"font-family: &quot;맑은 고딕&quot;; font-size: 10pt; line-height: 150%; margin-top: 0px; margin-bottom: 0px;\"><img src=\"cid:0128c005-9dfe-4d36-876b-4eec8d378654\" style=\"width: 736px; height: 242px;\" /></p>\\n <p style=\"font-family: &quot;맑은 고딕&quot;; font-size: 10pt; line-height: 150%; margin-top: 0px; margin-bottom: 0px;\"><span style=\"font-size: 10pt; font-family: &quot;맑은 고딕&quot;;\">&nbsp; &nbsp; * 생성형 AI와 관련된 사업은 과제 4번이며, 분야는 RPA입니다.</span></p>\\n <p style=\"font-family: &quot;맑은 고딕&quot;; font-size: 10pt; line-height: 150%; margin-top: 0px; margin-bottom: 0px;\"><span style=\"font-size: 10pt; font-family: &quot;맑은 고딕&quot;;\">&nbsp; &nbsp; * 상세 내용은 17페이지에서 확인하실 수 있습니다.&nbsp;</span></p>\\n <p style=\"font-family: &quot;맑은 고딕&quot;; font-size: 10pt; line-height: 150%; margin-top: 0px; margin-bottom: 0px;\">---</p>\\n <p style=\"font-family: &quot;맑은 고딕&quot;; font-size: 10pt; line-height: 150%; margin-top: 0px; margin-bottom: 0px;\">&nbsp;</p>\\n <p style=\"font-family: &quot;맑은 고딕&quot;; font-size: 10pt; line-height: 150%; margin-top: 0px; margin-bottom: 0px;\">이상입니다.</p>\\n <p style=\"font-family: &quot;맑은 고딕&quot;; font-size: 10pt; line-height: 150%; margin-top: 0px; margin-bottom: 0px;\">&nbsp;</p>\\n <p style=\"font-family: &quot;맑은 고딕&quot;; font-size: 10pt; line-height: 150%; margin-top: 0px; margin-bottom: 0px;\">감사합니다.&nbsp;</p>\\n <p style=\"font-family: &quot;맑은 고딕&quot;; font-size: 10pt; line-height: 150%; margin-top: 0px; margin-bottom: 0px;\">&nbsp;</p>\\n <p style=\"font-family: &quot;맑은 고딕&quot;; font-size: 10pt; line-height: 150%; margin-top: 0px; margin-bottom: 0px;\">- 김나래 드림</p>\\n <p style=\"font-family: &quot;맑은 고딕&quot;; font-size: 10pt; line-height: 150%; margin-top: 0px; margin-bottom: 0px;\">&nbsp;</p>\\n <p style=\"font-family: &quot;맑은 고딕&quot;; font-size: 10pt; line-height: 150%; margin-top: 0px; margin-bottom: 0px;\">&nbsp;</p>\\n <p style=\"font-family: &quot;맑은 고딕&quot;; font-size: 10pt; line-height: 150%; margin-top: 0px; margin-bottom: 0px;\">&nbsp;</p>\\n <p style=\"font-family: &quot;맑은 고딕&quot;; font-size: 10pt; line-height: 150%; margin-top: 0px; margin-bottom: 0px;\">&nbsp;</p>\\n <span style=\"font-family: &quot;맑은 고딕&quot;; font-size: 10pt;\">&nbsp;</span>\\n <!--sign Area start-->\\n <div style=\"display: table; font-family: &quot;맑은 고딕&quot;; font-size: 10pt; line-height: 150%; margin-top: 0px; margin-bottom: 0px;\">\\n  <div style=\"display: table-row; font-family: &quot;맑은 고딕&quot;; font-size: 10pt; line-height: 150%; margin-top: 0px; margin-bottom: 0px;\">\\n   <div style=\"font-size: 9pt; vertical-align: top; display: table-cell; font-family: &quot;맑은 고딕&quot;; line-height: 150%; margin-top: 0px; margin-bottom: 0px;\">\\n    <p style=\"line-height: 20px; margin: 0px; padding: 0px; clear: both; font-size: 10pt; word-break: normal !important; overflow-wrap: break-word !important; font-family: &quot;맑은 고딕&quot;;\">=========================================</p>\\n    <p style=\"line-height: 20px; margin: 0px; padding: 0px; clear: both; font-size: 10pt; word-break: normal !important; overflow-wrap: break-word !important; font-family: &quot;맑은 고딕&quot;;\">&nbsp;</p>\\n    <p style=\"line-height: 20px; margin: 0px; padding: 0px; clear: both; font-size: 10pt; word-break: normal !important; overflow-wrap: break-word !important; font-family: &quot;맑은 고딕&quot;;\">피피에스 주식회사</p>\\n    <p style=\"line-height: 20px; margin: 0px; padding: 0px; clear: both; font-size: 10pt; word-break: normal !important; overflow-wrap: break-word !important; font-family: &quot;맑은 고딕&quot;;\">AI &amp; Data Lab / 연구원</p>\\n    <p style=\"line-height: 20px; margin: 0px; padding: 0px; clear: both; font-size: 10pt; word-break: normal !important; overflow-wrap: break-word !important; font-family: &quot;맑은 고딕&quot;;\">김 나&nbsp;래</p>\\n    <p style=\"line-height: 20px; margin: 0px; padding: 0px; clear: both; font-size: 10pt; word-break: normal !important; overflow-wrap: break-word !important; font-family: &quot;맑은 고딕&quot;;\">&nbsp;</p>\\n    <p style=\"line-height: 20px; margin: 0px; padding: 0px; clear: both; font-size: 10pt; word-break: normal !important; overflow-wrap: break-word !important; font-family: &quot;맑은 고딕&quot;;\">&nbsp;</p>\\n    <p style=\"line-height: 20px; margin: 0px; padding: 0px; clear: both; font-size: 10pt; word-break: normal !important; overflow-wrap: break-word !important; font-family: &quot;맑은 고딕&quot;;\">05043&nbsp;서울시&nbsp;광진구&nbsp;자양로 131 4층(자양동,&nbsp;K&amp;S빌딩)&nbsp;<br /></p>\\n    <p style=\"line-height: 20px; margin: 0px; padding: 0px; clear: both; font-size: 10pt; word-break: normal !important; overflow-wrap: break-word !important; font-family: &quot;맑은 고딕&quot;;\">T. 070-7771-6307&nbsp; F. 02-562-4445&nbsp; M. 010-7522-3759</p>\\n    <p style=\"line-height: 20px; margin: 0px; padding: 0px; clear: both; font-size: 10pt; word-break: normal !important; overflow-wrap: break-word !important; font-family: &quot;맑은 고딕&quot;;\">E. narae3759@ppsystem.co.kr</p>\\n   </div>\\n  </div>\\n </div>\\n <!--sign Area end-->\\n <p style=\"font-family: &quot;맑은 고딕&quot;; font-size: 10pt; line-height: 150%; margin-top: 0px; margin-bottom: 0px;\">&nbsp;</p>\\n</div>'"
      ]
     },
     "execution_count": 29,
     "metadata": {},
     "output_type": "execute_result"
    }
   ],
   "source": [
    "html_content"
   ]
  },
  {
   "cell_type": "code",
   "execution_count": 100,
   "metadata": {},
   "outputs": [],
   "source": [
    "html = f\"\"\"/\n",
    "<html>\n",
    "<head>\n",
    "    <meta charset=\"UTF-8\">\n",
    "    <style>\n",
    "        body {{ font-family: 맑은 고딕; }}\n",
    "        .header {{ font-size: 13px; }}\n",
    "    </style>\n",
    "</head>\n",
    "<body>\n",
    "    <hr>\n",
    "    {html_header}\n",
    "    <hr>    \n",
    "    {html_content}\n",
    "</body>\n",
    "</html>\n",
    "\"\"\""
   ]
  },
  {
   "cell_type": "code",
   "execution_count": 101,
   "metadata": {},
   "outputs": [
    {
     "name": "stdout",
     "output_type": "stream",
     "text": [
      "/\n",
      "<html>\n",
      "<head>\n",
      "    <meta charset=\"UTF-8\">\n",
      "    <style>\n",
      "        body { font-family: 맑은 고딕; }\n",
      "        .header { font-size: 13px; }\n",
      "    </style>\n",
      "</head>\n",
      "<body>\n",
      "    <hr>\n",
      "    <div class=\"header\">\n",
      "    <p style='font-size:24px;'><strong>제목:</strong> [피피에스] 사업 공고 전달의 건</p>\n",
      "    <p><strong>보낸사람:</strong> 김나래 &lt;narae3759@ppsystem.co.kr&gt;</p>\n",
      "    <p><strong>받는사람:</strong> hi@bitstep.it</p>\n",
      "    <p><strong>참조:</strong> 박석준 &lt;parksj@ppsystem.co.kr&gt;</p>\n",
      "    <p><strong>숨은참조:</strong> </p>\n",
      "    <p><strong>보낸날짜:</strong> Thu, 13 Jun 2024 18:09:46 +0900</p>\n",
      "</div>\n",
      "\n",
      "    <hr>    \n",
      "    <html><body><div class=\"TerraceMsg\">\n",
      "<p style='font-family: \"맑은 고딕\"; font-size: 10pt; line-height: 150%; margin-top: 0px; margin-bottom: 0px;'> </p>\n",
      "<p style='font-family: \"맑은 고딕\"; font-size: 10pt; line-height: 150%; margin-top: 0px; margin-bottom: 0px;'>이서준 대표님 안녕하세요. 피피에스의 김나래 연구원입니다. </p>\n",
      "<p style='font-family: \"맑은 고딕\"; font-size: 10pt; line-height: 150%; margin-top: 0px; margin-bottom: 0px;'> </p>\n",
      "<p style='font-family: \"맑은 고딕\"; font-size: 10pt; line-height: 150%; margin-top: 0px; margin-bottom: 0px;'>오늘 공유된 사업 공고를 전달드립니다. </p>\n",
      "<p style='font-family: \"맑은 고딕\"; font-size: 10pt; line-height: 150%; margin-top: 0px; margin-bottom: 0px;'> </p>\n",
      "<p style='font-family: \"맑은 고딕\"; font-size: 10pt; line-height: 150%; margin-top: 0px; margin-bottom: 0px;'>---</p>\n",
      "<p style='font-family: \"맑은 고딕\"; font-size: 10pt; line-height: 150%; margin-top: 0px; margin-bottom: 0px;'>- <b>사업 공고명</b>: <a href=\"https://www.daehanbid.co.kr/common/mail_bid.htm?ukey=ae67f4c79cb6324f17f6a61d5a1b1a46&amp;BidNo=2024061031971&amp;BidNoSeq=0&amp;Tname=Y&amp;Mem_ID=pps0697&amp;MemKey=07dc339004e4bf40957ffb4e286c496a&amp;\" target=\"_blank\">2024년 AI기반 현안 해결형 데이터 분석모델 개발 사업</a></p>\n",
      "<p style='font-family: \"맑은 고딕\"; font-size: 10pt; line-height: 150%; margin-top: 0px; margin-bottom: 0px;'><span style='font-size: 10pt; font-family: \"맑은 고딕\";'>- <b>참고 내용</b>:</span></p>\n",
      "<p style='font-family: \"맑은 고딕\"; font-size: 10pt; line-height: 150%; margin-top: 0px; margin-bottom: 0px;'><img src=\"C:/Users/user/OneDrive/바탕 화면/김나래/narae/clipboardImage.png\" style=\"width: 736px; height: 242px;\"/></p>\n",
      "<p style='font-family: \"맑은 고딕\"; font-size: 10pt; line-height: 150%; margin-top: 0px; margin-bottom: 0px;'><span style='font-size: 10pt; font-family: \"맑은 고딕\";'>    * 생성형 AI와 관련된 사업은 과제 4번이며, 분야는 RPA입니다.</span></p>\n",
      "<p style='font-family: \"맑은 고딕\"; font-size: 10pt; line-height: 150%; margin-top: 0px; margin-bottom: 0px;'><span style='font-size: 10pt; font-family: \"맑은 고딕\";'>    * 상세 내용은 17페이지에서 확인하실 수 있습니다. </span></p>\n",
      "<p style='font-family: \"맑은 고딕\"; font-size: 10pt; line-height: 150%; margin-top: 0px; margin-bottom: 0px;'>---</p>\n",
      "<p style='font-family: \"맑은 고딕\"; font-size: 10pt; line-height: 150%; margin-top: 0px; margin-bottom: 0px;'> </p>\n",
      "<p style='font-family: \"맑은 고딕\"; font-size: 10pt; line-height: 150%; margin-top: 0px; margin-bottom: 0px;'>이상입니다.</p>\n",
      "<p style='font-family: \"맑은 고딕\"; font-size: 10pt; line-height: 150%; margin-top: 0px; margin-bottom: 0px;'> </p>\n",
      "<p style='font-family: \"맑은 고딕\"; font-size: 10pt; line-height: 150%; margin-top: 0px; margin-bottom: 0px;'>감사합니다. </p>\n",
      "<p style='font-family: \"맑은 고딕\"; font-size: 10pt; line-height: 150%; margin-top: 0px; margin-bottom: 0px;'> </p>\n",
      "<p style='font-family: \"맑은 고딕\"; font-size: 10pt; line-height: 150%; margin-top: 0px; margin-bottom: 0px;'>- 김나래 드림</p>\n",
      "<p style='font-family: \"맑은 고딕\"; font-size: 10pt; line-height: 150%; margin-top: 0px; margin-bottom: 0px;'> </p>\n",
      "<p style='font-family: \"맑은 고딕\"; font-size: 10pt; line-height: 150%; margin-top: 0px; margin-bottom: 0px;'> </p>\n",
      "<p style='font-family: \"맑은 고딕\"; font-size: 10pt; line-height: 150%; margin-top: 0px; margin-bottom: 0px;'> </p>\n",
      "<p style='font-family: \"맑은 고딕\"; font-size: 10pt; line-height: 150%; margin-top: 0px; margin-bottom: 0px;'> </p>\n",
      "<span style='font-family: \"맑은 고딕\"; font-size: 10pt;'> </span>\n",
      "<!--sign Area start-->\n",
      "<div style='display: table; font-family: \"맑은 고딕\"; font-size: 10pt; line-height: 150%; margin-top: 0px; margin-bottom: 0px;'>\n",
      "<div style='display: table-row; font-family: \"맑은 고딕\"; font-size: 10pt; line-height: 150%; margin-top: 0px; margin-bottom: 0px;'>\n",
      "<div style='font-size: 9pt; vertical-align: top; display: table-cell; font-family: \"맑은 고딕\"; line-height: 150%; margin-top: 0px; margin-bottom: 0px;'>\n",
      "<p style='line-height: 20px; margin: 0px; padding: 0px; clear: both; font-size: 10pt; word-break: normal !important; overflow-wrap: break-word !important; font-family: \"맑은 고딕\";'>=========================================</p>\n",
      "<p style='line-height: 20px; margin: 0px; padding: 0px; clear: both; font-size: 10pt; word-break: normal !important; overflow-wrap: break-word !important; font-family: \"맑은 고딕\";'> </p>\n",
      "<p style='line-height: 20px; margin: 0px; padding: 0px; clear: both; font-size: 10pt; word-break: normal !important; overflow-wrap: break-word !important; font-family: \"맑은 고딕\";'>피피에스 주식회사</p>\n",
      "<p style='line-height: 20px; margin: 0px; padding: 0px; clear: both; font-size: 10pt; word-break: normal !important; overflow-wrap: break-word !important; font-family: \"맑은 고딕\";'>AI &amp; Data Lab / 연구원</p>\n",
      "<p style='line-height: 20px; margin: 0px; padding: 0px; clear: both; font-size: 10pt; word-break: normal !important; overflow-wrap: break-word !important; font-family: \"맑은 고딕\";'>김 나 래</p>\n",
      "<p style='line-height: 20px; margin: 0px; padding: 0px; clear: both; font-size: 10pt; word-break: normal !important; overflow-wrap: break-word !important; font-family: \"맑은 고딕\";'> </p>\n",
      "<p style='line-height: 20px; margin: 0px; padding: 0px; clear: both; font-size: 10pt; word-break: normal !important; overflow-wrap: break-word !important; font-family: \"맑은 고딕\";'> </p>\n",
      "<p style='line-height: 20px; margin: 0px; padding: 0px; clear: both; font-size: 10pt; word-break: normal !important; overflow-wrap: break-word !important; font-family: \"맑은 고딕\";'>05043 서울시 광진구 자양로 131 4층(자양동, K&amp;S빌딩) <br/></p>\n",
      "<p style='line-height: 20px; margin: 0px; padding: 0px; clear: both; font-size: 10pt; word-break: normal !important; overflow-wrap: break-word !important; font-family: \"맑은 고딕\";'>T. 070-7771-6307  F. 02-562-4445  M. 010-7522-3759</p>\n",
      "<p style='line-height: 20px; margin: 0px; padding: 0px; clear: both; font-size: 10pt; word-break: normal !important; overflow-wrap: break-word !important; font-family: \"맑은 고딕\";'>E. narae3759@ppsystem.co.kr</p>\n",
      "</div>\n",
      "</div>\n",
      "</div>\n",
      "<!--sign Area end-->\n",
      "<p style='font-family: \"맑은 고딕\"; font-size: 10pt; line-height: 150%; margin-top: 0px; margin-bottom: 0px;'> </p>\n",
      "</div></body></html>\n",
      "</body>\n",
      "</html>\n",
      "\n"
     ]
    }
   ],
   "source": [
    "print(html)"
   ]
  },
  {
   "cell_type": "code",
   "execution_count": 85,
   "metadata": {},
   "outputs": [],
   "source": [
    "import pdfkit\n",
    "\n",
    "config = pdfkit.configuration(wkhtmltopdf=\"C:/Program Files/wkhtmltopdf/bin/wkhtmltopdf.exe\")\n",
    "options = {\n",
    "    \"encoding\": \"UTF-8\",\n",
    "    \"enable-local-file-access\": None\n",
    "}"
   ]
  },
  {
   "cell_type": "code",
   "execution_count": 102,
   "metadata": {},
   "outputs": [
    {
     "data": {
      "text/plain": [
       "True"
      ]
     },
     "execution_count": 102,
     "metadata": {},
     "output_type": "execute_result"
    }
   ],
   "source": [
    "pdfkit.from_string(html, 'test.pdf', configuration=config, options=options)"
   ]
  },
  {
   "cell_type": "code",
   "execution_count": 1,
   "metadata": {},
   "outputs": [
    {
     "name": "stdout",
     "output_type": "stream",
     "text": [
      "wkhtml.topdf.exe\n",
      "bin\n",
      "wkhtml.topdf\n"
     ]
    }
   ],
   "source": [
    "from pathlib import Path \n",
    "\n",
    "path = Path(\"C:/Program Files/wkhtmltopdf/bin/wkhtml.topdf.exe\")\n",
    "print(path.name)\n",
    "print(path.parent.stem)\n",
    "print(path.stem)"
   ]
  },
  {
   "cell_type": "code",
   "execution_count": 142,
   "metadata": {},
   "outputs": [
    {
     "name": "stdout",
     "output_type": "stream",
     "text": [
      "eml_folder\\[피피에스] 3주차 과제 안내.eml\n",
      "eml_folder\\[피피에스] API Key 전달의 건.eml\n",
      "eml_folder\\[피피에스] Pandas 관련 실습 자료.eml\n",
      "eml_folder\\[피피에스] Pandas 관련 참고 자료.eml\n",
      "eml_folder\\[피피에스] url 추가.eml\n",
      "eml_folder\\[피피에스] 관련 교육 자료.eml\n",
      "eml_folder\\[피피에스] 교육 관련 자료(240530).eml\n",
      "eml_folder\\[피피에스] 교육 관련 자료(240531).eml\n",
      "eml_folder\\[피피에스] 안녕하세요. 김나래 연구원입니다..eml\n",
      "eml_folder\\[피피에스] 인턴 교육 안내(240603).eml\n",
      "eml_folder\\[피피에스] 인턴 교육 안내(240604).eml\n",
      "eml_folder\\[피피에스] 인턴 교육 안내(240605).eml\n",
      "eml_folder\\[피피에스] 인턴 교육 안내(240610).eml\n",
      "eml_folder\\[피피에스] 인턴 교육 안내(240612).eml\n",
      "eml_folder\\[피피에스] 인턴 교육 안내(240613).eml\n",
      "eml_folder\\[피피에스] 인턴 교육 안내(240617).eml\n",
      "eml_folder\\[피피에스] 인턴 교육 안내(240620).eml\n",
      "eml_folder\\[피피에스] 인턴 교육 안내(240621).eml\n"
     ]
    }
   ],
   "source": [
    "path = Path(\"./eml_folder\")\n",
    "files = path.glob(\"*.eml\")\n",
    "for file in files:\n",
    "    print(file)"
   ]
  },
  {
   "cell_type": "code",
   "execution_count": null,
   "metadata": {},
   "outputs": [
    {
     "data": {
      "text/plain": [
       "True"
      ]
     },
     "execution_count": 121,
     "metadata": {},
     "output_type": "execute_result"
    }
   ],
   "source": [
    "import os\n",
    "os.path.isdir(path.parent)"
   ]
  },
  {
   "cell_type": "code",
   "execution_count": null,
   "metadata": {},
   "outputs": [
    {
     "name": "stderr",
     "output_type": "stream",
     "text": [
      "Error occurred\n"
     ]
    }
   ],
   "source": [
    "import logging\n",
    "\n",
    "logger = logging.getLogger(__name__)\n",
    "\n",
    "try:\n",
    "    1 / 0\n",
    "except ZeroDivisionError as e:\n",
    "    logger.error(\"Error occurred\")"
   ]
  },
  {
   "cell_type": "code",
   "execution_count": null,
   "metadata": {},
   "outputs": [
    {
     "name": "stderr",
     "output_type": "stream",
     "text": [
      "2024-06-20 17:29:00,595 - example_logger - DEBUG - This is a debug message.\n",
      "2024-06-20 17:29:00,596 - example_logger - INFO - This is an info message.\n",
      "2024-06-20 17:29:00,597 - example_logger - WARNING - This is a warning message.\n",
      "2024-06-20 17:29:00,598 - example_logger - ERROR - This is an error message.\n",
      "2024-06-20 17:29:00,599 - example_logger - CRITICAL - This is a critical message.\n"
     ]
    }
   ],
   "source": [
    "import logging\n",
    "\n",
    "# 로거 설정\n",
    "logger = logging.getLogger('example_logger')\n",
    "logger.setLevel(logging.DEBUG)  # 로거의 레벨을 DEBUG로 설정\n",
    "\n",
    "# 콘솔 핸들러와 포맷 설정\n",
    "ch = logging.StreamHandler()\n",
    "ch.setLevel(logging.DEBUG)  # 콘솔 핸들러의 레벨을 DEBUG로 설정\n",
    "formatter = logging.Formatter('%(asctime)s - %(name)s - %(levelname)s - %(message)s')\n",
    "ch.setFormatter(formatter)\n",
    "logger.addHandler(ch)\n",
    "\n",
    "# 디버그 메시지 출력\n",
    "logger.debug(\"This is a debug message.\")\n",
    "logger.info(\"This is an info message.\")\n",
    "logger.warning(\"This is a warning message.\")\n",
    "logger.error(\"This is an error message.\")\n",
    "logger.critical(\"This is a critical message.\")\n"
   ]
  },
  {
   "cell_type": "code",
   "execution_count": 13,
   "metadata": {},
   "outputs": [
    {
     "data": {
      "text/plain": [
       "'(240604)'"
      ]
     },
     "execution_count": 13,
     "metadata": {},
     "output_type": "execute_result"
    }
   ],
   "source": [
    "from datetime import datetime\n",
    "\n",
    "test = \"Tue, 04 Jun 2024 09:38:52 +0900\"\n",
    "format=\"%a, %d %b %Y %H:%M:%S %z\"\n",
    "datetime.strptime(test,format).strftime(format=\"(%y%m%d)\")"
   ]
  },
  {
   "cell_type": "code",
   "execution_count": 5,
   "metadata": {},
   "outputs": [
    {
     "name": "stdout",
     "output_type": "stream",
     "text": [
      "<class 'generator'> <class 'generator'>\n"
     ]
    },
    {
     "ename": "StopIteration",
     "evalue": "",
     "output_type": "error",
     "traceback": [
      "\u001b[1;31m---------------------------------------------------------------------------\u001b[0m",
      "\u001b[1;31mStopIteration\u001b[0m                             Traceback (most recent call last)",
      "Cell \u001b[1;32mIn[5], line 5\u001b[0m\n\u001b[0;32m      2\u001b[0m gen2 \u001b[38;5;241m=\u001b[39m (x \u001b[38;5;28;01mfor\u001b[39;00m x \u001b[38;5;129;01min\u001b[39;00m [\u001b[38;5;241m1\u001b[39m, \u001b[38;5;241m2\u001b[39m, \u001b[38;5;241m3\u001b[39m])\n\u001b[0;32m      3\u001b[0m \u001b[38;5;28mprint\u001b[39m(\u001b[38;5;28mtype\u001b[39m(gen1), \u001b[38;5;28mtype\u001b[39m(gen2))\n\u001b[1;32m----> 5\u001b[0m \u001b[38;5;28;43mnext\u001b[39;49m\u001b[43m(\u001b[49m\u001b[43mgen1\u001b[49m\u001b[43m)\u001b[49m\n",
      "\u001b[1;31mStopIteration\u001b[0m: "
     ]
    }
   ],
   "source": [
    "gen1 = (x for x in [])\n",
    "gen2 = (x for x in [1, 2, 3])\n",
    "print(type(gen1), type(gen2))\n",
    "\n",
    "next(gen1)"
   ]
  }
 ],
 "metadata": {
  "kernelspec": {
   "display_name": "langchain",
   "language": "python",
   "name": "python3"
  },
  "language_info": {
   "codemirror_mode": {
    "name": "ipython",
    "version": 3
   },
   "file_extension": ".py",
   "mimetype": "text/x-python",
   "name": "python",
   "nbconvert_exporter": "python",
   "pygments_lexer": "ipython3",
   "version": "3.10.13"
  }
 },
 "nbformat": 4,
 "nbformat_minor": 2
}
