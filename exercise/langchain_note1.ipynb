{
 "cells": [
  {
   "cell_type": "code",
   "execution_count": 1,
   "metadata": {},
   "outputs": [],
   "source": [
    "from dotenv import load_dotenv\n",
    "import os\n",
    "\n",
    "# .env load \n",
    "load_dotenv()\n",
    "\n",
    "# check API KEY \n",
    "if \"OPENAI_API_KEY\" not in os.environ:\n",
    "    print(\"API KEY 정보가 없습니다. 확인 후 환경변수에 등록해주세요.\")"
   ]
  },
  {
   "cell_type": "markdown",
   "metadata": {},
   "source": [
    "# Langchain 없이 "
   ]
  },
  {
   "cell_type": "code",
   "execution_count": 8,
   "metadata": {},
   "outputs": [
    {
     "data": {
      "text/plain": [
       "'알겠어요. 우울할 때 간식을 찾는 것은 매우 보편적인 반응이에요. 하지만 먹는 것으로 해결이 되는 문제는 아니에요. 우울한 감정을 다루기 위해 다른 방법을 찾아보는 것이 중요해요. 운동을 하거나 취미 활동을 한다거나 친구들과 대화를 나누는 것도 도움이 될 거예요. 만약 지속적으로 우울한 감정을 느낀다면 전문가의 도움을 받는 것도 좋은 선택일 수 있어요. 함께 해결책을 찾아보세요.'"
      ]
     },
     "execution_count": 8,
     "metadata": {},
     "output_type": "execute_result"
    }
   ],
   "source": [
    "# Langchain 없이 Chatgpt 사용하기 - 지시문 이용\n",
    "from openai import OpenAI\n",
    "\n",
    "client = OpenAI()\n",
    "\n",
    "completion = client.chat.completions.create(\n",
    "    model = \"gpt-3.5-turbo\",\n",
    "    messages = [\n",
    "        {\"role\": \"system\", \"content\": \"당신은 매우 이성적인 사람입니다. 공감보다는 해결책을 제시합니다.\"},\n",
    "        {\"role\": \"user\", \"content\": \"우울해서 빵을 샀어\"}\n",
    "    ]\n",
    ")\n",
    "\n",
    "response = completion.choices[0].message\n",
    "response.content"
   ]
  },
  {
   "cell_type": "markdown",
   "metadata": {},
   "source": [
    "# Langchain Basic"
   ]
  },
  {
   "cell_type": "code",
   "execution_count": 14,
   "metadata": {},
   "outputs": [
    {
     "data": {
      "text/plain": [
       "AIMessage(content='저도 가끔 우울할 때가 있어요. 빵을 사서 먹으면 조금이나마 기분이 나아지는 것 같아요. 무엇이 우울한 이유인지 이야기해주실 수 있나요? 함께 이야기를 나누면 마음이 조금 가벼워질 수도 있어요. 함께 우울함을 이겨내요!', response_metadata={'token_usage': {'completion_tokens': 122, 'prompt_tokens': 47, 'total_tokens': 169}, 'model_name': 'gpt-3.5-turbo', 'system_fingerprint': 'fp_c2295e73ad', 'finish_reason': 'stop', 'logprobs': None}, id='run-f0ca1ff4-a778-4619-882c-d84c8c1c3cd0-0')"
      ]
     },
     "execution_count": 14,
     "metadata": {},
     "output_type": "execute_result"
    }
   ],
   "source": [
    "# Langchain 이용하기 - 지시문(Schema)\n",
    "from langchain_openai import ChatOpenAI \n",
    "from langchain.schema import AIMessage, HumanMessage, SystemMessage \n",
    "\n",
    "model = ChatOpenAI(model_name=\"gpt-3.5-turbo\")\n",
    "messages = [\n",
    "    SystemMessage(\n",
    "        content = \"당신은 매우 감성적인 사람입니다.\"\n",
    "    ),\n",
    "    HumanMessage(\n",
    "        content = \"오늘 너무 우울해서 빵을 샀어\"\n",
    "    ),\n",
    "]\n",
    "\n",
    "response = model.invoke(messages)\n",
    "response"
   ]
  },
  {
   "cell_type": "code",
   "execution_count": 7,
   "metadata": {},
   "outputs": [
    {
     "data": {
      "text/plain": [
       "AIMessage(content='파이썬은 1991년에 발표된 고급 프로그래밍 언어로, 귀도 반 로섬(Guido van Rossum)에 의해 개발되었습니다. 파이썬은 간결하고 읽기 쉬운 문법을 가지고 있어 입문자부터 전문가까지 다양한 사용자들에게 인기가 있는 언어입니다. \\n\\n파이썬은 다양한 운영 체제에서 사용할 수 있으며, 다양한 분야에서 활용되고 있습니다. 웹 개발, 데이터 분석, 인공지능, 머신러닝, 게임 개발 등 다양한 분야에서 파이썬을 사용하여 프로그래밍을 할 수 있습니다. \\n\\n또한, 파이썬은 라이브러리와 프레임워크가 풍부하며 커뮤니티가 활발하게 활동하여 문제를 해결해주는데 도움을 주는 등 사용자들에게 많은 혜택을 줍니다. \\n\\n파이썬은 초보자들이 쉽게 배우고 시작할 수 있으며, 높은 생산성과 유연성을 제공하여 프로젝트를 효율적으로 수행할 수 있습니다. 따라서 파이썬은 많은 사람들에게 추천되는 프로그래밍 언어 중 하나입니다.', response_metadata={'token_usage': {'completion_tokens': 407, 'prompt_tokens': 22, 'total_tokens': 429}, 'model_name': 'gpt-3.5-turbo', 'system_fingerprint': 'fp_c2295e73ad', 'finish_reason': 'stop', 'logprobs': None}, id='run-803be3d7-6786-4847-a0db-e6a523be09dd-0')"
      ]
     },
     "execution_count": 7,
     "metadata": {},
     "output_type": "execute_result"
    }
   ],
   "source": [
    "# Langchain 이용하기 - 단순 질문\n",
    "from langchain_openai import ChatOpenAI \n",
    "\n",
    "model = ChatOpenAI(model_name = \"gpt-3.5-turbo\") \n",
    "response = model.invoke(\"파이썬에 대해 알려줘\")\n",
    "response"
   ]
  },
  {
   "cell_type": "markdown",
   "metadata": {},
   "source": [
    "# PromptTemplate"
   ]
  },
  {
   "cell_type": "code",
   "execution_count": 17,
   "metadata": {},
   "outputs": [
    {
     "data": {
      "text/plain": [
       "{'language': 'python',\n",
       " 'text': 'Python은 간단하고 쉽게 배울 수 있는 프로그래밍 언어로, 1991년에 Guido van Rossum에 의해 개발되었습니다. Python은 다양한 운영 체제에서 사용할 수 있으며, 다양한 응용 프로그램을 개발하는 데 널리 사용됩니다. \\n\\nPython은 높은 가독성을 갖고 있어 초보자들이 쉽게 배울 수 있으며, 다양한 라이브러리와 모듈을 제공하여 다양한 작업을 효율적으로 수행할 수 있습니다. 또한 Python은 객체 지향, 함수형, 동시성 등 다양한 프로그래밍 스타일을 지원하므로 다양한 프로젝트에 유연하게 활용할 수 있습니다.\\n\\nPython은 데이터 분석, 인공지능, 웹 개발, 게임 개발, 시스템 관리 등 다양한 분야에서 사용되며, 많은 기업과 기관에서도 Python을 사용하고 있습니다. 또한 Python은 커뮤니티가 활발하고 다양한 온라인 자료와 도구가 제공되어 있어 학습과 개발에 도움이 됩니다. \\n\\nPython은 쉬운 문법과 다양한 기능을 갖고 있어 프로그래밍을 처음 시작하는 사람들에게 추천되는 언어입니다.'}"
      ]
     },
     "execution_count": 17,
     "metadata": {},
     "output_type": "execute_result"
    }
   ],
   "source": [
    "# Langchain 이용하기 - 키워드로 입력\n",
    "from langchain_openai import ChatOpenAI \n",
    "from langchain_core.prompts import PromptTemplate\n",
    "from langchain.chains import LLMChain\n",
    "\n",
    "prompt = PromptTemplate.from_template(\"{language}에 대해 알려줘\")\n",
    "model = ChatOpenAI(model_name = \"gpt-3.5-turbo\") \n",
    "chain = LLMChain(prompt=prompt, llm=model)\n",
    "\n",
    "response = chain.invoke({\"language\":\"python\"})\n",
    "response"
   ]
  },
  {
   "cell_type": "code",
   "execution_count": 36,
   "metadata": {},
   "outputs": [
    {
     "data": {
      "text/plain": [
       "LLMResult(generations=[[ChatGeneration(text='Python은 간결하고 읽기 쉬운 문법을 가진 고수준 프로그래밍 언어로, 1991년에 Guido van Rossum이 개발하였습니다. Python은 다양한 플랫폼에서 동작하며, 객체지향 프로그래밍, 함수형 프로그래밍, 동시성 프로그래밍 등 다양한 프로그래밍 스타일을 지원합니다.\\n\\nPython은 오픈 소스이며 다양한 라이브러리와 모듈이 있어 다양한 분야에서 활용되고 있습니다. 데이터 분석, 인공지능, 웹 개발, 네트워크 프로그래밍, 게임 개발 등 다양한 분야에서 사용됩니다.\\n\\n또한 Python은 인터프리터 언어로서 코드를 한 줄씩 실행하며 디버깅이 쉽고 빠르게 프로그램을 작성할 수 있습니다. Python의 생태계는 매우 활발하며, 개발자들 사이에서도 매우 인기 있는 언어 중 하나입니다.', generation_info={'finish_reason': 'stop', 'logprobs': None}, message=AIMessage(content='Python은 간결하고 읽기 쉬운 문법을 가진 고수준 프로그래밍 언어로, 1991년에 Guido van Rossum이 개발하였습니다. Python은 다양한 플랫폼에서 동작하며, 객체지향 프로그래밍, 함수형 프로그래밍, 동시성 프로그래밍 등 다양한 프로그래밍 스타일을 지원합니다.\\n\\nPython은 오픈 소스이며 다양한 라이브러리와 모듈이 있어 다양한 분야에서 활용되고 있습니다. 데이터 분석, 인공지능, 웹 개발, 네트워크 프로그래밍, 게임 개발 등 다양한 분야에서 사용됩니다.\\n\\n또한 Python은 인터프리터 언어로서 코드를 한 줄씩 실행하며 디버깅이 쉽고 빠르게 프로그램을 작성할 수 있습니다. Python의 생태계는 매우 활발하며, 개발자들 사이에서도 매우 인기 있는 언어 중 하나입니다.', response_metadata={'token_usage': {'completion_tokens': 317, 'prompt_tokens': 17, 'total_tokens': 334}, 'model_name': 'gpt-3.5-turbo', 'system_fingerprint': 'fp_c2295e73ad', 'finish_reason': 'stop', 'logprobs': None}, id='run-93b76bed-8249-486b-ad6d-01fa7b14217c-0'))], [ChatGeneration(text='자바(Java)는 객체지향 프로그래밍 언어로서 1995년에 선보인 프로그래밍 언어입니다. 자바는 웹 애플리케이션, 모바일 앱, 게임 개발 등 다양한 분야에서 사용되고 있습니다.\\n\\n자바의 특징으로는 플랫폼 독립성, 객체지향 프로그래밍, 멀티쓰레딩과 동시성, 강력한 라이브러리 지원 등이 있습니다. 또한 자바는 안정적이고 보안성이 높은 언어로 유명합니다.\\n\\n자바는 자바 가상 머신(Java Virtual Machine, JVM)을 통해 실행되며, 이를 통해 플랫폼 독립성을 제공받을 수 있습니다. 또한 자바는 대규모 시스템을 개발할 때 사용되는 언어로서도 매우 인기가 높습니다.\\n\\n자바는 개인 및 기업용 소프트웨어 개발에 널리 활용되고 있으며, 다양한 오픈 소스 프로젝트에서도 사용되고 있습니다. 자바 개발자는 전 세계적으로 많이 수요되는 직업 중 하나로 꼽히고 있습니다.', generation_info={'finish_reason': 'stop', 'logprobs': None}, message=AIMessage(content='자바(Java)는 객체지향 프로그래밍 언어로서 1995년에 선보인 프로그래밍 언어입니다. 자바는 웹 애플리케이션, 모바일 앱, 게임 개발 등 다양한 분야에서 사용되고 있습니다.\\n\\n자바의 특징으로는 플랫폼 독립성, 객체지향 프로그래밍, 멀티쓰레딩과 동시성, 강력한 라이브러리 지원 등이 있습니다. 또한 자바는 안정적이고 보안성이 높은 언어로 유명합니다.\\n\\n자바는 자바 가상 머신(Java Virtual Machine, JVM)을 통해 실행되며, 이를 통해 플랫폼 독립성을 제공받을 수 있습니다. 또한 자바는 대규모 시스템을 개발할 때 사용되는 언어로서도 매우 인기가 높습니다.\\n\\n자바는 개인 및 기업용 소프트웨어 개발에 널리 활용되고 있으며, 다양한 오픈 소스 프로젝트에서도 사용되고 있습니다. 자바 개발자는 전 세계적으로 많이 수요되는 직업 중 하나로 꼽히고 있습니다.', response_metadata={'token_usage': {'completion_tokens': 391, 'prompt_tokens': 17, 'total_tokens': 408}, 'model_name': 'gpt-3.5-turbo', 'system_fingerprint': 'fp_c2295e73ad', 'finish_reason': 'stop', 'logprobs': None}, id='run-c51d172a-eb32-40fe-b88b-3785ce9bffff-0'))], [ChatGeneration(text='C는 프로그래밍 언어 중 하나로, 프로그램을 작성하는 데에 널리 사용되는 언어입니다. C는 1972년에 AT&T 벨 연구소의 데니스 리치와 브라이언 커니한에 의해 개발되었습니다.\\n\\nC는 시스템 프로그래밍에 적합한 저수준 언어로, 하드웨어와 밀접한 관련이 있는 작업을 수행할 수 있습니다. 또한 C는 이식성이 뛰어나며, 다양한 운영 체제에서 동작하는 프로그램을 작성하는 데에 많이 사용됩니다.\\n\\nC 언어는 매우 빠르고 효율적이며, 메모리 관리를 직접 다룰 수 있는 기능을 제공합니다. 이러한 특성으로 인해 C는 시스템 소프트웨어, 운영 체제, 임베디드 시스템 및 응용 프로그램 개발에 널리 사용되고 있습니다.\\n\\n또한 C 언어는 다른 프로그래밍 언어들의 기반으로 사용되기도 하는데, C++과 Objective-C는 C 언어를 기반으로 확장된 언어입니다. 현재까지도 C 언어는 많은 프로그래머들에게 사랑받고, 새로운 개발자들에게도 중요한 기본 언어로 여겨지고 있습니다.', generation_info={'finish_reason': 'stop', 'logprobs': None}, message=AIMessage(content='C는 프로그래밍 언어 중 하나로, 프로그램을 작성하는 데에 널리 사용되는 언어입니다. C는 1972년에 AT&T 벨 연구소의 데니스 리치와 브라이언 커니한에 의해 개발되었습니다.\\n\\nC는 시스템 프로그래밍에 적합한 저수준 언어로, 하드웨어와 밀접한 관련이 있는 작업을 수행할 수 있습니다. 또한 C는 이식성이 뛰어나며, 다양한 운영 체제에서 동작하는 프로그램을 작성하는 데에 많이 사용됩니다.\\n\\nC 언어는 매우 빠르고 효율적이며, 메모리 관리를 직접 다룰 수 있는 기능을 제공합니다. 이러한 특성으로 인해 C는 시스템 소프트웨어, 운영 체제, 임베디드 시스템 및 응용 프로그램 개발에 널리 사용되고 있습니다.\\n\\n또한 C 언어는 다른 프로그래밍 언어들의 기반으로 사용되기도 하는데, C++과 Objective-C는 C 언어를 기반으로 확장된 언어입니다. 현재까지도 C 언어는 많은 프로그래머들에게 사랑받고, 새로운 개발자들에게도 중요한 기본 언어로 여겨지고 있습니다.', response_metadata={'token_usage': {'completion_tokens': 423, 'prompt_tokens': 17, 'total_tokens': 440}, 'model_name': 'gpt-3.5-turbo', 'system_fingerprint': 'fp_c2295e73ad', 'finish_reason': 'stop', 'logprobs': None}, id='run-81f6d572-5cdd-4925-9d05-6ad80c81efcd-0'))]], llm_output={'token_usage': {'completion_tokens': 1131, 'prompt_tokens': 51, 'total_tokens': 1182}, 'model_name': 'gpt-3.5-turbo', 'system_fingerprint': 'fp_c2295e73ad'}, run=[RunInfo(run_id=UUID('93b76bed-8249-486b-ad6d-01fa7b14217c')), RunInfo(run_id=UUID('c51d172a-eb32-40fe-b88b-3785ce9bffff')), RunInfo(run_id=UUID('81f6d572-5cdd-4925-9d05-6ad80c81efcd'))])"
      ]
     },
     "execution_count": 36,
     "metadata": {},
     "output_type": "execute_result"
    }
   ],
   "source": [
    "# Langchain 이용하기 - 키워드로 입력(여러 개 한꺼번에 출력) - generate\n",
    "from langchain_openai import ChatOpenAI \n",
    "from langchain_core.prompts import PromptTemplate\n",
    "from langchain.chains import LLMChain\n",
    "\n",
    "prompt = PromptTemplate.from_template(\"{language}에 대해 알려줘\")\n",
    "model = ChatOpenAI(model_name = \"gpt-3.5-turbo\") \n",
    "chain = LLMChain(prompt=prompt, llm=model)\n",
    "\n",
    "response = chain.generate([{\"language\":\"python\"},{\"language\":\"java\"},{\"language\":\"C\"}])\n",
    "response"
   ]
  },
  {
   "cell_type": "code",
   "execution_count": 37,
   "metadata": {},
   "outputs": [
    {
     "data": {
      "text/plain": [
       "[{'text': '파이썬(Python)은 Guido van Rossum이 개발한 고급 프로그래밍 언어로, 간결하고 가독성이 좋아서 학습하기 쉽습니다. 파이썬은 다양한 운영 체제에서 동작하며, 다양한 분야에서 사용되고 있습니다. 주로 웹 개발, 데이터 분석, 인공지능, 자동화 등 다양한 분야에서 활용되고 있습니다. 또한, 파이썬은 무료이며 오픈 소스이기 때문에 누구나 사용할 수 있습니다. 파이썬은 다양한 라이브러리와 프레임워크가 있어서 개발을 빠르고 효율적으로 할 수 있습니다. 파이썬의 가장 큰 장점 중 하나는 다양한 커뮤니티와 문서화가 잘 되어 있어서 필요한 정보나 도움을 쉽게 얻을 수 있다는 것입니다.'},\n",
       " {'text': '자바(Java)는 객체지향 프로그래밍 언어로, 1995년에 선 마이크로시스템스에서 개발되었습니다. 자바는 다양한 플랫폼에서 동작하는 크로스 플랫폼 언어로서, 컴퓨터, 모바일 기기, 임베디드 시스템 등 다양한 환경에서 사용됩니다.\\n\\n자바는 강력한 보안 기능을 갖추고 있으며, 다양한 라이브러리와 프레임워크를 제공하여 개발자가 빠르고 효율적으로 프로그램을 개발할 수 있도록 도와줍니다. 또한 가비지 컬렉션 기능을 통해 메모리 관리를 자동으로 처리하여 개발자가 메모리 누수 등을 걱정하지 않아도 되는 장점이 있습니다.\\n\\n자바는 대표적인 웹 애플리케이션 개발 언어로 널리 사용되며, 대규모 시스템의 개발에도 많이 활용됩니다. 또한 안드로이드 앱 개발에도 사용되어 안드로이드 생태계에서 중요한 역할을 하고 있습니다. 현재 많은 기업과 개발자들이 자바를 사용하여 다양한 소프트웨어를 개발하고 있습니다.'},\n",
       " {'text': 'C는 프로그래밍 언어 중 하나로, 1972년에 미국 벨 연구소의 데니스 리치에 의해 개발되었습니다. C 언어는 시스템 프로그래밍을 위해 설계되었으며, 운영 체제, 컴파일러, 네트워크 드라이버 등의 시스템 소프트웨어 개발에 널리 사용됩니다.\\n\\nC 언어는 저급 언어에 가까운 기계어와 직접적으로 상호작용할 수 있으며, 높은 이식성과 효율성을 제공합니다. 또한 C 언어는 다양한 라이브러리와 풍부한 문법을 제공하여 다양한 응용 프로그램을 개발할 수 있습니다.\\n\\nC 언어는 다른 고급 언어들의 기본이 되는 언어로, C++과 Java 등 다른 프로그래밍 언어의 기초가 되었습니다. 요즘에도 여전히 C 언어는 시스템 프로그래밍, 임베디드 시스템, 그래픽 프로그래밍 등 다양한 분야에서 활발히 사용되고 있습니다.'}]"
      ]
     },
     "execution_count": 37,
     "metadata": {},
     "output_type": "execute_result"
    }
   ],
   "source": [
    "# Langchain 이용하기 - 키워드로 입력(여러 개 한꺼번에 출력) - apply\n",
    "from langchain_openai import ChatOpenAI \n",
    "from langchain_core.prompts import PromptTemplate\n",
    "from langchain.chains import LLMChain\n",
    "\n",
    "prompt = PromptTemplate.from_template(\"{language}에 대해 알려줘\")\n",
    "model = ChatOpenAI(model_name = \"gpt-3.5-turbo\") \n",
    "chain = LLMChain(prompt=prompt, llm=model)\n",
    "\n",
    "response = chain.apply([{\"language\":\"python\"},{\"language\":\"java\"},{\"language\":\"C\"}])\n",
    "response"
   ]
  },
  {
   "cell_type": "code",
   "execution_count": 19,
   "metadata": {},
   "outputs": [
    {
     "data": {
      "text/plain": [
       "{'language': 'python',\n",
       " 'text': '- Python은 다양한 분야에서 사용되는 인기 있는 프로그래밍 언어로, 문법이 간결하고 읽기 쉽다.\\n- 장점: 문법이 간결하고 읽기 쉽기 때문에 처음 프로그래밍을 배우는 사람들에게 적합하고 다양한 라이브러리와 프레임워크가 지원된다.\\n- 단점: 실행 속도가 다른 언어보다 느리고 GIL(Global Interpreter Lock)로 인해 멀티스레딩 성능이 제한된다.'}"
      ]
     },
     "execution_count": 19,
     "metadata": {},
     "output_type": "execute_result"
    }
   ],
   "source": [
    "# Langchain 이용하기 - 지시문 + 제시어\n",
    "from langchain_openai import ChatOpenAI \n",
    "from langchain_core.prompts import PromptTemplate\n",
    "\n",
    "template = \"\"\"\n",
    "    {language}에 대해 FORMAT에 맞춰 설명해주세요. 요약은 1줄로 표현해주세요.\n",
    "\n",
    "    FORMAT:\n",
    "    - 요약\n",
    "    - 장점\n",
    "    - 단점\n",
    "\"\"\"\n",
    "prompt = PromptTemplate.from_template(template)\n",
    "model = ChatOpenAI(model_name=\"gpt-3.5-turbo\")\n",
    "chain = LLMChain(prompt=prompt, llm=model)\n",
    "\n",
    "response = chain.invoke({\"language\":\"python\"})\n",
    "response"
   ]
  },
  {
   "cell_type": "markdown",
   "metadata": {},
   "source": [
    "# LCEL"
   ]
  },
  {
   "cell_type": "code",
   "execution_count": 21,
   "metadata": {},
   "outputs": [
    {
     "name": "stdout",
     "output_type": "stream",
     "text": [
      "- Python은 다양한 영역에서 사용되는 간결하고 읽기 쉬운 프로그래밍 언어이다.\n",
      "- 장점: 문법이 간결하고 다양한 라이브러리와 도구를 제공하여 개발 속도가 빠르고 생산성이 높다.\n",
      "- 단점: 실행 속도가 다른 언어에 비해 상대적으로 느릴 수 있으며, GIL(Global Interpreter Lock)로 인해 멀티스레딩이 효율적으로 이루어지지 않을 수 있다.\n"
     ]
    }
   ],
   "source": [
    "# Langchain 이용하기 - 지시문 + 제시어 (LCEL)\n",
    "from langchain_openai import ChatOpenAI \n",
    "from langchain_core.prompts import PromptTemplate\n",
    "from langchain_core.output_parsers import StrOutputParser\n",
    "\n",
    "template = \"\"\"\n",
    "    {language}에 대해 FORMAT에 맞춰 설명해주세요. 요약은 1줄로 표현해주세요.\n",
    "\n",
    "    FORMAT:\n",
    "    - 요약\n",
    "    - 장점\n",
    "    - 단점\n",
    "\"\"\"\n",
    "prompt = PromptTemplate.from_template(template)\n",
    "model = ChatOpenAI(model_name=\"gpt-3.5-turbo\")\n",
    "output_parser = StrOutputParser()\n",
    "chain = prompt | model | output_parser\n",
    "\n",
    "response = chain.invoke({\"language\":\"python\"})\n",
    "print(response)"
   ]
  },
  {
   "cell_type": "code",
   "execution_count": 60,
   "metadata": {},
   "outputs": [
    {
     "name": "stdout",
     "output_type": "stream",
     "text": [
      "text='\\n    python에 대해 FORMAT에 맞춰 설명해주세요. 요약은 1줄로 표현해주세요.\\n\\n    FORMAT:\\n    - 요약\\n    - 장점\\n    - 단점\\n'\n",
      "content='- 요약: Python은 인간 친화적인 문법과 다양한 라이브러리를 제공하여 다양한 분야에서 널리 사용되는 프로그래밍 언어이다.\\n- 장점: 문법이 간결하고 읽기 쉽고, 다양한 라이브러리와 프레임워크가 존재하여 개발이 용이하며, 크로스 플랫폼 지원이 우수하다.\\n- 단점: 성능이 다른 언어들에 비해 상대적으로 느리고, GIL(Global Interpreter Lock)로 인해 멀티스레드 처리가 제약을 받을 수 있다.' response_metadata={'token_usage': {'completion_tokens': 195, 'prompt_tokens': 63, 'total_tokens': 258}, 'model_name': 'gpt-3.5-turbo', 'system_fingerprint': 'fp_c2295e73ad', 'finish_reason': 'stop', 'logprobs': None} id='run-e92c6ccf-e78c-4ab6-9bf7-4d3df942452d-0'\n",
      "- 요약: Python은 인간 친화적인 문법과 다양한 라이브러리를 제공하여 다양한 분야에서 널리 사용되는 프로그래밍 언어이다.\n",
      "- 장점: 문법이 간결하고 읽기 쉽고, 다양한 라이브러리와 프레임워크가 존재하여 개발이 용이하며, 크로스 플랫폼 지원이 우수하다.\n",
      "- 단점: 성능이 다른 언어들에 비해 상대적으로 느리고, GIL(Global Interpreter Lock)로 인해 멀티스레드 처리가 제약을 받을 수 있다.\n"
     ]
    }
   ],
   "source": [
    "# Langchain 이용하기 - 지시문 + 제시어 (LCEL) (Chain 이해하기)\n",
    "from langchain_openai import ChatOpenAI \n",
    "from langchain_core.prompts import PromptTemplate\n",
    "from langchain_core.output_parsers import StrOutputParser\n",
    "\n",
    "template = \"\"\"\n",
    "    {language}에 대해 FORMAT에 맞춰 설명해주세요. 요약은 1줄로 표현해주세요.\n",
    "\n",
    "    FORMAT:\n",
    "    - 요약\n",
    "    - 장점\n",
    "    - 단점\n",
    "\"\"\"\n",
    "prompt = PromptTemplate.from_template(template)\n",
    "model = ChatOpenAI(model_name=\"gpt-3.5-turbo\")\n",
    "output_parser = StrOutputParser()\n",
    "chain = prompt | model | output_parser\n",
    "\n",
    "# Step 1. keyword Dict 입력 {\"language\":\"python\"}\n",
    "\n",
    "# Step 2. Prompt에 전달 -> prompt_value\n",
    "prompt_value = prompt.format_prompt(language=\"python\")\n",
    "print(prompt_value)\n",
    "\n",
    "# Step 3. Model에 전달 -> output\n",
    "output = model.invoke(prompt_value)\n",
    "print(output)\n",
    "\n",
    "# Step 4. String으로 출력 -> response\n",
    "response = output_parser.invoke(output)\n",
    "print(response)"
   ]
  },
  {
   "cell_type": "markdown",
   "metadata": {},
   "source": [
    "# Streaming"
   ]
  },
  {
   "cell_type": "code",
   "execution_count": 22,
   "metadata": {},
   "outputs": [
    {
     "name": "stdout",
     "output_type": "stream",
     "text": [
      "파이썬은 간단하고 쉽게 배울 수 있는 프로그래밍 언어로, 1991년에 발표된 고급 프로그래밍 언어입니다. 파이썬은 다양한 운영 체제에서 사용할 수 있으며, 다양한 분야에서 활용되고 있습니다. \n",
      "\n",
      "파이썬의 특징은 다음과 같습니다:\n",
      "1. 간결하고 가독성이 좋은 문법\n",
      "2. 다양한 라이브러리와 모듈을 지원하여 다양한 기능을 제공\n",
      "3. 객체지향, 함수형, 절차지향 등 다양한 프로그래밍 스타일을 지원\n",
      "4. 크로스 플랫폼 지원으로 다양한 운영 체제에서 사용 가능\n",
      "5. 동적 타이핑을 지원하여 변수의 자료형을 명시적으로 선언하지 않아도 됨\n",
      "\n",
      "파이썬은 데이터 분석, 인공지능, 웹 개발, 시스템 프로그래밍 등 다양한 분야에서 사용되고 있으며, 학습자들에게 많은 도움이 되는 인기 있는 프로그래밍 언어입니다. 파이썬을 배우면 다양한 분야에서 활용할 수 있는 능력을 기를 수 있습니다."
     ]
    },
    {
     "data": {
      "text/plain": [
       "AIMessage(content='파이썬은 간단하고 쉽게 배울 수 있는 프로그래밍 언어로, 1991년에 발표된 고급 프로그래밍 언어입니다. 파이썬은 다양한 운영 체제에서 사용할 수 있으며, 다양한 분야에서 활용되고 있습니다. \\n\\n파이썬의 특징은 다음과 같습니다:\\n1. 간결하고 가독성이 좋은 문법\\n2. 다양한 라이브러리와 모듈을 지원하여 다양한 기능을 제공\\n3. 객체지향, 함수형, 절차지향 등 다양한 프로그래밍 스타일을 지원\\n4. 크로스 플랫폼 지원으로 다양한 운영 체제에서 사용 가능\\n5. 동적 타이핑을 지원하여 변수의 자료형을 명시적으로 선언하지 않아도 됨\\n\\n파이썬은 데이터 분석, 인공지능, 웹 개발, 시스템 프로그래밍 등 다양한 분야에서 사용되고 있으며, 학습자들에게 많은 도움이 되는 인기 있는 프로그래밍 언어입니다. 파이썬을 배우면 다양한 분야에서 활용할 수 있는 능력을 기를 수 있습니다.', response_metadata={'finish_reason': 'stop'}, id='run-fa33ce5b-2c0c-4f43-aaf3-f2c0108bb1c2-0')"
      ]
     },
     "execution_count": 22,
     "metadata": {},
     "output_type": "execute_result"
    }
   ],
   "source": [
    "# Langchain 이용하기 - 단순 질문 + 출력을 Streaming : 터미널이나 콘솔에서 확인용으로 주로 쓰임\n",
    "from langchain_openai import ChatOpenAI \n",
    "from langchain.callbacks.streaming_stdout import StreamingStdOutCallbackHandler\n",
    "\n",
    "model = ChatOpenAI(\n",
    "    model_name = \"gpt-3.5-turbo\",\n",
    "    streaming=True,\n",
    "    callbacks=[StreamingStdOutCallbackHandler()]) \n",
    "\n",
    "response = model.invoke(\"파이썬에 대해 알려줘\")\n",
    "response"
   ]
  },
  {
   "cell_type": "code",
   "execution_count": 35,
   "metadata": {},
   "outputs": [
    {
     "name": "stdout",
     "output_type": "stream",
     "text": [
      "Run when LLM starts running\n",
      "파이썬은 간결하고 쉽게 배울 수 있는 프로그래밍 언어로, 1991년에 발표된 고급 프로그래밍 언어입니다. 파이썬은 다양한 운영 체제에서 실행할 수 있고, 다양한 목적으로 사용됩니다. 데이터 분석, 인공지능, 웹 개발 등의 분야에서 널리 사용되며, 다양한 라이브러리와 프레임워크를 지원하고 있습니다. 또한, 파이썬은 코드의 가독성이 좋고, 문법이 간결하여 빠르게 프로그램을 작성할 수 있습니다. 파이썬은 커뮤니티가 활발하고 다양한 자료와 도구가 제공되어 있어, 학습자들에게 많은 도움이 됩니다.\n",
      "Run when LLM ends running\n"
     ]
    },
    {
     "data": {
      "text/plain": [
       "AIMessage(content='파이썬은 간결하고 쉽게 배울 수 있는 프로그래밍 언어로, 1991년에 발표된 고급 프로그래밍 언어입니다. 파이썬은 다양한 운영 체제에서 실행할 수 있고, 다양한 목적으로 사용됩니다. 데이터 분석, 인공지능, 웹 개발 등의 분야에서 널리 사용되며, 다양한 라이브러리와 프레임워크를 지원하고 있습니다. 또한, 파이썬은 코드의 가독성이 좋고, 문법이 간결하여 빠르게 프로그램을 작성할 수 있습니다. 파이썬은 커뮤니티가 활발하고 다양한 자료와 도구가 제공되어 있어, 학습자들에게 많은 도움이 됩니다.', response_metadata={'finish_reason': 'stop'}, id='run-f193a4ee-4eac-4f5f-b6ef-ab9047da08c5-0')"
      ]
     },
     "execution_count": 35,
     "metadata": {},
     "output_type": "execute_result"
    }
   ],
   "source": [
    "# Langchain 이용하기 - Streaming\n",
    "from typing import Any, List, Dict, Union\n",
    "from langchain_core.messages import BaseMessage\n",
    "from langchain_core.outputs import LLMResult\n",
    "from langchain_core.agents import AgentAction, AgentFinish\n",
    "from langchain_openai import ChatOpenAI \n",
    "from langchain_core.callbacks import BaseCallbackHandler\n",
    "\n",
    "class CustomHandler(BaseCallbackHandler):\n",
    "    def on_llm_start(self, serialized: Dict[str, Any], prompts: List[str], **kwargs: Any) -> Any:\n",
    "        \"\"\"Run when LLM starts running.\"\"\"\n",
    "        print(\"Run when LLM starts running\")\n",
    "\n",
    "    # def on_chat_model_start(self, serialized: Dict[str, Any], messages: List[List[BaseMessage]], **kwargs: Any) -> Any:\n",
    "    #     \"\"\"Run when Chat Model starts running.\"\"\"\n",
    "\n",
    "    def on_llm_new_token(self, token: str, **kwargs: Any) -> Any:\n",
    "        \"\"\"Run on new LLM token. Only available when streaming is enabled.\"\"\"\n",
    "        print(token, end=\"\")\n",
    "\n",
    "    def on_llm_end(self, response: LLMResult, **kwargs: Any) -> Any:\n",
    "        \"\"\"Run when LLM ends running.\"\"\"\n",
    "        print(\"\\nRun when LLM ends running\")\n",
    "\n",
    "    # def on_llm_error(\n",
    "    #     self, error: Union[Exception, KeyboardInterrupt], **kwargs: Any\n",
    "    # ) -> Any:\n",
    "    #     \"\"\"Run when LLM errors.\"\"\"\n",
    "\n",
    "    def on_chain_start(\n",
    "        self, serialized: Dict[str, Any], inputs: Dict[str, Any], **kwargs: Any\n",
    "    ) -> Any:\n",
    "        \"\"\"Run when chain starts running.\"\"\"\n",
    "        print(\"Run when chain starts running\")\n",
    "\n",
    "    # def on_chain_end(self, outputs: Dict[str, Any], **kwargs: Any) -> Any:\n",
    "    #     \"\"\"Run when chain ends running.\"\"\"\n",
    "\n",
    "    # def on_chain_error(\n",
    "    #     self, error: Union[Exception, KeyboardInterrupt], **kwargs: Any\n",
    "    # ) -> Any:\n",
    "    #     \"\"\"Run when chain errors.\"\"\"\n",
    "\n",
    "    # def on_tool_start(\n",
    "    #     self, serialized: Dict[str, Any], input_str: str, **kwargs: Any\n",
    "    # ) -> Any:\n",
    "    #     \"\"\"Run when tool starts running.\"\"\"\n",
    "\n",
    "    # def on_tool_end(self, output: Any, **kwargs: Any) -> Any:\n",
    "    #     \"\"\"Run when tool ends running.\"\"\"\n",
    "\n",
    "    # def on_tool_error(\n",
    "    #     self, error: Union[Exception, KeyboardInterrupt], **kwargs: Any\n",
    "    # ) -> Any:\n",
    "    #     \"\"\"Run when tool errors.\"\"\"\n",
    "\n",
    "    # def on_text(self, text: str, **kwargs: Any) -> Any:\n",
    "    #     \"\"\"Run on arbitrary text.\"\"\"\n",
    "\n",
    "    # def on_agent_action(self, action: AgentAction, **kwargs: Any) -> Any:\n",
    "    #     \"\"\"Run on agent action.\"\"\"\n",
    "\n",
    "    # def on_agent_finish(self, finish: AgentFinish, **kwargs: Any) -> Any:\n",
    "    #     \"\"\"Run on agent end.\"\"\"\n",
    "\n",
    "model = ChatOpenAI(\n",
    "    model_name = \"gpt-3.5-turbo\",\n",
    "    streaming=True,\n",
    "    callbacks=[CustomHandler()]) \n",
    "\n",
    "response = model.invoke(\"파이썬에 대해 알려줘\")\n",
    "response"
   ]
  },
  {
   "cell_type": "markdown",
   "metadata": {},
   "source": [
    "# Example 1. 지역 홍보대사"
   ]
  },
  {
   "cell_type": "code",
   "execution_count": 72,
   "metadata": {},
   "outputs": [
    {
     "name": "stdout",
     "output_type": "stream",
     "text": [
      "환영합니다!\n",
      "- 슬로건: \"제주, 자연이 주는 휴식과 감동\"\n",
      "- 특산물: 감귤, 제주 흑돼지, 제주 삼다수\n",
      "- 관광지: 성산일출봉, 용두암, 한라산 등\n",
      "자연 속 휴식과 감동이 가득한 제주에서 즐거운 시간을 보내세요.\n"
     ]
    }
   ],
   "source": [
    "# Langchain 이용하기 - 지시문 + 제시어 (LCEL)\n",
    "from langchain_openai import ChatOpenAI \n",
    "from langchain_core.prompts import PromptTemplate\n",
    "from langchain_core.output_parsers import StrOutputParser\n",
    "\n",
    "template = \"\"\"\n",
    "    당신은 대한민국 {location} 홍보대사입니다. FORMAT에 맞춰 홍보해주세요.\n",
    "    환영인사와 좋은점은 20자 내외입니다.\n",
    "\n",
    "    FORMAT:\n",
    "    환영인사\n",
    "    - 슬로건: \n",
    "    - 특산물: \n",
    "    - 관광지: \n",
    "    좋은점\n",
    "\"\"\"\n",
    "prompt = PromptTemplate.from_template(template)\n",
    "model = ChatOpenAI(model_name=\"gpt-3.5-turbo\")\n",
    "output_parser = StrOutputParser()\n",
    "chain = prompt | model | output_parser\n",
    "\n",
    "response = chain.invoke({\"location\":\"제주도\"})\n",
    "print(response)"
   ]
  },
  {
   "cell_type": "markdown",
   "metadata": {},
   "source": [
    "# Example 2. 청첩장 글귀 만들기"
   ]
  },
  {
   "cell_type": "code",
   "execution_count": 77,
   "metadata": {},
   "outputs": [
    {
     "name": "stdout",
     "output_type": "stream",
     "text": [
      "사랑하는 친구들과 함께하는 특별한 날,\n",
      "긴 시간을 함께한 장기 연애의 결실을 맺는 순간.\n",
      "\n",
      "봄이 활짝 피어나는 이 날,\n",
      "사랑과 행복이 가득한 새로운 시작을 앞두고 있습니다.\n",
      "\n",
      "따스한 햇살이 비추는 이 자리에서,\n",
      "우리의 사랑을 함께 축복해 주실 수 있으신 분들을 초대합니다.\n",
      "\n",
      "밝은 미래를 향해 함께하는 우리,\n",
      "이 순간을 영원히 기억하며 더욱 행복한 인연으로 나아갈 것을 약속합니다.\n"
     ]
    }
   ],
   "source": [
    "# Langchain 이용하기 - 지시문 + 제시어 (LCEL)\n",
    "from langchain_openai import ChatOpenAI \n",
    "from langchain_core.prompts import PromptTemplate\n",
    "from langchain_core.output_parsers import StrOutputParser\n",
    "\n",
    "template = \"\"\"\n",
    "    TAG에 맞춰 결혼식 청첩장 글귀를 300자 내외로 만들어주세요. \n",
    "    문장마다 줄바꿈이 있어야 합니다.\n",
    "\n",
    "    TAG: {tags}\n",
    "\"\"\"\n",
    "prompt = PromptTemplate.from_template(template)\n",
    "model = ChatOpenAI(model_name=\"gpt-3.5-turbo\")\n",
    "output_parser = StrOutputParser()\n",
    "chain = prompt | model | output_parser\n",
    "\n",
    "response = chain.invoke({\"tags\":[\"장기 연애\", \"봄\", \"밝음\"]})\n",
    "print(response)"
   ]
  },
  {
   "cell_type": "markdown",
   "metadata": {},
   "source": [
    "# Example 3. 스트레칭 가이드"
   ]
  },
  {
   "cell_type": "code",
   "execution_count": 14,
   "metadata": {},
   "outputs": [
    {
     "name": "stdout",
     "output_type": "stream",
     "text": [
      "스트레칭 명: 목 회전 스트레칭\n",
      "STEP1. 목을 천천히 시계 반대 방향으로 돌리며 최대한 뒤로 굽힙니다. (10초 유지)\n",
      "STEP2. 다시 원래 자세로 돌아옵니다.\n",
      "STEP3. 이번에는 시계 방향으로 목을 돌리며 최대한 뒤로 굽힙니다. (10초 유지)\n",
      "STEP4. 다시 원래 자세로 돌아옵니다.\n",
      "STEP5. 총 3세트 반복해주세요.\n"
     ]
    }
   ],
   "source": [
    "# Langchain 이용하기 - 지시문 + 제시어 (LCEL)\n",
    "from langchain_openai import ChatOpenAI \n",
    "from langchain_core.prompts import PromptTemplate\n",
    "from langchain_core.output_parsers import StrOutputParser\n",
    "\n",
    "template = \"\"\"\n",
    "    {part}의 스트레칭을 도와주는 챗봇입니다. \n",
    "    스트레칭 방법을 1개만 단계별로 FORMAT에 맞춰 답변해주세요.\n",
    "    몇 초간 몇 번 반복해야 하는지 자세하고 쉽게 알려주세요.\n",
    "\n",
    "    FORMAT:\n",
    "    스트레칭 명: 스트레칭 설명\n",
    "    STEP1.\n",
    "    STEP2.\n",
    "    ...\n",
    "\"\"\"\n",
    "prompt = PromptTemplate.from_template(template)\n",
    "model = ChatOpenAI(model_name=\"gpt-3.5-turbo\")\n",
    "output_parser = StrOutputParser()\n",
    "chain = prompt | model | output_parser\n",
    "\n",
    "response = chain.invoke({\"part\":\"목\"})\n",
    "print(response)"
   ]
  },
  {
   "cell_type": "markdown",
   "metadata": {},
   "source": [
    "# Example 4. 다이어트 레시피"
   ]
  },
  {
   "cell_type": "code",
   "execution_count": 90,
   "metadata": {},
   "outputs": [
    {
     "name": "stdout",
     "output_type": "stream",
     "text": [
      "요리명: 다이어트 단호박 수프\n",
      "\n",
      "준비물:\n",
      "- 단호박 (500g)\n",
      "- 우유 (200ml)\n",
      "- 양송이 (100g)\n",
      "\n",
      "칼로리: 약 150kcal\n",
      "\n",
      "방법:\n",
      "1. 먼저 단호박을 껍질을 벗기고 씻은 뒤 작게 썰어줍니다.\n",
      "2. 양송이는 깨끗이 씻은 뒤 두툼하게 슬라이스합니다.\n",
      "3. 냄비에 단호박과 양송이를 넣고 우유를 부어줍니다.\n",
      "4. 뚜껑을 덮고 중불에서 약 20분간 끓여줍니다.\n",
      "5. 모든 재료가 부드러워지면 믹서기에 갈아 부드러운 수프로 만들어줍니다.\n",
      "6. 그릇에 담아 기호에 따라 소금이나 후추를 조금씩 넣어 맛을 조절한 뒤 완성합니다.\n"
     ]
    }
   ],
   "source": [
    "# Langchain 이용하기 - 지시문 + 제시어 (LCEL)\n",
    "from langchain_openai import ChatOpenAI \n",
    "from langchain_core.prompts import PromptTemplate\n",
    "from langchain_core.output_parsers import StrOutputParser\n",
    "\n",
    "template = \"\"\"\n",
    "    INGREDIENTS로 만들 수 있는 다이어트 레시피를 FORMAT에 맞춰 알려주세요.\n",
    "    준비물은 무게 단위까지 자세히 작성해야 합니다.\n",
    "\n",
    "    INGREDIENTS: {ingredients}\n",
    "    \n",
    "    FORMAT:\n",
    "    요리명:\n",
    "    준비물: \n",
    "    칼로리:\n",
    "    방법:\n",
    "    1. \n",
    "    2. \n",
    "    ...\n",
    "\"\"\"\n",
    "prompt = PromptTemplate.from_template(template)\n",
    "model = ChatOpenAI(model_name=\"gpt-3.5-turbo\")\n",
    "output_parser = StrOutputParser()\n",
    "chain = prompt | model | output_parser\n",
    "\n",
    "response = chain.invoke({\"ingredients\":[\"단호박\",\"우유\",\"양송이\"]})\n",
    "print(response)"
   ]
  },
  {
   "cell_type": "markdown",
   "metadata": {},
   "source": [
    "# Few Shot Learning"
   ]
  },
  {
   "cell_type": "code",
   "execution_count": 3,
   "metadata": {},
   "outputs": [
    {
     "name": "stdout",
     "output_type": "stream",
     "text": [
      "부정적인 리뷰입니다.\n"
     ]
    }
   ],
   "source": [
    "# Langchain 이용하기 - 지시문 + 제시어 (LCEL)\n",
    "from langchain_openai import ChatOpenAI \n",
    "from langchain_core.prompts import PromptTemplate\n",
    "from langchain_core.prompts.few_shot import FewShotPromptTemplate\n",
    "from langchain_core.output_parsers import StrOutputParser\n",
    "\n",
    "# One Shot\n",
    "\n",
    "template = \"\"\"\n",
    "    REVIEW의 긍/부정을 분류해주세요.\n",
    "\n",
    "    REVIEW: {review}\n",
    "\"\"\"\n",
    "prompt = PromptTemplate.from_template(template)\n",
    "model = ChatOpenAI(model_name=\"gpt-3.5-turbo\")\n",
    "output_parser = StrOutputParser()\n",
    "chain = prompt | model | output_parser\n",
    "\n",
    "response = chain.invoke({\"review\":\"무난하게 재밌음그렇지만 무난함, 꼭 봐야될 정도는 아닌..\"})\n",
    "print(response)"
   ]
  },
  {
   "cell_type": "code",
   "execution_count": 12,
   "metadata": {},
   "outputs": [
    {
     "name": "stdout",
     "output_type": "stream",
     "text": [
      "REVIEW: 몇년째 나와도 재밌다.\n",
      "ANSWER: 긍정\n",
      "\n",
      "REVIEW: 판다야 너가 귀여운거 다해\n",
      "ANSWER: 긍정\n",
      "\n",
      "REVIEW: 중간에 잤어요 개연성이 없고 지루합니다 쿵푸팬더 팬들만 보세요\n",
      "ANSWER: 부정\n",
      "\n",
      "REVIEW: 무난하게 재밌음그렇지만 무난함, 꼭 봐야될 정도는 아닌..\n",
      "ANSWER: 중립\n"
     ]
    }
   ],
   "source": [
    "# FewShot Learning\n",
    "from langchain_openai import ChatOpenAI \n",
    "from langchain_core.prompts import PromptTemplate\n",
    "from langchain_core.prompts.few_shot import FewShotPromptTemplate\n",
    "from langchain_core.output_parsers import StrOutputParser\n",
    "\n",
    "# Few Shot\n",
    "examples = [\n",
    "    {\"review\":\"몇년째 나와도 재밌다.\", \"answer\": \"ANSWER: 긍정\"},\n",
    "    {\"review\":\"판다야 너가 귀여운거 다해\", \"answer\": \"ANSWER: 긍정\"},\n",
    "    {\"review\":\"중간에 잤어요 개연성이 없고 지루합니다 쿵푸팬더 팬들만 보세요\", \"answer\": \"ANSWER: 부정\"}\n",
    "]\n",
    "\n",
    "example_prompt = PromptTemplate(\n",
    "    input_variables=[\"review\",\"answer\"],\n",
    "    template = \"REVIEW: {review}\\n{answer}\"\n",
    ")\n",
    "\n",
    "prompt = FewShotPromptTemplate(\n",
    "    examples = examples,\n",
    "    example_prompt = example_prompt,\n",
    "    suffix=\"REVIEW: {review}\",\n",
    "    input_variables=[\"review\"]\n",
    ")\n",
    "\n",
    "review = \"무난하게 재밌음그렇지만 무난함, 꼭 봐야될 정도는 아닌..\"\n",
    "final_prompt = prompt.format(review=review)\n",
    "model = ChatOpenAI(model_name=\"gpt-3.5-turbo\")\n",
    "\n",
    "print(final_prompt)\n",
    "print(model.invoke(final_prompt).content)"
   ]
  },
  {
   "cell_type": "code",
   "execution_count": 17,
   "metadata": {},
   "outputs": [],
   "source": [
    "# Example Selector를 이용한 동적 Few-Shot learning\n",
    "from langchain.prompts.example_selector import SemanticSimilarityExampleSelector\n",
    "from langchain.vectorstores import Chroma\n",
    "from langchain.prompts import FewShotPromptTemplate, PromptTemplate\n",
    "\n",
    "examples = [\n",
    "    {\"input\": \"토니모리 치크톤 젤리 블러셔\", \"output\": \"메이크업\"},\n",
    "    {\"input\": \"마녀공장 퓨어 클렌징 오일\", \"output\": \"클렌징\"},\n",
    "    {\"input\": \"식물나라 퀵앤딥 클렌징 티슈\", \"output\": \"클렌징\"},\n",
    "    {\"input\": \"라운드랩 포 맨 자작나무 토너\", \"output\": \"스킨케어\"},\n",
    "    {\"input\": \"아이오페 스템3 2종세트\", \"output\": \"스킨케어\"}\n",
    "]\n",
    "\n",
    "example_prompt = PromptTemplate(\n",
    "    input_variables = [\"input\", \"output\"],\n",
    "    template = \"Input: {input}\\nOutput: {output}\"\n",
    ")\n"
   ]
  },
  {
   "cell_type": "code",
   "execution_count": 26,
   "metadata": {},
   "outputs": [
    {
     "name": "stdout",
     "output_type": "stream",
     "text": [
      "다음 제품의 카테고리를 분류해줘\n",
      "\n",
      "Input: 토니모리 치크톤 젤리 블러셔\n",
      "Output: 메이크업\n",
      "\n",
      "Input: 에스트라 아토베리어365크림\n",
      "Output: \n",
      "스킨케어\n"
     ]
    }
   ],
   "source": [
    "from langchain_openai import OpenAIEmbeddings\n",
    "\n",
    "example_selector = SemanticSimilarityExampleSelector.from_examples(\n",
    "    examples,\n",
    "    OpenAIEmbeddings(),\n",
    "    Chroma,\n",
    "    k=1   \n",
    ")\n",
    "\n",
    "similar_prompt = FewShotPromptTemplate(\n",
    "    example_selector = example_selector,\n",
    "    example_prompt = example_prompt,\n",
    "    prefix=\"다음 제품의 카테고리를 분류해줘\",\n",
    "    suffix=\"Input: {input}\\nOutput: \",\n",
    "    input_variables=[\"input\"]\n",
    ")\n",
    "model = ChatOpenAI(model_name=\"gpt-3.5-turbo\")\n",
    "\n",
    "final_prompt = similar_prompt.format(input=\"에스트라 아토베리어365크림\")\n",
    "print(response)\n",
    "print(model.invoke(final_prompt).content)"
   ]
  },
  {
   "cell_type": "code",
   "execution_count": 9,
   "metadata": {},
   "outputs": [
    {
     "data": {
      "text/plain": [
       "{'result': True,\n",
       " 'original': '안녕하세요. 이문장은 한글 로 작성되 었 습니다.',\n",
       " 'checked': '안녕하세요. 이 문장은 한글로 작성되었습니다.',\n",
       " 'errors': 3,\n",
       " 'words': OrderedDict([('안녕하세요.', 0),\n",
       "              ('이', 2),\n",
       "              ('문장은', 2),\n",
       "              ('한글로', 2),\n",
       "              ('작성되었습니다.', 2)]),\n",
       " 'time': 0.6763484477996826}"
      ]
     },
     "execution_count": 9,
     "metadata": {},
     "output_type": "execute_result"
    }
   ],
   "source": [
    "# pip.req error\n",
    "# https://github.com/ssut/py-hanspell/issues/12\n",
    "# https://github.com/kdrkdrkdr/py-hanspell/blob/master/setup.py\n",
    "\n",
    "from hanspell import spell_checker \n",
    "\n",
    "url = \"https://m.search.naver.com/p/csearch/ocontent/util/SpellerProxy?passportKey=9174b407ac9ae3de9f16e75ddb56cb306aebd813&_callback=jQuery112408487938080478374_1713917132780&q=%EB%A7%9E%EC%B6%A4%EB%B2%95+%EA%B2%80%EC%82%AC%EB%A5%BC+%EC%9B%90%ED%95%98%EB%8A%94+%EB%8B%A8%EC%96%B4%EB%82%98+%EB%AC%B8%EC%9E%A5%EC%9D%84+%EC%9E%85%EB%A0%A5%ED%95%B4+%EC%A3%BC%EC%84%B8%EC%9A%94.&where=nexearch&color_blindness=0&_=1713917132781\"\n",
    "result = spell_checker.check(\"안녕하세요. 이문장은 한글 로 작성되 었 습니다.\", url)\n",
    "result.as_dict()"
   ]
  },
  {
   "cell_type": "code",
   "execution_count": null,
   "metadata": {},
   "outputs": [],
   "source": []
  }
 ],
 "metadata": {
  "kernelspec": {
   "display_name": "langchain",
   "language": "python",
   "name": "python3"
  },
  "language_info": {
   "codemirror_mode": {
    "name": "ipython",
    "version": 3
   },
   "file_extension": ".py",
   "mimetype": "text/x-python",
   "name": "python",
   "nbconvert_exporter": "python",
   "pygments_lexer": "ipython3",
   "version": "3.10.13"
  }
 },
 "nbformat": 4,
 "nbformat_minor": 2
}
