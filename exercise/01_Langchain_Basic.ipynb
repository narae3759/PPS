{
 "cells": [
  {
   "cell_type": "markdown",
   "metadata": {},
   "source": [
    "# Settings"
   ]
  },
  {
   "cell_type": "code",
   "execution_count": 1,
   "metadata": {},
   "outputs": [],
   "source": [
    "from dotenv import load_dotenv\n",
    "import os\n",
    "\n",
    "# .env load \n",
    "load_dotenv()\n",
    "os.environ[\"LANGCHAIN_PROJECT\"] = \"default\"\n",
    "\n",
    "# check API KEY \n",
    "if \"OPENAI_API_KEY\" not in os.environ:\n",
    "    print(\"API KEY 정보가 없습니다. 확인 후 환경변수에 등록해주세요.\")"
   ]
  },
  {
   "cell_type": "markdown",
   "metadata": {},
   "source": [
    "# 1. Langchain 기초"
   ]
  },
  {
   "cell_type": "markdown",
   "metadata": {},
   "source": [
    "## 1) Langchain 없이 "
   ]
  },
  {
   "cell_type": "code",
   "execution_count": 2,
   "metadata": {},
   "outputs": [
    {
     "data": {
      "text/plain": [
       "'저도 때때로 우울할 때 먹는 것으로 위로를 받는 법을 알아요. 빵을 사서 조금이라도 기분이 나아졌으면 좋겠어요. 하지만 더 좋은 방법으로 우울함을 극복하는 방법도 찾아보는 것을 권장해요. 함께 하면 더 좋은 방법을 찾을 수 있을 거예요. 함께 화이팅해요!'"
      ]
     },
     "execution_count": 2,
     "metadata": {},
     "output_type": "execute_result"
    }
   ],
   "source": [
    "# Langchain 없이 Chatgpt 사용하기 - 지시문 이용\n",
    "from openai import OpenAI\n",
    "\n",
    "client = OpenAI()\n",
    "\n",
    "completion = client.chat.completions.create(\n",
    "    model = \"gpt-3.5-turbo\",\n",
    "    messages = [\n",
    "        {\"role\": \"system\", \"content\": \"당신은 USER의 말에 공감해주는 상답사입니다.\"},\n",
    "        {\"role\": \"user\", \"content\": \"우울해서 빵을 샀어\"}\n",
    "    ]\n",
    ")\n",
    "\n",
    "response = completion.choices[0].message\n",
    "response.content"
   ]
  },
  {
   "cell_type": "markdown",
   "metadata": {},
   "source": [
    "## 2) Langchain 사용"
   ]
  },
  {
   "cell_type": "code",
   "execution_count": 8,
   "metadata": {},
   "outputs": [
    {
     "name": "stdout",
     "output_type": "stream",
     "text": [
      "client=<openai.resources.chat.completions.Completions object at 0x00000147FF5671C0> async_client=<openai.resources.chat.completions.AsyncCompletions object at 0x00000147FF5782E0> openai_api_key=SecretStr('**********') openai_proxy=''\n"
     ]
    }
   ],
   "source": [
    "# Model의 구조\n",
    "from langchain_openai import ChatOpenAI \n",
    "model = ChatOpenAI(model_name = \"gpt-3.5-turbo\") \n",
    "print(model)"
   ]
  },
  {
   "cell_type": "markdown",
   "metadata": {},
   "source": [
    "### (1) 단순 질의응답"
   ]
  },
  {
   "cell_type": "code",
   "execution_count": 3,
   "metadata": {},
   "outputs": [
    {
     "name": "stdout",
     "output_type": "stream",
     "text": [
      "빵을 산 것이 우울함을 달래줄 수 있기를 바랍니다. 그 빵을 맛있게 먹으면서 기분이 조금이라도 나아지길 기대해봐도 좋을 것 같아요. 그리고 우울한 마음을 털어놓고 이야기할 수 있는 친구나 가족과 소통하는 것도 도움이 될 수 있을 거예요. 힘내세요! 함께 응원해요.\n"
     ]
    }
   ],
   "source": [
    "from langchain_openai import ChatOpenAI \n",
    "\n",
    "model = ChatOpenAI(model_name = \"gpt-3.5-turbo\") \n",
    "response = model.invoke(\"오늘 너무 우울해서 빵을 샀어\")\n",
    "print(response.content)"
   ]
  },
  {
   "cell_type": "markdown",
   "metadata": {},
   "source": [
    "### (2) 역할 구분 질의응답"
   ]
  },
  {
   "cell_type": "code",
   "execution_count": 9,
   "metadata": {},
   "outputs": [
    {
     "data": {
      "text/plain": [
       "AIMessage(content='우울할 때 당황스럽고 위압감을 느낄 수 있지만, 먹는 것으로 감정을 달래는 것은 일시적인 해결책이 될 수 있습니다. 좀 더 건강한 방법으로 우울함을 극복할 수 있는 방법을 찾아보는 것이 중요합니다. 운동을 하거나 취미 활동을 즐기는 것도 좋은 방법일 수 있습니다. 또한, 친구나 가족과 소통하거나 전문가의 도움을 받는 것도 고려해보세요. 심리적인 안정을 찾는 것이 중요합니다. 함께 이야기를 나누는 것이 도움이 되길 바랍니다.', response_metadata={'token_usage': {'completion_tokens': 222, 'prompt_tokens': 46, 'total_tokens': 268}, 'model_name': 'gpt-3.5-turbo', 'system_fingerprint': None, 'finish_reason': 'stop', 'logprobs': None}, id='run-c152843a-fa60-4f5e-a3d2-b239777dbacc-0')"
      ]
     },
     "execution_count": 9,
     "metadata": {},
     "output_type": "execute_result"
    }
   ],
   "source": [
    "from langchain_openai import ChatOpenAI \n",
    "from langchain.schema import AIMessage, HumanMessage, SystemMessage \n",
    "\n",
    "model = ChatOpenAI(model_name=\"gpt-3.5-turbo\")\n",
    "messages = [\n",
    "    SystemMessage(\n",
    "        content = \"당신은 매우 이성적인 사람입니다.\"\n",
    "    ),\n",
    "    HumanMessage(\n",
    "        content = \"오늘 너무 우울해서 빵을 샀어\"\n",
    "    ),\n",
    "]\n",
    "\n",
    "response = model.invoke(messages)\n",
    "response"
   ]
  },
  {
   "cell_type": "markdown",
   "metadata": {},
   "source": [
    "# 2. Langchain + Prompt"
   ]
  },
  {
   "cell_type": "code",
   "execution_count": 2,
   "metadata": {},
   "outputs": [],
   "source": [
    "from langchain_openai import ChatOpenAI \n",
    "from langchain.chains import LLMChain\n",
    "\n",
    "def make_chain(prompt):\n",
    "    model = ChatOpenAI(model_name = \"gpt-3.5-turbo\") \n",
    "    chain = LLMChain(prompt=prompt, llm=model)\n",
    "\n",
    "    return chain"
   ]
  },
  {
   "cell_type": "markdown",
   "metadata": {},
   "source": [
    "## 1) PromptTemplate"
   ]
  },
  {
   "cell_type": "markdown",
   "metadata": {},
   "source": [
    "### EXAMPLE 1"
   ]
  },
  {
   "cell_type": "code",
   "execution_count": 4,
   "metadata": {},
   "outputs": [
    {
     "name": "stdout",
     "output_type": "stream",
     "text": [
      "input_variables=['object'] template='{object}가 영어로 뭐야?'\n"
     ]
    }
   ],
   "source": [
    "from langchain_core.prompts import PromptTemplate\n",
    "\n",
    "prompt = PromptTemplate.from_template(\"{object}가 영어로 뭐야?\")\n",
    "print(prompt)"
   ]
  },
  {
   "cell_type": "code",
   "execution_count": 5,
   "metadata": {},
   "outputs": [
    {
     "data": {
      "text/plain": [
       "{'object': '다람쥐', 'text': 'squirrel'}"
      ]
     },
     "execution_count": 5,
     "metadata": {},
     "output_type": "execute_result"
    }
   ],
   "source": [
    "chain = make_chain(prompt)\n",
    "\n",
    "response = chain.invoke({\"object\":\"다람쥐\"})\n",
    "response"
   ]
  },
  {
   "cell_type": "markdown",
   "metadata": {},
   "source": [
    "### EXAMPLE2"
   ]
  },
  {
   "cell_type": "code",
   "execution_count": 6,
   "metadata": {},
   "outputs": [
    {
     "name": "stdout",
     "output_type": "stream",
     "text": [
      "input_variables=['language', 'object'] template='{object}가 {language}로 뭐야?'\n"
     ]
    }
   ],
   "source": [
    "from langchain_core.prompts import PromptTemplate\n",
    "\n",
    "prompt = PromptTemplate.from_template(\"{object}가 {language}로 뭐야?\")\n",
    "print(prompt)"
   ]
  },
  {
   "cell_type": "code",
   "execution_count": 9,
   "metadata": {},
   "outputs": [
    {
     "data": {
      "text/plain": [
       "{'object': '다람쥐', 'language': '영어', 'text': 'squirrel'}"
      ]
     },
     "execution_count": 9,
     "metadata": {},
     "output_type": "execute_result"
    }
   ],
   "source": [
    "chain = make_chain(prompt)\n",
    "\n",
    "response = chain.invoke({\"object\":\"다람쥐\", \"language\":\"영어\"})\n",
    "print(response)"
   ]
  },
  {
   "cell_type": "markdown",
   "metadata": {},
   "source": [
    "## 2) ChatPromptTemplate"
   ]
  },
  {
   "cell_type": "markdown",
   "metadata": {},
   "source": [
    "### EXAMPLE 1"
   ]
  },
  {
   "cell_type": "code",
   "execution_count": 14,
   "metadata": {},
   "outputs": [
    {
     "name": "stdout",
     "output_type": "stream",
     "text": [
      "input_variables=['object'] messages=[SystemMessagePromptTemplate(prompt=PromptTemplate(input_variables=[], template='영어로 번역해주세요')), HumanMessagePromptTemplate(prompt=PromptTemplate(input_variables=['object'], template='{object}'))]\n"
     ]
    }
   ],
   "source": [
    "from langchain_core.prompts import ChatPromptTemplate\n",
    "\n",
    "prompt = ChatPromptTemplate.from_messages(\n",
    "    [\n",
    "        (\"system\", \"영어로 번역해주세요\"),\n",
    "        (\"human\", \"{object}\"),\n",
    "    ]\n",
    ")\n",
    "print(prompt)"
   ]
  },
  {
   "cell_type": "code",
   "execution_count": 15,
   "metadata": {},
   "outputs": [
    {
     "name": "stdout",
     "output_type": "stream",
     "text": [
      "{'object': '다람쥐', 'text': 'Squirrel'}\n"
     ]
    }
   ],
   "source": [
    "chain = make_chain(prompt)\n",
    "\n",
    "response = chain.invoke({\"object\":\"다람쥐\"})\n",
    "print(response)"
   ]
  },
  {
   "cell_type": "markdown",
   "metadata": {},
   "source": [
    "### EXAMPLE 2"
   ]
  },
  {
   "cell_type": "code",
   "execution_count": 16,
   "metadata": {},
   "outputs": [
    {
     "name": "stdout",
     "output_type": "stream",
     "text": [
      "input_variables=['language', 'object'] messages=[SystemMessagePromptTemplate(prompt=PromptTemplate(input_variables=['language'], template='{language}로 번역해주세요')), HumanMessagePromptTemplate(prompt=PromptTemplate(input_variables=['object'], template='{object}'))]\n"
     ]
    }
   ],
   "source": [
    "from langchain_core.prompts import ChatPromptTemplate\n",
    "\n",
    "prompt = ChatPromptTemplate.from_messages(\n",
    "    [\n",
    "        (\"system\", \"{language}로 번역해주세요\"),\n",
    "        (\"human\", \"{object}\"),\n",
    "    ]\n",
    ")\n",
    "print(prompt)"
   ]
  },
  {
   "cell_type": "code",
   "execution_count": 17,
   "metadata": {},
   "outputs": [
    {
     "data": {
      "text/plain": [
       "{'object': '다람쥐', 'language': '영어', 'text': 'squirrel'}"
      ]
     },
     "execution_count": 17,
     "metadata": {},
     "output_type": "execute_result"
    }
   ],
   "source": [
    "chain = make_chain(prompt)\n",
    "\n",
    "response = chain.invoke({\"object\":\"다람쥐\", \"language\":\"영어\"})\n",
    "response"
   ]
  },
  {
   "cell_type": "markdown",
   "metadata": {},
   "source": [
    "## 3) 반복 작업"
   ]
  },
  {
   "cell_type": "code",
   "execution_count": 29,
   "metadata": {},
   "outputs": [],
   "source": [
    "input_list = [{\"object\":\"선풍기\"},{\"object\":\"지하철\"},{\"object\":\"번역\"}]"
   ]
  },
  {
   "cell_type": "code",
   "execution_count": 33,
   "metadata": {},
   "outputs": [],
   "source": [
    "prompt1 = PromptTemplate.from_template(\"{object} 가 영어로 뭐야?\")\n",
    "prompt2 = ChatPromptTemplate.from_messages(\n",
    "    [\n",
    "        (\"system\", \"영어로 번역해주세요\"),\n",
    "        (\"human\", \"{object}\"),\n",
    "    ]\n",
    ")"
   ]
  },
  {
   "cell_type": "markdown",
   "metadata": {},
   "source": [
    "### EXAMPLE 1 - apply"
   ]
  },
  {
   "cell_type": "code",
   "execution_count": 34,
   "metadata": {},
   "outputs": [
    {
     "data": {
      "text/plain": [
       "[{'text': '선풍기는 영어로 \"fan\" 입니다.'},\n",
       " {'text': 'Subway'},\n",
       " {'text': '번역은 \"translation\" 입니다.'}]"
      ]
     },
     "execution_count": 34,
     "metadata": {},
     "output_type": "execute_result"
    }
   ],
   "source": [
    "# Prompt 1\n",
    "chain = make_chain(prompt1)\n",
    "\n",
    "response = chain.apply(input_list)\n",
    "print(response)\n"
   ]
  },
  {
   "cell_type": "code",
   "execution_count": 35,
   "metadata": {},
   "outputs": [
    {
     "data": {
      "text/plain": [
       "[{'text': 'fan'}, {'text': 'subway'}, {'text': 'Translation'}]"
      ]
     },
     "execution_count": 35,
     "metadata": {},
     "output_type": "execute_result"
    }
   ],
   "source": [
    "# Prompt 2\n",
    "chain = make_chain(prompt2)\n",
    "\n",
    "response = chain.apply(input_list)\n",
    "print(response)"
   ]
  },
  {
   "cell_type": "markdown",
   "metadata": {},
   "source": [
    "### EXAMPLE 2 - generate"
   ]
  },
  {
   "cell_type": "code",
   "execution_count": 45,
   "metadata": {},
   "outputs": [
    {
     "name": "stdout",
     "output_type": "stream",
     "text": [
      "['선풍기는 영어로 \"fan\" 입니다.', 'Subway', '번역은 영어로 translation이라고 합니다.']\n"
     ]
    }
   ],
   "source": [
    "# Prompt 1\n",
    "chain = make_chain(prompt1)\n",
    "\n",
    "response = chain.generate(input_list)\n",
    "print([x[0].text for x in response.generations])"
   ]
  },
  {
   "cell_type": "code",
   "execution_count": 46,
   "metadata": {},
   "outputs": [
    {
     "name": "stdout",
     "output_type": "stream",
     "text": [
      "['fan', 'Subway', 'Translation']\n"
     ]
    }
   ],
   "source": [
    "# Prompt 2\n",
    "chain = make_chain(prompt2)\n",
    "\n",
    "response = chain.generate(input_list)\n",
    "print([x[0].text for x in response.generations])"
   ]
  },
  {
   "cell_type": "markdown",
   "metadata": {},
   "source": [
    "# 3. LCEL"
   ]
  },
  {
   "cell_type": "code",
   "execution_count": 60,
   "metadata": {},
   "outputs": [
    {
     "name": "stdout",
     "output_type": "stream",
     "text": [
      "first=PromptTemplate(input_variables=['input'], template='{input}에 대해 한국어로 한 줄로 설명해줘') middle=[ChatOpenAI(client=<openai.resources.chat.completions.Completions object at 0x00000147876BB580>, async_client=<openai.resources.chat.completions.AsyncCompletions object at 0x00000147876D4F70>, openai_api_key=SecretStr('**********'), openai_proxy='')] last=StrOutputParser()\n"
     ]
    }
   ],
   "source": [
    "from langchain_openai import ChatOpenAI \n",
    "from langchain_core.prompts import PromptTemplate\n",
    "from langchain_core.output_parsers import StrOutputParser\n",
    "\n",
    "prompt = PromptTemplate.from_template(\"{input}에 대해 한국어로 한 줄로 설명해줘\")\n",
    "model = ChatOpenAI(model_name = \"gpt-3.5-turbo\") \n",
    "output_parser = StrOutputParser()\n",
    "chain = prompt | model | output_parser\n",
    "print(chain)"
   ]
  },
  {
   "cell_type": "markdown",
   "metadata": {},
   "source": [
    "## 1) Method"
   ]
  },
  {
   "cell_type": "markdown",
   "metadata": {},
   "source": [
    "### (1) invoke / ainvoke"
   ]
  },
  {
   "cell_type": "code",
   "execution_count": 62,
   "metadata": {},
   "outputs": [
    {
     "name": "stdout",
     "output_type": "stream",
     "text": [
      "Sync execution time: 3.83 seconds\n",
      "Result 1: Python은 간결하고 가독성이 좋은 프로그래밍 언어로, 다양한 분야에서 사용되는 인기 있는 언어이다.\n",
      "Result 2: JavaScript는 웹페이지를 동적으로 만들어주는 프로그래밍 언어이다.\n",
      "Result 3: Rust는 안전하고 병행성이 뛰어난 시스템 프로그래밍 언어이다.\n"
     ]
    }
   ],
   "source": [
    "import time\n",
    " \n",
    "# 동기 실행 함수 - invoke\n",
    "def run_sync():\n",
    "    start_time = time.time()\n",
    "    result1 = chain.invoke({\"input\": \"Python\"})\n",
    "    result2 = chain.invoke({\"input\": \"JavaScript\"})\n",
    "    result3 = chain.invoke({\"input\": \"Rust\"})\n",
    "    end_time = time.time()\n",
    "    print(f\"Sync execution time: {end_time - start_time:.2f} seconds\")\n",
    "    print(f\"Result 1: {result1}\")\n",
    "    print(f\"Result 2: {result2}\")\n",
    "    print(f\"Result 3: {result3}\")\n",
    "\n",
    "run_sync()"
   ]
  },
  {
   "cell_type": "code",
   "execution_count": 66,
   "metadata": {},
   "outputs": [
    {
     "name": "stdout",
     "output_type": "stream",
     "text": [
      "Async execution time: 1.77 seconds\n",
      "Result 1: 파이썬은 간결하고 읽기 쉬운 문법을 가진 인기 있는 프로그래밍 언어이다.\n",
      "Result 2: JavaScript는 웹페이지를 동적으로 제어하고 상호작용을 가능하게 하는 프로그래밍 언어이다.\n",
      "Result 3: Rust는 안전하고 고성능인 시스템 프로그래밍 언어로, 메모리 안전성을 보장하면서도 추상화 수준을 제공하여 개발 생산성을 높이는 것을 목표로 하는 프로그래밍 언어이다.\n"
     ]
    }
   ],
   "source": [
    "import time \n",
    "import asyncio\n",
    "\n",
    "# 비동기 실행 함수 - ainvoke\n",
    "async def run_async():\n",
    "    start_time = time.time()\n",
    "    tasks = [\n",
    "        chain.ainvoke({\"input\": \"Python\"}),\n",
    "        chain.ainvoke({\"input\": \"JavaScript\"}),\n",
    "        chain.ainvoke({\"input\": \"Rust\"})\n",
    "    ]\n",
    "    results = await asyncio.gather(*tasks)\n",
    "    end_time = time.time()\n",
    "    print(f\"Async execution time: {end_time - start_time:.2f} seconds\")\n",
    "    for i, result in enumerate(results, 1):\n",
    "        print(f\"Result {i}: {result}\")\n",
    "\n",
    "await run_async()"
   ]
  },
  {
   "cell_type": "markdown",
   "metadata": {},
   "source": [
    "### (2) batch / abatch"
   ]
  },
  {
   "cell_type": "code",
   "execution_count": 77,
   "metadata": {},
   "outputs": [],
   "source": [
    "input_list = [{\"input\": \"Python\"}, {\"input\": \"JavaScript\"}, {\"input\": \"Rust\"}, {\"input\": \"Flutter\"}, {\"input\": \"Spring\"}]"
   ]
  },
  {
   "cell_type": "code",
   "execution_count": 80,
   "metadata": {},
   "outputs": [
    {
     "name": "stdout",
     "output_type": "stream",
     "text": [
      "Async execution time: 1.67 seconds\n"
     ]
    }
   ],
   "source": [
    "import time \n",
    "\n",
    "# 동기 실행 코드 - batch\n",
    "start_time = time.time()\n",
    "result = chain.batch(input_list)\n",
    "end_time = time.time()\n",
    "print(f\"Async execution time: {end_time - start_time:.2f} seconds\")"
   ]
  },
  {
   "cell_type": "code",
   "execution_count": 81,
   "metadata": {},
   "outputs": [
    {
     "name": "stdout",
     "output_type": "stream",
     "text": [
      "Async execution time: 1.54 seconds\n"
     ]
    }
   ],
   "source": [
    "import time \n",
    "\n",
    "# 비동기 실행 코드 - batch\n",
    "start_time = time.time()\n",
    "result = chain.abatch(input_list)\n",
    "await result\n",
    "end_time = time.time()\n",
    "print(f\"Async execution time: {end_time - start_time:.2f} seconds\")"
   ]
  },
  {
   "cell_type": "code",
   "execution_count": 56,
   "metadata": {},
   "outputs": [
    {
     "data": {
      "text/plain": [
       "<generator object RunnableSequence.stream at 0x000001478549B370>"
      ]
     },
     "execution_count": 56,
     "metadata": {},
     "output_type": "execute_result"
    }
   ],
   "source": [
    "chain.stream({\"input\":\"파이썬\"}) # generator로 출력되는 것을 확인"
   ]
  },
  {
   "cell_type": "markdown",
   "metadata": {},
   "source": [
    "### (3) stream / astream"
   ]
  },
  {
   "cell_type": "code",
   "execution_count": 89,
   "metadata": {},
   "outputs": [
    {
     "name": "stdout",
     "output_type": "stream",
     "text": [
      "파이썬은 간결하고 읽기 쉬운 문법을 가진 프로그래밍 언어로 다양한 분야에서 활용되는 인기 있는 언어이다."
     ]
    }
   ],
   "source": [
    "for chunk in chain.stream({\"input\":\"파이썬\"}):\n",
    "    print(chunk, end=\"\", flush=True)"
   ]
  },
  {
   "cell_type": "code",
   "execution_count": 90,
   "metadata": {},
   "outputs": [
    {
     "name": "stdout",
     "output_type": "stream",
     "text": [
      "파이썬은 간결하고 쉽게 배울 수 있는 프로그래밍 언어로, 다양한 분야에서 활용되는 인기 있는 언어이다."
     ]
    }
   ],
   "source": [
    "async for chunk in chain.astream({\"input\":\"파이썬\"}):\n",
    "    print(chunk, end=\"\", flush=True)"
   ]
  },
  {
   "cell_type": "code",
   "execution_count": 106,
   "metadata": {},
   "outputs": [
    {
     "name": "stdout",
     "output_type": "stream",
     "text": [
      "RunLogPatch({'op': 'replace',\n",
      "  'path': '',\n",
      "  'value': {'final_output': None,\n",
      "            'id': 'af9b9fd5-8252-4c8b-a6d0-7ebbec5b1413',\n",
      "            'logs': {},\n",
      "            'name': 'RunnableSequence',\n",
      "            'streamed_output': [],\n",
      "            'type': 'chain'}})\n",
      "====================================================================================================\n",
      "RunLogPatch({'op': 'add',\n",
      "  'path': '/logs/PromptTemplate',\n",
      "  'value': {'end_time': None,\n",
      "            'final_output': None,\n",
      "            'id': '2a9e28e3-ba58-423b-8e85-47d1d026a94b',\n",
      "            'metadata': {},\n",
      "            'name': 'PromptTemplate',\n",
      "            'start_time': '2024-06-26T04:16:34.208+00:00',\n",
      "            'streamed_output': [],\n",
      "            'streamed_output_str': [],\n",
      "            'tags': ['seq:step:1'],\n",
      "            'type': 'prompt'}})\n",
      "====================================================================================================\n",
      "RunLogPatch({'op': 'add',\n",
      "  'path': '/logs/PromptTemplate/final_output',\n",
      "  'value': StringPromptValue(text='파이썬에 대해 한국어로 한 줄로 설명해줘')},\n",
      " {'op': 'add',\n",
      "  'path': '/logs/PromptTemplate/end_time',\n",
      "  'value': '2024-06-26T04:16:34.218+00:00'})\n",
      "====================================================================================================\n",
      "RunLogPatch({'op': 'add',\n",
      "  'path': '/logs/ChatOpenAI',\n",
      "  'value': {'end_time': None,\n",
      "            'final_output': None,\n",
      "            'id': 'e5594fbc-5c77-46b3-99b0-8de5ae6f4d01',\n",
      "            'metadata': {},\n",
      "            'name': 'ChatOpenAI',\n",
      "            'start_time': '2024-06-26T04:16:34.226+00:00',\n",
      "            'streamed_output': [],\n",
      "            'streamed_output_str': [],\n",
      "            'tags': ['seq:step:2'],\n",
      "            'type': 'llm'}})\n",
      "====================================================================================================\n",
      "RunLogPatch({'op': 'add', 'path': '/logs/ChatOpenAI/streamed_output_str/-', 'value': ''},\n",
      " {'op': 'add',\n",
      "  'path': '/logs/ChatOpenAI/streamed_output/-',\n",
      "  'value': AIMessageChunk(content='', id='run-e5594fbc-5c77-46b3-99b0-8de5ae6f4d01')})\n",
      "====================================================================================================\n",
      "RunLogPatch({'op': 'add',\n",
      "  'path': '/logs/StrOutputParser',\n",
      "  'value': {'end_time': None,\n",
      "            'final_output': None,\n",
      "            'id': 'b837a9b1-6275-4f69-a3c8-4a6454448f2d',\n",
      "            'metadata': {},\n",
      "            'name': 'StrOutputParser',\n",
      "            'start_time': '2024-06-26T04:16:34.971+00:00',\n",
      "            'streamed_output': [],\n",
      "            'streamed_output_str': [],\n",
      "            'tags': ['seq:step:3'],\n",
      "            'type': 'parser'}})\n",
      "====================================================================================================\n",
      "RunLogPatch({'op': 'add', 'path': '/logs/StrOutputParser/streamed_output/-', 'value': ''})\n",
      "====================================================================================================\n",
      "RunLogPatch({'op': 'add', 'path': '/streamed_output/-', 'value': ''},\n",
      " {'op': 'replace', 'path': '/final_output', 'value': ''})\n",
      "====================================================================================================\n",
      "RunLogPatch({'op': 'add', 'path': '/logs/ChatOpenAI/streamed_output_str/-', 'value': '파'},\n",
      " {'op': 'add',\n",
      "  'path': '/logs/ChatOpenAI/streamed_output/-',\n",
      "  'value': AIMessageChunk(content='파', id='run-e5594fbc-5c77-46b3-99b0-8de5ae6f4d01')})\n",
      "====================================================================================================\n",
      "RunLogPatch({'op': 'add', 'path': '/logs/StrOutputParser/streamed_output/-', 'value': '파'})\n",
      "====================================================================================================\n",
      "RunLogPatch({'op': 'add', 'path': '/streamed_output/-', 'value': '파'},\n",
      " {'op': 'replace', 'path': '/final_output', 'value': '파'})\n",
      "====================================================================================================\n",
      "RunLogPatch({'op': 'add', 'path': '/logs/ChatOpenAI/streamed_output_str/-', 'value': '이'},\n",
      " {'op': 'add',\n",
      "  'path': '/logs/ChatOpenAI/streamed_output/-',\n",
      "  'value': AIMessageChunk(content='이', id='run-e5594fbc-5c77-46b3-99b0-8de5ae6f4d01')})\n",
      "====================================================================================================\n",
      "RunLogPatch({'op': 'add', 'path': '/logs/StrOutputParser/streamed_output/-', 'value': '이'})\n",
      "====================================================================================================\n",
      "RunLogPatch({'op': 'add', 'path': '/streamed_output/-', 'value': '이'},\n",
      " {'op': 'replace', 'path': '/final_output', 'value': '파이'})\n",
      "====================================================================================================\n",
      "RunLogPatch({'op': 'add', 'path': '/logs/ChatOpenAI/streamed_output_str/-', 'value': '썬'},\n",
      " {'op': 'add',\n",
      "  'path': '/logs/ChatOpenAI/streamed_output/-',\n",
      "  'value': AIMessageChunk(content='썬', id='run-e5594fbc-5c77-46b3-99b0-8de5ae6f4d01')})\n",
      "====================================================================================================\n",
      "RunLogPatch({'op': 'add', 'path': '/logs/StrOutputParser/streamed_output/-', 'value': '썬'})\n",
      "====================================================================================================\n",
      "RunLogPatch({'op': 'add', 'path': '/streamed_output/-', 'value': '썬'},\n",
      " {'op': 'replace', 'path': '/final_output', 'value': '파이썬'})\n",
      "====================================================================================================\n",
      "RunLogPatch({'op': 'add', 'path': '/logs/ChatOpenAI/streamed_output_str/-', 'value': '은'},\n",
      " {'op': 'add',\n",
      "  'path': '/logs/ChatOpenAI/streamed_output/-',\n",
      "  'value': AIMessageChunk(content='은', id='run-e5594fbc-5c77-46b3-99b0-8de5ae6f4d01')})\n",
      "====================================================================================================\n",
      "RunLogPatch({'op': 'add', 'path': '/logs/StrOutputParser/streamed_output/-', 'value': '은'})\n",
      "====================================================================================================\n",
      "RunLogPatch({'op': 'add', 'path': '/streamed_output/-', 'value': '은'},\n",
      " {'op': 'replace', 'path': '/final_output', 'value': '파이썬은'})\n",
      "====================================================================================================\n",
      "RunLogPatch({'op': 'add', 'path': '/logs/ChatOpenAI/streamed_output_str/-', 'value': ' 간'},\n",
      " {'op': 'add',\n",
      "  'path': '/logs/ChatOpenAI/streamed_output/-',\n",
      "  'value': AIMessageChunk(content=' 간', id='run-e5594fbc-5c77-46b3-99b0-8de5ae6f4d01')})\n",
      "====================================================================================================\n",
      "RunLogPatch({'op': 'add',\n",
      "  'path': '/logs/StrOutputParser/streamed_output/-',\n",
      "  'value': ' 간'})\n",
      "====================================================================================================\n",
      "RunLogPatch({'op': 'add', 'path': '/streamed_output/-', 'value': ' 간'},\n",
      " {'op': 'replace', 'path': '/final_output', 'value': '파이썬은 간'})\n",
      "====================================================================================================\n",
      "RunLogPatch({'op': 'add', 'path': '/logs/ChatOpenAI/streamed_output_str/-', 'value': '결'},\n",
      " {'op': 'add',\n",
      "  'path': '/logs/ChatOpenAI/streamed_output/-',\n",
      "  'value': AIMessageChunk(content='결', id='run-e5594fbc-5c77-46b3-99b0-8de5ae6f4d01')})\n",
      "====================================================================================================\n",
      "RunLogPatch({'op': 'add', 'path': '/logs/StrOutputParser/streamed_output/-', 'value': '결'})\n",
      "====================================================================================================\n",
      "RunLogPatch({'op': 'add', 'path': '/streamed_output/-', 'value': '결'},\n",
      " {'op': 'replace', 'path': '/final_output', 'value': '파이썬은 간결'})\n",
      "====================================================================================================\n",
      "RunLogPatch({'op': 'add', 'path': '/logs/ChatOpenAI/streamed_output_str/-', 'value': '하'},\n",
      " {'op': 'add',\n",
      "  'path': '/logs/ChatOpenAI/streamed_output/-',\n",
      "  'value': AIMessageChunk(content='하', id='run-e5594fbc-5c77-46b3-99b0-8de5ae6f4d01')})\n",
      "====================================================================================================\n",
      "RunLogPatch({'op': 'add', 'path': '/logs/StrOutputParser/streamed_output/-', 'value': '하'})\n",
      "====================================================================================================\n",
      "RunLogPatch({'op': 'add', 'path': '/streamed_output/-', 'value': '하'},\n",
      " {'op': 'replace', 'path': '/final_output', 'value': '파이썬은 간결하'})\n",
      "====================================================================================================\n",
      "RunLogPatch({'op': 'add', 'path': '/logs/ChatOpenAI/streamed_output_str/-', 'value': '고'},\n",
      " {'op': 'add',\n",
      "  'path': '/logs/ChatOpenAI/streamed_output/-',\n",
      "  'value': AIMessageChunk(content='고', id='run-e5594fbc-5c77-46b3-99b0-8de5ae6f4d01')})\n",
      "====================================================================================================\n",
      "RunLogPatch({'op': 'add', 'path': '/logs/StrOutputParser/streamed_output/-', 'value': '고'})\n",
      "====================================================================================================\n",
      "RunLogPatch({'op': 'add', 'path': '/streamed_output/-', 'value': '고'},\n",
      " {'op': 'replace', 'path': '/final_output', 'value': '파이썬은 간결하고'})\n",
      "====================================================================================================\n",
      "RunLogPatch({'op': 'add', 'path': '/logs/ChatOpenAI/streamed_output_str/-', 'value': ' 쉽'},\n",
      " {'op': 'add',\n",
      "  'path': '/logs/ChatOpenAI/streamed_output/-',\n",
      "  'value': AIMessageChunk(content=' 쉽', id='run-e5594fbc-5c77-46b3-99b0-8de5ae6f4d01')})\n",
      "====================================================================================================\n",
      "RunLogPatch({'op': 'add',\n",
      "  'path': '/logs/StrOutputParser/streamed_output/-',\n",
      "  'value': ' 쉽'})\n",
      "====================================================================================================\n",
      "RunLogPatch({'op': 'add', 'path': '/streamed_output/-', 'value': ' 쉽'},\n",
      " {'op': 'replace', 'path': '/final_output', 'value': '파이썬은 간결하고 쉽'})\n",
      "====================================================================================================\n",
      "RunLogPatch({'op': 'add', 'path': '/logs/ChatOpenAI/streamed_output_str/-', 'value': '게'},\n",
      " {'op': 'add',\n",
      "  'path': '/logs/ChatOpenAI/streamed_output/-',\n",
      "  'value': AIMessageChunk(content='게', id='run-e5594fbc-5c77-46b3-99b0-8de5ae6f4d01')})\n",
      "====================================================================================================\n",
      "RunLogPatch({'op': 'add', 'path': '/logs/StrOutputParser/streamed_output/-', 'value': '게'})\n",
      "====================================================================================================\n",
      "RunLogPatch({'op': 'add', 'path': '/streamed_output/-', 'value': '게'},\n",
      " {'op': 'replace', 'path': '/final_output', 'value': '파이썬은 간결하고 쉽게'})\n",
      "====================================================================================================\n",
      "RunLogPatch({'op': 'add', 'path': '/logs/ChatOpenAI/streamed_output_str/-', 'value': ' 배'},\n",
      " {'op': 'add',\n",
      "  'path': '/logs/ChatOpenAI/streamed_output/-',\n",
      "  'value': AIMessageChunk(content=' 배', id='run-e5594fbc-5c77-46b3-99b0-8de5ae6f4d01')})\n",
      "====================================================================================================\n",
      "RunLogPatch({'op': 'add',\n",
      "  'path': '/logs/StrOutputParser/streamed_output/-',\n",
      "  'value': ' 배'})\n",
      "====================================================================================================\n",
      "RunLogPatch({'op': 'add', 'path': '/streamed_output/-', 'value': ' 배'},\n",
      " {'op': 'replace', 'path': '/final_output', 'value': '파이썬은 간결하고 쉽게 배'})\n",
      "====================================================================================================\n",
      "RunLogPatch({'op': 'add', 'path': '/logs/ChatOpenAI/streamed_output_str/-', 'value': '울'},\n",
      " {'op': 'add',\n",
      "  'path': '/logs/ChatOpenAI/streamed_output/-',\n",
      "  'value': AIMessageChunk(content='울', id='run-e5594fbc-5c77-46b3-99b0-8de5ae6f4d01')})\n",
      "====================================================================================================\n",
      "RunLogPatch({'op': 'add', 'path': '/logs/StrOutputParser/streamed_output/-', 'value': '울'})\n",
      "====================================================================================================\n",
      "RunLogPatch({'op': 'add', 'path': '/streamed_output/-', 'value': '울'},\n",
      " {'op': 'replace', 'path': '/final_output', 'value': '파이썬은 간결하고 쉽게 배울'})\n",
      "====================================================================================================\n",
      "RunLogPatch({'op': 'add', 'path': '/logs/ChatOpenAI/streamed_output_str/-', 'value': ' 수'},\n",
      " {'op': 'add',\n",
      "  'path': '/logs/ChatOpenAI/streamed_output/-',\n",
      "  'value': AIMessageChunk(content=' 수', id='run-e5594fbc-5c77-46b3-99b0-8de5ae6f4d01')})\n",
      "====================================================================================================\n",
      "RunLogPatch({'op': 'add',\n",
      "  'path': '/logs/StrOutputParser/streamed_output/-',\n",
      "  'value': ' 수'})\n",
      "====================================================================================================\n",
      "RunLogPatch({'op': 'add', 'path': '/streamed_output/-', 'value': ' 수'},\n",
      " {'op': 'replace', 'path': '/final_output', 'value': '파이썬은 간결하고 쉽게 배울 수'})\n",
      "====================================================================================================\n",
      "RunLogPatch({'op': 'add',\n",
      "  'path': '/logs/ChatOpenAI/streamed_output_str/-',\n",
      "  'value': ' 있는'},\n",
      " {'op': 'add',\n",
      "  'path': '/logs/ChatOpenAI/streamed_output/-',\n",
      "  'value': AIMessageChunk(content=' 있는', id='run-e5594fbc-5c77-46b3-99b0-8de5ae6f4d01')})\n",
      "====================================================================================================\n",
      "RunLogPatch({'op': 'add',\n",
      "  'path': '/logs/StrOutputParser/streamed_output/-',\n",
      "  'value': ' 있는'})\n",
      "====================================================================================================\n",
      "RunLogPatch({'op': 'add', 'path': '/streamed_output/-', 'value': ' 있는'},\n",
      " {'op': 'replace', 'path': '/final_output', 'value': '파이썬은 간결하고 쉽게 배울 수 있는'})\n",
      "====================================================================================================\n",
      "RunLogPatch({'op': 'add', 'path': '/logs/ChatOpenAI/streamed_output_str/-', 'value': ' 프'},\n",
      " {'op': 'add',\n",
      "  'path': '/logs/ChatOpenAI/streamed_output/-',\n",
      "  'value': AIMessageChunk(content=' 프', id='run-e5594fbc-5c77-46b3-99b0-8de5ae6f4d01')})\n",
      "====================================================================================================\n",
      "RunLogPatch({'op': 'add',\n",
      "  'path': '/logs/StrOutputParser/streamed_output/-',\n",
      "  'value': ' 프'})\n",
      "====================================================================================================\n",
      "RunLogPatch({'op': 'add', 'path': '/streamed_output/-', 'value': ' 프'},\n",
      " {'op': 'replace', 'path': '/final_output', 'value': '파이썬은 간결하고 쉽게 배울 수 있는 프'})\n",
      "====================================================================================================\n",
      "RunLogPatch({'op': 'add', 'path': '/logs/ChatOpenAI/streamed_output_str/-', 'value': '로그'},\n",
      " {'op': 'add',\n",
      "  'path': '/logs/ChatOpenAI/streamed_output/-',\n",
      "  'value': AIMessageChunk(content='로그', id='run-e5594fbc-5c77-46b3-99b0-8de5ae6f4d01')})\n",
      "====================================================================================================\n",
      "RunLogPatch({'op': 'add',\n",
      "  'path': '/logs/StrOutputParser/streamed_output/-',\n",
      "  'value': '로그'})\n",
      "====================================================================================================\n",
      "RunLogPatch({'op': 'add', 'path': '/streamed_output/-', 'value': '로그'},\n",
      " {'op': 'replace',\n",
      "  'path': '/final_output',\n",
      "  'value': '파이썬은 간결하고 쉽게 배울 수 있는 프로그'})\n",
      "====================================================================================================\n",
      "RunLogPatch({'op': 'add', 'path': '/logs/ChatOpenAI/streamed_output_str/-', 'value': '래'},\n",
      " {'op': 'add',\n",
      "  'path': '/logs/ChatOpenAI/streamed_output/-',\n",
      "  'value': AIMessageChunk(content='래', id='run-e5594fbc-5c77-46b3-99b0-8de5ae6f4d01')})\n",
      "====================================================================================================\n",
      "RunLogPatch({'op': 'add', 'path': '/logs/StrOutputParser/streamed_output/-', 'value': '래'})\n",
      "====================================================================================================\n",
      "RunLogPatch({'op': 'add', 'path': '/streamed_output/-', 'value': '래'},\n",
      " {'op': 'replace',\n",
      "  'path': '/final_output',\n",
      "  'value': '파이썬은 간결하고 쉽게 배울 수 있는 프로그래'})\n",
      "====================================================================================================\n",
      "RunLogPatch({'op': 'add', 'path': '/logs/ChatOpenAI/streamed_output_str/-', 'value': '밍'},\n",
      " {'op': 'add',\n",
      "  'path': '/logs/ChatOpenAI/streamed_output/-',\n",
      "  'value': AIMessageChunk(content='밍', id='run-e5594fbc-5c77-46b3-99b0-8de5ae6f4d01')})\n",
      "====================================================================================================\n",
      "RunLogPatch({'op': 'add', 'path': '/logs/StrOutputParser/streamed_output/-', 'value': '밍'})\n",
      "====================================================================================================\n",
      "RunLogPatch({'op': 'add', 'path': '/streamed_output/-', 'value': '밍'},\n",
      " {'op': 'replace',\n",
      "  'path': '/final_output',\n",
      "  'value': '파이썬은 간결하고 쉽게 배울 수 있는 프로그래밍'})\n",
      "====================================================================================================\n",
      "RunLogPatch({'op': 'add', 'path': '/logs/ChatOpenAI/streamed_output_str/-', 'value': ' 언'},\n",
      " {'op': 'add',\n",
      "  'path': '/logs/ChatOpenAI/streamed_output/-',\n",
      "  'value': AIMessageChunk(content=' 언', id='run-e5594fbc-5c77-46b3-99b0-8de5ae6f4d01')})\n",
      "====================================================================================================\n",
      "RunLogPatch({'op': 'add',\n",
      "  'path': '/logs/StrOutputParser/streamed_output/-',\n",
      "  'value': ' 언'})\n",
      "====================================================================================================\n",
      "RunLogPatch({'op': 'add', 'path': '/streamed_output/-', 'value': ' 언'},\n",
      " {'op': 'replace',\n",
      "  'path': '/final_output',\n",
      "  'value': '파이썬은 간결하고 쉽게 배울 수 있는 프로그래밍 언'})\n",
      "====================================================================================================\n",
      "RunLogPatch({'op': 'add', 'path': '/logs/ChatOpenAI/streamed_output_str/-', 'value': '어'},\n",
      " {'op': 'add',\n",
      "  'path': '/logs/ChatOpenAI/streamed_output/-',\n",
      "  'value': AIMessageChunk(content='어', id='run-e5594fbc-5c77-46b3-99b0-8de5ae6f4d01')})\n",
      "====================================================================================================\n",
      "RunLogPatch({'op': 'add', 'path': '/logs/StrOutputParser/streamed_output/-', 'value': '어'})\n",
      "====================================================================================================\n",
      "RunLogPatch({'op': 'add', 'path': '/streamed_output/-', 'value': '어'},\n",
      " {'op': 'replace',\n",
      "  'path': '/final_output',\n",
      "  'value': '파이썬은 간결하고 쉽게 배울 수 있는 프로그래밍 언어'})\n",
      "====================================================================================================\n",
      "RunLogPatch({'op': 'add', 'path': '/logs/ChatOpenAI/streamed_output_str/-', 'value': '로'},\n",
      " {'op': 'add',\n",
      "  'path': '/logs/ChatOpenAI/streamed_output/-',\n",
      "  'value': AIMessageChunk(content='로', id='run-e5594fbc-5c77-46b3-99b0-8de5ae6f4d01')})\n",
      "====================================================================================================\n",
      "RunLogPatch({'op': 'add', 'path': '/logs/StrOutputParser/streamed_output/-', 'value': '로'})\n",
      "====================================================================================================\n",
      "RunLogPatch({'op': 'add', 'path': '/streamed_output/-', 'value': '로'},\n",
      " {'op': 'replace',\n",
      "  'path': '/final_output',\n",
      "  'value': '파이썬은 간결하고 쉽게 배울 수 있는 프로그래밍 언어로'})\n",
      "====================================================================================================\n",
      "RunLogPatch({'op': 'add', 'path': '/logs/ChatOpenAI/streamed_output_str/-', 'value': ','},\n",
      " {'op': 'add',\n",
      "  'path': '/logs/ChatOpenAI/streamed_output/-',\n",
      "  'value': AIMessageChunk(content=',', id='run-e5594fbc-5c77-46b3-99b0-8de5ae6f4d01')})\n",
      "====================================================================================================\n",
      "RunLogPatch({'op': 'add', 'path': '/logs/StrOutputParser/streamed_output/-', 'value': ','})\n",
      "====================================================================================================\n",
      "RunLogPatch({'op': 'add', 'path': '/streamed_output/-', 'value': ','},\n",
      " {'op': 'replace',\n",
      "  'path': '/final_output',\n",
      "  'value': '파이썬은 간결하고 쉽게 배울 수 있는 프로그래밍 언어로,'})\n",
      "====================================================================================================\n",
      "RunLogPatch({'op': 'add', 'path': '/logs/ChatOpenAI/streamed_output_str/-', 'value': ' 다'},\n",
      " {'op': 'add',\n",
      "  'path': '/logs/ChatOpenAI/streamed_output/-',\n",
      "  'value': AIMessageChunk(content=' 다', id='run-e5594fbc-5c77-46b3-99b0-8de5ae6f4d01')})\n",
      "====================================================================================================\n",
      "RunLogPatch({'op': 'add',\n",
      "  'path': '/logs/StrOutputParser/streamed_output/-',\n",
      "  'value': ' 다'})\n",
      "====================================================================================================\n",
      "RunLogPatch({'op': 'add', 'path': '/streamed_output/-', 'value': ' 다'},\n",
      " {'op': 'replace',\n",
      "  'path': '/final_output',\n",
      "  'value': '파이썬은 간결하고 쉽게 배울 수 있는 프로그래밍 언어로, 다'})\n",
      "====================================================================================================\n",
      "RunLogPatch({'op': 'add', 'path': '/logs/ChatOpenAI/streamed_output_str/-', 'value': '양'},\n",
      " {'op': 'add',\n",
      "  'path': '/logs/ChatOpenAI/streamed_output/-',\n",
      "  'value': AIMessageChunk(content='양', id='run-e5594fbc-5c77-46b3-99b0-8de5ae6f4d01')})\n",
      "====================================================================================================\n",
      "RunLogPatch({'op': 'add', 'path': '/logs/StrOutputParser/streamed_output/-', 'value': '양'})\n",
      "====================================================================================================\n",
      "RunLogPatch({'op': 'add', 'path': '/streamed_output/-', 'value': '양'},\n",
      " {'op': 'replace',\n",
      "  'path': '/final_output',\n",
      "  'value': '파이썬은 간결하고 쉽게 배울 수 있는 프로그래밍 언어로, 다양'})\n",
      "====================================================================================================\n",
      "RunLogPatch({'op': 'add', 'path': '/logs/ChatOpenAI/streamed_output_str/-', 'value': '한'},\n",
      " {'op': 'add',\n",
      "  'path': '/logs/ChatOpenAI/streamed_output/-',\n",
      "  'value': AIMessageChunk(content='한', id='run-e5594fbc-5c77-46b3-99b0-8de5ae6f4d01')})\n",
      "====================================================================================================\n",
      "RunLogPatch({'op': 'add', 'path': '/logs/StrOutputParser/streamed_output/-', 'value': '한'})\n",
      "====================================================================================================\n",
      "RunLogPatch({'op': 'add', 'path': '/streamed_output/-', 'value': '한'},\n",
      " {'op': 'replace',\n",
      "  'path': '/final_output',\n",
      "  'value': '파이썬은 간결하고 쉽게 배울 수 있는 프로그래밍 언어로, 다양한'})\n",
      "====================================================================================================\n",
      "RunLogPatch({'op': 'add', 'path': '/logs/ChatOpenAI/streamed_output_str/-', 'value': ' 분'},\n",
      " {'op': 'add',\n",
      "  'path': '/logs/ChatOpenAI/streamed_output/-',\n",
      "  'value': AIMessageChunk(content=' 분', id='run-e5594fbc-5c77-46b3-99b0-8de5ae6f4d01')})\n",
      "====================================================================================================\n",
      "RunLogPatch({'op': 'add',\n",
      "  'path': '/logs/StrOutputParser/streamed_output/-',\n",
      "  'value': ' 분'})\n",
      "====================================================================================================\n",
      "RunLogPatch({'op': 'add', 'path': '/streamed_output/-', 'value': ' 분'},\n",
      " {'op': 'replace',\n",
      "  'path': '/final_output',\n",
      "  'value': '파이썬은 간결하고 쉽게 배울 수 있는 프로그래밍 언어로, 다양한 분'})\n",
      "====================================================================================================\n",
      "RunLogPatch({'op': 'add', 'path': '/logs/ChatOpenAI/streamed_output_str/-', 'value': '야'},\n",
      " {'op': 'add',\n",
      "  'path': '/logs/ChatOpenAI/streamed_output/-',\n",
      "  'value': AIMessageChunk(content='야', id='run-e5594fbc-5c77-46b3-99b0-8de5ae6f4d01')})\n",
      "====================================================================================================\n",
      "RunLogPatch({'op': 'add', 'path': '/logs/StrOutputParser/streamed_output/-', 'value': '야'})\n",
      "====================================================================================================\n",
      "RunLogPatch({'op': 'add', 'path': '/streamed_output/-', 'value': '야'},\n",
      " {'op': 'replace',\n",
      "  'path': '/final_output',\n",
      "  'value': '파이썬은 간결하고 쉽게 배울 수 있는 프로그래밍 언어로, 다양한 분야'})\n",
      "====================================================================================================\n",
      "RunLogPatch({'op': 'add', 'path': '/logs/ChatOpenAI/streamed_output_str/-', 'value': '에서'},\n",
      " {'op': 'add',\n",
      "  'path': '/logs/ChatOpenAI/streamed_output/-',\n",
      "  'value': AIMessageChunk(content='에서', id='run-e5594fbc-5c77-46b3-99b0-8de5ae6f4d01')})\n",
      "====================================================================================================\n",
      "RunLogPatch({'op': 'add',\n",
      "  'path': '/logs/StrOutputParser/streamed_output/-',\n",
      "  'value': '에서'})\n",
      "====================================================================================================\n",
      "RunLogPatch({'op': 'add', 'path': '/streamed_output/-', 'value': '에서'},\n",
      " {'op': 'replace',\n",
      "  'path': '/final_output',\n",
      "  'value': '파이썬은 간결하고 쉽게 배울 수 있는 프로그래밍 언어로, 다양한 분야에서'})\n",
      "====================================================================================================\n",
      "RunLogPatch({'op': 'add', 'path': '/logs/ChatOpenAI/streamed_output_str/-', 'value': ' 활'},\n",
      " {'op': 'add',\n",
      "  'path': '/logs/ChatOpenAI/streamed_output/-',\n",
      "  'value': AIMessageChunk(content=' 활', id='run-e5594fbc-5c77-46b3-99b0-8de5ae6f4d01')})\n",
      "====================================================================================================\n",
      "RunLogPatch({'op': 'add',\n",
      "  'path': '/logs/StrOutputParser/streamed_output/-',\n",
      "  'value': ' 활'})\n",
      "====================================================================================================\n",
      "RunLogPatch({'op': 'add', 'path': '/streamed_output/-', 'value': ' 활'},\n",
      " {'op': 'replace',\n",
      "  'path': '/final_output',\n",
      "  'value': '파이썬은 간결하고 쉽게 배울 수 있는 프로그래밍 언어로, 다양한 분야에서 활'})\n",
      "====================================================================================================\n",
      "RunLogPatch({'op': 'add', 'path': '/logs/ChatOpenAI/streamed_output_str/-', 'value': '용'},\n",
      " {'op': 'add',\n",
      "  'path': '/logs/ChatOpenAI/streamed_output/-',\n",
      "  'value': AIMessageChunk(content='용', id='run-e5594fbc-5c77-46b3-99b0-8de5ae6f4d01')})\n",
      "====================================================================================================\n",
      "RunLogPatch({'op': 'add', 'path': '/logs/StrOutputParser/streamed_output/-', 'value': '용'})\n",
      "====================================================================================================\n",
      "RunLogPatch({'op': 'add', 'path': '/streamed_output/-', 'value': '용'},\n",
      " {'op': 'replace',\n",
      "  'path': '/final_output',\n",
      "  'value': '파이썬은 간결하고 쉽게 배울 수 있는 프로그래밍 언어로, 다양한 분야에서 활용'})\n",
      "====================================================================================================\n",
      "RunLogPatch({'op': 'add', 'path': '/logs/ChatOpenAI/streamed_output_str/-', 'value': '되'},\n",
      " {'op': 'add',\n",
      "  'path': '/logs/ChatOpenAI/streamed_output/-',\n",
      "  'value': AIMessageChunk(content='되', id='run-e5594fbc-5c77-46b3-99b0-8de5ae6f4d01')})\n",
      "====================================================================================================\n",
      "RunLogPatch({'op': 'add', 'path': '/logs/StrOutputParser/streamed_output/-', 'value': '되'})\n",
      "====================================================================================================\n",
      "RunLogPatch({'op': 'add', 'path': '/streamed_output/-', 'value': '되'},\n",
      " {'op': 'replace',\n",
      "  'path': '/final_output',\n",
      "  'value': '파이썬은 간결하고 쉽게 배울 수 있는 프로그래밍 언어로, 다양한 분야에서 활용되'})\n",
      "====================================================================================================\n",
      "RunLogPatch({'op': 'add', 'path': '/logs/ChatOpenAI/streamed_output_str/-', 'value': '는'},\n",
      " {'op': 'add',\n",
      "  'path': '/logs/ChatOpenAI/streamed_output/-',\n",
      "  'value': AIMessageChunk(content='는', id='run-e5594fbc-5c77-46b3-99b0-8de5ae6f4d01')})\n",
      "====================================================================================================\n",
      "RunLogPatch({'op': 'add', 'path': '/logs/StrOutputParser/streamed_output/-', 'value': '는'})\n",
      "====================================================================================================\n",
      "RunLogPatch({'op': 'add', 'path': '/streamed_output/-', 'value': '는'},\n",
      " {'op': 'replace',\n",
      "  'path': '/final_output',\n",
      "  'value': '파이썬은 간결하고 쉽게 배울 수 있는 프로그래밍 언어로, 다양한 분야에서 활용되는'})\n",
      "====================================================================================================\n",
      "RunLogPatch({'op': 'add', 'path': '/logs/ChatOpenAI/streamed_output_str/-', 'value': ' 인'},\n",
      " {'op': 'add',\n",
      "  'path': '/logs/ChatOpenAI/streamed_output/-',\n",
      "  'value': AIMessageChunk(content=' 인', id='run-e5594fbc-5c77-46b3-99b0-8de5ae6f4d01')})\n",
      "====================================================================================================\n",
      "RunLogPatch({'op': 'add',\n",
      "  'path': '/logs/StrOutputParser/streamed_output/-',\n",
      "  'value': ' 인'})\n",
      "====================================================================================================\n",
      "RunLogPatch({'op': 'add', 'path': '/streamed_output/-', 'value': ' 인'},\n",
      " {'op': 'replace',\n",
      "  'path': '/final_output',\n",
      "  'value': '파이썬은 간결하고 쉽게 배울 수 있는 프로그래밍 언어로, 다양한 분야에서 활용되는 인'})\n",
      "====================================================================================================\n",
      "RunLogPatch({'op': 'add', 'path': '/logs/ChatOpenAI/streamed_output_str/-', 'value': '기'},\n",
      " {'op': 'add',\n",
      "  'path': '/logs/ChatOpenAI/streamed_output/-',\n",
      "  'value': AIMessageChunk(content='기', id='run-e5594fbc-5c77-46b3-99b0-8de5ae6f4d01')})\n",
      "====================================================================================================\n",
      "RunLogPatch({'op': 'add', 'path': '/logs/StrOutputParser/streamed_output/-', 'value': '기'})\n",
      "====================================================================================================\n",
      "RunLogPatch({'op': 'add', 'path': '/streamed_output/-', 'value': '기'},\n",
      " {'op': 'replace',\n",
      "  'path': '/final_output',\n",
      "  'value': '파이썬은 간결하고 쉽게 배울 수 있는 프로그래밍 언어로, 다양한 분야에서 활용되는 인기'})\n",
      "====================================================================================================\n",
      "RunLogPatch({'op': 'add',\n",
      "  'path': '/logs/ChatOpenAI/streamed_output_str/-',\n",
      "  'value': ' 있는'},\n",
      " {'op': 'add',\n",
      "  'path': '/logs/ChatOpenAI/streamed_output/-',\n",
      "  'value': AIMessageChunk(content=' 있는', id='run-e5594fbc-5c77-46b3-99b0-8de5ae6f4d01')})\n",
      "====================================================================================================\n",
      "RunLogPatch({'op': 'add',\n",
      "  'path': '/logs/StrOutputParser/streamed_output/-',\n",
      "  'value': ' 있는'})\n",
      "====================================================================================================\n",
      "RunLogPatch({'op': 'add', 'path': '/streamed_output/-', 'value': ' 있는'},\n",
      " {'op': 'replace',\n",
      "  'path': '/final_output',\n",
      "  'value': '파이썬은 간결하고 쉽게 배울 수 있는 프로그래밍 언어로, 다양한 분야에서 활용되는 인기 있는'})\n",
      "====================================================================================================\n",
      "RunLogPatch({'op': 'add', 'path': '/logs/ChatOpenAI/streamed_output_str/-', 'value': ' 언'},\n",
      " {'op': 'add',\n",
      "  'path': '/logs/ChatOpenAI/streamed_output/-',\n",
      "  'value': AIMessageChunk(content=' 언', id='run-e5594fbc-5c77-46b3-99b0-8de5ae6f4d01')})\n",
      "====================================================================================================\n",
      "RunLogPatch({'op': 'add',\n",
      "  'path': '/logs/StrOutputParser/streamed_output/-',\n",
      "  'value': ' 언'})\n",
      "====================================================================================================\n",
      "RunLogPatch({'op': 'add', 'path': '/streamed_output/-', 'value': ' 언'},\n",
      " {'op': 'replace',\n",
      "  'path': '/final_output',\n",
      "  'value': '파이썬은 간결하고 쉽게 배울 수 있는 프로그래밍 언어로, 다양한 분야에서 활용되는 인기 있는 언'})\n",
      "====================================================================================================\n",
      "RunLogPatch({'op': 'add', 'path': '/logs/ChatOpenAI/streamed_output_str/-', 'value': '어'},\n",
      " {'op': 'add',\n",
      "  'path': '/logs/ChatOpenAI/streamed_output/-',\n",
      "  'value': AIMessageChunk(content='어', id='run-e5594fbc-5c77-46b3-99b0-8de5ae6f4d01')})\n",
      "====================================================================================================\n",
      "RunLogPatch({'op': 'add', 'path': '/logs/StrOutputParser/streamed_output/-', 'value': '어'})\n",
      "====================================================================================================\n",
      "RunLogPatch({'op': 'add', 'path': '/streamed_output/-', 'value': '어'},\n",
      " {'op': 'replace',\n",
      "  'path': '/final_output',\n",
      "  'value': '파이썬은 간결하고 쉽게 배울 수 있는 프로그래밍 언어로, 다양한 분야에서 활용되는 인기 있는 언어'})\n",
      "====================================================================================================\n",
      "RunLogPatch({'op': 'add', 'path': '/logs/ChatOpenAI/streamed_output_str/-', 'value': '이'},\n",
      " {'op': 'add',\n",
      "  'path': '/logs/ChatOpenAI/streamed_output/-',\n",
      "  'value': AIMessageChunk(content='이', id='run-e5594fbc-5c77-46b3-99b0-8de5ae6f4d01')})\n",
      "====================================================================================================\n",
      "RunLogPatch({'op': 'add', 'path': '/logs/StrOutputParser/streamed_output/-', 'value': '이'})\n",
      "====================================================================================================\n",
      "RunLogPatch({'op': 'add', 'path': '/streamed_output/-', 'value': '이'},\n",
      " {'op': 'replace',\n",
      "  'path': '/final_output',\n",
      "  'value': '파이썬은 간결하고 쉽게 배울 수 있는 프로그래밍 언어로, 다양한 분야에서 활용되는 인기 있는 언어이'})\n",
      "====================================================================================================\n",
      "RunLogPatch({'op': 'add', 'path': '/logs/ChatOpenAI/streamed_output_str/-', 'value': '다'},\n",
      " {'op': 'add',\n",
      "  'path': '/logs/ChatOpenAI/streamed_output/-',\n",
      "  'value': AIMessageChunk(content='다', id='run-e5594fbc-5c77-46b3-99b0-8de5ae6f4d01')})\n",
      "====================================================================================================\n",
      "RunLogPatch({'op': 'add', 'path': '/logs/StrOutputParser/streamed_output/-', 'value': '다'})\n",
      "====================================================================================================\n",
      "RunLogPatch({'op': 'add', 'path': '/streamed_output/-', 'value': '다'},\n",
      " {'op': 'replace',\n",
      "  'path': '/final_output',\n",
      "  'value': '파이썬은 간결하고 쉽게 배울 수 있는 프로그래밍 언어로, 다양한 분야에서 활용되는 인기 있는 언어이다'})\n",
      "====================================================================================================\n",
      "RunLogPatch({'op': 'add', 'path': '/logs/ChatOpenAI/streamed_output_str/-', 'value': '.'},\n",
      " {'op': 'add',\n",
      "  'path': '/logs/ChatOpenAI/streamed_output/-',\n",
      "  'value': AIMessageChunk(content='.', id='run-e5594fbc-5c77-46b3-99b0-8de5ae6f4d01')})\n",
      "====================================================================================================\n",
      "RunLogPatch({'op': 'add', 'path': '/logs/StrOutputParser/streamed_output/-', 'value': '.'})\n",
      "====================================================================================================\n",
      "RunLogPatch({'op': 'add', 'path': '/streamed_output/-', 'value': '.'},\n",
      " {'op': 'replace',\n",
      "  'path': '/final_output',\n",
      "  'value': '파이썬은 간결하고 쉽게 배울 수 있는 프로그래밍 언어로, 다양한 분야에서 활용되는 인기 있는 언어이다.'})\n",
      "====================================================================================================\n",
      "RunLogPatch({'op': 'add', 'path': '/logs/ChatOpenAI/streamed_output_str/-', 'value': ''},\n",
      " {'op': 'add',\n",
      "  'path': '/logs/ChatOpenAI/streamed_output/-',\n",
      "  'value': AIMessageChunk(content='', response_metadata={'finish_reason': 'stop'}, id='run-e5594fbc-5c77-46b3-99b0-8de5ae6f4d01')})\n",
      "====================================================================================================\n",
      "RunLogPatch({'op': 'add', 'path': '/logs/StrOutputParser/streamed_output/-', 'value': ''})\n",
      "====================================================================================================\n",
      "RunLogPatch({'op': 'add', 'path': '/streamed_output/-', 'value': ''})\n",
      "====================================================================================================\n",
      "RunLogPatch({'op': 'add',\n",
      "  'path': '/logs/ChatOpenAI/final_output',\n",
      "  'value': {'generations': [[{'generation_info': {'finish_reason': 'stop'},\n",
      "                              'message': AIMessageChunk(content='파이썬은 간결하고 쉽게 배울 수 있는 프로그래밍 언어로, 다양한 분야에서 활용되는 인기 있는 언어이다.', response_metadata={'finish_reason': 'stop'}, id='run-e5594fbc-5c77-46b3-99b0-8de5ae6f4d01'),\n",
      "                              'text': '파이썬은 간결하고 쉽게 배울 수 있는 프로그래밍 언어로, 다양한 '\n",
      "                                      '분야에서 활용되는 인기 있는 언어이다.',\n",
      "                              'type': 'ChatGenerationChunk'}]],\n",
      "            'llm_output': None,\n",
      "            'run': None}},\n",
      " {'op': 'add',\n",
      "  'path': '/logs/ChatOpenAI/end_time',\n",
      "  'value': '2024-06-26T04:16:35.549+00:00'})\n",
      "====================================================================================================\n",
      "RunLogPatch({'op': 'add',\n",
      "  'path': '/logs/StrOutputParser/final_output',\n",
      "  'value': {'output': '파이썬은 간결하고 쉽게 배울 수 있는 프로그래밍 언어로, 다양한 분야에서 활용되는 인기 있는 '\n",
      "                      '언어이다.'}},\n",
      " {'op': 'add',\n",
      "  'path': '/logs/StrOutputParser/end_time',\n",
      "  'value': '2024-06-26T04:16:35.554+00:00'})\n",
      "====================================================================================================\n"
     ]
    }
   ],
   "source": [
    "stream = chain.astream_log({\"input\":\"파이썬\"})\n",
    "async for chunk in stream:\n",
    "    print(chunk)\n",
    "    print(\"=\"*100)\n"
   ]
  },
  {
   "cell_type": "markdown",
   "metadata": {},
   "source": [
    "### (4) 병렬 처리"
   ]
  },
  {
   "cell_type": "code",
   "execution_count": 107,
   "metadata": {},
   "outputs": [
    {
     "name": "stdout",
     "output_type": "stream",
     "text": [
      "steps={'language': PromptTemplate(input_variables=['country'], template='{country}의 주요 언어를 알려줘')\n",
      "| ChatOpenAI(client=<openai.resources.chat.completions.Completions object at 0x0000014787882980>, async_client=<openai.resources.chat.completions.AsyncCompletions object at 0x0000014787752EF0>, openai_api_key=SecretStr('**********'), openai_proxy='')\n",
      "| StrOutputParser(), 'landmarks': PromptTemplate(input_variables=['country'], template='{country}의 대표적인 랜드마크 3개를 알려줘')\n",
      "| ChatOpenAI(client=<openai.resources.chat.completions.Completions object at 0x0000014787882980>, async_client=<openai.resources.chat.completions.AsyncCompletions object at 0x0000014787752EF0>, openai_api_key=SecretStr('**********'), openai_proxy='')\n",
      "| StrOutputParser()}\n"
     ]
    }
   ],
   "source": [
    "from langchain_openai import ChatOpenAI \n",
    "from langchain_core.prompts import PromptTemplate\n",
    "from langchain_core.output_parsers import StrOutputParser\n",
    "from langchain_core.runnables import RunnableParallel \n",
    "\n",
    "model = ChatOpenAI(model_name = \"gpt-3.5-turbo\") \n",
    "output_parser = StrOutputParser()\n",
    "\n",
    "prompt1 = PromptTemplate.from_template(\"{country}의 주요 언어를 알려줘\")\n",
    "prompt2 = PromptTemplate.from_template(\"{country}의 대표적인 랜드마크 3개를 알려줘\")\n",
    "\n",
    "chain1 = prompt1 | model | output_parser\n",
    "chain2 = prompt2 | model | output_parser\n",
    "\n",
    "combined = RunnableParallel(\n",
    "    language = chain1,\n",
    "    landmarks = chain2\n",
    ")\n",
    "print(combined)"
   ]
  },
  {
   "cell_type": "code",
   "execution_count": 108,
   "metadata": {},
   "outputs": [
    {
     "data": {
      "text/plain": [
       "{'language': '한국의 주요 언어는 한국어입니다. 한국어는 대부분의 한국 사람들이 사용하는 언어로, 국내에서는 공식 언어로 사용되고 있습니다. 또한, 영어도 많은 사람들이 학습하고 사용하고 있으며, 중국어와 일본어도 일부 지역에서 사용되고 있습니다.',\n",
       " 'landmarks': '1. 남산타워 - 서울의 대표적인 랜드마크로서, 서울 시내와 한강을 한눈에 볼 수 있는 전망대가 유명하다.\\n2. 경복궁 - 서울에 위치한 조선 시대의 궁궐로서, 아름다운 전통 한옥 건물과 근정전, 경회루 등을 볼 수 있다.\\n3. 부산 타워 - 부산의 랜드마크로서, 부산 시내와 해안도로를 한눈에 볼 수 있는 전망대와 야경이 유명하다.'}"
      ]
     },
     "execution_count": 108,
     "metadata": {},
     "output_type": "execute_result"
    }
   ],
   "source": [
    "combined.invoke({\"country\":\"한국\"})"
   ]
  },
  {
   "cell_type": "code",
   "execution_count": 109,
   "metadata": {},
   "outputs": [
    {
     "data": {
      "text/plain": [
       "[{'language': '한국의 주요 언어는 한국어입니다. 한국어는 대한민국과 북한에서 사용되는 공식 언어로, 한반도 전역에서 널리 사용되고 있습니다. 또한 영어도 상당히 흔히 사용되는 언어 중 하나입니다.',\n",
       "  'landmarks': '1. 경복궁: 서울에 위치한 조선 시대 궁궐로, 한국의 대표적인 궁궐 중 하나로 유명하다.\\n2. 롯데월드 타워: 서울 송파구에 위치한 123층으로 이루어진 대한민국 최고의 랜드마크 건물이다.\\n3. 부산 해운대 해수욕장: 부산 해운대구에 위치한 대한민국에서 가장 유명한 해변으로, 국내외 관광객들이 많이 찾는 곳이다.'},\n",
       " {'language': '미국의 주요 언어는 영어입니다. 미국에서는 영어가 공식 언어로 사용되며, 대다수의 미국인들이 영어를 사용하고 있습니다. 또한, 스페인어, 중국어, 프랑스어, 독일어 등 다양한 언어들도 미국에서 사용되고 있습니다.',\n",
       "  'landmarks': '1. 자유의 여신상 (Statue of Liberty) - 뉴욕 하버에 위치한 자유의 여신상은 미국의 상징적인 랜드마크로, 자유와 민주주의를 상징합니다.\\n\\n2. 화이트 하우스 (The White House) - 워싱턴 D.C.에 위치한 미국 대통령의 공식 거처인 화이트 하우스는 미국 정부의 중심지로서 국가의 상징이기도 합니다.\\n\\n3. 그랜드 캐년 (Grand Canyon) - 아리조나주에 있는 그랜드 캐년은 자연의 위대함을 보여주는 대자연의 랜드마크로, 세계적으로 유명한 관광지입니다.'},\n",
       " {'language': '일본의 주요 언어는 일본어입니다. 일본어는 일본에서 사용되는 공용어로, 일본의 주요 언어로서 일본 국민 대다수가 일본어를 사용합니다. 일본어는 히라가나, 가타카나, 한자로 구성되어 있으며, 일본어의 발음은 한국어와는 다른 독특한 발음을 가지고 있습니다. 일본어는 일본에서의 의사소통을 위해 필수적인 언어이기 때문에, 일본을 방문하거나 일본과 관련된 업무를 하는 사람들은 일본어를 배우는 것이 도움이 됩니다.',\n",
       "  'landmarks': '1. 도쿄 타워 (Tokyo Tower): 도쿄 타워는 일본의 대표적인 랜드마크 중 하나로, 도쿄의 시그니처 랜드마크로 자리잡고 있습니다. 1958년에 완공된 이 타워는 높이 약 333m로, 도쿄의 도심을 한눈에 볼 수 있는 전망대가 있어 많은 관광객들이 방문합니다.\\n\\n2. 후지산 (Mount Fuji): 후지산은 일본의 대표적인 산이자 랜드마크로, 일본의 국민적인 상징이기도 합니다. 높이 약 3,776m로 일본에서 가장 높은 산으로, 그 아름다운 모습 때문에 많은 관광객들이 후지산을 방문하고 등산을 즐깁니다.\\n\\n3. 교토의 황금사 (Kinkaku-ji): 교토에 위치한 황금사는 일본의 대표적인 사찰 중 하나로, 금빛으로 빛나는 아름다운 건물이 특징입니다. 1397년에 건립된 이 사찰은 일본의 역사와 문화를 담고 있는 중요한 유산으로, 많은 관광객들이 그 아름다움을 감상하러 방문합니다.'}]"
      ]
     },
     "execution_count": 109,
     "metadata": {},
     "output_type": "execute_result"
    }
   ],
   "source": [
    "country_list = [{\"country\":\"한국\"},{\"country\":\"미국\"},{\"country\":\"일본\"}]\n",
    "combined.batch(country_list)"
   ]
  },
  {
   "cell_type": "markdown",
   "metadata": {},
   "source": [
    "## 2) Runnable"
   ]
  },
  {
   "cell_type": "markdown",
   "metadata": {},
   "source": [
    "### (1) RunnablePassthrough"
   ]
  },
  {
   "cell_type": "code",
   "execution_count": 118,
   "metadata": {},
   "outputs": [
    {
     "data": {
      "text/plain": [
       "'squirrel'"
      ]
     },
     "execution_count": 118,
     "metadata": {},
     "output_type": "execute_result"
    }
   ],
   "source": [
    "from langchain_openai import ChatOpenAI \n",
    "from langchain_core.prompts import PromptTemplate\n",
    "from langchain_core.output_parsers import StrOutputParser\n",
    "from langchain_core.runnables import RunnablePassthrough\n",
    "\n",
    "prompt = PromptTemplate.from_template(\"{object}가 영어로 뭐야?\")\n",
    "model = ChatOpenAI(model_name = \"gpt-3.5-turbo\") \n",
    "output_parser = StrOutputParser()\n",
    "\n",
    "runnable = {\"object\": RunnablePassthrough()}\n",
    "chain = runnable | prompt | model | output_parser \n",
    "chain.invoke(\"다람쥐\")"
   ]
  },
  {
   "cell_type": "code",
   "execution_count": 123,
   "metadata": {},
   "outputs": [
    {
     "data": {
      "text/plain": [
       "{'object': '다람쥐', 'new_object': '다람쥐인형'}"
      ]
     },
     "execution_count": 123,
     "metadata": {},
     "output_type": "execute_result"
    }
   ],
   "source": [
    "add_runnable = RunnablePassthrough.assign(new_object = lambda x: x[\"object\"] + \"인형\")\n",
    "add_runnable.invoke({\"object\": \"다람쥐\"})\n",
    "# chain = add_runnable | prompt | model | chain \n",
    "# chain.invoke({\"object\": \"다람쥐\"})"
   ]
  },
  {
   "cell_type": "code",
   "execution_count": 21,
   "metadata": {},
   "outputs": [
    {
     "name": "stdout",
     "output_type": "stream",
     "text": [
      "- Python은 다양한 영역에서 사용되는 간결하고 읽기 쉬운 프로그래밍 언어이다.\n",
      "- 장점: 문법이 간결하고 다양한 라이브러리와 도구를 제공하여 개발 속도가 빠르고 생산성이 높다.\n",
      "- 단점: 실행 속도가 다른 언어에 비해 상대적으로 느릴 수 있으며, GIL(Global Interpreter Lock)로 인해 멀티스레딩이 효율적으로 이루어지지 않을 수 있다.\n"
     ]
    }
   ],
   "source": [
    "# Langchain 이용하기 - 지시문 + 제시어 (LCEL)\n",
    "from langchain_openai import ChatOpenAI \n",
    "from langchain_core.prompts import PromptTemplate\n",
    "from langchain_core.output_parsers import StrOutputParser\n",
    "\n",
    "template = \"\"\"\n",
    "    {language}에 대해 FORMAT에 맞춰 설명해주세요. 요약은 1줄로 표현해주세요.\n",
    "\n",
    "    FORMAT:\n",
    "    - 요약\n",
    "    - 장점\n",
    "    - 단점\n",
    "\"\"\"\n",
    "prompt = PromptTemplate.from_template(template)\n",
    "model = ChatOpenAI(model_name=\"gpt-3.5-turbo\")\n",
    "output_parser = StrOutputParser()\n",
    "chain = prompt | model | output_parser\n",
    "\n",
    "response = chain.invoke({\"language\":\"python\"})\n",
    "print(response)"
   ]
  },
  {
   "cell_type": "code",
   "execution_count": 60,
   "metadata": {},
   "outputs": [
    {
     "name": "stdout",
     "output_type": "stream",
     "text": [
      "text='\\n    python에 대해 FORMAT에 맞춰 설명해주세요. 요약은 1줄로 표현해주세요.\\n\\n    FORMAT:\\n    - 요약\\n    - 장점\\n    - 단점\\n'\n",
      "content='- 요약: Python은 인간 친화적인 문법과 다양한 라이브러리를 제공하여 다양한 분야에서 널리 사용되는 프로그래밍 언어이다.\\n- 장점: 문법이 간결하고 읽기 쉽고, 다양한 라이브러리와 프레임워크가 존재하여 개발이 용이하며, 크로스 플랫폼 지원이 우수하다.\\n- 단점: 성능이 다른 언어들에 비해 상대적으로 느리고, GIL(Global Interpreter Lock)로 인해 멀티스레드 처리가 제약을 받을 수 있다.' response_metadata={'token_usage': {'completion_tokens': 195, 'prompt_tokens': 63, 'total_tokens': 258}, 'model_name': 'gpt-3.5-turbo', 'system_fingerprint': 'fp_c2295e73ad', 'finish_reason': 'stop', 'logprobs': None} id='run-e92c6ccf-e78c-4ab6-9bf7-4d3df942452d-0'\n",
      "- 요약: Python은 인간 친화적인 문법과 다양한 라이브러리를 제공하여 다양한 분야에서 널리 사용되는 프로그래밍 언어이다.\n",
      "- 장점: 문법이 간결하고 읽기 쉽고, 다양한 라이브러리와 프레임워크가 존재하여 개발이 용이하며, 크로스 플랫폼 지원이 우수하다.\n",
      "- 단점: 성능이 다른 언어들에 비해 상대적으로 느리고, GIL(Global Interpreter Lock)로 인해 멀티스레드 처리가 제약을 받을 수 있다.\n"
     ]
    }
   ],
   "source": [
    "# Langchain 이용하기 - 지시문 + 제시어 (LCEL) (Chain 이해하기)\n",
    "from langchain_openai import ChatOpenAI \n",
    "from langchain_core.prompts import PromptTemplate\n",
    "from langchain_core.output_parsers import StrOutputParser\n",
    "\n",
    "template = \"\"\"\n",
    "    {language}에 대해 FORMAT에 맞춰 설명해주세요. 요약은 1줄로 표현해주세요.\n",
    "\n",
    "    FORMAT:\n",
    "    - 요약\n",
    "    - 장점\n",
    "    - 단점\n",
    "\"\"\"\n",
    "prompt = PromptTemplate.from_template(template)\n",
    "model = ChatOpenAI(model_name=\"gpt-3.5-turbo\")\n",
    "output_parser = StrOutputParser()\n",
    "chain = prompt | model | output_parser\n",
    "\n",
    "# Step 1. keyword Dict 입력 {\"language\":\"python\"}\n",
    "\n",
    "# Step 2. Prompt에 전달 -> prompt_value\n",
    "prompt_value = prompt.format_prompt(language=\"python\")\n",
    "print(prompt_value)\n",
    "\n",
    "# Step 3. Model에 전달 -> output\n",
    "output = model.invoke(prompt_value)\n",
    "print(output)\n",
    "\n",
    "# Step 4. String으로 출력 -> response\n",
    "response = output_parser.invoke(output)\n",
    "print(response)"
   ]
  },
  {
   "cell_type": "markdown",
   "metadata": {},
   "source": [
    "# Streaming"
   ]
  },
  {
   "cell_type": "code",
   "execution_count": 22,
   "metadata": {},
   "outputs": [
    {
     "name": "stdout",
     "output_type": "stream",
     "text": [
      "파이썬은 간단하고 쉽게 배울 수 있는 프로그래밍 언어로, 1991년에 발표된 고급 프로그래밍 언어입니다. 파이썬은 다양한 운영 체제에서 사용할 수 있으며, 다양한 분야에서 활용되고 있습니다. \n",
      "\n",
      "파이썬의 특징은 다음과 같습니다:\n",
      "1. 간결하고 가독성이 좋은 문법\n",
      "2. 다양한 라이브러리와 모듈을 지원하여 다양한 기능을 제공\n",
      "3. 객체지향, 함수형, 절차지향 등 다양한 프로그래밍 스타일을 지원\n",
      "4. 크로스 플랫폼 지원으로 다양한 운영 체제에서 사용 가능\n",
      "5. 동적 타이핑을 지원하여 변수의 자료형을 명시적으로 선언하지 않아도 됨\n",
      "\n",
      "파이썬은 데이터 분석, 인공지능, 웹 개발, 시스템 프로그래밍 등 다양한 분야에서 사용되고 있으며, 학습자들에게 많은 도움이 되는 인기 있는 프로그래밍 언어입니다. 파이썬을 배우면 다양한 분야에서 활용할 수 있는 능력을 기를 수 있습니다."
     ]
    },
    {
     "data": {
      "text/plain": [
       "AIMessage(content='파이썬은 간단하고 쉽게 배울 수 있는 프로그래밍 언어로, 1991년에 발표된 고급 프로그래밍 언어입니다. 파이썬은 다양한 운영 체제에서 사용할 수 있으며, 다양한 분야에서 활용되고 있습니다. \\n\\n파이썬의 특징은 다음과 같습니다:\\n1. 간결하고 가독성이 좋은 문법\\n2. 다양한 라이브러리와 모듈을 지원하여 다양한 기능을 제공\\n3. 객체지향, 함수형, 절차지향 등 다양한 프로그래밍 스타일을 지원\\n4. 크로스 플랫폼 지원으로 다양한 운영 체제에서 사용 가능\\n5. 동적 타이핑을 지원하여 변수의 자료형을 명시적으로 선언하지 않아도 됨\\n\\n파이썬은 데이터 분석, 인공지능, 웹 개발, 시스템 프로그래밍 등 다양한 분야에서 사용되고 있으며, 학습자들에게 많은 도움이 되는 인기 있는 프로그래밍 언어입니다. 파이썬을 배우면 다양한 분야에서 활용할 수 있는 능력을 기를 수 있습니다.', response_metadata={'finish_reason': 'stop'}, id='run-fa33ce5b-2c0c-4f43-aaf3-f2c0108bb1c2-0')"
      ]
     },
     "execution_count": 22,
     "metadata": {},
     "output_type": "execute_result"
    }
   ],
   "source": [
    "# Langchain 이용하기 - 단순 질문 + 출력을 Streaming : 터미널이나 콘솔에서 확인용으로 주로 쓰임\n",
    "from langchain_openai import ChatOpenAI \n",
    "from langchain.callbacks.streaming_stdout import StreamingStdOutCallbackHandler\n",
    "\n",
    "model = ChatOpenAI(\n",
    "    model_name = \"gpt-3.5-turbo\",\n",
    "    streaming=True,\n",
    "    callbacks=[StreamingStdOutCallbackHandler()]) \n",
    "\n",
    "response = model.invoke(\"파이썬에 대해 알려줘\")\n",
    "response"
   ]
  },
  {
   "cell_type": "code",
   "execution_count": 35,
   "metadata": {},
   "outputs": [
    {
     "name": "stdout",
     "output_type": "stream",
     "text": [
      "Run when LLM starts running\n",
      "파이썬은 간결하고 쉽게 배울 수 있는 프로그래밍 언어로, 1991년에 발표된 고급 프로그래밍 언어입니다. 파이썬은 다양한 운영 체제에서 실행할 수 있고, 다양한 목적으로 사용됩니다. 데이터 분석, 인공지능, 웹 개발 등의 분야에서 널리 사용되며, 다양한 라이브러리와 프레임워크를 지원하고 있습니다. 또한, 파이썬은 코드의 가독성이 좋고, 문법이 간결하여 빠르게 프로그램을 작성할 수 있습니다. 파이썬은 커뮤니티가 활발하고 다양한 자료와 도구가 제공되어 있어, 학습자들에게 많은 도움이 됩니다.\n",
      "Run when LLM ends running\n"
     ]
    },
    {
     "data": {
      "text/plain": [
       "AIMessage(content='파이썬은 간결하고 쉽게 배울 수 있는 프로그래밍 언어로, 1991년에 발표된 고급 프로그래밍 언어입니다. 파이썬은 다양한 운영 체제에서 실행할 수 있고, 다양한 목적으로 사용됩니다. 데이터 분석, 인공지능, 웹 개발 등의 분야에서 널리 사용되며, 다양한 라이브러리와 프레임워크를 지원하고 있습니다. 또한, 파이썬은 코드의 가독성이 좋고, 문법이 간결하여 빠르게 프로그램을 작성할 수 있습니다. 파이썬은 커뮤니티가 활발하고 다양한 자료와 도구가 제공되어 있어, 학습자들에게 많은 도움이 됩니다.', response_metadata={'finish_reason': 'stop'}, id='run-f193a4ee-4eac-4f5f-b6ef-ab9047da08c5-0')"
      ]
     },
     "execution_count": 35,
     "metadata": {},
     "output_type": "execute_result"
    }
   ],
   "source": [
    "# Langchain 이용하기 - Streaming\n",
    "from typing import Any, List, Dict, Union\n",
    "from langchain_core.messages import BaseMessage\n",
    "from langchain_core.outputs import LLMResult\n",
    "from langchain_core.agents import AgentAction, AgentFinish\n",
    "from langchain_openai import ChatOpenAI \n",
    "from langchain_core.callbacks import BaseCallbackHandler\n",
    "\n",
    "class CustomHandler(BaseCallbackHandler):\n",
    "    def on_llm_start(self, serialized: Dict[str, Any], prompts: List[str], **kwargs: Any) -> Any:\n",
    "        \"\"\"Run when LLM starts running.\"\"\"\n",
    "        print(\"Run when LLM starts running\")\n",
    "\n",
    "    # def on_chat_model_start(self, serialized: Dict[str, Any], messages: List[List[BaseMessage]], **kwargs: Any) -> Any:\n",
    "    #     \"\"\"Run when Chat Model starts running.\"\"\"\n",
    "\n",
    "    def on_llm_new_token(self, token: str, **kwargs: Any) -> Any:\n",
    "        \"\"\"Run on new LLM token. Only available when streaming is enabled.\"\"\"\n",
    "        print(token, end=\"\")\n",
    "\n",
    "    def on_llm_end(self, response: LLMResult, **kwargs: Any) -> Any:\n",
    "        \"\"\"Run when LLM ends running.\"\"\"\n",
    "        print(\"\\nRun when LLM ends running\")\n",
    "\n",
    "    # def on_llm_error(\n",
    "    #     self, error: Union[Exception, KeyboardInterrupt], **kwargs: Any\n",
    "    # ) -> Any:\n",
    "    #     \"\"\"Run when LLM errors.\"\"\"\n",
    "\n",
    "    def on_chain_start(\n",
    "        self, serialized: Dict[str, Any], inputs: Dict[str, Any], **kwargs: Any\n",
    "    ) -> Any:\n",
    "        \"\"\"Run when chain starts running.\"\"\"\n",
    "        print(\"Run when chain starts running\")\n",
    "\n",
    "    # def on_chain_end(self, outputs: Dict[str, Any], **kwargs: Any) -> Any:\n",
    "    #     \"\"\"Run when chain ends running.\"\"\"\n",
    "\n",
    "    # def on_chain_error(\n",
    "    #     self, error: Union[Exception, KeyboardInterrupt], **kwargs: Any\n",
    "    # ) -> Any:\n",
    "    #     \"\"\"Run when chain errors.\"\"\"\n",
    "\n",
    "    # def on_tool_start(\n",
    "    #     self, serialized: Dict[str, Any], input_str: str, **kwargs: Any\n",
    "    # ) -> Any:\n",
    "    #     \"\"\"Run when tool starts running.\"\"\"\n",
    "\n",
    "    # def on_tool_end(self, output: Any, **kwargs: Any) -> Any:\n",
    "    #     \"\"\"Run when tool ends running.\"\"\"\n",
    "\n",
    "    # def on_tool_error(\n",
    "    #     self, error: Union[Exception, KeyboardInterrupt], **kwargs: Any\n",
    "    # ) -> Any:\n",
    "    #     \"\"\"Run when tool errors.\"\"\"\n",
    "\n",
    "    # def on_text(self, text: str, **kwargs: Any) -> Any:\n",
    "    #     \"\"\"Run on arbitrary text.\"\"\"\n",
    "\n",
    "    # def on_agent_action(self, action: AgentAction, **kwargs: Any) -> Any:\n",
    "    #     \"\"\"Run on agent action.\"\"\"\n",
    "\n",
    "    # def on_agent_finish(self, finish: AgentFinish, **kwargs: Any) -> Any:\n",
    "    #     \"\"\"Run on agent end.\"\"\"\n",
    "\n",
    "model = ChatOpenAI(\n",
    "    model_name = \"gpt-3.5-turbo\",\n",
    "    streaming=True,\n",
    "    callbacks=[CustomHandler()]) \n",
    "\n",
    "response = model.invoke(\"파이썬에 대해 알려줘\")\n",
    "response"
   ]
  },
  {
   "cell_type": "markdown",
   "metadata": {},
   "source": [
    "# Example 1. 지역 홍보대사"
   ]
  },
  {
   "cell_type": "code",
   "execution_count": 72,
   "metadata": {},
   "outputs": [
    {
     "name": "stdout",
     "output_type": "stream",
     "text": [
      "환영합니다!\n",
      "- 슬로건: \"제주, 자연이 주는 휴식과 감동\"\n",
      "- 특산물: 감귤, 제주 흑돼지, 제주 삼다수\n",
      "- 관광지: 성산일출봉, 용두암, 한라산 등\n",
      "자연 속 휴식과 감동이 가득한 제주에서 즐거운 시간을 보내세요.\n"
     ]
    }
   ],
   "source": [
    "# Langchain 이용하기 - 지시문 + 제시어 (LCEL)\n",
    "from langchain_openai import ChatOpenAI \n",
    "from langchain_core.prompts import PromptTemplate\n",
    "from langchain_core.output_parsers import StrOutputParser\n",
    "\n",
    "template = \"\"\"\n",
    "    당신은 대한민국 {location} 홍보대사입니다. FORMAT에 맞춰 홍보해주세요.\n",
    "    환영인사와 좋은점은 20자 내외입니다.\n",
    "\n",
    "    FORMAT:\n",
    "    환영인사\n",
    "    - 슬로건: \n",
    "    - 특산물: \n",
    "    - 관광지: \n",
    "    좋은점\n",
    "\"\"\"\n",
    "prompt = PromptTemplate.from_template(template)\n",
    "model = ChatOpenAI(model_name=\"gpt-3.5-turbo\")\n",
    "output_parser = StrOutputParser()\n",
    "chain = prompt | model | output_parser\n",
    "\n",
    "response = chain.invoke({\"location\":\"제주도\"})\n",
    "print(response)"
   ]
  },
  {
   "cell_type": "markdown",
   "metadata": {},
   "source": [
    "# Example 2. 청첩장 글귀 만들기"
   ]
  },
  {
   "cell_type": "code",
   "execution_count": 77,
   "metadata": {},
   "outputs": [
    {
     "name": "stdout",
     "output_type": "stream",
     "text": [
      "사랑하는 친구들과 함께하는 특별한 날,\n",
      "긴 시간을 함께한 장기 연애의 결실을 맺는 순간.\n",
      "\n",
      "봄이 활짝 피어나는 이 날,\n",
      "사랑과 행복이 가득한 새로운 시작을 앞두고 있습니다.\n",
      "\n",
      "따스한 햇살이 비추는 이 자리에서,\n",
      "우리의 사랑을 함께 축복해 주실 수 있으신 분들을 초대합니다.\n",
      "\n",
      "밝은 미래를 향해 함께하는 우리,\n",
      "이 순간을 영원히 기억하며 더욱 행복한 인연으로 나아갈 것을 약속합니다.\n"
     ]
    }
   ],
   "source": [
    "# Langchain 이용하기 - 지시문 + 제시어 (LCEL)\n",
    "from langchain_openai import ChatOpenAI \n",
    "from langchain_core.prompts import PromptTemplate\n",
    "from langchain_core.output_parsers import StrOutputParser\n",
    "\n",
    "template = \"\"\"\n",
    "    TAG에 맞춰 결혼식 청첩장 글귀를 300자 내외로 만들어주세요. \n",
    "    문장마다 줄바꿈이 있어야 합니다.\n",
    "\n",
    "    TAG: {tags}\n",
    "\"\"\"\n",
    "prompt = PromptTemplate.from_template(template)\n",
    "model = ChatOpenAI(model_name=\"gpt-3.5-turbo\")\n",
    "output_parser = StrOutputParser()\n",
    "chain = prompt | model | output_parser\n",
    "\n",
    "response = chain.invoke({\"tags\":[\"장기 연애\", \"봄\", \"밝음\"]})\n",
    "print(response)"
   ]
  },
  {
   "cell_type": "markdown",
   "metadata": {},
   "source": [
    "# Example 3. 스트레칭 가이드"
   ]
  },
  {
   "cell_type": "code",
   "execution_count": 14,
   "metadata": {},
   "outputs": [
    {
     "name": "stdout",
     "output_type": "stream",
     "text": [
      "스트레칭 명: 목 회전 스트레칭\n",
      "STEP1. 목을 천천히 시계 반대 방향으로 돌리며 최대한 뒤로 굽힙니다. (10초 유지)\n",
      "STEP2. 다시 원래 자세로 돌아옵니다.\n",
      "STEP3. 이번에는 시계 방향으로 목을 돌리며 최대한 뒤로 굽힙니다. (10초 유지)\n",
      "STEP4. 다시 원래 자세로 돌아옵니다.\n",
      "STEP5. 총 3세트 반복해주세요.\n"
     ]
    }
   ],
   "source": [
    "# Langchain 이용하기 - 지시문 + 제시어 (LCEL)\n",
    "from langchain_openai import ChatOpenAI \n",
    "from langchain_core.prompts import PromptTemplate\n",
    "from langchain_core.output_parsers import StrOutputParser\n",
    "\n",
    "template = \"\"\"\n",
    "    {part}의 스트레칭을 도와주는 챗봇입니다. \n",
    "    스트레칭 방법을 1개만 단계별로 FORMAT에 맞춰 답변해주세요.\n",
    "    몇 초간 몇 번 반복해야 하는지 자세하고 쉽게 알려주세요.\n",
    "\n",
    "    FORMAT:\n",
    "    스트레칭 명: 스트레칭 설명\n",
    "    STEP1.\n",
    "    STEP2.\n",
    "    ...\n",
    "\"\"\"\n",
    "prompt = PromptTemplate.from_template(template)\n",
    "model = ChatOpenAI(model_name=\"gpt-3.5-turbo\")\n",
    "output_parser = StrOutputParser()\n",
    "chain = prompt | model | output_parser\n",
    "\n",
    "response = chain.invoke({\"part\":\"목\"})\n",
    "print(response)"
   ]
  },
  {
   "cell_type": "markdown",
   "metadata": {},
   "source": [
    "# Example 4. 다이어트 레시피"
   ]
  },
  {
   "cell_type": "code",
   "execution_count": 90,
   "metadata": {},
   "outputs": [
    {
     "name": "stdout",
     "output_type": "stream",
     "text": [
      "요리명: 다이어트 단호박 수프\n",
      "\n",
      "준비물:\n",
      "- 단호박 (500g)\n",
      "- 우유 (200ml)\n",
      "- 양송이 (100g)\n",
      "\n",
      "칼로리: 약 150kcal\n",
      "\n",
      "방법:\n",
      "1. 먼저 단호박을 껍질을 벗기고 씻은 뒤 작게 썰어줍니다.\n",
      "2. 양송이는 깨끗이 씻은 뒤 두툼하게 슬라이스합니다.\n",
      "3. 냄비에 단호박과 양송이를 넣고 우유를 부어줍니다.\n",
      "4. 뚜껑을 덮고 중불에서 약 20분간 끓여줍니다.\n",
      "5. 모든 재료가 부드러워지면 믹서기에 갈아 부드러운 수프로 만들어줍니다.\n",
      "6. 그릇에 담아 기호에 따라 소금이나 후추를 조금씩 넣어 맛을 조절한 뒤 완성합니다.\n"
     ]
    }
   ],
   "source": [
    "# Langchain 이용하기 - 지시문 + 제시어 (LCEL)\n",
    "from langchain_openai import ChatOpenAI \n",
    "from langchain_core.prompts import PromptTemplate\n",
    "from langchain_core.output_parsers import StrOutputParser\n",
    "\n",
    "template = \"\"\"\n",
    "    INGREDIENTS로 만들 수 있는 다이어트 레시피를 FORMAT에 맞춰 알려주세요.\n",
    "    준비물은 무게 단위까지 자세히 작성해야 합니다.\n",
    "\n",
    "    INGREDIENTS: {ingredients}\n",
    "    \n",
    "    FORMAT:\n",
    "    요리명:\n",
    "    준비물: \n",
    "    칼로리:\n",
    "    방법:\n",
    "    1. \n",
    "    2. \n",
    "    ...\n",
    "\"\"\"\n",
    "prompt = PromptTemplate.from_template(template)\n",
    "model = ChatOpenAI(model_name=\"gpt-3.5-turbo\")\n",
    "output_parser = StrOutputParser()\n",
    "chain = prompt | model | output_parser\n",
    "\n",
    "response = chain.invoke({\"ingredients\":[\"단호박\",\"우유\",\"양송이\"]})\n",
    "print(response)"
   ]
  },
  {
   "cell_type": "markdown",
   "metadata": {},
   "source": [
    "# Few Shot Learning"
   ]
  },
  {
   "cell_type": "code",
   "execution_count": 3,
   "metadata": {},
   "outputs": [
    {
     "name": "stdout",
     "output_type": "stream",
     "text": [
      "부정적인 리뷰입니다.\n"
     ]
    }
   ],
   "source": [
    "# Langchain 이용하기 - 지시문 + 제시어 (LCEL)\n",
    "from langchain_openai import ChatOpenAI \n",
    "from langchain_core.prompts import PromptTemplate\n",
    "from langchain_core.prompts.few_shot import FewShotPromptTemplate\n",
    "from langchain_core.output_parsers import StrOutputParser\n",
    "\n",
    "# One Shot\n",
    "\n",
    "template = \"\"\"\n",
    "    REVIEW의 긍/부정을 분류해주세요.\n",
    "\n",
    "    REVIEW: {review}\n",
    "\"\"\"\n",
    "prompt = PromptTemplate.from_template(template)\n",
    "model = ChatOpenAI(model_name=\"gpt-3.5-turbo\")\n",
    "output_parser = StrOutputParser()\n",
    "chain = prompt | model | output_parser\n",
    "\n",
    "response = chain.invoke({\"review\":\"무난하게 재밌음그렇지만 무난함, 꼭 봐야될 정도는 아닌..\"})\n",
    "print(response)"
   ]
  },
  {
   "cell_type": "code",
   "execution_count": 12,
   "metadata": {},
   "outputs": [
    {
     "name": "stdout",
     "output_type": "stream",
     "text": [
      "REVIEW: 몇년째 나와도 재밌다.\n",
      "ANSWER: 긍정\n",
      "\n",
      "REVIEW: 판다야 너가 귀여운거 다해\n",
      "ANSWER: 긍정\n",
      "\n",
      "REVIEW: 중간에 잤어요 개연성이 없고 지루합니다 쿵푸팬더 팬들만 보세요\n",
      "ANSWER: 부정\n",
      "\n",
      "REVIEW: 무난하게 재밌음그렇지만 무난함, 꼭 봐야될 정도는 아닌..\n",
      "ANSWER: 중립\n"
     ]
    }
   ],
   "source": [
    "# FewShot Learning\n",
    "from langchain_openai import ChatOpenAI \n",
    "from langchain_core.prompts import PromptTemplate\n",
    "from langchain_core.prompts.few_shot import FewShotPromptTemplate\n",
    "from langchain_core.output_parsers import StrOutputParser\n",
    "\n",
    "# Few Shot\n",
    "examples = [\n",
    "    {\"review\":\"몇년째 나와도 재밌다.\", \"answer\": \"ANSWER: 긍정\"},\n",
    "    {\"review\":\"판다야 너가 귀여운거 다해\", \"answer\": \"ANSWER: 긍정\"},\n",
    "    {\"review\":\"중간에 잤어요 개연성이 없고 지루합니다 쿵푸팬더 팬들만 보세요\", \"answer\": \"ANSWER: 부정\"}\n",
    "]\n",
    "\n",
    "example_prompt = PromptTemplate(\n",
    "    input_variables=[\"review\",\"answer\"],\n",
    "    template = \"REVIEW: {review}\\n{answer}\"\n",
    ")\n",
    "\n",
    "prompt = FewShotPromptTemplate(\n",
    "    examples = examples,\n",
    "    example_prompt = example_prompt,\n",
    "    suffix=\"REVIEW: {review}\",\n",
    "    input_variables=[\"review\"]\n",
    ")\n",
    "\n",
    "review = \"무난하게 재밌음그렇지만 무난함, 꼭 봐야될 정도는 아닌..\"\n",
    "final_prompt = prompt.format(review=review)\n",
    "model = ChatOpenAI(model_name=\"gpt-3.5-turbo\")\n",
    "\n",
    "print(final_prompt)\n",
    "print(model.invoke(final_prompt).content)"
   ]
  },
  {
   "cell_type": "code",
   "execution_count": 17,
   "metadata": {},
   "outputs": [],
   "source": [
    "# Example Selector를 이용한 동적 Few-Shot learning\n",
    "from langchain.prompts.example_selector import SemanticSimilarityExampleSelector\n",
    "from langchain.vectorstores import Chroma\n",
    "from langchain.prompts import FewShotPromptTemplate, PromptTemplate\n",
    "\n",
    "examples = [\n",
    "    {\"input\": \"토니모리 치크톤 젤리 블러셔\", \"output\": \"메이크업\"},\n",
    "    {\"input\": \"마녀공장 퓨어 클렌징 오일\", \"output\": \"클렌징\"},\n",
    "    {\"input\": \"식물나라 퀵앤딥 클렌징 티슈\", \"output\": \"클렌징\"},\n",
    "    {\"input\": \"라운드랩 포 맨 자작나무 토너\", \"output\": \"스킨케어\"},\n",
    "    {\"input\": \"아이오페 스템3 2종세트\", \"output\": \"스킨케어\"}\n",
    "]\n",
    "\n",
    "example_prompt = PromptTemplate(\n",
    "    input_variables = [\"input\", \"output\"],\n",
    "    template = \"Input: {input}\\nOutput: {output}\"\n",
    ")\n"
   ]
  },
  {
   "cell_type": "code",
   "execution_count": 26,
   "metadata": {},
   "outputs": [
    {
     "name": "stdout",
     "output_type": "stream",
     "text": [
      "다음 제품의 카테고리를 분류해줘\n",
      "\n",
      "Input: 토니모리 치크톤 젤리 블러셔\n",
      "Output: 메이크업\n",
      "\n",
      "Input: 에스트라 아토베리어365크림\n",
      "Output: \n",
      "스킨케어\n"
     ]
    }
   ],
   "source": [
    "from langchain_openai import OpenAIEmbeddings\n",
    "\n",
    "example_selector = SemanticSimilarityExampleSelector.from_examples(\n",
    "    examples,\n",
    "    OpenAIEmbeddings(),\n",
    "    Chroma,\n",
    "    k=1   \n",
    ")\n",
    "\n",
    "similar_prompt = FewShotPromptTemplate(\n",
    "    example_selector = example_selector,\n",
    "    example_prompt = example_prompt,\n",
    "    prefix=\"다음 제품의 카테고리를 분류해줘\",\n",
    "    suffix=\"Input: {input}\\nOutput: \",\n",
    "    input_variables=[\"input\"]\n",
    ")\n",
    "model = ChatOpenAI(model_name=\"gpt-3.5-turbo\")\n",
    "\n",
    "final_prompt = similar_prompt.format(input=\"에스트라 아토베리어365크림\")\n",
    "print(response)\n",
    "print(model.invoke(final_prompt).content)"
   ]
  },
  {
   "cell_type": "code",
   "execution_count": 9,
   "metadata": {},
   "outputs": [
    {
     "data": {
      "text/plain": [
       "{'result': True,\n",
       " 'original': '안녕하세요. 이문장은 한글 로 작성되 었 습니다.',\n",
       " 'checked': '안녕하세요. 이 문장은 한글로 작성되었습니다.',\n",
       " 'errors': 3,\n",
       " 'words': OrderedDict([('안녕하세요.', 0),\n",
       "              ('이', 2),\n",
       "              ('문장은', 2),\n",
       "              ('한글로', 2),\n",
       "              ('작성되었습니다.', 2)]),\n",
       " 'time': 0.6763484477996826}"
      ]
     },
     "execution_count": 9,
     "metadata": {},
     "output_type": "execute_result"
    }
   ],
   "source": [
    "# pip.req error\n",
    "# https://github.com/ssut/py-hanspell/issues/12\n",
    "# https://github.com/kdrkdrkdr/py-hanspell/blob/master/setup.py\n",
    "\n",
    "from hanspell import spell_checker \n",
    "\n",
    "url = \"https://m.search.naver.com/p/csearch/ocontent/util/SpellerProxy?passportKey=9174b407ac9ae3de9f16e75ddb56cb306aebd813&_callback=jQuery112408487938080478374_1713917132780&q=%EB%A7%9E%EC%B6%A4%EB%B2%95+%EA%B2%80%EC%82%AC%EB%A5%BC+%EC%9B%90%ED%95%98%EB%8A%94+%EB%8B%A8%EC%96%B4%EB%82%98+%EB%AC%B8%EC%9E%A5%EC%9D%84+%EC%9E%85%EB%A0%A5%ED%95%B4+%EC%A3%BC%EC%84%B8%EC%9A%94.&where=nexearch&color_blindness=0&_=1713917132781\"\n",
    "result = spell_checker.check(\"안녕하세요. 이문장은 한글 로 작성되 었 습니다.\", url)\n",
    "result.as_dict()"
   ]
  },
  {
   "cell_type": "code",
   "execution_count": null,
   "metadata": {},
   "outputs": [],
   "source": []
  }
 ],
 "metadata": {
  "kernelspec": {
   "display_name": "langchain",
   "language": "python",
   "name": "python3"
  },
  "language_info": {
   "codemirror_mode": {
    "name": "ipython",
    "version": 3
   },
   "file_extension": ".py",
   "mimetype": "text/x-python",
   "name": "python",
   "nbconvert_exporter": "python",
   "pygments_lexer": "ipython3",
   "version": "3.10.13"
  }
 },
 "nbformat": 4,
 "nbformat_minor": 2
}
