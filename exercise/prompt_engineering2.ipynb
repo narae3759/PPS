{
 "cells": [
  {
   "cell_type": "markdown",
   "metadata": {},
   "source": [
    "# Iterative Prompt Development"
   ]
  },
  {
   "cell_type": "code",
   "execution_count": 1,
   "metadata": {},
   "outputs": [
    {
     "data": {
      "text/plain": [
       "True"
      ]
     },
     "execution_count": 1,
     "metadata": {},
     "output_type": "execute_result"
    }
   ],
   "source": [
    "# API KEY 불러오기\n",
    "import os \n",
    "from dotenv import load_dotenv\n",
    "\n",
    "load_dotenv()"
   ]
  },
  {
   "cell_type": "code",
   "execution_count": 2,
   "metadata": {},
   "outputs": [],
   "source": [
    "from openai import OpenAI\n",
    "\n",
    "client = OpenAI()\n",
    "\n",
    "def get_completion(prompt, model=\"gpt-3.5-turbo\"):\n",
    "    messages = [\n",
    "        {\n",
    "            \"role\": \"user\", \n",
    "            \"content\": prompt\n",
    "        }\n",
    "    ]\n",
    "    response = client.chat.completions.create(\n",
    "        model=model,\n",
    "        messages=messages,\n",
    "        temperature=0\n",
    "    )\n",
    "\n",
    "    return response.choices[0].message.content"
   ]
  },
  {
   "cell_type": "code",
   "execution_count": 26,
   "metadata": {},
   "outputs": [],
   "source": [
    "job = \"백엔드 개발자\"\n",
    "\n",
    "question = \"본인이 지원하는 직무에 있어 다른 지원자와는 차별화된 역량 및 그와 관련된 경험 혹은 경력을 기술하여 주십시오\"\n",
    "\n",
    "content = \"\"\"\\\"노력과 성장\\\"\n",
    "\n",
    "저의 성격은 한 가지에 집중하면, 그것을 해내기 위해 최선을 다한다는 것입니다.\n",
    "그리고 그 덕분에 저는 지금껏 많은 성장을 이루어 낼 수 있었습니다.\n",
    "\n",
    "제 목표는 최고의 개발자가 되어, 다른 사람에게 제가 가진 지식을 나눌 수 있게 되는 것입니다.\n",
    "\n",
    "이 목표를 이루기 위해 매일 알고리즘 풀이를 진행하고, 그중 중요하다 생각한 것은 상세한 설명을 첨부하여 블로그에 올리고 있습니다.\n",
    "또 대학교 때에 튜터링을 통해 제가 알고리즘을 가르쳐 주었던 동기 학생에게 개발 방법을 알려주고 있으며 현재 Spring boot, security 등 여러 모듈을 통해 얻은 지식들을 정리하고 있습니다.\n",
    "\n",
    "그러한 저의 노력에는 계속하여 집중할 수 있는 성격이 뒷받침되었다고 생각합니다.\n",
    "한 가지 목표를 위해 달려가며 포기하지 않고 매일매일 조금씩 발전할 수 있는 데에 노력은 필수적이기 때문입니다.\n",
    "\n",
    "그렇지만, 너무 한 가지에 몰두하여 문제가 되는 경우 또한 있었습니다.\n",
    "이전에 OOOOOO의 위클리 챌린지라는 과제에 도전하였을 때, 잘못된 접근 방식으로 풀이하여 문제를 오랫동안 해결하지 못한 적이 있었습니다.\n",
    "그때에 그 문제를 풀기 위해 새벽까지 시도하느라 잠을 자지 못해 다음 날에 고생하는 등 생활 패턴에 문제가 있었습니다.\n",
    "\n",
    "그렇기 때문에 저는 제 성격을 장점으로만 활용할 수 있게끔, 최대한 하루를 의미 있게 분배하여 공부하고 있습니다.\"\"\""
   ]
  },
  {
   "cell_type": "code",
   "execution_count": 28,
   "metadata": {},
   "outputs": [
    {
     "name": "stdout",
     "output_type": "stream",
     "text": [
      "{\n",
      "  \"keywords\": [\"성장\", \"알고리즘\", \"블로그\", \"프로젝트\", \"노력\"],\n",
      "  \"summary\": {\n",
      "    \"strength\": \"노력과 성장에 집중하는 성격\",\n",
      "    \"experience\": \"알고리즘 풀이 블로그 운영 및 튜터링 경험\",\n",
      "    \"challenge\": \"과거 잘못된 접근 방식으로 문제 해결 어려움\"\n",
      "  },\n",
      "  \"evaluation\": \"지원자는 노력과 성장에 집중하는 성격을 강조하며, 알고리즘 관련 경험과 블로그 운영, 튜터링 경험을 소개하였다. 그러나 과거에는 잘못된 접근 방식으로 문제를 해결하는 어려움을 겪었으며, 이를 극복하기 위해 노력 중이라고 언급하였다.\",\n",
      "  \"result\": \"불합격\",\n",
      "  \"reason\": \"지원자는 경험과 노력에 대한 내용을 충분히 소개하였지만, 과거의 어려움을 극복한 경험보다는 더 많은 성장과 발전을 보여줄 수 있는 사례를 제시해야 합니다.\"\n",
      "}\n"
     ]
    }
   ],
   "source": [
    "prompt = f\"\"\"\n",
    "당신은 {job} 자기소개서 합격 여부를 판단하는 역할입니다.\n",
    "KEY를 가진 Json형식으로 답변해주세요.\n",
    "\n",
    "STANDARD:\n",
    "- QUESTION의 내용에 맞게 답변했는가\n",
    "- 지원자의 경험이 잘 드러나는가\n",
    "- 지원자의 경험이 직무와 적합한가\n",
    "- 문장의 표현 능력이 우수한가\n",
    "\n",
    "KEY:\n",
    "- keywords<답변의 핵심 키워드 5개를 추출하여 리스트로 반환하세요>\n",
    "- summary<QUESTION의 요구사항에 맞춰 내용을 Json형식으로 반환하세요>\n",
    "- evaluation<STANDARD에 맞춰 답변을 평가하세요>\n",
    "- result<STANDARD에 2개 이상 충족되면 합격입니다. '합격', '불합격' 여부를 판단하세요>\n",
    "- reason<result가 '합격'이면 '-'로 표현하고, '불합격'이라면 그 이유에 대해 답변하세요>\n",
    "\n",
    "QEUSTION: {question}\n",
    "\n",
    "ANSWER: {content}\n",
    "\"\"\"\n",
    "\n",
    "response = get_completion(prompt)\n",
    "print(response)"
   ]
  }
 ],
 "metadata": {
  "kernelspec": {
   "display_name": "langchain",
   "language": "python",
   "name": "python3"
  },
  "language_info": {
   "codemirror_mode": {
    "name": "ipython",
    "version": 3
   },
   "file_extension": ".py",
   "mimetype": "text/x-python",
   "name": "python",
   "nbconvert_exporter": "python",
   "pygments_lexer": "ipython3",
   "version": "3.10.13"
  }
 },
 "nbformat": 4,
 "nbformat_minor": 2
}
