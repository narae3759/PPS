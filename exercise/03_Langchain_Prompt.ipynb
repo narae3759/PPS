{
 "cells": [
  {
   "cell_type": "code",
   "execution_count": null,
   "metadata": {},
   "outputs": [],
   "source": []
  },
  {
   "cell_type": "markdown",
   "metadata": {},
   "source": [
    "# Example 1. 지역 홍보대사"
   ]
  },
  {
   "cell_type": "code",
   "execution_count": null,
   "metadata": {},
   "outputs": [
    {
     "name": "stdout",
     "output_type": "stream",
     "text": [
      "환영합니다!\n",
      "- 슬로건: \"제주, 자연이 주는 휴식과 감동\"\n",
      "- 특산물: 감귤, 제주 흑돼지, 제주 삼다수\n",
      "- 관광지: 성산일출봉, 용두암, 한라산 등\n",
      "자연 속 휴식과 감동이 가득한 제주에서 즐거운 시간을 보내세요.\n"
     ]
    }
   ],
   "source": [
    "# Langchain 이용하기 - 지시문 + 제시어 (LCEL)\n",
    "from langchain_openai import ChatOpenAI \n",
    "from langchain_core.prompts import PromptTemplate\n",
    "from langchain_core.output_parsers import StrOutputParser\n",
    "\n",
    "template = \"\"\"\n",
    "    당신은 대한민국 {location} 홍보대사입니다. FORMAT에 맞춰 홍보해주세요.\n",
    "    환영인사와 좋은점은 20자 내외입니다.\n",
    "\n",
    "    FORMAT:\n",
    "    환영인사\n",
    "    - 슬로건: \n",
    "    - 특산물: \n",
    "    - 관광지: \n",
    "    좋은점\n",
    "\"\"\"\n",
    "prompt = PromptTemplate.from_template(template)\n",
    "model = ChatOpenAI(model_name=\"gpt-3.5-turbo\")\n",
    "output_parser = StrOutputParser()\n",
    "chain = prompt | model | output_parser\n",
    "\n",
    "response = chain.invoke({\"location\":\"제주도\"})\n",
    "print(response)"
   ]
  },
  {
   "cell_type": "markdown",
   "metadata": {},
   "source": [
    "# Example 2. 청첩장 글귀 만들기"
   ]
  },
  {
   "cell_type": "code",
   "execution_count": null,
   "metadata": {},
   "outputs": [
    {
     "name": "stdout",
     "output_type": "stream",
     "text": [
      "사랑하는 친구들과 함께하는 특별한 날,\n",
      "긴 시간을 함께한 장기 연애의 결실을 맺는 순간.\n",
      "\n",
      "봄이 활짝 피어나는 이 날,\n",
      "사랑과 행복이 가득한 새로운 시작을 앞두고 있습니다.\n",
      "\n",
      "따스한 햇살이 비추는 이 자리에서,\n",
      "우리의 사랑을 함께 축복해 주실 수 있으신 분들을 초대합니다.\n",
      "\n",
      "밝은 미래를 향해 함께하는 우리,\n",
      "이 순간을 영원히 기억하며 더욱 행복한 인연으로 나아갈 것을 약속합니다.\n"
     ]
    }
   ],
   "source": [
    "# Langchain 이용하기 - 지시문 + 제시어 (LCEL)\n",
    "from langchain_openai import ChatOpenAI \n",
    "from langchain_core.prompts import PromptTemplate\n",
    "from langchain_core.output_parsers import StrOutputParser\n",
    "\n",
    "template = \"\"\"\n",
    "    TAG에 맞춰 결혼식 청첩장 글귀를 300자 내외로 만들어주세요. \n",
    "    문장마다 줄바꿈이 있어야 합니다.\n",
    "\n",
    "    TAG: {tags}\n",
    "\"\"\"\n",
    "prompt = PromptTemplate.from_template(template)\n",
    "model = ChatOpenAI(model_name=\"gpt-3.5-turbo\")\n",
    "output_parser = StrOutputParser()\n",
    "chain = prompt | model | output_parser\n",
    "\n",
    "response = chain.invoke({\"tags\":[\"장기 연애\", \"봄\", \"밝음\"]})\n",
    "print(response)"
   ]
  },
  {
   "cell_type": "markdown",
   "metadata": {},
   "source": [
    "# Example 3. 스트레칭 가이드"
   ]
  },
  {
   "cell_type": "code",
   "execution_count": null,
   "metadata": {},
   "outputs": [
    {
     "name": "stdout",
     "output_type": "stream",
     "text": [
      "스트레칭 명: 목 회전 스트레칭\n",
      "STEP1. 목을 천천히 시계 반대 방향으로 돌리며 최대한 뒤로 굽힙니다. (10초 유지)\n",
      "STEP2. 다시 원래 자세로 돌아옵니다.\n",
      "STEP3. 이번에는 시계 방향으로 목을 돌리며 최대한 뒤로 굽힙니다. (10초 유지)\n",
      "STEP4. 다시 원래 자세로 돌아옵니다.\n",
      "STEP5. 총 3세트 반복해주세요.\n"
     ]
    }
   ],
   "source": [
    "# Langchain 이용하기 - 지시문 + 제시어 (LCEL)\n",
    "from langchain_openai import ChatOpenAI \n",
    "from langchain_core.prompts import PromptTemplate\n",
    "from langchain_core.output_parsers import StrOutputParser\n",
    "\n",
    "template = \"\"\"\n",
    "    {part}의 스트레칭을 도와주는 챗봇입니다. \n",
    "    스트레칭 방법을 1개만 단계별로 FORMAT에 맞춰 답변해주세요.\n",
    "    몇 초간 몇 번 반복해야 하는지 자세하고 쉽게 알려주세요.\n",
    "\n",
    "    FORMAT:\n",
    "    스트레칭 명: 스트레칭 설명\n",
    "    STEP1.\n",
    "    STEP2.\n",
    "    ...\n",
    "\"\"\"\n",
    "prompt = PromptTemplate.from_template(template)\n",
    "model = ChatOpenAI(model_name=\"gpt-3.5-turbo\")\n",
    "output_parser = StrOutputParser()\n",
    "chain = prompt | model | output_parser\n",
    "\n",
    "response = chain.invoke({\"part\":\"목\"})\n",
    "print(response)"
   ]
  },
  {
   "cell_type": "markdown",
   "metadata": {},
   "source": [
    "# Example 4. 다이어트 레시피"
   ]
  },
  {
   "cell_type": "code",
   "execution_count": null,
   "metadata": {},
   "outputs": [
    {
     "name": "stdout",
     "output_type": "stream",
     "text": [
      "요리명: 다이어트 단호박 수프\n",
      "\n",
      "준비물:\n",
      "- 단호박 (500g)\n",
      "- 우유 (200ml)\n",
      "- 양송이 (100g)\n",
      "\n",
      "칼로리: 약 150kcal\n",
      "\n",
      "방법:\n",
      "1. 먼저 단호박을 껍질을 벗기고 씻은 뒤 작게 썰어줍니다.\n",
      "2. 양송이는 깨끗이 씻은 뒤 두툼하게 슬라이스합니다.\n",
      "3. 냄비에 단호박과 양송이를 넣고 우유를 부어줍니다.\n",
      "4. 뚜껑을 덮고 중불에서 약 20분간 끓여줍니다.\n",
      "5. 모든 재료가 부드러워지면 믹서기에 갈아 부드러운 수프로 만들어줍니다.\n",
      "6. 그릇에 담아 기호에 따라 소금이나 후추를 조금씩 넣어 맛을 조절한 뒤 완성합니다.\n"
     ]
    }
   ],
   "source": [
    "# Langchain 이용하기 - 지시문 + 제시어 (LCEL)\n",
    "from langchain_openai import ChatOpenAI \n",
    "from langchain_core.prompts import PromptTemplate\n",
    "from langchain_core.output_parsers import StrOutputParser\n",
    "\n",
    "template = \"\"\"\n",
    "    INGREDIENTS로 만들 수 있는 다이어트 레시피를 FORMAT에 맞춰 알려주세요.\n",
    "    준비물은 무게 단위까지 자세히 작성해야 합니다.\n",
    "\n",
    "    INGREDIENTS: {ingredients}\n",
    "    \n",
    "    FORMAT:\n",
    "    요리명:\n",
    "    준비물: \n",
    "    칼로리:\n",
    "    방법:\n",
    "    1. \n",
    "    2. \n",
    "    ...\n",
    "\"\"\"\n",
    "prompt = PromptTemplate.from_template(template)\n",
    "model = ChatOpenAI(model_name=\"gpt-3.5-turbo\")\n",
    "output_parser = StrOutputParser()\n",
    "chain = prompt | model | output_parser\n",
    "\n",
    "response = chain.invoke({\"ingredients\":[\"단호박\",\"우유\",\"양송이\"]})\n",
    "print(response)"
   ]
  },
  {
   "cell_type": "markdown",
   "metadata": {},
   "source": [
    "# Few Shot Learning"
   ]
  },
  {
   "cell_type": "code",
   "execution_count": null,
   "metadata": {},
   "outputs": [
    {
     "name": "stdout",
     "output_type": "stream",
     "text": [
      "부정적인 리뷰입니다.\n"
     ]
    }
   ],
   "source": [
    "# Langchain 이용하기 - 지시문 + 제시어 (LCEL)\n",
    "from langchain_openai import ChatOpenAI \n",
    "from langchain_core.prompts import PromptTemplate\n",
    "from langchain_core.prompts.few_shot import FewShotPromptTemplate\n",
    "from langchain_core.output_parsers import StrOutputParser\n",
    "\n",
    "# One Shot\n",
    "\n",
    "template = \"\"\"\n",
    "    REVIEW의 긍/부정을 분류해주세요.\n",
    "\n",
    "    REVIEW: {review}\n",
    "\"\"\"\n",
    "prompt = PromptTemplate.from_template(template)\n",
    "model = ChatOpenAI(model_name=\"gpt-3.5-turbo\")\n",
    "output_parser = StrOutputParser()\n",
    "chain = prompt | model | output_parser\n",
    "\n",
    "response = chain.invoke({\"review\":\"무난하게 재밌음그렇지만 무난함, 꼭 봐야될 정도는 아닌..\"})\n",
    "print(response)"
   ]
  },
  {
   "cell_type": "code",
   "execution_count": null,
   "metadata": {},
   "outputs": [
    {
     "name": "stdout",
     "output_type": "stream",
     "text": [
      "REVIEW: 몇년째 나와도 재밌다.\n",
      "ANSWER: 긍정\n",
      "\n",
      "REVIEW: 판다야 너가 귀여운거 다해\n",
      "ANSWER: 긍정\n",
      "\n",
      "REVIEW: 중간에 잤어요 개연성이 없고 지루합니다 쿵푸팬더 팬들만 보세요\n",
      "ANSWER: 부정\n",
      "\n",
      "REVIEW: 무난하게 재밌음그렇지만 무난함, 꼭 봐야될 정도는 아닌..\n",
      "ANSWER: 중립\n"
     ]
    }
   ],
   "source": [
    "# FewShot Learning\n",
    "from langchain_openai import ChatOpenAI \n",
    "from langchain_core.prompts import PromptTemplate\n",
    "from langchain_core.prompts.few_shot import FewShotPromptTemplate\n",
    "from langchain_core.output_parsers import StrOutputParser\n",
    "\n",
    "# Few Shot\n",
    "examples = [\n",
    "    {\"review\":\"몇년째 나와도 재밌다.\", \"answer\": \"ANSWER: 긍정\"},\n",
    "    {\"review\":\"판다야 너가 귀여운거 다해\", \"answer\": \"ANSWER: 긍정\"},\n",
    "    {\"review\":\"중간에 잤어요 개연성이 없고 지루합니다 쿵푸팬더 팬들만 보세요\", \"answer\": \"ANSWER: 부정\"}\n",
    "]\n",
    "\n",
    "example_prompt = PromptTemplate(\n",
    "    input_variables=[\"review\",\"answer\"],\n",
    "    template = \"REVIEW: {review}\\n{answer}\"\n",
    ")\n",
    "\n",
    "prompt = FewShotPromptTemplate(\n",
    "    examples = examples,\n",
    "    example_prompt = example_prompt,\n",
    "    suffix=\"REVIEW: {review}\",\n",
    "    input_variables=[\"review\"]\n",
    ")\n",
    "\n",
    "review = \"무난하게 재밌음그렇지만 무난함, 꼭 봐야될 정도는 아닌..\"\n",
    "final_prompt = prompt.format(review=review)\n",
    "model = ChatOpenAI(model_name=\"gpt-3.5-turbo\")\n",
    "\n",
    "print(final_prompt)\n",
    "print(model.invoke(final_prompt).content)"
   ]
  },
  {
   "cell_type": "code",
   "execution_count": null,
   "metadata": {},
   "outputs": [],
   "source": [
    "# Example Selector를 이용한 동적 Few-Shot learning\n",
    "from langchain.prompts.example_selector import SemanticSimilarityExampleSelector\n",
    "from langchain.vectorstores import Chroma\n",
    "from langchain.prompts import FewShotPromptTemplate, PromptTemplate\n",
    "\n",
    "examples = [\n",
    "    {\"input\": \"토니모리 치크톤 젤리 블러셔\", \"output\": \"메이크업\"},\n",
    "    {\"input\": \"마녀공장 퓨어 클렌징 오일\", \"output\": \"클렌징\"},\n",
    "    {\"input\": \"식물나라 퀵앤딥 클렌징 티슈\", \"output\": \"클렌징\"},\n",
    "    {\"input\": \"라운드랩 포 맨 자작나무 토너\", \"output\": \"스킨케어\"},\n",
    "    {\"input\": \"아이오페 스템3 2종세트\", \"output\": \"스킨케어\"}\n",
    "]\n",
    "\n",
    "example_prompt = PromptTemplate(\n",
    "    input_variables = [\"input\", \"output\"],\n",
    "    template = \"Input: {input}\\nOutput: {output}\"\n",
    ")\n"
   ]
  },
  {
   "cell_type": "code",
   "execution_count": null,
   "metadata": {},
   "outputs": [
    {
     "name": "stdout",
     "output_type": "stream",
     "text": [
      "다음 제품의 카테고리를 분류해줘\n",
      "\n",
      "Input: 토니모리 치크톤 젤리 블러셔\n",
      "Output: 메이크업\n",
      "\n",
      "Input: 에스트라 아토베리어365크림\n",
      "Output: \n",
      "스킨케어\n"
     ]
    }
   ],
   "source": [
    "from langchain_openai import OpenAIEmbeddings\n",
    "\n",
    "example_selector = SemanticSimilarityExampleSelector.from_examples(\n",
    "    examples,\n",
    "    OpenAIEmbeddings(),\n",
    "    Chroma,\n",
    "    k=1   \n",
    ")\n",
    "\n",
    "similar_prompt = FewShotPromptTemplate(\n",
    "    example_selector = example_selector,\n",
    "    example_prompt = example_prompt,\n",
    "    prefix=\"다음 제품의 카테고리를 분류해줘\",\n",
    "    suffix=\"Input: {input}\\nOutput: \",\n",
    "    input_variables=[\"input\"]\n",
    ")\n",
    "model = ChatOpenAI(model_name=\"gpt-3.5-turbo\")\n",
    "\n",
    "final_prompt = similar_prompt.format(input=\"에스트라 아토베리어365크림\")\n",
    "print(response)\n",
    "print(model.invoke(final_prompt).content)"
   ]
  },
  {
   "cell_type": "code",
   "execution_count": null,
   "metadata": {},
   "outputs": [
    {
     "data": {
      "text/plain": [
       "{'result': True,\n",
       " 'original': '안녕하세요. 이문장은 한글 로 작성되 었 습니다.',\n",
       " 'checked': '안녕하세요. 이 문장은 한글로 작성되었습니다.',\n",
       " 'errors': 3,\n",
       " 'words': OrderedDict([('안녕하세요.', 0),\n",
       "              ('이', 2),\n",
       "              ('문장은', 2),\n",
       "              ('한글로', 2),\n",
       "              ('작성되었습니다.', 2)]),\n",
       " 'time': 0.6763484477996826}"
      ]
     },
     "metadata": {},
     "output_type": "display_data"
    }
   ],
   "source": [
    "# pip.req error\n",
    "# https://github.com/ssut/py-hanspell/issues/12\n",
    "# https://github.com/kdrkdrkdr/py-hanspell/blob/master/setup.py\n",
    "\n",
    "from hanspell import spell_checker \n",
    "\n",
    "url = \"https://m.search.naver.com/p/csearch/ocontent/util/SpellerProxy?passportKey=9174b407ac9ae3de9f16e75ddb56cb306aebd813&_callback=jQuery112408487938080478374_1713917132780&q=%EB%A7%9E%EC%B6%A4%EB%B2%95+%EA%B2%80%EC%82%AC%EB%A5%BC+%EC%9B%90%ED%95%98%EB%8A%94+%EB%8B%A8%EC%96%B4%EB%82%98+%EB%AC%B8%EC%9E%A5%EC%9D%84+%EC%9E%85%EB%A0%A5%ED%95%B4+%EC%A3%BC%EC%84%B8%EC%9A%94.&where=nexearch&color_blindness=0&_=1713917132781\"\n",
    "result = spell_checker.check(\"안녕하세요. 이문장은 한글 로 작성되 었 습니다.\", url)\n",
    "result.as_dict()"
   ]
  }
 ],
 "metadata": {
  "language_info": {
   "name": "python"
  }
 },
 "nbformat": 4,
 "nbformat_minor": 2
}
