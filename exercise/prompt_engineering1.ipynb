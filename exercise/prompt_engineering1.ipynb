{
 "cells": [
  {
   "cell_type": "code",
   "execution_count": 1,
   "metadata": {},
   "outputs": [
    {
     "data": {
      "text/plain": [
       "True"
      ]
     },
     "execution_count": 1,
     "metadata": {},
     "output_type": "execute_result"
    }
   ],
   "source": [
    "# API KEY 불러오기\n",
    "import os \n",
    "from dotenv import load_dotenv\n",
    "\n",
    "load_dotenv()"
   ]
  },
  {
   "cell_type": "code",
   "execution_count": 11,
   "metadata": {},
   "outputs": [],
   "source": [
    "from openai import OpenAI\n",
    "\n",
    "client = OpenAI()\n",
    "\n",
    "def get_completion(prompt, model=\"gpt-3.5-turbo\"):\n",
    "    messages = [\n",
    "        {\n",
    "            \"role\": \"user\", \n",
    "            \"content\": prompt\n",
    "        }\n",
    "    ]\n",
    "    response = client.chat.completions.create(\n",
    "        model=model,\n",
    "        messages=messages,\n",
    "        temperature=0\n",
    "    )\n",
    "\n",
    "    return response.choices[0].message.content"
   ]
  },
  {
   "cell_type": "markdown",
   "metadata": {},
   "source": [
    "프롬프트 원리는 두 가지이다. \n",
    "1. 명확하고 구체적으로 지시문을 작성하라.\n",
    "2. 모델에게 생각할 시간을 주어라.\n",
    "\n",
    "* 명확하고 구체적인 지시문을 통해 원하는 출력으로 유도하고, 관련 없거나 잘못된 응답을 줄일 수 있다. \n",
    "* 보통 구분자는 ```, \"\"\", <>, <tag></tag>,: 를 주로 사용한다."
   ]
  },
  {
   "cell_type": "markdown",
   "metadata": {},
   "source": [
    "## 원리1. 명확하고 구체적으로 지시문을 작성하라."
   ]
  },
  {
   "cell_type": "markdown",
   "metadata": {},
   "source": [
    "### 요약"
   ]
  },
  {
   "cell_type": "code",
   "execution_count": 4,
   "metadata": {},
   "outputs": [],
   "source": [
    "text = f\"\"\"\n",
    "You should express what you want a model to do by \\ \n",
    "providing instructions that are as clear and \\ \n",
    "specific as you can possibly make them. \\ \n",
    "This will guide the model towards the desired output, \\ \n",
    "and reduce the chances of receiving irrelevant \\ \n",
    "or incorrect responses. Don't confuse writing a \\ \n",
    "clear prompt with writing a short prompt. \\ \n",
    "In many cases, longer prompts provide more clarity \\ \n",
    "and context for the model, which can lead to \\ \n",
    "more detailed and relevant outputs.\n",
    "\"\"\"\n",
    "\n",
    "prompt = f\"\"\"\n",
    "Summarize the text delimited by triple backticks into a single sentences.\n",
    "\n",
    "```{text}```\n",
    "\"\"\""
   ]
  },
  {
   "cell_type": "code",
   "execution_count": 12,
   "metadata": {},
   "outputs": [
    {
     "name": "stdout",
     "output_type": "stream",
     "text": [
      "It is important to provide clear and specific instructions to guide a model towards the desired output and reduce the chances of receiving irrelevant or incorrect responses, even if it means writing a longer prompt.\n"
     ]
    }
   ],
   "source": [
    "response = get_completion(prompt)\n",
    "print(response)"
   ]
  },
  {
   "cell_type": "code",
   "execution_count": 43,
   "metadata": {},
   "outputs": [],
   "source": [
    "text = f\"\"\"반려견 훈련사 강형욱이 직장 내 괴롭힘 논란에 대해 입장을 밝힌 가운데, 강형욱에게 폭언을 들었다는 직원이 재반박에 나섰다. \n",
    "24일 강형욱은 자신의 유튜브 채널 '강형욱의 보듬TV'에서 막말 논란을 전면 부인했다. \n",
    "앞서 20일 JTBC '사건반장'을 통해 전 직원 A 씨는 강형욱에게 \"숨도 쉬지 말아라. 네가 숨 쉬는 게 아깝다\", \"벌레보다 못하다. 그냥 기어나가라. 그냥 죽어라\" 등의 폭언을 들었다고 주장했다. 이에 대해 강형욱은 \"(그런 말은) 제가 화낼 때 쓰는 말이 아니다. 저는 그런 말을 하지 않는다. 벌레라는 말도 잘 쓰지 않고 기라는 말도 쓰지 않는다. 저는 욕을 하지 않아도 얼마든지 화를 낼 수 있다\"며 고개를 가로저었다.\n",
    "하지만 강형욱의 해명 영상이 올라온 직후 방송된 사건반장에서 전 직원은 '강형욱의 폭언이 있었던 건 사실'이라고 강조했다.\n",
    "그는 \"(강형욱이) 욕을 안 했다고 하는데 훈련사를 다 잡고 물어보면 '한 번도 (욕을) 안 하셨다'고 대답하는 훈련사는 없을 것\"이라며 \"나는 아주 심한 욕설을 들었고, 주변 직원들과 견주들에게 하는 욕설도 들었다\"고 말했다.\n",
    "그러면서 \"'벌레만도 못하다'는 말을 안 하셨다고 했는데, 그 말을 들은 직원은 그 말 때문에 회사를 그만두고 싶어 했고 주변에도 그 얘기를 많이 하고 다녔다\"고 기억했다.\n",
    "이어 \"저는 어떤 상황에서 어떻게 폭언을 들었는지 다 생생하게 기억하고 있다\"고 강조했다.\n",
    "강형욱의 갑질 논란은 지난 19일 여러 온라인 커뮤니티에 보듬컴퍼니의 전 직원들이 구직 사이트에 남긴 회사 후기가 확산하면서 불거졌다.\n",
    "보듬컴퍼니의 구직플랫폼 평점은 1.7로, 전 직원들은 \"직원이 강아지보다 못한 취급을 받는 회사다. 대표의 교묘한 가스라이팅으로 제정신으로 다닐 수 없다\", \"퇴사하고 공황장애, 우울증 등으로 정신과에 다녔다\" 등의 평을 남겼다.\n",
    "이후 방송 인터뷰와 댓글 등으로 CCTV 및 메신저 감시, 화장실 이용 시간 통제, 무성의한 명절 선물, 반려견 학대, 급여 등에 대한 논란이 잇따라 터져 나왔고, 강형욱은 유튜브 영상을 통해 조목조목 해명했다.\n",
    "\"\"\"\n",
    "\n",
    "prompt = f\"\"\"\n",
    "다음 세 개의 백틱 안에 있는 텍스트를 한 줄로 요약해주세요.\n",
    "\n",
    "```{text}```\n",
    "\"\"\""
   ]
  },
  {
   "cell_type": "code",
   "execution_count": 44,
   "metadata": {},
   "outputs": [
    {
     "name": "stdout",
     "output_type": "stream",
     "text": [
      "강형욱의 직장 내 괴롭힘 논란에 대한 입장과 폭언 논란에 대한 강형욱과 직원의 대립적인 주장들이 이어지고 있다.\n"
     ]
    }
   ],
   "source": [
    "response = get_completion(prompt)\n",
    "print(response)"
   ]
  },
  {
   "cell_type": "markdown",
   "metadata": {},
   "source": [
    "### Output format"
   ]
  },
  {
   "cell_type": "code",
   "execution_count": 13,
   "metadata": {},
   "outputs": [
    {
     "name": "stdout",
     "output_type": "stream",
     "text": [
      "[\n",
      "    {\n",
      "        \"book_id\": 1,\n",
      "        \"title\": \"The Midnight Garden\",\n",
      "        \"author\": \"Elena Nightingale\",\n",
      "        \"genre\": \"Fantasy\"\n",
      "    },\n",
      "    {\n",
      "        \"book_id\": 2,\n",
      "        \"title\": \"Echoes of the Past\",\n",
      "        \"author\": \"Julian Blackwood\",\n",
      "        \"genre\": \"Mystery\"\n",
      "    },\n",
      "    {\n",
      "        \"book_id\": 3,\n",
      "        \"title\": \"Whispers in the Wind\",\n",
      "        \"author\": \"Serena Moonstone\",\n",
      "        \"genre\": \"Romance\"\n",
      "    }\n",
      "]\n"
     ]
    }
   ],
   "source": [
    "prompt = f\"\"\"\n",
    "Generate a list of three made-up book titles along with their authors and genres.\n",
    "Provide them in JSON format with the following keys:\n",
    "book_id, title, author, genre.\n",
    "\"\"\"\n",
    "\n",
    "response = get_completion(prompt)\n",
    "print(response)"
   ]
  },
  {
   "cell_type": "code",
   "execution_count": 45,
   "metadata": {},
   "outputs": [
    {
     "name": "stdout",
     "output_type": "stream",
     "text": [
      "{\n",
      "    \"영화1\": {\n",
      "        \"이름\": \"반도\",\n",
      "        \"개봉년도\": 2020,\n",
      "        \"장르\": \"액션, 좀비\",\n",
      "        \"감독\": \"연상호\",\n",
      "        \"내용 요약\": \"좀비가 뒤쫓는 한국의 생존자들의 이야기\"\n",
      "    },\n",
      "    \"영화2\": {\n",
      "        \"이름\": \"도굴\",\n",
      "        \"개봉년도\": 2020,\n",
      "        \"장르\": \"범죄, 드라마\",\n",
      "        \"감독\": \"박정배\",\n",
      "        \"내용 요약\": \"고고학자들의 도굴 사건을 그린 이야기\"\n",
      "    },\n",
      "    \"영화3\": {\n",
      "        \"이름\": \"남산의 부장들\",\n",
      "        \"개봉년도\": 2020,\n",
      "        \"장르\": \"드라마, 역사\",\n",
      "        \"감독\": \"우민호\",\n",
      "        \"내용 요약\": \"대한민국 대통령을 납치하는 사건을 다룬 영화\"\n",
      "    },\n",
      "    \"영화4\": {\n",
      "        \"이름\": \"삼진그룹 영어토익반\",\n",
      "        \"개봉년도\": 2020,\n",
      "        \"장르\": \"코미디, 드라마\",\n",
      "        \"감독\": \"이원석\",\n",
      "        \"내용 요약\": \"영어 공부를 위해 모인 이들의 이야기\"\n",
      "    },\n",
      "    \"영화5\": {\n",
      "        \"이름\": \"담보\",\n",
      "        \"개봉년도\": 2020,\n",
      "        \"장르\": \"드라마\",\n",
      "        \"감독\": \"강대규\",\n",
      "        \"내용 요약\": \"가난한 가장이 아이를 위해 범죄를 저지르는 이야기\"\n",
      "    }\n",
      "}\n"
     ]
    }
   ],
   "source": [
    "prompt = f\"\"\"\n",
    "2020년에 가장 흥행한 영화 5개를 KEY에 따라 JSON 포맷으로 답변해주세요.\n",
    "내용 요약은 한 줄로 작성해주세요.\n",
    "\n",
    "KEY: 이름, 개봉년도, 장르, 감독, 내용 요약\n",
    "\"\"\"\n",
    "\n",
    "response = get_completion(prompt)\n",
    "print(response)"
   ]
  },
  {
   "cell_type": "markdown",
   "metadata": {},
   "source": [
    "### 조건에 따라 판단하고 대답하기"
   ]
  },
  {
   "cell_type": "code",
   "execution_count": 19,
   "metadata": {},
   "outputs": [],
   "source": [
    "text = f\"\"\"\n",
    "Making a cup of tea is easy! First, you need to get some \\ \n",
    "water boiling. While that's happening, \\ \n",
    "grab a cup and put a tea bag in it. Once the water is \\ \n",
    "hot enough, just pour it over the tea bag. \\ \n",
    "Let it sit for a bit so the tea can steep. After a \\ \n",
    "few minutes, take out the tea bag. If you \\ \n",
    "like, you can add some sugar or milk to taste. \\ \n",
    "And that's it! You've got yourself a delicious \\ \n",
    "cup of tea to enjoy.\n",
    "\"\"\"\n",
    "\n",
    "prompt = f\"\"\"\n",
    "You will be provided with text delimitted by triple quotes.\n",
    "If it contains a sequence of instructions, re-write those instructions in the following format:\n",
    "\n",
    "Step 1 - ...\n",
    "Step 2 - ...\n",
    "...\n",
    "Step N - ...\n",
    "\n",
    "If the text does not contain a sequence of instructions, then simply write \\\"No steps provided\\\"\n",
    "\n",
    "\\\"\\\"\\\"{text}\\\"\\\"\\\"\n",
    "\"\"\""
   ]
  },
  {
   "cell_type": "code",
   "execution_count": 20,
   "metadata": {},
   "outputs": [
    {
     "name": "stdout",
     "output_type": "stream",
     "text": [
      "\n",
      "Step 1 - Get some water boiling.\n",
      "Step 2 - Grab a cup and put a tea bag in it.\n",
      "Step 3 - Pour the hot water over the tea bag.\n",
      "Step 4 - Let the tea steep for a few minutes.\n",
      "Step 5 - Remove the tea bag.\n",
      "Step 6 - Add sugar or milk to taste.\n",
      "Step 7 - Enjoy your delicious cup of tea.\n"
     ]
    }
   ],
   "source": [
    "response = get_completion(prompt)\n",
    "print(response)"
   ]
  },
  {
   "cell_type": "code",
   "execution_count": 24,
   "metadata": {},
   "outputs": [],
   "source": [
    "text = f\"\"\"\n",
    "The sun is shining brightly today, and the birds are \\\n",
    "singing. It's a beautiful day to go for a \\ \n",
    "walk in the park. The flowers are blooming, and the \\ \n",
    "trees are swaying gently in the breeze. People \\ \n",
    "are out and about, enjoying the lovely weather. \\ \n",
    "Some are having picnics, while others are playing \\ \n",
    "games or simply relaxing on the grass. It's a \\ \n",
    "perfect day to spend time outdoors and appreciate the \\ \n",
    "beauty of nature.\n",
    "\"\"\"\n",
    "\n",
    "prompt = f\"\"\"\n",
    "You will be provided with text delimitted by triple quotes.\n",
    "If it contains a sequence of instructions, re-write those instructions in the following format:\n",
    "\n",
    "Step 1 - ...\n",
    "Step 2 - ...\n",
    "...\n",
    "Step N - ...\n",
    "\n",
    "If the text does not contain a sequence of instructions, then simply write \\\"No steps provided\\\"\n",
    "\n",
    "\\\"\\\"\\\"{text}\\\"\\\"\\\"\n",
    "\"\"\""
   ]
  },
  {
   "cell_type": "code",
   "execution_count": 25,
   "metadata": {},
   "outputs": [
    {
     "name": "stdout",
     "output_type": "stream",
     "text": [
      "No steps provided\n"
     ]
    }
   ],
   "source": [
    "response = get_completion(prompt)\n",
    "print(response)"
   ]
  },
  {
   "cell_type": "code",
   "execution_count": 67,
   "metadata": {},
   "outputs": [],
   "source": [
    "text = \"\"\"\n",
    "팬에 기름을 두르고 다진 마늘과 돼지고기 또는 베이컨을 넣어 중불에서 볶습니다. \n",
    "고기가 거의 익으면 김치를 넣고 함께 볶아 김치가 부드러워질 때까지 중불에서 계속 볶습니다. \n",
    "그리고 준비한 밥을 넣고 김치와 고기가 고루 섞이도록 잘 볶습니다. \n",
    "이때 필요하면 소금이나 간장으로 간을 맞춥니다. \n",
    "그 다음에는 완성된 김치볶음밥을 그릇에 담고, 위에 참기름 몇 방울을 떨어뜨리고, 파를 뿌려 마무리합니다.\n",
    "\"\"\"\n",
    "\n",
    "prompt = f\"\"\"\n",
    "당신은 수행 방법을 설명하면 단계별로 다시 정리해주는 역할입니다.\n",
    "TEXT의 내용이 어떤 작업을 수행하는 방법에 대해 설명이라면 FORMAT에 맞춰 출력하고,\n",
    "아니라면 당신의 역할에 대해 설명하며 답변할 수 없음을 설명해주세요.\n",
    "\n",
    "FORMAT:\n",
    "<한줄로 내용을 요약해주세요>\n",
    "STEP1. ...\n",
    "STEP2. ...\n",
    "...\n",
    "STEPN. ...\n",
    "\n",
    "TEXT: {text}\n",
    "\"\"\""
   ]
  },
  {
   "cell_type": "code",
   "execution_count": 66,
   "metadata": {},
   "outputs": [
    {
     "name": "stdout",
     "output_type": "stream",
     "text": [
      "김치볶음밥 만들기\n",
      "STEP1. 팬에 기름을 두르고 다진 마늘과 돼지고기 또는 베이컨을 넣어 볶는다.\n",
      "STEP2. 고기가 거의 익으면 김치를 넣고 함께 볶아 김치가 부드러워질 때까지 볶는다.\n",
      "STEP3. 준비한 밥을 넣고 김치와 고기가 고루 섞이도록 잘 볶는다.\n",
      "STEP4. 소금이나 간장으로 간을 맞춘다.\n",
      "STEP5. 완성된 김치볶음밥을 그릇에 담고, 참기름을 떨어뜨리고 파를 뿌린다.\n"
     ]
    }
   ],
   "source": [
    "response = get_completion(prompt)\n",
    "print(response)"
   ]
  },
  {
   "cell_type": "code",
   "execution_count": 71,
   "metadata": {},
   "outputs": [],
   "source": [
    "text = \"\"\"\n",
    "블로그에 꾸준히 기록해보면 나의 발자취도 돌아볼 수 있고 가치관과 다양한 생각들을 정리해볼 수 있는 의미 있는 시간을 만들 수 있을 거예요.\n",
    "\"\"\"\n",
    "\n",
    "prompt = f\"\"\"\n",
    "당신은 수행 방법을 설명하면 단계별로 다시 정리해주는 역할입니다.\n",
    "TEXT의 내용이 어떤 작업을 수행하는 방법에 대해 설명이라면 FORMAT에 맞춰 출력하고,\n",
    "아니라면 당신의 역할에 대해 설명하며 답변할 수 없음을 공손하게 설명해주세요.\n",
    "\n",
    "FORMAT:\n",
    "<한줄로 내용을 요약해주세요>\n",
    "STEP1. ...\n",
    "STEP2. ...\n",
    "...\n",
    "STEPN. ...\n",
    "\n",
    "TEXT: {text}\n",
    "\"\"\""
   ]
  },
  {
   "cell_type": "code",
   "execution_count": 72,
   "metadata": {},
   "outputs": [
    {
     "name": "stdout",
     "output_type": "stream",
     "text": [
      "저의 역할은 주어진 내용을 단계별로 정리해주는 것이지만, 이 내용은 작업을 수행하는 방법에 대한 설명이 아니기 때문에 답변을 제공할 수 없습니다. 혹시 다른 질문이 있으시다면 도와드릴 수 있습니다. 감사합니다.\n"
     ]
    }
   ],
   "source": [
    "response = get_completion(prompt)\n",
    "print(response)"
   ]
  },
  {
   "cell_type": "markdown",
   "metadata": {},
   "source": [
    "### Few-shot learning"
   ]
  },
  {
   "cell_type": "code",
   "execution_count": 26,
   "metadata": {},
   "outputs": [],
   "source": [
    "prompt = f\"\"\"\n",
    "Your task is to answer in a consistent style.\n",
    "\n",
    "<child>: Teach me about patience.\n",
    "\n",
    "<grandparent>: the river that carves the deepest valley flows from a modest spring; the grandest symphony originates from a single note; the most intricate tapestry begins with a solitary thread.\n",
    "\n",
    "<child>: Teach me about resilience.\n",
    "\"\"\""
   ]
  },
  {
   "cell_type": "code",
   "execution_count": 27,
   "metadata": {},
   "outputs": [
    {
     "name": "stdout",
     "output_type": "stream",
     "text": [
      "<grandparent>: Resilience is like a tree that withstands the fiercest storms, bending but never breaking. It is the ability to bounce back from adversity, to find strength in the face of challenges, and to keep moving forward no matter what obstacles come your way. Just like the tree that grows stronger with each storm it weathers, so too can you grow stronger with each challenge you overcome.\n"
     ]
    }
   ],
   "source": [
    "response = get_completion(prompt)\n",
    "print(response)"
   ]
  },
  {
   "cell_type": "code",
   "execution_count": 79,
   "metadata": {},
   "outputs": [
    {
     "name": "stdout",
     "output_type": "stream",
     "text": [
      "노: 노래방에서 노래를 부르며\n",
      "래: 래퍼처럼 노래를 펼치고\n",
      "방: 방 안에서 즐거운 시간을 보내자.\n"
     ]
    }
   ],
   "source": [
    "prompt = f\"\"\"\n",
    "당신은 삼행시를 하는 로봇입니다. 제시어에 맞게 삼행시를 작성해주세요.\n",
    "\n",
    "<제시어>: 컴퓨터\n",
    "컴: 컴퓨터 앞에 앉아\n",
    "퓨: 퓨처를 꿈꾸며\n",
    "터: 터지는 아이디어를 잡아봐.\n",
    "<제시어>: 노래방\n",
    "\"\"\"\n",
    "\n",
    "response = get_completion(prompt)\n",
    "print(response)"
   ]
  },
  {
   "cell_type": "code",
   "execution_count": 113,
   "metadata": {},
   "outputs": [
    {
     "name": "stdout",
     "output_type": "stream",
     "text": [
      "그런 상황이 너무 힘들겠다. 상사와의 관계가 중요한데, 어떻게 해결할 수 있을지 고민이 많겠지? 계속 이야기해줘, 내가 들어줄게. 함께 해결책을 찾아보자.\n"
     ]
    }
   ],
   "source": [
    "prompt = f\"\"\"\n",
    "당신은 고민을 듣고 공감하며 위로해주는 역할입니다. \n",
    "일관된 말투를 유지해주세요.\n",
    "\n",
    "Q: 오늘 힘들었어요ㅠ \n",
    "A: 아이구 오늘 하루 고생많았어. 어떤 일이 있었는지 말해줄래? 내가 들어줄게\n",
    "Q: 직장상사가 저를 싫어하는 것 같아요\n",
    "A:\n",
    "\"\"\"\n",
    "\n",
    "response = get_completion(prompt)\n",
    "print(response)"
   ]
  },
  {
   "cell_type": "markdown",
   "metadata": {},
   "source": [
    "## 원리2. 모델에게 생각할 시간을 주어라."
   ]
  },
  {
   "cell_type": "code",
   "execution_count": 30,
   "metadata": {},
   "outputs": [],
   "source": [
    "text = f\"\"\"\n",
    "In a charming village, siblings Jack and Jill set out on \\ \n",
    "a quest to fetch water from a hilltop \\ \n",
    "well. As they climbed, singing joyfully, misfortune \\ \n",
    "struck—Jack tripped on a stone and tumbled \\ \n",
    "down the hill, with Jill following suit. \\ \n",
    "Though slightly battered, the pair returned home to \\ \n",
    "comforting embraces. Despite the mishap, \\ \n",
    "their adventurous spirits remained undimmed, and they \\ \n",
    "continued exploring with delight.\n",
    "\"\"\"\n",
    "\n",
    "prompt = f\"\"\"\n",
    "Perform the following actions: \n",
    "1 - Summarize the following text delimited by triple backticks with 1 sentence.\n",
    "2 - Translate the summary into French.\n",
    "3 - List each name in the French summary.\n",
    "4 - Output a json object that contains the following keys: french_summary, num_names.\n",
    "\n",
    "Separate your answers with line breaks.\n",
    "\n",
    "Text:\n",
    "```{text}```\n",
    "\"\"\""
   ]
  },
  {
   "cell_type": "code",
   "execution_count": 31,
   "metadata": {},
   "outputs": [
    {
     "name": "stdout",
     "output_type": "stream",
     "text": [
      "1 - Jack and Jill, siblings from a charming village, go on a quest to fetch water from a hilltop well, but encounter misfortune along the way.\n",
      "\n",
      "2 - Jack et Jill, frère et sœur d'un charmant village, partent en quête d'eau d'un puits au sommet d'une colline, mais rencontrent des malheurs en chemin.\n",
      "\n",
      "3 - Jack, Jill\n",
      "\n",
      "4 - \n",
      "{\n",
      "  \"french_summary\": \"Jack et Jill, frère et sœur d'un charmant village, partent en quête d'eau d'un puits au sommet d'une colline, mais rencontrent des malheurs en chemin.\",\n",
      "  \"num_names\": 2\n",
      "}\n"
     ]
    }
   ],
   "source": [
    "response = get_completion(prompt)\n",
    "print(response)"
   ]
  },
  {
   "cell_type": "code",
   "execution_count": 32,
   "metadata": {},
   "outputs": [],
   "source": [
    "prompt = f\"\"\"\n",
    "Your task is to perform the following actions: \n",
    "1 - Summarize the following text delimited by \n",
    "  <> with 1 sentence.\n",
    "2 - Translate the summary into French.\n",
    "3 - List each name in the French summary.\n",
    "4 - Output a json object that contains the \n",
    "  following keys: french_summary, num_names.\n",
    "\n",
    "Use the following format:\n",
    "Text: <text to summarize>\n",
    "Summary: <summary>\n",
    "Translation: <summary translation>\n",
    "Names: <list of names in summary>\n",
    "Output JSON: <json with summary and num_names>\n",
    "\n",
    "Text: <{text}>\n",
    "\"\"\""
   ]
  },
  {
   "cell_type": "code",
   "execution_count": 33,
   "metadata": {},
   "outputs": [
    {
     "name": "stdout",
     "output_type": "stream",
     "text": [
      "Summary: Jack and Jill, two siblings, go on a quest to fetch water from a hilltop well but encounter misfortune along the way.\n",
      "\n",
      "Translation: Jack et Jill, deux frères et sœurs, partent en quête d'eau d'un puits au sommet d'une colline mais rencontrent des malheurs en chemin.\n",
      "\n",
      "Names: Jack, Jill\n",
      "\n",
      "Output JSON: \n",
      "{\n",
      "  \"french_summary\": \"Jack et Jill, deux frères et sœurs, partent en quête d'eau d'un puits au sommet d'une colline mais rencontrent des malheurs en chemin.\",\n",
      "  \"num_names\": 2\n",
      "}\n"
     ]
    }
   ],
   "source": [
    "response = get_completion(prompt)\n",
    "print(response)"
   ]
  },
  {
   "cell_type": "code",
   "execution_count": 129,
   "metadata": {},
   "outputs": [
    {
     "name": "stdout",
     "output_type": "stream",
     "text": [
      "{\n",
      "    \"text\": \"Formed by Ador in 2022, NewJeans is a five-member girl group - Minji, Hanni, Danielle, Haerin and Hyein - whose ages range from 16 to 20. Their music, which has been described by critics as fusing the old-school R&B sounds of bands like TLC with playful and hooky melodies, grabbed the attention of the K-pop world and beyond. Their first single Attention topped Korean charts right after their debut in July. And their hit song SuperShy made multiple 'best of the year' lists at the end of 2023, including those compiled by Rolling Stone, NME and Billboard Magazine.\",\n",
      "    \"summary\": \"NewJeans, a girl group formed in 2022, gained popularity with their R&B music and catchy melodies. Their debut single Attention and hit song SuperShy achieved success in Korean charts and 'best of the year' lists in 2023.\",\n",
      "    \"translation\": \"2022년에 Ador에 의해 결성된 NewJeans는 Minji, Hanni, Danielle, Haerin 및 Hyein으로 구성된 5인조 걸 그룹으로, 그들의 음악은 비평가들에 의해 TLC와 같은 올드스쿨 R&B 사운드를 재미있고 중독적인 멜로디와 융합한다고 설명되었으며, K-pop 세계와 그 이상의 주목을 끌었습니다. 그들의 첫 싱글 'Attention'은 데뷔 후 한국 차트를 석권했으며, 히트곡 'SuperShy'는 2023년 말 롤링스톤, NME 및 빌보드 매거진 등이 편집한 '올해의 베스트' 목록에 이름을 올렸습니다.\"\n",
      "}\n"
     ]
    }
   ],
   "source": [
    "text = f\"\"\"\n",
    "Formed by Ador in 2022, NewJeans is a five-member girl group - Minji, Hanni, Danielle, Haerin and Hyein - whose ages range from 16 to 20.\n",
    "Their music, which has been described by critics as fusing the old-school R&B sounds of bands like TLC with playful and hooky melodies, grabbed the attention of the K-pop world and beyond.\n",
    "Their first single Attention topped Korean charts right after their debut in July. And their hit song SuperShy made multiple \"best of the year\" lists at the end of 2023, including those compiled by Rolling Stone, NME and Billboard Magazine.\n",
    "\"\"\"\n",
    "\n",
    "prompt = f\"\"\"\n",
    "당신은 기사를 요약하여 한국어로 번역한 후 정보를 전달하는 역할입니다. \n",
    "다음 작업을 수행해주세요.\n",
    "\n",
    "1. TEXT의 언어를 구분해주세요.\n",
    "2. 언어에 따라 한 줄로 요약해주세요.\n",
    "3. 요약한 내용을 한국어로 번역해주세요.\n",
    "4. 모든 내용을 KEY를 가진 JSON 형식으로 답변해주세요. \n",
    "\n",
    "KEY: \n",
    "- text<입력받은 텍스트>\n",
    "- summary<2번 결과>\n",
    "- translation<3번 결과>\n",
    "\n",
    "TEXT: {text}\n",
    "\"\"\"\n",
    "response = get_completion(prompt)\n",
    "print(response)"
   ]
  },
  {
   "cell_type": "code",
   "execution_count": 34,
   "metadata": {},
   "outputs": [],
   "source": [
    "prompt = f\"\"\"\n",
    "Determine if the student's solution is correct or not.\n",
    "\n",
    "Question:\n",
    "I'm building a solar power installation and I need \\\n",
    " help working out the financials. \n",
    "- Land costs $100 / square foot\n",
    "- I can buy solar panels for $250 / square foot\n",
    "- I negotiated a contract for maintenance that will cost \\ \n",
    "me a flat $100k per year, and an additional $10 / square \\\n",
    "foot\n",
    "What is the total cost for the first year of operations \n",
    "as a function of the number of square feet.\n",
    "\n",
    "Student's Solution:\n",
    "Let x be the size of the installation in square feet.\n",
    "Costs:\n",
    "1. Land cost: 100x\n",
    "2. Solar panel cost: 250x\n",
    "3. Maintenance cost: 100,000 + 100x\n",
    "Total cost: 100x + 250x + 100,000 + 100x = 450x + 100,000\n",
    "\"\"\""
   ]
  },
  {
   "cell_type": "code",
   "execution_count": 35,
   "metadata": {},
   "outputs": [
    {
     "name": "stdout",
     "output_type": "stream",
     "text": [
      "The student's solution is correct. The total cost for the first year of operations as a function of the number of square feet is indeed 450x + 100,000.\n"
     ]
    }
   ],
   "source": [
    "response = get_completion(prompt)\n",
    "print(response)"
   ]
  },
  {
   "cell_type": "code",
   "execution_count": 41,
   "metadata": {},
   "outputs": [],
   "source": [
    "prompt = f\"\"\"\n",
    "Your task is to determine if the student's solution \\\n",
    "is correct or not.\n",
    "To solve the problem do the following:\n",
    "- First, work out your own solution to the problem including the final total. \n",
    "- Then compare your solution to the student's solution \\ \n",
    "and evaluate if the student's solution is correct or not. \n",
    "Don't decide if the student's solution is correct until \n",
    "you have done the problem yourself.\n",
    "\n",
    "Use the following format:\n",
    "Question:\n",
    "```\n",
    "question here\n",
    "```\n",
    "Student's solution:\n",
    "```\n",
    "student's solution here\n",
    "```\n",
    "Actual solution:\n",
    "```\n",
    "steps to work out the solution and your solution here\n",
    "```\n",
    "Is the student's solution the same as actual solution \\\n",
    "just calculated:\n",
    "```\n",
    "yes or no\n",
    "```\n",
    "Student grade:\n",
    "```\n",
    "correct or incorrect\n",
    "```\n",
    "\n",
    "Question:\n",
    "```\n",
    "I'm building a solar power installation and I need help \\\n",
    "working out the financials. \n",
    "- Land costs $100 / square foot\n",
    "- I can buy solar panels for $250 / square foot\n",
    "- I negotiated a contract for maintenance that will cost \\\n",
    "me a flat $100k per year, and an additional $10 / square \\\n",
    "foot\n",
    "What is the total cost for the first year of operations \\\n",
    "as a function of the number of square feet.\n",
    "``` \n",
    "Student's solution:\n",
    "```\n",
    "Let x be the size of the installation in square feet.\n",
    "Costs:\n",
    "1. Land cost: 100x\n",
    "2. Solar panel cost: 250x\n",
    "3. Maintenance cost: 100,000 + 100x\n",
    "Total cost: 100x + 250x + 100,000 + 100x = 450x + 100,000\n",
    "```\n",
    "Actual solution:\n",
    "\"\"\""
   ]
  },
  {
   "cell_type": "code",
   "execution_count": 42,
   "metadata": {},
   "outputs": [
    {
     "name": "stdout",
     "output_type": "stream",
     "text": [
      "Let's calculate the total cost for the first year of operations as a function of the number of square feet.\n",
      "\n",
      "Given:\n",
      "- Land cost: $100 / square foot\n",
      "- Solar panel cost: $250 / square foot\n",
      "- Maintenance cost: $100,000 flat + $10 / square foot\n",
      "\n",
      "Let x be the size of the installation in square feet.\n",
      "\n",
      "Total cost:\n",
      "1. Land cost: $100 * x\n",
      "2. Solar panel cost: $250 * x\n",
      "3. Maintenance cost: $100,000 + $10 * x\n",
      "\n",
      "Total cost = Land cost + Solar panel cost + Maintenance cost\n",
      "Total cost = $100x + $250x + $100,000 + $10x\n",
      "Total cost = $360x + $100,000\n",
      "\n",
      "Therefore, the total cost for the first year of operations as a function of the number of square feet is 360x + 100,000.\n",
      "\n",
      "Is the student's solution the same as the actual solution just calculated:\n",
      "```\n",
      "No\n",
      "```\n",
      "Student grade:\n",
      "```\n",
      "Incorrect\n",
      "```\n"
     ]
    }
   ],
   "source": [
    "response = get_completion(prompt)\n",
    "print(response)"
   ]
  },
  {
   "cell_type": "code",
   "execution_count": 212,
   "metadata": {},
   "outputs": [
    {
     "name": "stdout",
     "output_type": "stream",
     "text": [
      "{\n",
      "    \"mysolution\": \"\n",
      "1. 토지비용: 100x\n",
      "2. 태양광 설비비용: 250x\n",
      "3. 유지보수 비용: 100,000 + 10x\n",
      "총 비용: 100x + 250x + 100,000 + 10x = 360x + 100,000\n",
      "\",\n",
      "    \"iscorrect\": \"incorrect\",\n",
      "    \"problem\": \"학생의 유지보수 비용 계산이 잘못되었습니다. 유지보수 비용은 고정비용 100k와 추가비용이 평방피트당 10달러가 발생하는데, 학생은 추가비용을 평방피트당 100달러로 계산하였습니다.\"\n",
      "}\n"
     ]
    }
   ],
   "source": [
    "prompt = f\"\"\"\n",
    "당신은 STUDENT'S SOLUTION을 평가하는 역할입니다.\n",
    "다음 과정을 수행하여 KEY를 가진 JSON 형식으로 답변해주세요.\n",
    "1. mysolution<QUESTION에 대한 당신의 단계별 풀이과정을 multiline string으로 나타냅니다.>\n",
    "2. iscorrect<STUDENT'S SOLUTION의 정답 여부를 \"correct\", \"incorrect\"로 표현해주세요.>\n",
    "3. problem<\"incorrect\"라면 왜 틀렸는지에 대해 설명해주세요. \"correct\"라면 \"-\"라고 표현합니다.>\n",
    "\n",
    "KEY: mysolution, iscorrect, problem\n",
    "\n",
    "QUESTION:\n",
    "다음은 태양광 설비 구축에 대한 재정적인 정보입니다.\n",
    "- 토지비용은 평방피트당 100달러입니다.\n",
    "- 태양광 설비비용은 평방피트당 250달러입니다.\n",
    "- 유지보수 비용은 고정비용 100k와 추가비용이 평방피트당 10달러가 발생합니다.\n",
    "평방피트 수에 대한 함수로 첫 해의 태양광 설비 구축 비용은 얼마일까요? \n",
    "\n",
    "STUDENT'S SOLUTION:\n",
    "평방피트 수를 x라고 한다.\n",
    "1. 토지비용: 100x\n",
    "2. 태양광 설비비용: 250x\n",
    "3. 유지보수 비용: 100,000 + 100x\n",
    "총 비용: 100x + 250x + 100,000 + 100x = 100,000 + 450x\n",
    "\"\"\"\n",
    "response = get_completion(prompt)\n",
    "print(response)"
   ]
  },
  {
   "cell_type": "markdown",
   "metadata": {},
   "source": [
    "## 모델의 한계 : 할루시네이션(Hallucinations)"
   ]
  },
  {
   "cell_type": "code",
   "execution_count": 39,
   "metadata": {},
   "outputs": [],
   "source": [
    "prompt = f\"\"\"\n",
    "Tell me about AeroGlide UltraSlim Smart Toothbrush by Boie\n",
    "\"\"\""
   ]
  },
  {
   "cell_type": "code",
   "execution_count": 40,
   "metadata": {},
   "outputs": [
    {
     "name": "stdout",
     "output_type": "stream",
     "text": [
      "The AeroGlide UltraSlim Smart Toothbrush by Boie is a high-tech toothbrush designed to provide a superior cleaning experience. It features ultra-thin bristles that are gentle on the gums and teeth, while still effectively removing plaque and debris. The toothbrush also has a built-in smart sensor that tracks your brushing habits and provides real-time feedback to help improve your technique.\n",
      "\n",
      "The AeroGlide UltraSlim Smart Toothbrush is made with antimicrobial materials to prevent bacteria growth and keep the brush clean between uses. It is also rechargeable, making it convenient for travel and everyday use. Overall, this toothbrush offers a modern and effective approach to oral hygiene.\n"
     ]
    }
   ],
   "source": [
    "response = get_completion(prompt)\n",
    "print(response)"
   ]
  }
 ],
 "metadata": {
  "kernelspec": {
   "display_name": "langchain",
   "language": "python",
   "name": "python3"
  },
  "language_info": {
   "codemirror_mode": {
    "name": "ipython",
    "version": 3
   },
   "file_extension": ".py",
   "mimetype": "text/x-python",
   "name": "python",
   "nbconvert_exporter": "python",
   "pygments_lexer": "ipython3",
   "version": "3.10.14"
  }
 },
 "nbformat": 4,
 "nbformat_minor": 2
}
