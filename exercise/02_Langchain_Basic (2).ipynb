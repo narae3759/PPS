{
 "cells": [
  {
   "cell_type": "markdown",
   "metadata": {},
   "source": [
    "# Settings"
   ]
  },
  {
   "cell_type": "code",
   "execution_count": 1,
   "metadata": {},
   "outputs": [],
   "source": [
    "from dotenv import load_dotenv\n",
    "import os\n",
    "\n",
    "# .env load \n",
    "load_dotenv()\n",
    "os.environ[\"LANGCHAIN_PROJECT\"] = \"default\"\n",
    "\n",
    "# check API KEY \n",
    "if \"OPENAI_API_KEY\" not in os.environ:\n",
    "    print(\"API KEY 정보가 없습니다. 확인 후 환경변수에 등록해주세요.\")"
   ]
  },
  {
   "cell_type": "markdown",
   "metadata": {},
   "source": [
    "# 1. LCEL"
   ]
  },
  {
   "cell_type": "code",
   "execution_count": 13,
   "metadata": {},
   "outputs": [
    {
     "name": "stdout",
     "output_type": "stream",
     "text": [
      "first=PromptTemplate(input_variables=['input'], template='{input}에 대해 한국어로 한 줄로 설명해줘') middle=[ChatOpenAI(client=<openai.resources.chat.completions.Completions object at 0x0000014E373C5060>, async_client=<openai.resources.chat.completions.AsyncCompletions object at 0x0000014E3741D750>, openai_api_key=SecretStr('**********'), openai_proxy='')] last=StrOutputParser()\n"
     ]
    }
   ],
   "source": [
    "from langchain_openai import ChatOpenAI \n",
    "from langchain_core.prompts import PromptTemplate\n",
    "from langchain_core.output_parsers import StrOutputParser\n",
    "\n",
    "prompt = PromptTemplate.from_template(\"{input}에 대해 한국어로 한 줄로 설명해줘\")\n",
    "model = ChatOpenAI(model_name = \"gpt-3.5-turbo\") \n",
    "output_parser = StrOutputParser()\n",
    "chain = prompt | model | output_parser\n",
    "print(chain)"
   ]
  },
  {
   "cell_type": "markdown",
   "metadata": {},
   "source": [
    "## 1) Method"
   ]
  },
  {
   "cell_type": "code",
   "execution_count": 26,
   "metadata": {},
   "outputs": [],
   "source": [
    "input_list = [\n",
    "    {\"input\": \"Python\"}, \n",
    "    {\"input\": \"JavaScript\"}, \n",
    "    {\"input\": \"TypeScript\"}, \n",
    "    {\"input\": \"Rust\"}, \n",
    "    {\"input\": \"Flutter\"}\n",
    "]"
   ]
  },
  {
   "cell_type": "markdown",
   "metadata": {},
   "source": [
    "### (1) invoke / ainvoke"
   ]
  },
  {
   "cell_type": "code",
   "execution_count": 27,
   "metadata": {},
   "outputs": [
    {
     "name": "stdout",
     "output_type": "stream",
     "text": [
      "Python은 간결하고 가독성이 높은 프로그래밍 언어로 다양한 분야에서 사용되는 인기 있는 언어이다.\n",
      "JavaScript는 웹페이지를 동적으로 제어하고 사용자와 상호작용하는 프로그래밍 언어이다.\n",
      "TypeScript는 자바스크립트의 확장된 버전으로 정적 타입을 지원하여 코드의 가독성과 유지보수성을 향상시켜주는 프로그래밍 언어이다.\n",
      "Rust는 안전하고 병렬 처리가 가능한 속도와 생산성을 갖춘 프로그래밍 언어이다.\n",
      "Flutter는 구글에서 개발한 모바일 앱 개발 프레임워크로, 하나의 코드베이스로 안드로이드와 iOS 앱을 동시에 개발할 수 있습니다.\n",
      "====================================================================================================\n",
      "Sync execution time: 7.13 seconds\n"
     ]
    }
   ],
   "source": [
    "import time \n",
    "\n",
    "def run_sync(input_list):\n",
    "    \"\"\"invoke 실행 함수\"\"\"\n",
    "    start_time = time.time()\n",
    "    for input in input_list:\n",
    "        result = chain.invoke(input)\n",
    "        print(result)\n",
    "    end_time = time.time()\n",
    "    print(\"=\"*100)\n",
    "    print(f\"Sync execution time: {end_time - start_time:.2f} seconds\")\n",
    "\n",
    "run_sync(input_list)\n"
   ]
  },
  {
   "cell_type": "code",
   "execution_count": 28,
   "metadata": {},
   "outputs": [
    {
     "name": "stdout",
     "output_type": "stream",
     "text": [
      "Async execution time: 1.58 seconds\n",
      "====================================================================================================\n",
      "Python은 간결하고 읽기 쉬운 문법을 가진 인기 있는 프로그래밍 언어이다.\n",
      "자바스크립트는 웹페이지를 동적으로 만들기 위한 프로그래밍 언어입니다.\n",
      "TypeScript는 자바스크립트의 확장된 버전으로 정적 타입을 지원하여 코드의 가독성과 유지보수성을 높여주는 프로그래밍 언어이다.\n",
      "Rust는 안전하고 병행성이 뛰어난 프로그래밍 언어로, 시스템 프로그래밍 및 웹 개발에 적합하다.\n",
      "Flutter는 구글에서 개발한 모바일 앱 개발 프레임워크로, 하나의 코드베이스로 안드로이드와 iOS 앱을 동시에 개발할 수 있도록 도와주는 도구이다.\n"
     ]
    }
   ],
   "source": [
    "import time \n",
    "import asyncio\n",
    "\n",
    "async def run_async(input_list):\n",
    "    \"\"\"ainvoke 실행 함수\"\"\"\n",
    "    start_time = time.time()\n",
    "    tasks = [chain.ainvoke(input) for input in input_list]\n",
    "    results = await asyncio.gather(*tasks)\n",
    "    end_time = time.time()\n",
    "    print(f\"Async execution time: {end_time - start_time:.2f} seconds\")\n",
    "    print(\"=\"*100)\n",
    "\n",
    "    for result in results:\n",
    "        print(result)\n",
    "\n",
    "await run_async(input_list)"
   ]
  },
  {
   "cell_type": "markdown",
   "metadata": {},
   "source": [
    "### (2) batch / abatch"
   ]
  },
  {
   "cell_type": "code",
   "execution_count": 39,
   "metadata": {},
   "outputs": [
    {
     "name": "stdout",
     "output_type": "stream",
     "text": [
      "Sync execution time: 1.78 seconds\n",
      "====================================================================================================\n",
      "Python은 간결하고 쉽게 배울 수 있는 프로그래밍 언어로 다양한 응용 프로그램을 개발할 수 있는 인기 있는 언어이다.\n",
      "JavaScript는 웹페이지를 동적으로 만들어주는 프로그래밍 언어로, 사용자와 상호작용하고 웹사이트의 기능을 개선하는 역할을 한다.\n",
      "TypeScript는 자바스크립트의 확장으로 타입 시스템을 갖춘 프로그래밍 언어이다.\n",
      "Rust는 안전하고 고성능의 프로그래밍 언어로, 시스템 수준의 소프트웨어 개발에 적합하며 메모리 안정성과 병행성을 강조한다.\n",
      "Flutter는 Google에서 개발한 모바일 애플리케이션 개발 프레임워크로, 하나의 코드베이스로 안드로이드 및 iOS 앱을 개발할 수 있는 플랫폼입니다.\n"
     ]
    }
   ],
   "source": [
    "# 동기 실행 코드 - batch\n",
    "import time\n",
    "\n",
    "def run_sync(input_list):\n",
    "    \"\"\"batch 실행 함수\"\"\"\n",
    "    start_time = time.time()\n",
    "    result = chain.batch(input_list)\n",
    "    end_time = time.time()\n",
    "    print(f\"Sync execution time: {end_time - start_time:.2f} seconds\")\n",
    "    print(\"=\"*100)\n",
    "    print(\"\\n\".join(result))\n",
    "\n",
    "run_sync(input_list)"
   ]
  },
  {
   "cell_type": "code",
   "execution_count": 38,
   "metadata": {},
   "outputs": [
    {
     "name": "stdout",
     "output_type": "stream",
     "text": [
      "Async execution time: 1.65 seconds\n",
      "====================================================================================================\n",
      "Python은 인간 친화적인 프로그래밍 언어로 다양한 응용 프로그램을 개발할 수 있는 간결하고 가독성이 좋은 언어입니다.\n",
      "JavaScript는 웹페이지를 동적으로 만들기 위한 프로그래밍 언어로, 웹 개발에서 가장 널리 사용되는 언어이다.\n",
      "TypeScript는 자바스크립트를 기반으로 한 정적 타입 언어로, 코드의 가독성과 유지보수성을 높이고 오류를 줄이는데 도움을 줍니다.\n",
      "Rust는 안전하고 속도가 빠른 프로그래밍 언어로, 메모리 안정성과 병행성을 강조하여 안정적이고 효율적인 시스템 소프트웨어를 개발하는 데 사용된다.\n",
      "Flutter는 구글이 개발한 모바일 앱 개발 프레임워크로, 하나의 코드베이스로 안드로이드 및 iOS 앱을 개발할 수 있게 해주는 플랫폼이다.\n"
     ]
    }
   ],
   "source": [
    "# 비동기 실행 코드 - batch\n",
    "import time\n",
    "import asyncio \n",
    "\n",
    "async def run_async():\n",
    "    \"\"\"abatch 실행 함수\"\"\"\n",
    "    start_time = time.time()\n",
    "    tasks = chain.abatch(input_list)\n",
    "    result = await tasks\n",
    "    end_time = time.time()\n",
    "    print(f\"Async execution time: {end_time - start_time:.2f} seconds\")\n",
    "    print(\"=\"*100)\n",
    "    print(\"\\n\".join(result))\n",
    "\n",
    "await run_async()"
   ]
  },
  {
   "cell_type": "markdown",
   "metadata": {},
   "source": [
    "### (3) stream / astream"
   ]
  },
  {
   "cell_type": "code",
   "execution_count": 40,
   "metadata": {},
   "outputs": [
    {
     "data": {
      "text/plain": [
       "<generator object RunnableSequence.stream at 0x0000014E37FB6650>"
      ]
     },
     "execution_count": 40,
     "metadata": {},
     "output_type": "execute_result"
    }
   ],
   "source": [
    "chain.stream({\"input\":\"파이썬\"}) # generator로 출력되는 것을 확인"
   ]
  },
  {
   "cell_type": "code",
   "execution_count": 42,
   "metadata": {},
   "outputs": [
    {
     "name": "stdout",
     "output_type": "stream",
     "text": [
      "파이썬은 간결하고 읽기 쉬운 문법으로 다양한 애플리케이션을 개발할 수 있는 프로그래밍 언어이다."
     ]
    }
   ],
   "source": [
    "for chunk in chain.stream({\"input\":\"파이썬\"}):\n",
    "    print(chunk, end=\"\", flush=True)"
   ]
  },
  {
   "cell_type": "code",
   "execution_count": 43,
   "metadata": {},
   "outputs": [
    {
     "name": "stdout",
     "output_type": "stream",
     "text": [
      "파이썬은 간단하고 배우기 쉬운 프로그래밍 언어로 다양한 용도로 활용되는데, 특히 데이터 분석, 인공지능 및 웹 개발에 널리 사용됩니다."
     ]
    }
   ],
   "source": [
    "async for chunk in chain.astream({\"input\":\"파이썬\"}):\n",
    "    print(chunk, end=\"\", flush=True)"
   ]
  },
  {
   "cell_type": "markdown",
   "metadata": {},
   "source": [
    "### (4) astream_log"
   ]
  },
  {
   "cell_type": "code",
   "execution_count": 44,
   "metadata": {},
   "outputs": [
    {
     "name": "stdout",
     "output_type": "stream",
     "text": [
      "RunLogPatch({'op': 'replace',\n",
      "  'path': '',\n",
      "  'value': {'final_output': None,\n",
      "            'id': '7e312a61-7190-46b7-8f04-c88ab333f58d',\n",
      "            'logs': {},\n",
      "            'name': 'RunnableSequence',\n",
      "            'streamed_output': [],\n",
      "            'type': 'chain'}})\n",
      "==================================================\n",
      "RunLogPatch({'op': 'add',\n",
      "  'path': '/logs/PromptTemplate',\n",
      "  'value': {'end_time': None,\n",
      "            'final_output': None,\n",
      "            'id': 'aec36f3d-a8ea-4b51-8c74-e0ab0d56b3b6',\n",
      "            'metadata': {},\n",
      "            'name': 'PromptTemplate',\n",
      "            'start_time': '2024-06-27T01:56:14.017+00:00',\n",
      "            'streamed_output': [],\n",
      "            'streamed_output_str': [],\n",
      "            'tags': ['seq:step:1'],\n",
      "            'type': 'prompt'}})\n",
      "==================================================\n",
      "RunLogPatch({'op': 'add',\n",
      "  'path': '/logs/PromptTemplate/final_output',\n",
      "  'value': StringPromptValue(text='파이썬에 대해 한국어로 한 줄로 설명해줘')},\n",
      " {'op': 'add',\n",
      "  'path': '/logs/PromptTemplate/end_time',\n",
      "  'value': '2024-06-27T01:56:14.023+00:00'})\n",
      "==================================================\n",
      "RunLogPatch({'op': 'add',\n",
      "  'path': '/logs/ChatOpenAI',\n",
      "  'value': {'end_time': None,\n",
      "            'final_output': None,\n",
      "            'id': 'b0736693-8368-4871-8021-62c6c0f3255f',\n",
      "            'metadata': {},\n",
      "            'name': 'ChatOpenAI',\n",
      "            'start_time': '2024-06-27T01:56:14.030+00:00',\n",
      "            'streamed_output': [],\n",
      "            'streamed_output_str': [],\n",
      "            'tags': ['seq:step:2'],\n",
      "            'type': 'llm'}})\n",
      "==================================================\n",
      "RunLogPatch({'op': 'add', 'path': '/logs/ChatOpenAI/streamed_output_str/-', 'value': ''},\n",
      " {'op': 'add',\n",
      "  'path': '/logs/ChatOpenAI/streamed_output/-',\n",
      "  'value': AIMessageChunk(content='', id='run-b0736693-8368-4871-8021-62c6c0f3255f')})\n",
      "==================================================\n",
      "RunLogPatch({'op': 'add',\n",
      "  'path': '/logs/StrOutputParser',\n",
      "  'value': {'end_time': None,\n",
      "            'final_output': None,\n",
      "            'id': '202ac825-a78c-47c7-bf02-bbe3e8e3b798',\n",
      "            'metadata': {},\n",
      "            'name': 'StrOutputParser',\n",
      "            'start_time': '2024-06-27T01:56:14.866+00:00',\n",
      "            'streamed_output': [],\n",
      "            'streamed_output_str': [],\n",
      "            'tags': ['seq:step:3'],\n",
      "            'type': 'parser'}})\n",
      "==================================================\n",
      "RunLogPatch({'op': 'add', 'path': '/logs/StrOutputParser/streamed_output/-', 'value': ''})\n",
      "==================================================\n",
      "RunLogPatch({'op': 'add', 'path': '/streamed_output/-', 'value': ''},\n",
      " {'op': 'replace', 'path': '/final_output', 'value': ''})\n",
      "==================================================\n",
      "RunLogPatch({'op': 'add', 'path': '/logs/ChatOpenAI/streamed_output_str/-', 'value': '파'},\n",
      " {'op': 'add',\n",
      "  'path': '/logs/ChatOpenAI/streamed_output/-',\n",
      "  'value': AIMessageChunk(content='파', id='run-b0736693-8368-4871-8021-62c6c0f3255f')})\n",
      "==================================================\n",
      "RunLogPatch({'op': 'add', 'path': '/logs/StrOutputParser/streamed_output/-', 'value': '파'})\n",
      "==================================================\n",
      "RunLogPatch({'op': 'add', 'path': '/streamed_output/-', 'value': '파'},\n",
      " {'op': 'replace', 'path': '/final_output', 'value': '파'})\n",
      "==================================================\n",
      "RunLogPatch({'op': 'add', 'path': '/logs/ChatOpenAI/streamed_output_str/-', 'value': '이'},\n",
      " {'op': 'add',\n",
      "  'path': '/logs/ChatOpenAI/streamed_output/-',\n",
      "  'value': AIMessageChunk(content='이', id='run-b0736693-8368-4871-8021-62c6c0f3255f')})\n",
      "==================================================\n",
      "RunLogPatch({'op': 'add', 'path': '/logs/StrOutputParser/streamed_output/-', 'value': '이'})\n",
      "==================================================\n",
      "RunLogPatch({'op': 'add', 'path': '/streamed_output/-', 'value': '이'},\n",
      " {'op': 'replace', 'path': '/final_output', 'value': '파이'})\n",
      "==================================================\n",
      "RunLogPatch({'op': 'add', 'path': '/logs/ChatOpenAI/streamed_output_str/-', 'value': '썬'},\n",
      " {'op': 'add',\n",
      "  'path': '/logs/ChatOpenAI/streamed_output/-',\n",
      "  'value': AIMessageChunk(content='썬', id='run-b0736693-8368-4871-8021-62c6c0f3255f')})\n",
      "==================================================\n",
      "RunLogPatch({'op': 'add', 'path': '/logs/StrOutputParser/streamed_output/-', 'value': '썬'})\n",
      "==================================================\n",
      "RunLogPatch({'op': 'add', 'path': '/streamed_output/-', 'value': '썬'},\n",
      " {'op': 'replace', 'path': '/final_output', 'value': '파이썬'})\n",
      "==================================================\n",
      "RunLogPatch({'op': 'add', 'path': '/logs/ChatOpenAI/streamed_output_str/-', 'value': '은'},\n",
      " {'op': 'add',\n",
      "  'path': '/logs/ChatOpenAI/streamed_output/-',\n",
      "  'value': AIMessageChunk(content='은', id='run-b0736693-8368-4871-8021-62c6c0f3255f')})\n",
      "==================================================\n",
      "RunLogPatch({'op': 'add', 'path': '/logs/StrOutputParser/streamed_output/-', 'value': '은'})\n",
      "==================================================\n",
      "RunLogPatch({'op': 'add', 'path': '/streamed_output/-', 'value': '은'},\n",
      " {'op': 'replace', 'path': '/final_output', 'value': '파이썬은'})\n",
      "==================================================\n",
      "RunLogPatch({'op': 'add', 'path': '/logs/ChatOpenAI/streamed_output_str/-', 'value': ' 간'},\n",
      " {'op': 'add',\n",
      "  'path': '/logs/ChatOpenAI/streamed_output/-',\n",
      "  'value': AIMessageChunk(content=' 간', id='run-b0736693-8368-4871-8021-62c6c0f3255f')})\n",
      "==================================================\n",
      "RunLogPatch({'op': 'add',\n",
      "  'path': '/logs/StrOutputParser/streamed_output/-',\n",
      "  'value': ' 간'})\n",
      "==================================================\n",
      "RunLogPatch({'op': 'add', 'path': '/streamed_output/-', 'value': ' 간'},\n",
      " {'op': 'replace', 'path': '/final_output', 'value': '파이썬은 간'})\n",
      "==================================================\n",
      "RunLogPatch({'op': 'add', 'path': '/logs/ChatOpenAI/streamed_output_str/-', 'value': '결'},\n",
      " {'op': 'add',\n",
      "  'path': '/logs/ChatOpenAI/streamed_output/-',\n",
      "  'value': AIMessageChunk(content='결', id='run-b0736693-8368-4871-8021-62c6c0f3255f')})\n",
      "==================================================\n",
      "RunLogPatch({'op': 'add', 'path': '/logs/StrOutputParser/streamed_output/-', 'value': '결'})\n",
      "==================================================\n",
      "RunLogPatch({'op': 'add', 'path': '/streamed_output/-', 'value': '결'},\n",
      " {'op': 'replace', 'path': '/final_output', 'value': '파이썬은 간결'})\n",
      "==================================================\n",
      "RunLogPatch({'op': 'add', 'path': '/logs/ChatOpenAI/streamed_output_str/-', 'value': '하'},\n",
      " {'op': 'add',\n",
      "  'path': '/logs/ChatOpenAI/streamed_output/-',\n",
      "  'value': AIMessageChunk(content='하', id='run-b0736693-8368-4871-8021-62c6c0f3255f')})\n",
      "==================================================\n",
      "RunLogPatch({'op': 'add', 'path': '/logs/StrOutputParser/streamed_output/-', 'value': '하'})\n",
      "==================================================\n",
      "RunLogPatch({'op': 'add', 'path': '/streamed_output/-', 'value': '하'},\n",
      " {'op': 'replace', 'path': '/final_output', 'value': '파이썬은 간결하'})\n",
      "==================================================\n",
      "RunLogPatch({'op': 'add', 'path': '/logs/ChatOpenAI/streamed_output_str/-', 'value': '고'},\n",
      " {'op': 'add',\n",
      "  'path': '/logs/ChatOpenAI/streamed_output/-',\n",
      "  'value': AIMessageChunk(content='고', id='run-b0736693-8368-4871-8021-62c6c0f3255f')})\n",
      "==================================================\n",
      "RunLogPatch({'op': 'add', 'path': '/logs/StrOutputParser/streamed_output/-', 'value': '고'})\n",
      "==================================================\n",
      "RunLogPatch({'op': 'add', 'path': '/streamed_output/-', 'value': '고'},\n",
      " {'op': 'replace', 'path': '/final_output', 'value': '파이썬은 간결하고'})\n",
      "==================================================\n",
      "RunLogPatch({'op': 'add', 'path': '/logs/ChatOpenAI/streamed_output_str/-', 'value': ' 쉽'},\n",
      " {'op': 'add',\n",
      "  'path': '/logs/ChatOpenAI/streamed_output/-',\n",
      "  'value': AIMessageChunk(content=' 쉽', id='run-b0736693-8368-4871-8021-62c6c0f3255f')})\n",
      "==================================================\n",
      "RunLogPatch({'op': 'add',\n",
      "  'path': '/logs/StrOutputParser/streamed_output/-',\n",
      "  'value': ' 쉽'})\n",
      "==================================================\n",
      "RunLogPatch({'op': 'add', 'path': '/streamed_output/-', 'value': ' 쉽'},\n",
      " {'op': 'replace', 'path': '/final_output', 'value': '파이썬은 간결하고 쉽'})\n",
      "==================================================\n",
      "RunLogPatch({'op': 'add', 'path': '/logs/ChatOpenAI/streamed_output_str/-', 'value': '게'},\n",
      " {'op': 'add',\n",
      "  'path': '/logs/ChatOpenAI/streamed_output/-',\n",
      "  'value': AIMessageChunk(content='게', id='run-b0736693-8368-4871-8021-62c6c0f3255f')})\n",
      "==================================================\n",
      "RunLogPatch({'op': 'add', 'path': '/logs/StrOutputParser/streamed_output/-', 'value': '게'})\n",
      "==================================================\n",
      "RunLogPatch({'op': 'add', 'path': '/streamed_output/-', 'value': '게'},\n",
      " {'op': 'replace', 'path': '/final_output', 'value': '파이썬은 간결하고 쉽게'})\n",
      "==================================================\n",
      "RunLogPatch({'op': 'add', 'path': '/logs/ChatOpenAI/streamed_output_str/-', 'value': ' 배'},\n",
      " {'op': 'add',\n",
      "  'path': '/logs/ChatOpenAI/streamed_output/-',\n",
      "  'value': AIMessageChunk(content=' 배', id='run-b0736693-8368-4871-8021-62c6c0f3255f')})\n",
      "==================================================\n",
      "RunLogPatch({'op': 'add',\n",
      "  'path': '/logs/StrOutputParser/streamed_output/-',\n",
      "  'value': ' 배'})\n",
      "==================================================\n",
      "RunLogPatch({'op': 'add', 'path': '/streamed_output/-', 'value': ' 배'},\n",
      " {'op': 'replace', 'path': '/final_output', 'value': '파이썬은 간결하고 쉽게 배'})\n",
      "==================================================\n",
      "RunLogPatch({'op': 'add', 'path': '/logs/ChatOpenAI/streamed_output_str/-', 'value': '울'},\n",
      " {'op': 'add',\n",
      "  'path': '/logs/ChatOpenAI/streamed_output/-',\n",
      "  'value': AIMessageChunk(content='울', id='run-b0736693-8368-4871-8021-62c6c0f3255f')})\n",
      "==================================================\n",
      "RunLogPatch({'op': 'add', 'path': '/logs/StrOutputParser/streamed_output/-', 'value': '울'})\n",
      "==================================================\n",
      "RunLogPatch({'op': 'add', 'path': '/streamed_output/-', 'value': '울'},\n",
      " {'op': 'replace', 'path': '/final_output', 'value': '파이썬은 간결하고 쉽게 배울'})\n",
      "==================================================\n",
      "RunLogPatch({'op': 'add', 'path': '/logs/ChatOpenAI/streamed_output_str/-', 'value': ' 수'},\n",
      " {'op': 'add',\n",
      "  'path': '/logs/ChatOpenAI/streamed_output/-',\n",
      "  'value': AIMessageChunk(content=' 수', id='run-b0736693-8368-4871-8021-62c6c0f3255f')})\n",
      "==================================================\n",
      "RunLogPatch({'op': 'add',\n",
      "  'path': '/logs/StrOutputParser/streamed_output/-',\n",
      "  'value': ' 수'})\n",
      "==================================================\n",
      "RunLogPatch({'op': 'add', 'path': '/streamed_output/-', 'value': ' 수'},\n",
      " {'op': 'replace', 'path': '/final_output', 'value': '파이썬은 간결하고 쉽게 배울 수'})\n",
      "==================================================\n",
      "RunLogPatch({'op': 'add',\n",
      "  'path': '/logs/ChatOpenAI/streamed_output_str/-',\n",
      "  'value': ' 있는'},\n",
      " {'op': 'add',\n",
      "  'path': '/logs/ChatOpenAI/streamed_output/-',\n",
      "  'value': AIMessageChunk(content=' 있는', id='run-b0736693-8368-4871-8021-62c6c0f3255f')})\n",
      "==================================================\n",
      "RunLogPatch({'op': 'add',\n",
      "  'path': '/logs/StrOutputParser/streamed_output/-',\n",
      "  'value': ' 있는'})\n",
      "==================================================\n",
      "RunLogPatch({'op': 'add', 'path': '/streamed_output/-', 'value': ' 있는'},\n",
      " {'op': 'replace', 'path': '/final_output', 'value': '파이썬은 간결하고 쉽게 배울 수 있는'})\n",
      "==================================================\n",
      "RunLogPatch({'op': 'add', 'path': '/logs/ChatOpenAI/streamed_output_str/-', 'value': ' 프'},\n",
      " {'op': 'add',\n",
      "  'path': '/logs/ChatOpenAI/streamed_output/-',\n",
      "  'value': AIMessageChunk(content=' 프', id='run-b0736693-8368-4871-8021-62c6c0f3255f')})\n",
      "==================================================\n",
      "RunLogPatch({'op': 'add',\n",
      "  'path': '/logs/StrOutputParser/streamed_output/-',\n",
      "  'value': ' 프'})\n",
      "==================================================\n",
      "RunLogPatch({'op': 'add', 'path': '/streamed_output/-', 'value': ' 프'},\n",
      " {'op': 'replace', 'path': '/final_output', 'value': '파이썬은 간결하고 쉽게 배울 수 있는 프'})\n",
      "==================================================\n",
      "RunLogPatch({'op': 'add', 'path': '/logs/ChatOpenAI/streamed_output_str/-', 'value': '로그'},\n",
      " {'op': 'add',\n",
      "  'path': '/logs/ChatOpenAI/streamed_output/-',\n",
      "  'value': AIMessageChunk(content='로그', id='run-b0736693-8368-4871-8021-62c6c0f3255f')})\n",
      "==================================================\n",
      "RunLogPatch({'op': 'add',\n",
      "  'path': '/logs/StrOutputParser/streamed_output/-',\n",
      "  'value': '로그'})\n",
      "==================================================\n",
      "RunLogPatch({'op': 'add', 'path': '/streamed_output/-', 'value': '로그'},\n",
      " {'op': 'replace',\n",
      "  'path': '/final_output',\n",
      "  'value': '파이썬은 간결하고 쉽게 배울 수 있는 프로그'})\n",
      "==================================================\n",
      "RunLogPatch({'op': 'add', 'path': '/logs/ChatOpenAI/streamed_output_str/-', 'value': '래'},\n",
      " {'op': 'add',\n",
      "  'path': '/logs/ChatOpenAI/streamed_output/-',\n",
      "  'value': AIMessageChunk(content='래', id='run-b0736693-8368-4871-8021-62c6c0f3255f')})\n",
      "==================================================\n",
      "RunLogPatch({'op': 'add', 'path': '/logs/StrOutputParser/streamed_output/-', 'value': '래'})\n",
      "==================================================\n",
      "RunLogPatch({'op': 'add', 'path': '/streamed_output/-', 'value': '래'},\n",
      " {'op': 'replace',\n",
      "  'path': '/final_output',\n",
      "  'value': '파이썬은 간결하고 쉽게 배울 수 있는 프로그래'})\n",
      "==================================================\n",
      "RunLogPatch({'op': 'add', 'path': '/logs/ChatOpenAI/streamed_output_str/-', 'value': '밍'},\n",
      " {'op': 'add',\n",
      "  'path': '/logs/ChatOpenAI/streamed_output/-',\n",
      "  'value': AIMessageChunk(content='밍', id='run-b0736693-8368-4871-8021-62c6c0f3255f')})\n",
      "==================================================\n",
      "RunLogPatch({'op': 'add', 'path': '/logs/StrOutputParser/streamed_output/-', 'value': '밍'})\n",
      "==================================================\n",
      "RunLogPatch({'op': 'add', 'path': '/streamed_output/-', 'value': '밍'},\n",
      " {'op': 'replace',\n",
      "  'path': '/final_output',\n",
      "  'value': '파이썬은 간결하고 쉽게 배울 수 있는 프로그래밍'})\n",
      "==================================================\n",
      "RunLogPatch({'op': 'add', 'path': '/logs/ChatOpenAI/streamed_output_str/-', 'value': ' 언'},\n",
      " {'op': 'add',\n",
      "  'path': '/logs/ChatOpenAI/streamed_output/-',\n",
      "  'value': AIMessageChunk(content=' 언', id='run-b0736693-8368-4871-8021-62c6c0f3255f')})\n",
      "==================================================\n",
      "RunLogPatch({'op': 'add',\n",
      "  'path': '/logs/StrOutputParser/streamed_output/-',\n",
      "  'value': ' 언'})\n",
      "==================================================\n",
      "RunLogPatch({'op': 'add', 'path': '/streamed_output/-', 'value': ' 언'},\n",
      " {'op': 'replace',\n",
      "  'path': '/final_output',\n",
      "  'value': '파이썬은 간결하고 쉽게 배울 수 있는 프로그래밍 언'})\n",
      "==================================================\n",
      "RunLogPatch({'op': 'add', 'path': '/logs/ChatOpenAI/streamed_output_str/-', 'value': '어'},\n",
      " {'op': 'add',\n",
      "  'path': '/logs/ChatOpenAI/streamed_output/-',\n",
      "  'value': AIMessageChunk(content='어', id='run-b0736693-8368-4871-8021-62c6c0f3255f')})\n",
      "==================================================\n",
      "RunLogPatch({'op': 'add', 'path': '/logs/StrOutputParser/streamed_output/-', 'value': '어'})\n",
      "==================================================\n",
      "RunLogPatch({'op': 'add', 'path': '/streamed_output/-', 'value': '어'},\n",
      " {'op': 'replace',\n",
      "  'path': '/final_output',\n",
      "  'value': '파이썬은 간결하고 쉽게 배울 수 있는 프로그래밍 언어'})\n",
      "==================================================\n",
      "RunLogPatch({'op': 'add', 'path': '/logs/ChatOpenAI/streamed_output_str/-', 'value': '로'},\n",
      " {'op': 'add',\n",
      "  'path': '/logs/ChatOpenAI/streamed_output/-',\n",
      "  'value': AIMessageChunk(content='로', id='run-b0736693-8368-4871-8021-62c6c0f3255f')})\n",
      "==================================================\n",
      "RunLogPatch({'op': 'add', 'path': '/logs/StrOutputParser/streamed_output/-', 'value': '로'})\n",
      "==================================================\n",
      "RunLogPatch({'op': 'add', 'path': '/streamed_output/-', 'value': '로'},\n",
      " {'op': 'replace',\n",
      "  'path': '/final_output',\n",
      "  'value': '파이썬은 간결하고 쉽게 배울 수 있는 프로그래밍 언어로'})\n",
      "==================================================\n",
      "RunLogPatch({'op': 'add', 'path': '/logs/ChatOpenAI/streamed_output_str/-', 'value': ','},\n",
      " {'op': 'add',\n",
      "  'path': '/logs/ChatOpenAI/streamed_output/-',\n",
      "  'value': AIMessageChunk(content=',', id='run-b0736693-8368-4871-8021-62c6c0f3255f')})\n",
      "==================================================\n",
      "RunLogPatch({'op': 'add', 'path': '/logs/StrOutputParser/streamed_output/-', 'value': ','})\n",
      "==================================================\n",
      "RunLogPatch({'op': 'add', 'path': '/streamed_output/-', 'value': ','},\n",
      " {'op': 'replace',\n",
      "  'path': '/final_output',\n",
      "  'value': '파이썬은 간결하고 쉽게 배울 수 있는 프로그래밍 언어로,'})\n",
      "==================================================\n",
      "RunLogPatch({'op': 'add', 'path': '/logs/ChatOpenAI/streamed_output_str/-', 'value': ' 다'},\n",
      " {'op': 'add',\n",
      "  'path': '/logs/ChatOpenAI/streamed_output/-',\n",
      "  'value': AIMessageChunk(content=' 다', id='run-b0736693-8368-4871-8021-62c6c0f3255f')})\n",
      "==================================================\n",
      "RunLogPatch({'op': 'add',\n",
      "  'path': '/logs/StrOutputParser/streamed_output/-',\n",
      "  'value': ' 다'})\n",
      "==================================================\n",
      "RunLogPatch({'op': 'add', 'path': '/streamed_output/-', 'value': ' 다'},\n",
      " {'op': 'replace',\n",
      "  'path': '/final_output',\n",
      "  'value': '파이썬은 간결하고 쉽게 배울 수 있는 프로그래밍 언어로, 다'})\n",
      "==================================================\n",
      "RunLogPatch({'op': 'add', 'path': '/logs/ChatOpenAI/streamed_output_str/-', 'value': '양'},\n",
      " {'op': 'add',\n",
      "  'path': '/logs/ChatOpenAI/streamed_output/-',\n",
      "  'value': AIMessageChunk(content='양', id='run-b0736693-8368-4871-8021-62c6c0f3255f')})\n",
      "==================================================\n",
      "RunLogPatch({'op': 'add', 'path': '/logs/StrOutputParser/streamed_output/-', 'value': '양'})\n",
      "==================================================\n",
      "RunLogPatch({'op': 'add', 'path': '/streamed_output/-', 'value': '양'},\n",
      " {'op': 'replace',\n",
      "  'path': '/final_output',\n",
      "  'value': '파이썬은 간결하고 쉽게 배울 수 있는 프로그래밍 언어로, 다양'})\n",
      "==================================================\n",
      "RunLogPatch({'op': 'add', 'path': '/logs/ChatOpenAI/streamed_output_str/-', 'value': '한'},\n",
      " {'op': 'add',\n",
      "  'path': '/logs/ChatOpenAI/streamed_output/-',\n",
      "  'value': AIMessageChunk(content='한', id='run-b0736693-8368-4871-8021-62c6c0f3255f')})\n",
      "==================================================\n",
      "RunLogPatch({'op': 'add', 'path': '/logs/StrOutputParser/streamed_output/-', 'value': '한'})\n",
      "==================================================\n",
      "RunLogPatch({'op': 'add', 'path': '/streamed_output/-', 'value': '한'},\n",
      " {'op': 'replace',\n",
      "  'path': '/final_output',\n",
      "  'value': '파이썬은 간결하고 쉽게 배울 수 있는 프로그래밍 언어로, 다양한'})\n",
      "==================================================\n",
      "RunLogPatch({'op': 'add', 'path': '/logs/ChatOpenAI/streamed_output_str/-', 'value': ' 분'},\n",
      " {'op': 'add',\n",
      "  'path': '/logs/ChatOpenAI/streamed_output/-',\n",
      "  'value': AIMessageChunk(content=' 분', id='run-b0736693-8368-4871-8021-62c6c0f3255f')})\n",
      "==================================================\n",
      "RunLogPatch({'op': 'add',\n",
      "  'path': '/logs/StrOutputParser/streamed_output/-',\n",
      "  'value': ' 분'})\n",
      "==================================================\n",
      "RunLogPatch({'op': 'add', 'path': '/streamed_output/-', 'value': ' 분'},\n",
      " {'op': 'replace',\n",
      "  'path': '/final_output',\n",
      "  'value': '파이썬은 간결하고 쉽게 배울 수 있는 프로그래밍 언어로, 다양한 분'})\n",
      "==================================================\n",
      "RunLogPatch({'op': 'add', 'path': '/logs/ChatOpenAI/streamed_output_str/-', 'value': '야'},\n",
      " {'op': 'add',\n",
      "  'path': '/logs/ChatOpenAI/streamed_output/-',\n",
      "  'value': AIMessageChunk(content='야', id='run-b0736693-8368-4871-8021-62c6c0f3255f')})\n",
      "==================================================\n",
      "RunLogPatch({'op': 'add', 'path': '/logs/StrOutputParser/streamed_output/-', 'value': '야'})\n",
      "==================================================\n",
      "RunLogPatch({'op': 'add', 'path': '/streamed_output/-', 'value': '야'},\n",
      " {'op': 'replace',\n",
      "  'path': '/final_output',\n",
      "  'value': '파이썬은 간결하고 쉽게 배울 수 있는 프로그래밍 언어로, 다양한 분야'})\n",
      "==================================================\n",
      "RunLogPatch({'op': 'add', 'path': '/logs/ChatOpenAI/streamed_output_str/-', 'value': '에서'},\n",
      " {'op': 'add',\n",
      "  'path': '/logs/ChatOpenAI/streamed_output/-',\n",
      "  'value': AIMessageChunk(content='에서', id='run-b0736693-8368-4871-8021-62c6c0f3255f')})\n",
      "==================================================\n",
      "RunLogPatch({'op': 'add',\n",
      "  'path': '/logs/StrOutputParser/streamed_output/-',\n",
      "  'value': '에서'})\n",
      "==================================================\n",
      "RunLogPatch({'op': 'add', 'path': '/streamed_output/-', 'value': '에서'},\n",
      " {'op': 'replace',\n",
      "  'path': '/final_output',\n",
      "  'value': '파이썬은 간결하고 쉽게 배울 수 있는 프로그래밍 언어로, 다양한 분야에서'})\n",
      "==================================================\n",
      "RunLogPatch({'op': 'add', 'path': '/logs/ChatOpenAI/streamed_output_str/-', 'value': ' 활'},\n",
      " {'op': 'add',\n",
      "  'path': '/logs/ChatOpenAI/streamed_output/-',\n",
      "  'value': AIMessageChunk(content=' 활', id='run-b0736693-8368-4871-8021-62c6c0f3255f')})\n",
      "==================================================\n",
      "RunLogPatch({'op': 'add',\n",
      "  'path': '/logs/StrOutputParser/streamed_output/-',\n",
      "  'value': ' 활'})\n",
      "==================================================\n",
      "RunLogPatch({'op': 'add', 'path': '/streamed_output/-', 'value': ' 활'},\n",
      " {'op': 'replace',\n",
      "  'path': '/final_output',\n",
      "  'value': '파이썬은 간결하고 쉽게 배울 수 있는 프로그래밍 언어로, 다양한 분야에서 활'})\n",
      "==================================================\n",
      "RunLogPatch({'op': 'add', 'path': '/logs/ChatOpenAI/streamed_output_str/-', 'value': '용'},\n",
      " {'op': 'add',\n",
      "  'path': '/logs/ChatOpenAI/streamed_output/-',\n",
      "  'value': AIMessageChunk(content='용', id='run-b0736693-8368-4871-8021-62c6c0f3255f')})\n",
      "==================================================\n",
      "RunLogPatch({'op': 'add', 'path': '/logs/StrOutputParser/streamed_output/-', 'value': '용'})\n",
      "==================================================\n",
      "RunLogPatch({'op': 'add', 'path': '/streamed_output/-', 'value': '용'},\n",
      " {'op': 'replace',\n",
      "  'path': '/final_output',\n",
      "  'value': '파이썬은 간결하고 쉽게 배울 수 있는 프로그래밍 언어로, 다양한 분야에서 활용'})\n",
      "==================================================\n",
      "RunLogPatch({'op': 'add', 'path': '/logs/ChatOpenAI/streamed_output_str/-', 'value': '되'},\n",
      " {'op': 'add',\n",
      "  'path': '/logs/ChatOpenAI/streamed_output/-',\n",
      "  'value': AIMessageChunk(content='되', id='run-b0736693-8368-4871-8021-62c6c0f3255f')})\n",
      "==================================================\n",
      "RunLogPatch({'op': 'add', 'path': '/logs/StrOutputParser/streamed_output/-', 'value': '되'})\n",
      "==================================================\n",
      "RunLogPatch({'op': 'add', 'path': '/streamed_output/-', 'value': '되'},\n",
      " {'op': 'replace',\n",
      "  'path': '/final_output',\n",
      "  'value': '파이썬은 간결하고 쉽게 배울 수 있는 프로그래밍 언어로, 다양한 분야에서 활용되'})\n",
      "==================================================\n",
      "RunLogPatch({'op': 'add', 'path': '/logs/ChatOpenAI/streamed_output_str/-', 'value': '는'},\n",
      " {'op': 'add',\n",
      "  'path': '/logs/ChatOpenAI/streamed_output/-',\n",
      "  'value': AIMessageChunk(content='는', id='run-b0736693-8368-4871-8021-62c6c0f3255f')})\n",
      "==================================================\n",
      "RunLogPatch({'op': 'add', 'path': '/logs/StrOutputParser/streamed_output/-', 'value': '는'})\n",
      "==================================================\n",
      "RunLogPatch({'op': 'add', 'path': '/streamed_output/-', 'value': '는'},\n",
      " {'op': 'replace',\n",
      "  'path': '/final_output',\n",
      "  'value': '파이썬은 간결하고 쉽게 배울 수 있는 프로그래밍 언어로, 다양한 분야에서 활용되는'})\n",
      "==================================================\n",
      "RunLogPatch({'op': 'add', 'path': '/logs/ChatOpenAI/streamed_output_str/-', 'value': ' 인'},\n",
      " {'op': 'add',\n",
      "  'path': '/logs/ChatOpenAI/streamed_output/-',\n",
      "  'value': AIMessageChunk(content=' 인', id='run-b0736693-8368-4871-8021-62c6c0f3255f')})\n",
      "==================================================\n",
      "RunLogPatch({'op': 'add',\n",
      "  'path': '/logs/StrOutputParser/streamed_output/-',\n",
      "  'value': ' 인'})\n",
      "==================================================\n",
      "RunLogPatch({'op': 'add', 'path': '/streamed_output/-', 'value': ' 인'},\n",
      " {'op': 'replace',\n",
      "  'path': '/final_output',\n",
      "  'value': '파이썬은 간결하고 쉽게 배울 수 있는 프로그래밍 언어로, 다양한 분야에서 활용되는 인'})\n",
      "==================================================\n",
      "RunLogPatch({'op': 'add', 'path': '/logs/ChatOpenAI/streamed_output_str/-', 'value': '기'},\n",
      " {'op': 'add',\n",
      "  'path': '/logs/ChatOpenAI/streamed_output/-',\n",
      "  'value': AIMessageChunk(content='기', id='run-b0736693-8368-4871-8021-62c6c0f3255f')})\n",
      "==================================================\n",
      "RunLogPatch({'op': 'add', 'path': '/logs/StrOutputParser/streamed_output/-', 'value': '기'})\n",
      "==================================================\n",
      "RunLogPatch({'op': 'add', 'path': '/streamed_output/-', 'value': '기'},\n",
      " {'op': 'replace',\n",
      "  'path': '/final_output',\n",
      "  'value': '파이썬은 간결하고 쉽게 배울 수 있는 프로그래밍 언어로, 다양한 분야에서 활용되는 인기'})\n",
      "==================================================\n",
      "RunLogPatch({'op': 'add',\n",
      "  'path': '/logs/ChatOpenAI/streamed_output_str/-',\n",
      "  'value': ' 있는'},\n",
      " {'op': 'add',\n",
      "  'path': '/logs/ChatOpenAI/streamed_output/-',\n",
      "  'value': AIMessageChunk(content=' 있는', id='run-b0736693-8368-4871-8021-62c6c0f3255f')})\n",
      "==================================================\n",
      "RunLogPatch({'op': 'add',\n",
      "  'path': '/logs/StrOutputParser/streamed_output/-',\n",
      "  'value': ' 있는'})\n",
      "==================================================\n",
      "RunLogPatch({'op': 'add', 'path': '/streamed_output/-', 'value': ' 있는'},\n",
      " {'op': 'replace',\n",
      "  'path': '/final_output',\n",
      "  'value': '파이썬은 간결하고 쉽게 배울 수 있는 프로그래밍 언어로, 다양한 분야에서 활용되는 인기 있는'})\n",
      "==================================================\n",
      "RunLogPatch({'op': 'add', 'path': '/logs/ChatOpenAI/streamed_output_str/-', 'value': ' 언'},\n",
      " {'op': 'add',\n",
      "  'path': '/logs/ChatOpenAI/streamed_output/-',\n",
      "  'value': AIMessageChunk(content=' 언', id='run-b0736693-8368-4871-8021-62c6c0f3255f')})\n",
      "==================================================\n",
      "RunLogPatch({'op': 'add',\n",
      "  'path': '/logs/StrOutputParser/streamed_output/-',\n",
      "  'value': ' 언'})\n",
      "==================================================\n",
      "RunLogPatch({'op': 'add', 'path': '/streamed_output/-', 'value': ' 언'},\n",
      " {'op': 'replace',\n",
      "  'path': '/final_output',\n",
      "  'value': '파이썬은 간결하고 쉽게 배울 수 있는 프로그래밍 언어로, 다양한 분야에서 활용되는 인기 있는 언'})\n",
      "==================================================\n",
      "RunLogPatch({'op': 'add', 'path': '/logs/ChatOpenAI/streamed_output_str/-', 'value': '어'},\n",
      " {'op': 'add',\n",
      "  'path': '/logs/ChatOpenAI/streamed_output/-',\n",
      "  'value': AIMessageChunk(content='어', id='run-b0736693-8368-4871-8021-62c6c0f3255f')})\n",
      "==================================================\n",
      "RunLogPatch({'op': 'add', 'path': '/logs/StrOutputParser/streamed_output/-', 'value': '어'})\n",
      "==================================================\n",
      "RunLogPatch({'op': 'add', 'path': '/streamed_output/-', 'value': '어'},\n",
      " {'op': 'replace',\n",
      "  'path': '/final_output',\n",
      "  'value': '파이썬은 간결하고 쉽게 배울 수 있는 프로그래밍 언어로, 다양한 분야에서 활용되는 인기 있는 언어'})\n",
      "==================================================\n",
      "RunLogPatch({'op': 'add', 'path': '/logs/ChatOpenAI/streamed_output_str/-', 'value': '이'},\n",
      " {'op': 'add',\n",
      "  'path': '/logs/ChatOpenAI/streamed_output/-',\n",
      "  'value': AIMessageChunk(content='이', id='run-b0736693-8368-4871-8021-62c6c0f3255f')})\n",
      "==================================================\n",
      "RunLogPatch({'op': 'add', 'path': '/logs/StrOutputParser/streamed_output/-', 'value': '이'})\n",
      "==================================================\n",
      "RunLogPatch({'op': 'add', 'path': '/streamed_output/-', 'value': '이'},\n",
      " {'op': 'replace',\n",
      "  'path': '/final_output',\n",
      "  'value': '파이썬은 간결하고 쉽게 배울 수 있는 프로그래밍 언어로, 다양한 분야에서 활용되는 인기 있는 언어이'})\n",
      "==================================================\n",
      "RunLogPatch({'op': 'add', 'path': '/logs/ChatOpenAI/streamed_output_str/-', 'value': '다'},\n",
      " {'op': 'add',\n",
      "  'path': '/logs/ChatOpenAI/streamed_output/-',\n",
      "  'value': AIMessageChunk(content='다', id='run-b0736693-8368-4871-8021-62c6c0f3255f')})\n",
      "==================================================\n",
      "RunLogPatch({'op': 'add', 'path': '/logs/StrOutputParser/streamed_output/-', 'value': '다'})\n",
      "==================================================\n",
      "RunLogPatch({'op': 'add', 'path': '/streamed_output/-', 'value': '다'},\n",
      " {'op': 'replace',\n",
      "  'path': '/final_output',\n",
      "  'value': '파이썬은 간결하고 쉽게 배울 수 있는 프로그래밍 언어로, 다양한 분야에서 활용되는 인기 있는 언어이다'})\n",
      "==================================================\n",
      "RunLogPatch({'op': 'add', 'path': '/logs/ChatOpenAI/streamed_output_str/-', 'value': '.'},\n",
      " {'op': 'add',\n",
      "  'path': '/logs/ChatOpenAI/streamed_output/-',\n",
      "  'value': AIMessageChunk(content='.', id='run-b0736693-8368-4871-8021-62c6c0f3255f')})\n",
      "==================================================\n",
      "RunLogPatch({'op': 'add', 'path': '/logs/StrOutputParser/streamed_output/-', 'value': '.'})\n",
      "==================================================\n",
      "RunLogPatch({'op': 'add', 'path': '/streamed_output/-', 'value': '.'},\n",
      " {'op': 'replace',\n",
      "  'path': '/final_output',\n",
      "  'value': '파이썬은 간결하고 쉽게 배울 수 있는 프로그래밍 언어로, 다양한 분야에서 활용되는 인기 있는 언어이다.'})\n",
      "==================================================\n",
      "RunLogPatch({'op': 'add', 'path': '/logs/ChatOpenAI/streamed_output_str/-', 'value': ''},\n",
      " {'op': 'add',\n",
      "  'path': '/logs/ChatOpenAI/streamed_output/-',\n",
      "  'value': AIMessageChunk(content='', response_metadata={'finish_reason': 'stop'}, id='run-b0736693-8368-4871-8021-62c6c0f3255f')})\n",
      "==================================================\n",
      "RunLogPatch({'op': 'add', 'path': '/logs/StrOutputParser/streamed_output/-', 'value': ''})\n",
      "==================================================\n",
      "RunLogPatch({'op': 'add', 'path': '/streamed_output/-', 'value': ''})\n",
      "==================================================\n",
      "RunLogPatch({'op': 'add',\n",
      "  'path': '/logs/ChatOpenAI/final_output',\n",
      "  'value': {'generations': [[{'generation_info': {'finish_reason': 'stop'},\n",
      "                              'message': AIMessageChunk(content='파이썬은 간결하고 쉽게 배울 수 있는 프로그래밍 언어로, 다양한 분야에서 활용되는 인기 있는 언어이다.', response_metadata={'finish_reason': 'stop'}, id='run-b0736693-8368-4871-8021-62c6c0f3255f'),\n",
      "                              'text': '파이썬은 간결하고 쉽게 배울 수 있는 프로그래밍 언어로, 다양한 '\n",
      "                                      '분야에서 활용되는 인기 있는 언어이다.',\n",
      "                              'type': 'ChatGenerationChunk'}]],\n",
      "            'llm_output': None,\n",
      "            'run': None}},\n",
      " {'op': 'add',\n",
      "  'path': '/logs/ChatOpenAI/end_time',\n",
      "  'value': '2024-06-27T01:56:15.427+00:00'})\n",
      "==================================================\n",
      "RunLogPatch({'op': 'add',\n",
      "  'path': '/logs/StrOutputParser/final_output',\n",
      "  'value': {'output': '파이썬은 간결하고 쉽게 배울 수 있는 프로그래밍 언어로, 다양한 분야에서 활용되는 인기 있는 '\n",
      "                      '언어이다.'}},\n",
      " {'op': 'add',\n",
      "  'path': '/logs/StrOutputParser/end_time',\n",
      "  'value': '2024-06-27T01:56:15.432+00:00'})\n",
      "==================================================\n"
     ]
    }
   ],
   "source": [
    "stream = chain.astream_log({\"input\":\"파이썬\"})\n",
    "async for chunk in stream:\n",
    "    print(chunk)\n",
    "    print(\"=\"*50)"
   ]
  },
  {
   "cell_type": "markdown",
   "metadata": {},
   "source": [
    "### (5) callbacks"
   ]
  },
  {
   "cell_type": "code",
   "execution_count": null,
   "metadata": {},
   "outputs": [
    {
     "name": "stdout",
     "output_type": "stream",
     "text": [
      "파이썬은 간결하고 쉽게 배울 수 있는 프로그래밍 언어이다."
     ]
    }
   ],
   "source": [
    "# 기본 코드\n",
    "from typing import Any\n",
    "from langchain_openai import ChatOpenAI \n",
    "from langchain_core.prompts import PromptTemplate\n",
    "from langchain_core.output_parsers import StrOutputParser\n",
    "from langchain_core.callbacks import BaseCallbackHandler\n",
    "\n",
    "class CustomHandler(BaseCallbackHandler):\n",
    "    def on_llm_new_token(self, token: str, **kwargs: Any) -> Any:\n",
    "        \"\"\"Run on new LLM token. Only available when streaming is enabled.\"\"\"\n",
    "        print(token, end=\"\", flush=True)\n",
    "\n",
    "prompt = PromptTemplate.from_template(\"{input}에 대해 한국어로 한 줄로 설명해줘\")\n",
    "output_parser = StrOutputParser()"
   ]
  },
  {
   "cell_type": "code",
   "execution_count": null,
   "metadata": {},
   "outputs": [
    {
     "name": "stdout",
     "output_type": "stream",
     "text": [
      "파이썬은 간결하고 쉽게 배울 수 있는 프로그래밍 언어로 다양한 분야에서 활용되는 인기 있는 언어이다."
     ]
    }
   ],
   "source": [
    "# method 1\n",
    "model = ChatOpenAI(\n",
    "    model_name = \"gpt-3.5-turbo\", \n",
    "    streaming=True, \n",
    "    callbacks=[CustomHandler()]\n",
    ") \n",
    "chain = prompt | model | output_parser\n",
    "\n",
    "response = chain.invoke({\"input\": \"파이썬\"})"
   ]
  },
  {
   "cell_type": "code",
   "execution_count": null,
   "metadata": {},
   "outputs": [
    {
     "name": "stdout",
     "output_type": "stream",
     "text": [
      "파이썬은 간결하고 쉽게 배울 수 있는 프로그래밍 언어로 다양한 분야에서 활용되는 인기 있는 언어이다."
     ]
    }
   ],
   "source": [
    "# method 2\n",
    "model = ChatOpenAI(\n",
    "    model_name = \"gpt-3.5-turbo\", \n",
    "    streaming=True\n",
    ")\n",
    "chain = prompt | model | output_parser\n",
    "\n",
    "model.callbacks = [CustomHandler()]\n",
    "response = chain.invoke({\"input\": \"파이썬\"})"
   ]
  },
  {
   "cell_type": "code",
   "execution_count": null,
   "metadata": {},
   "outputs": [
    {
     "name": "stdout",
     "output_type": "stream",
     "text": [
      "파이썬은 간결하고 쉽게 배울 수 있는 프로그래밍 언어로, 다양한 분야에서 활용되는 인기있는 언어이다."
     ]
    }
   ],
   "source": [
    "# method 3\n",
    "model = ChatOpenAI(\n",
    "    model_name = \"gpt-3.5-turbo\", \n",
    "    streaming=True\n",
    ")\n",
    "chain = prompt | model | output_parser\n",
    "\n",
    "response = chain.invoke(\n",
    "    {\"input\": \"파이썬\"}, \n",
    "    {\"callbacks\": [CustomHandler()]}\n",
    ")"
   ]
  },
  {
   "cell_type": "markdown",
   "metadata": {},
   "source": [
    "## 2) Runnable"
   ]
  },
  {
   "cell_type": "markdown",
   "metadata": {},
   "source": [
    "### (1) RunnablePassthrough"
   ]
  },
  {
   "cell_type": "code",
   "execution_count": 83,
   "metadata": {},
   "outputs": [
    {
     "data": {
      "text/plain": [
       "'squirrel'"
      ]
     },
     "execution_count": 83,
     "metadata": {},
     "output_type": "execute_result"
    }
   ],
   "source": [
    "from langchain_openai import ChatOpenAI \n",
    "from langchain_core.prompts import PromptTemplate\n",
    "from langchain_core.output_parsers import StrOutputParser\n",
    "from langchain_core.runnables import RunnablePassthrough\n",
    "\n",
    "prompt = PromptTemplate.from_template(\"'{input}'을 영어로 번역해주세요\")\n",
    "model = ChatOpenAI(model_name = \"gpt-3.5-turbo\") \n",
    "output_parser = StrOutputParser()\n",
    "\n",
    "runnable = {\"input\": RunnablePassthrough()}\n",
    "chain = runnable | prompt | model | output_parser \n",
    "chain.invoke(\"다람쥐\")"
   ]
  },
  {
   "cell_type": "markdown",
   "metadata": {},
   "source": [
    "### (2) RunnablePassthrough.assign"
   ]
  },
  {
   "cell_type": "code",
   "execution_count": 84,
   "metadata": {},
   "outputs": [
    {
     "data": {
      "text/plain": [
       "{'input': '다람쥐를 보았습니다'}"
      ]
     },
     "execution_count": 84,
     "metadata": {},
     "output_type": "execute_result"
    }
   ],
   "source": [
    "runnable = RunnablePassthrough.assign(input = lambda x: x[\"input\"] + \"를 보았습니다\")\n",
    "runnable.invoke({\"input\": \"다람쥐\"})"
   ]
  },
  {
   "cell_type": "code",
   "execution_count": 85,
   "metadata": {},
   "outputs": [
    {
     "data": {
      "text/plain": [
       "'I saw a squirrel.'"
      ]
     },
     "execution_count": 85,
     "metadata": {},
     "output_type": "execute_result"
    }
   ],
   "source": [
    "chain = runnable | prompt | model | output_parser \n",
    "chain.invoke({\"input\": \"다람쥐\"})"
   ]
  },
  {
   "cell_type": "markdown",
   "metadata": {},
   "source": [
    "### (3) RunnableLambda"
   ]
  },
  {
   "cell_type": "code",
   "execution_count": 86,
   "metadata": {},
   "outputs": [
    {
     "data": {
      "text/plain": [
       "StringPromptValue(text=\"'세상에서 가장 작은 다람쥐'을 영어로 번역해주세요\")"
      ]
     },
     "execution_count": 86,
     "metadata": {},
     "output_type": "execute_result"
    }
   ],
   "source": [
    "from langchain_core.runnables import RunnableLambda\n",
    "\n",
    "def add_text(input):\n",
    "    return \"세상에서 가장 작은 \" + input\n",
    "\n",
    "runnable = {\"input\": RunnableLambda(add_text)}\n",
    "(runnable | prompt).invoke(\"다람쥐\")"
   ]
  },
  {
   "cell_type": "code",
   "execution_count": 75,
   "metadata": {},
   "outputs": [
    {
     "data": {
      "text/plain": [
       "'The smallest squirrel in the world'"
      ]
     },
     "execution_count": 75,
     "metadata": {},
     "output_type": "execute_result"
    }
   ],
   "source": [
    "chain = runnable | prompt | model | output_parser \n",
    "chain.invoke(\"다람쥐\")"
   ]
  },
  {
   "cell_type": "markdown",
   "metadata": {},
   "source": [
    "### (4) RunnableParallel"
   ]
  },
  {
   "cell_type": "code",
   "execution_count": null,
   "metadata": {},
   "outputs": [
    {
     "name": "stdout",
     "output_type": "stream",
     "text": [
      "steps={'language': PromptTemplate(input_variables=['country'], template='{country}의 주요 언어를 알려줘')\n",
      "| ChatOpenAI(client=<openai.resources.chat.completions.Completions object at 0x0000014787882980>, async_client=<openai.resources.chat.completions.AsyncCompletions object at 0x0000014787752EF0>, openai_api_key=SecretStr('**********'), openai_proxy='')\n",
      "| StrOutputParser(), 'landmarks': PromptTemplate(input_variables=['country'], template='{country}의 대표적인 랜드마크 3개를 알려줘')\n",
      "| ChatOpenAI(client=<openai.resources.chat.completions.Completions object at 0x0000014787882980>, async_client=<openai.resources.chat.completions.AsyncCompletions object at 0x0000014787752EF0>, openai_api_key=SecretStr('**********'), openai_proxy='')\n",
      "| StrOutputParser()}\n"
     ]
    }
   ],
   "source": [
    "from langchain_openai import ChatOpenAI \n",
    "from langchain_core.prompts import PromptTemplate\n",
    "from langchain_core.output_parsers import StrOutputParser\n",
    "from langchain_core.runnables import RunnableParallel \n",
    "\n",
    "model = ChatOpenAI(model_name = \"gpt-3.5-turbo\") \n",
    "output_parser = StrOutputParser()\n",
    "\n",
    "prompt1 = PromptTemplate.from_template(\"{country}의 주요 언어를 알려줘\")\n",
    "prompt2 = PromptTemplate.from_template(\"{country}의 대표적인 랜드마크 3개를 알려줘\")\n",
    "\n",
    "chain1 = prompt1 | model | output_parser\n",
    "chain2 = prompt2 | model | output_parser\n",
    "\n",
    "combined = RunnableParallel(\n",
    "    language = chain1,\n",
    "    landmarks = chain2\n",
    ")\n",
    "print(combined)"
   ]
  },
  {
   "cell_type": "code",
   "execution_count": null,
   "metadata": {},
   "outputs": [
    {
     "data": {
      "text/plain": [
       "{'language': '한국의 주요 언어는 한국어입니다. 한국어는 대부분의 한국 사람들이 사용하는 언어로, 국내에서는 공식 언어로 사용되고 있습니다. 또한, 영어도 많은 사람들이 학습하고 사용하고 있으며, 중국어와 일본어도 일부 지역에서 사용되고 있습니다.',\n",
       " 'landmarks': '1. 남산타워 - 서울의 대표적인 랜드마크로서, 서울 시내와 한강을 한눈에 볼 수 있는 전망대가 유명하다.\\n2. 경복궁 - 서울에 위치한 조선 시대의 궁궐로서, 아름다운 전통 한옥 건물과 근정전, 경회루 등을 볼 수 있다.\\n3. 부산 타워 - 부산의 랜드마크로서, 부산 시내와 해안도로를 한눈에 볼 수 있는 전망대와 야경이 유명하다.'}"
      ]
     },
     "metadata": {},
     "output_type": "display_data"
    }
   ],
   "source": [
    "combined.invoke({\"country\":\"한국\"})"
   ]
  },
  {
   "cell_type": "markdown",
   "metadata": {},
   "source": [
    "### (5) itemgetter의 활용"
   ]
  },
  {
   "cell_type": "code",
   "execution_count": 91,
   "metadata": {},
   "outputs": [
    {
     "data": {
      "text/plain": [
       "'\"Orange is delicious\"'"
      ]
     },
     "execution_count": 91,
     "metadata": {},
     "output_type": "execute_result"
    }
   ],
   "source": [
    "from operator import itemgetter\n",
    "\n",
    "prompt = PromptTemplate.from_template(\"'{input}'을 {language}번역해주세요\")\n",
    "runnable = {\n",
    "    \"input\" : itemgetter(\"input\") | RunnableLambda(lambda x: x + \"는 맛있어\"),\n",
    "    \"language\": itemgetter(\"language\")\n",
    "}\n",
    "chain = runnable | prompt | model | output_parser\n",
    "chain.invoke({\"input\": \"오렌지\", \"language\": \"영어\"})"
   ]
  }
 ],
 "metadata": {
  "kernelspec": {
   "display_name": "langchain",
   "language": "python",
   "name": "python3"
  },
  "language_info": {
   "codemirror_mode": {
    "name": "ipython",
    "version": 3
   },
   "file_extension": ".py",
   "mimetype": "text/x-python",
   "name": "python",
   "nbconvert_exporter": "python",
   "pygments_lexer": "ipython3",
   "version": "3.10.13"
  }
 },
 "nbformat": 4,
 "nbformat_minor": 2
}
