{
 "cells": [
  {
   "cell_type": "code",
   "execution_count": 106,
   "metadata": {},
   "outputs": [],
   "source": [
    "# Langchain 이용하기 - 단순 질문\n",
    "from langchain_openai import ChatOpenAI \n",
    "\n",
    "def chain_of_thought(prompt):\n",
    "    model = ChatOpenAI(model_name = \"gpt-3.5-turbo\") \n",
    "    response = model.invoke(prompt)\n",
    "    \n",
    "    return response.content"
   ]
  },
  {
   "cell_type": "code",
   "execution_count": 81,
   "metadata": {},
   "outputs": [
    {
     "name": "stdout",
     "output_type": "stream",
     "text": [
      "사랑하는 사람과 함께\n",
      "이 세상 모든 것을 나누고파\n",
      "다정한 마음으로 행복을 만들어 함께하자\n"
     ]
    }
   ],
   "source": [
    "prompt = \"삼행시는 단어가 주어졌을 때 단어의 앞 글자로 짧은 글을 짓는 게임을 말해. '사이다'로 삼행시 해줘\"\n",
    "\n",
    "response = chain_of_thought(prompt)\n",
    "print(response)"
   ]
  },
  {
   "cell_type": "code",
   "execution_count": 88,
   "metadata": {},
   "outputs": [
    {
     "name": "stdout",
     "output_type": "stream",
     "text": [
      "사: 사랑스러운 맛으로 입가를 즐겁게 하는\n",
      "이: 이슬처럼 시원한 얼음과 함께 마시는\n",
      "다: 다양한 음식과 잘 어울리는 상쾌한 사이다\n"
     ]
    }
   ],
   "source": [
    "prompt = \"\"\"삼행시는 세글자인 단어가 주어졌을 때 단어의 각 문자로 시작되는 짧은 글을 짓는 게임을 말해. \n",
    "Q: '자전거'로 삼행시 해줘\n",
    "자: 자유로운 마음으로 세상을 누비는\n",
    "전: 전진하는 발걸음에 힘을 실어주는\n",
    "거: 거친 세상도 헤쳐나가는 용기를 주는 자전거\n",
    "Q: '사이다'로 삼행시 해줘\"\"\"\n",
    "\n",
    "response = chain_of_thought(prompt)\n",
    "print(response)"
   ]
  },
  {
   "cell_type": "code",
   "execution_count": 116,
   "metadata": {},
   "outputs": [
    {
     "name": "stdout",
     "output_type": "stream",
     "text": [
      "사: 사이다 한 병에 시원함이 가득\n",
      "이: 이마트에서 싸게 사온 간식\n",
      "다: 다 마시고 상쾌함이 밀려와.\n"
     ]
    }
   ],
   "source": [
    "prompt = \"\"\"삼행시는 세글자인 단어가 주어졌을 때 단어의 각 문자로 시작되는 짧은 글을 짓는 게임을 말해. \n",
    "Q: '자전거'로 삼행시 해줘\n",
    "자: 자유로운 마음으로 세상을 누비는\n",
    "전: 전진하는 발걸음에 힘을 실어주는\n",
    "거: 거친 세상도 헤쳐나가는 용기를 주는 자전거\n",
    "Q: '콩나물'로 삼행시 해줘\n",
    "콩: 콩나물 국물이\n",
    "나: 나오니 밥도둑\n",
    "물: 물리지 않아요!\n",
    "Q: '선풍기'로 삼행시 해줘\n",
    "선: 선풍기 없이 여름을 보낸다고?\n",
    "풍: 풍부한 바람과 시원함으로\n",
    "기: 기분 전환은 기본, 전기세 걱정 끝!\n",
    "Q: '사이다'로 삼행시 해줘\"\"\"\n",
    "\n",
    "response = chain_of_thought(prompt)\n",
    "print(response)"
   ]
  },
  {
   "cell_type": "code",
   "execution_count": 84,
   "metadata": {},
   "outputs": [
    {
     "name": "stdout",
     "output_type": "stream",
     "text": [
      "자전거를 타면 바람을 맞이해\n",
      "산길을 달리며 자유롭게 헤엄쳐\n",
      "행복한 시간을 만들어 가는 길이로구나.\n"
     ]
    }
   ],
   "source": [
    "prompt = \"삼행시는 단어가 주어졌을 때 단어의 각 문자로 시작되는 짧은 글을 짓는 게임을 말해. '자전거'로 삼행시 해줘\"\n",
    "\n",
    "response = chain_of_thought(prompt)\n",
    "print(response)"
   ]
  },
  {
   "cell_type": "code",
   "execution_count": 63,
   "metadata": {},
   "outputs": [
    {
     "name": "stdout",
     "output_type": "stream",
     "text": [
      "대(大)한민국은 아름다운 나라\n",
      "한(韓)류로 세계를 매료시키는 나라\n",
      "민(民)중이 힘차게 발전하는 나라\n",
      "국(國)민 모두 함께 행복한 나라\n"
     ]
    }
   ],
   "source": [
    "prompt = \"N행시는 N글자의 단어가 주어졌을 때 단어의 각 문자로 시작되는 짧은 글을 짓는 게임을 말해. '대한민국'으로 N행시 해줘\"\n",
    "\n",
    "response = chain_of_thought(prompt)\n",
    "print(response)"
   ]
  },
  {
   "cell_type": "code",
   "execution_count": 29,
   "metadata": {},
   "outputs": [
    {
     "name": "stdout",
     "output_type": "stream",
     "text": [
      "1. 2000년에 태어났으니 2000년에 1살이 되었을 것이다.\n",
      "2. 2024년에는 24살이 되었을 것이다.\n",
      "3. 따라서, 나의 한국식 나이는 25살이다.\n"
     ]
    }
   ],
   "source": [
    "prompt = \"\"\"Q:한국식 나이는 출생 시 1살이라고 생각해. 나는 2000년에 태어났어. 지금은 2024년이야. 나의 한국식 나이는 몇 살일까?\n",
    "A: 단계별로 생각해보자.\"\"\"\n",
    "\n",
    "response = chain_of_thought(prompt)\n",
    "print(response)"
   ]
  },
  {
   "cell_type": "code",
   "execution_count": 30,
   "metadata": {},
   "outputs": [
    {
     "name": "stdout",
     "output_type": "stream",
     "text": [
      "A: 엄마는 1983년에 1살이었다. 2024년은 1983년으로부터 41년 후이다. 따라서 지금 엄마의 한국식 나이는 42살이다.\n"
     ]
    }
   ],
   "source": [
    "# 저마다 추론 방식이 다르다. \n",
    "prompt = \"\"\"Q:한국식 나이는 출생 시 1살이라고 생각해. 나는 2000년에 태어났어. 지금은 2024년이야. 나의 한국식 나이는 몇 살일까?\n",
    "A: 나는 2000년에 1살이었다. 2024년은 2000년으로부터 24년 후이다. 따라서 지금 나의 한국식 나이는 25살이다.\n",
    "Q: 동생은 2004년에 태어났다. 동생의 한국식 나이는 몇 살일까?\n",
    "A: 동생은 2004년에 1살이었다. 2024년은 2004년으로부터 20년 후이다. 따라서 지금 동생의 한국식 나이는 21살이다.\n",
    "Q: 우리 아빠는 1978년에 태어났다. 아빠의 한국식 나이는 몇 살일까?\n",
    "A: 아빠는 1978년에 1살이었다. 2024년은 1978년으로부터 46년 후이다. 따라서 지금 아빠의 한국식 나이는 47살이다.\n",
    "Q: 우리 엄마는 1983년에 태어났다. 엄마의 한국식 나이는 몇 살일까?\"\"\"\n",
    "\n",
    "response = chain_of_thought(prompt)\n",
    "print(response)"
   ]
  },
  {
   "cell_type": "code",
   "execution_count": null,
   "metadata": {},
   "outputs": [],
   "source": []
  }
 ],
 "metadata": {
  "kernelspec": {
   "display_name": "langchain",
   "language": "python",
   "name": "python3"
  },
  "language_info": {
   "codemirror_mode": {
    "name": "ipython",
    "version": 3
   },
   "file_extension": ".py",
   "mimetype": "text/x-python",
   "name": "python",
   "nbconvert_exporter": "python",
   "pygments_lexer": "ipython3",
   "version": "3.10.13"
  }
 },
 "nbformat": 4,
 "nbformat_minor": 2
}
