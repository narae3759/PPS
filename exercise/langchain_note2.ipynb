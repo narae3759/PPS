{
 "cells": [
  {
   "cell_type": "code",
   "execution_count": 19,
   "metadata": {},
   "outputs": [],
   "source": [
    "from dotenv import load_dotenv\n",
    "import os\n",
    "\n",
    "# .env load \n",
    "load_dotenv()\n",
    "\n",
    "# check API KEY \n",
    "if \"OPENAI_API_KEY\" not in os.environ:\n",
    "    print(\"API KEY 정보가 없습니다. 확인 후 환경변수에 등록해주세요.\")"
   ]
  },
  {
   "cell_type": "code",
   "execution_count": 16,
   "metadata": {},
   "outputs": [
    {
     "name": "stdout",
     "output_type": "stream",
     "text": [
      "철수는 유리를 좋아해요.\n",
      "훈이를 좋아한다.\n"
     ]
    }
   ],
   "source": [
    "# ImportError -> pip install -U docarray로 해결\n",
    "from langchain_community.vectorstores import DocArrayInMemorySearch\n",
    "from langchain_openai import ChatOpenAI \n",
    "from langchain_core.prompts import ChatPromptTemplate\n",
    "from langchain_core.output_parsers import StrOutputParser\n",
    "from langchain_core.runnables import RunnableParallel, RunnablePassthrough \n",
    "from langchain_openai import OpenAIEmbeddings\n",
    "\n",
    "vectorstore = DocArrayInMemorySearch.from_texts(\n",
    "    [\"철수는 유리를 좋아한다.\", \"유리는 훈이를 좋아한다.\"],\n",
    "    embedding=OpenAIEmbeddings(),\n",
    ")\n",
    "\n",
    "retriever = vectorstore.as_retriever()\n",
    "\n",
    "template = \"\"\"{context}기반으로 question에 답해주세요.\n",
    "\n",
    "question: {question}\"\"\"\n",
    "\n",
    "prompt = ChatPromptTemplate.from_template(template=template)\n",
    "model = ChatOpenAI(model=\"gpt-3.5-turbo\")\n",
    "output_parser=StrOutputParser()\n",
    "\n",
    "setup_and_retrieval = RunnableParallel(\n",
    "    {\"context\": retriever, \"question\": RunnablePassthrough()}\n",
    ")\n",
    "\n",
    "chain = setup_and_retrieval | prompt | model | output_parser \n",
    "\n",
    "response1 = chain.invoke(\"철수는 누구를 좋아해?\")\n",
    "response2 = chain.invoke(\"유리는 누구를 좋아해?\")\n",
    "print(response1)\n",
    "print(response2)"
   ]
  }
 ],
 "metadata": {
  "kernelspec": {
   "display_name": "langchain",
   "language": "python",
   "name": "python3"
  },
  "language_info": {
   "codemirror_mode": {
    "name": "ipython",
    "version": 3
   },
   "file_extension": ".py",
   "mimetype": "text/x-python",
   "name": "python",
   "nbconvert_exporter": "python",
   "pygments_lexer": "ipython3",
   "version": "3.10.13"
  }
 },
 "nbformat": 4,
 "nbformat_minor": 2
}
