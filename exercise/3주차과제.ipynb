{
 "cells": [
  {
   "cell_type": "code",
   "execution_count": 1,
   "metadata": {},
   "outputs": [],
   "source": [
    "from selenium import webdriver\n",
    "from selenium.webdriver.chrome.options import Options\n",
    "from selenium.webdriver.support.ui import WebDriverWait\n",
    "from selenium.webdriver.support import expected_conditions as EC\n",
    "from selenium.webdriver.common.keys import Keys\n",
    "from selenium.webdriver.common.by import By\n",
    "import time\n",
    "\n",
    "# Chrome WebDriver 생성\n",
    "driver = webdriver.Chrome()\n",
    "\n",
    "# 웹 페이지로 이동\n",
    "driver.get(\"https://www.naver.com\")\n",
    "\n",
    "# Setting\n",
    "loc = \"구의동\"\n",
    "\n",
    "# 로드 될 때까지 대기\n",
    "wait = WebDriverWait(driver, 10)\n",
    "wait.until(EC.presence_of_element_located((By.TAG_NAME, \"body\")))\n",
    "\n",
    "# 지도 클릭\n",
    "map_icon = driver.find_elements(By.CLASS_NAME, \"shortcut_item\")[-4].click()\n",
    "\n",
    "# 로드 될 때까지 대기\n",
    "wait = WebDriverWait(driver, 10)\n",
    "wait.until(EC.presence_of_element_located((By.TAG_NAME, \"body\")))\n",
    "\n",
    "# 최근에 열린 Window 창으로 전환\n",
    "# print(driver.window_handles)\n",
    "driver.switch_to.window(driver.window_handles[-1])\n",
    "\n",
    "# 키워드 입력 및 검색\n",
    "input_box = driver.find_element(By.CLASS_NAME, \"input_search\")\n",
    "input_box.send_keys(f\"{loc} 맛집\")\n",
    "input_box.send_keys(Keys.ENTER)\n",
    "\n",
    "time.sleep(2)\n",
    "\n",
    "# iframe에 접근\n",
    "iframe = driver.find_element(By.ID, \"searchIframe\")\n",
    "driver.switch_to.frame(iframe)\n",
    "\n",
    "# 스크롤 다운\n",
    "def scroll_down(container):\n",
    "    before_top = driver.execute_script(\"return arguments[0].scrollTop\", container)\n",
    "\n",
    "    while True:\n",
    "        driver.execute_script(\"arguments[0].scrollTop = arguments[0].scrollHeight\", container)\n",
    "        after_top = driver.execute_script(\"return arguments[0].scrollTop\", container)\n",
    "\n",
    "        if int(before_top) == int(after_top):\n",
    "            break\n",
    "        \n",
    "        before_top = after_top \n",
    "\n",
    "scroll_container = driver.find_element(By.ID, \"_pcmap_list_scroll_container\")\n",
    "scroll_down(scroll_container)"
   ]
  },
  {
   "cell_type": "code",
   "execution_count": 138,
   "metadata": {},
   "outputs": [
    {
     "name": "stdout",
     "output_type": "stream",
     "text": [
      "0\n",
      "4198\n",
      "600\n"
     ]
    }
   ],
   "source": [
    "# 높이가 어떻게 다른지 확인\n",
    "scroll_container = driver.find_element(By.ID, \"_pcmap_list_scroll_container\")\n",
    "print(driver.execute_script(\"return arguments[0].scrollTop\", scroll_container))\n",
    "print(driver.execute_script(\"return arguments[0].scrollHeight\", scroll_container))"
   ]
  },
  {
   "cell_type": "code",
   "execution_count": 5,
   "metadata": {},
   "outputs": [],
   "source": [
    "foods = scroll_container.find_elements(By.CSS_SELECTOR, \"ul > li\")"
   ]
  },
  {
   "cell_type": "code",
   "execution_count": 17,
   "metadata": {},
   "outputs": [
    {
     "data": {
      "text/plain": [
       "'https://pcmap.place.naver.com/place/1912373073?entry=bmp&from=map&fromPanelNum=2&timestamp=202406131126'"
      ]
     },
     "execution_count": 17,
     "metadata": {},
     "output_type": "execute_result"
    }
   ],
   "source": [
    "# 기본 콘텐츠로 돌아오기\n",
    "driver.switch_to.default_content()\n",
    "driver.find_element(By.ID, \"entryIframe\").get_attribute(\"src\")"
   ]
  },
  {
   "cell_type": "markdown",
   "metadata": {},
   "source": [
    "---"
   ]
  },
  {
   "cell_type": "markdown",
   "metadata": {},
   "source": [
    "### 유튜브 크롤링 검토"
   ]
  },
  {
   "cell_type": "code",
   "execution_count": 18,
   "metadata": {},
   "outputs": [],
   "source": [
    "from selenium import webdriver\n",
    "from selenium.webdriver.chrome.options import Options \n",
    "from selenium.webdriver.common.keys import Keys\n",
    "from selenium.webdriver.common.by import By\n",
    "from selenium.webdriver import ActionChains\n",
    "from selenium.webdriver.support.ui import WebDriverWait\n",
    "from selenium.webdriver.support import expected_conditions as EC\n",
    "import time\n",
    "import pandas as pd"
   ]
  },
  {
   "cell_type": "code",
   "execution_count": 19,
   "metadata": {},
   "outputs": [],
   "source": [
    "# 크롬 창 열기\n",
    "options = Options()\n",
    "driver = webdriver.Chrome(options = options)\n",
    "\n",
    "# 창모드 전체화면으로 크기 늘리기\n",
    "driver.maximize_window()\n",
    "\n",
    "# 로딩시간\n",
    "wait = WebDriverWait(driver, 10)\n",
    "wait.until(EC.presence_of_element_located((By.TAG_NAME, \"body\")))\n",
    "\n",
    "# 유튜브 주소 접속하기\n",
    "url = \"https://www.youtube.com/watch?v=0BWScn_OWPk\"\n",
    "driver.get(url)\n",
    "\n",
    "# 유튜브 로딩시간\n",
    "time.sleep(5)"
   ]
  },
  {
   "cell_type": "code",
   "execution_count": 20,
   "metadata": {},
   "outputs": [],
   "source": [
    "# n_scroll variable 만들기\n",
    "n_scroll = 5"
   ]
  },
  {
   "cell_type": "code",
   "execution_count": 21,
   "metadata": {},
   "outputs": [],
   "source": [
    "def scroll_down(n_scroll):\n",
    "    \"\"\"함수\n",
    "\n",
    "    Args:\n",
    "        n_scroll (integer): 스크롤 하는 횟수\n",
    "    \"\"\"\n",
    "    # 첫번째 방법\n",
    "    last_height = driver.execute_script(\"return document.documentElement.scrollHeight\")\n",
    "    for i in range(n_scroll):\n",
    "        # 끝까지 스크롤 내리기\n",
    "        driver.execute_script(\"window.scrollTo(0, document.documentElement.scrollHeight);\")\n",
    "        time.sleep(2)\n",
    "        # 스크롤 내린 후 스크롤 높이 다시 가져옴\n",
    "        new_height = driver.execute_script(\"return document.documentElement.scrollHeight\")\n",
    "        if new_height == last_height:\n",
    "            break\n",
    "        last_height = new_height\n",
    "    \n",
    "    # 해결책2 - 페이지의 스크롤을 관련영상 5번째까지 올리기 -> 첫 스크롤까지만 데이터가 받아짐\n",
    "    related_video = driver.find_elements(By.CSS_SELECTOR, '#dismissible')[5]\n",
    "    driver.execute_script(\"arguments[0].scrollIntoView(true);\", related_video)\n",
    "    \n",
    "    # 해결책3 - 스크롤 한번 더 내린다. 이번에 스크롤 길이만큼 내리며 \n",
    "    for _ in range(10):\n",
    "        time.sleep(5)\n",
    "        # JavaScript를 사용하여 페이지 스크롤\n",
    "        driver.execute_script(\"window.scrollBy(0, window.innerHeight);\")\n",
    "    \n",
    "    # 댓글이 로드될 때까지 기다리기\n",
    "    comments_section = WebDriverWait(driver, 10)\n",
    "    comments_section.until(EC.presence_of_all_elements_located((By.CSS_SELECTOR, '#contents')))\n",
    "scroll_down(n_scroll)"
   ]
  },
  {
   "cell_type": "code",
   "execution_count": 49,
   "metadata": {},
   "outputs": [],
   "source": [
    "pause_script = \"\"\"\n",
    "var video = document.querySelector('video');\n",
    "if (video) {\n",
    "    video.pause();\n",
    "}\n",
    "\"\"\"\n",
    "driver.execute_script(pause_script)"
   ]
  },
  {
   "cell_type": "code",
   "execution_count": 51,
   "metadata": {},
   "outputs": [],
   "source": [
    "# 조금만 내리기\n",
    "driver.execute_script(\"window.scrollTo(0, 200);\")"
   ]
  },
  {
   "cell_type": "code",
   "execution_count": 52,
   "metadata": {},
   "outputs": [],
   "source": [
    "n_scroll = 5\n",
    "\n",
    "# 첫번째 방법\n",
    "last_height = driver.execute_script(\"return document.documentElement.scrollHeight\")\n",
    "for i in range(n_scroll):\n",
    "    # 끝까지 스크롤 내리기\n",
    "    driver.execute_script(\"window.scrollTo(0, document.documentElement.scrollHeight);\")\n",
    "    time.sleep(2)\n",
    "    # 스크롤 내린 후 스크롤 높이 다시 가져옴\n",
    "    new_height = driver.execute_script(\"return document.documentElement.scrollHeight\")\n",
    "    if new_height == last_height:\n",
    "        break\n",
    "    last_height = new_height"
   ]
  },
  {
   "cell_type": "code",
   "execution_count": 38,
   "metadata": {},
   "outputs": [],
   "source": [
    "html = driver.find_element(By.TAG_NAME, \"html\")\n",
    "driver.execute_script(\"arguments[0].scrollTop = arguments[0].scrollHeight\", html)"
   ]
  }
 ],
 "metadata": {
  "kernelspec": {
   "display_name": "langchain",
   "language": "python",
   "name": "python3"
  },
  "language_info": {
   "codemirror_mode": {
    "name": "ipython",
    "version": 3
   },
   "file_extension": ".py",
   "mimetype": "text/x-python",
   "name": "python",
   "nbconvert_exporter": "python",
   "pygments_lexer": "ipython3",
   "version": "3.10.13"
  }
 },
 "nbformat": 4,
 "nbformat_minor": 2
}
